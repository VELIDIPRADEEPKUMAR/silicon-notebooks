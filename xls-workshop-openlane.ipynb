{
  "nbformat": 4,
  "nbformat_minor": 0,
  "metadata": {
    "colab": {
      "name": "xls-workshop-openlane.ipynb",
      "provenance": [],
      "collapsed_sections": [
        "OffI2UIZvSoh"
      ],
      "toc_visible": true,
      "include_colab_link": true
    },
    "kernelspec": {
      "name": "python3",
      "display_name": "Python 3"
    },
    "language_info": {
      "name": "python"
    }
  },
  "cells": [
    {
      "cell_type": "markdown",
      "metadata": {
        "id": "view-in-github",
        "colab_type": "text"
      },
      "source": [
        "<a href=\"https://colab.research.google.com/github/chipsalliance/silicon-notebooks/blob/main/xls-workshop-openlane.ipynb\" target=\"_parent\"><img src=\"https://colab.research.google.com/assets/colab-badge.svg\" alt=\"Open In Colab\"/></a>"
      ]
    },
    {
      "cell_type": "markdown",
      "source": [
        "# From code to silicon using XLS and OpenLane\n",
        "\n",
        "```\n",
        "Copyright 2021 Google LLC.\n",
        "SPDX-License-Identifier: Apache-2.0\n",
        "```\n",
        "\n",
        "- Design your hardware with code using [XLS](https://google.github.io/xls/) high-level synthesis toolkit.\n",
        "- Run your design thru the [OpenLane](https://github.com/The-OpenROAD-Project/OpenLane/) RTL to GDS toolchain.\n",
        "- Target the open source [SKY130](https://github.com/google/skywater-pdk/) PDK to manufacture your design using Google's sponsored [OpenMPW shuttle](https://developers.google.com/silicon) program."
      ],
      "metadata": {
        "id": "O0_lYRzdoepc"
      }
    },
    {
      "cell_type": "code",
      "execution_count": null,
      "metadata": {
        "id": "Yk-Am1AkjHBs"
      },
      "outputs": [],
      "source": [
        "#@title Install dependencies {display-mode: \"form\"}\n",
        "#@markdown - Click the ▷ button to setup the digital design environment based on [conda-eda](https://github.com/hdl/conda-eda).\n",
        "\n",
        "openlane_version = 'latest' #@param {type:\"string\"}\n",
        "open_pdks_version = 'latest' #@param {type:\"string\"}\n",
        "xls_version = 'latest' #@param {type:\"string\"}\n",
        "\n",
        "if openlane_version == 'latest':\n",
        "  openlane_version = ''\n",
        "if open_pdks_version == 'latest':\n",
        "  open_pdks_version = ''\n",
        "if xls_version == 'latest':\n",
        "  xls_version = ''\n",
        "\n",
        "import os\n",
        "import pathlib\n",
        "import sys\n",
        "\n",
        "!curl -Ls https://micro.mamba.pm/api/micromamba/linux-64/latest | tar -xj bin/micromamba\n",
        "conda_prefix_path = pathlib.Path('conda-env')\n",
        "site_package_path = conda_prefix_path / 'lib/python3.7/site-packages'\n",
        "sys.path.append(str(site_package_path.resolve()))\n",
        "CONDA_PREFIX = str(conda_prefix_path.resolve())\n",
        "PATH = os.environ['PATH']\n",
        "LD_LIBRARY_PATH = os.environ.get('LD_LIBRARY_PATH', '')\n",
        "%env CONDA_PREFIX={CONDA_PREFIX}\n",
        "%env PATH={CONDA_PREFIX}/bin:{PATH}\n",
        "%env LD_LIBRARY_PATH={CONDA_PREFIX}/lib:{LD_LIBRARY_PATH}\n",
        "!bin/micromamba create --yes --prefix $CONDA_PREFIX\n",
        "!echo 'python ==3.7*' >> {CONDA_PREFIX}/conda-meta/pinned\n",
        "!CI=0 bin/micromamba install --yes --prefix $CONDA_PREFIX \\\n",
        "                     --channel litex-hub \\\n",
        "                     --channel main \\\n",
        "                     openlane={openlane_version} \\\n",
        "                     open_pdks.sky130a={open_pdks_version} \\\n",
        "                     xls={xls_version} \\\n",
        "                     iverilog\n",
        "!python -m pip install cocotb pytest vcdvcd wavedrom\n",
        "!curl -L -O https://patch-diff.githubusercontent.com/raw/The-OpenROAD-Project/OpenLane/pull/1503.patch\n",
        "!patch -p1 -d conda-env/share/openlane < 1503.patch\n",
        "!curl -L -O https://github.com/google/xls/archive/refs/heads/main.tar.gz\n",
        "!tar --strip-components=1 -xf main.tar.gz xls-main/xls/dslx/stdlib/ xls-main/xls/modules/\n",
        "def2gds_mag = '''gds read $::env(CONDA_PREFIX)/share/pdk/sky130A/libs.ref/sky130_fd_sc_hd/gds/sky130_fd_sc_hd.gds\n",
        "lef read $::env(CONDA_PREFIX)/share/pdk/sky130A/libs.ref/sky130_fd_sc_hd/techlef/sky130_fd_sc_hd__nom.tlef\n",
        "lef read $::env(CONDA_PREFIX)/share/pdk/sky130A/libs.ref/sky130_fd_sc_hd/lef/sky130_fd_sc_hd.lef\n",
        "def read $::env(IN_DEF)\n",
        "gds write $::env(IN_DEF).gds'''\n",
        "with open('def2gds.mag', 'w') as f:\n",
        "  f.write(def2gds_mag)\n",
        "!git clone https://github.com/mbalestrini/GDS2glTF.git\n",
        "!python -m pip install -r GDS2glTF/requirements.txt\n",
        "!git clone https://github.com/proppy/gds_viewer.git\n",
        "import jinja2\n",
        "gds_viewer = jinja2.Environment(loader=jinja2.FileSystemLoader('gds_viewer')).get_template('viewer.html')"
      ]
    },
    {
      "cell_type": "markdown",
      "source": [
        "## Design with Code using HLS\n",
        "\n",
        "[XLS](https://google.github.io/xls/) implements a High Level Synthesis (HLS) toolchain which enables the rapid development of hardware IP via \"software style\" methodology.\n",
        "\n",
        "[DSLX](https://google.github.io/xls/dslx_reference/) is a domain specific, dataflow-oriented functional language used to build hardware from flexible, high-level descriptions of functionality.\n",
        "\n",
        "![img](https://google.github.io/xls/images/xls_stack_diagram.png)"
      ],
      "metadata": {
        "id": "ylo5KQ-gvX02"
      }
    },
    {
      "cell_type": "markdown",
      "source": [
        "### DSLX\n",
        "\n",
        "The following cell feature collection of DSLX functions demonstrating:\n",
        "- Basic language constructs and [expressions](https://google.github.io/xls/dslx_reference/#expressions)\n",
        "- [Unit testing](https://google.github.io/xls/dslx_reference/#unit-tests)\n",
        "- [Parametrics functions](https://google.github.io/xls/dslx_reference/#parametric-functions)\n",
        "- [Standard library](https://google.github.io/xls/dslx_std/) and module [imports](https://google.github.io/xls/dslx_reference/#imports).\n"
      ],
      "metadata": {
        "id": "8YD8l8Zo6bKB"
      }
    },
    {
      "cell_type": "code",
      "source": [
        "%%bash -c 'cat > user_module.x; interpreter_main user_module.x'\n",
        "\n",
        "// The first line declares a function (fn) named \"adder1\" (Functions: https://google.github.io/xls/dslx_reference/#functions)\n",
        "// This function accepts two 1-bit unsigned integers (u1) named \"a\" and \"b\", and returns a 2-bit unsigned integer (u2)\n",
        "// Functions without a return value can also be defined by removing the \"-> u2\" part in this example\n",
        "\n",
        "// The second line defines 2-bit unsigned integer (u2) named \"n\" and assigns the sum of \"a\" and \"b\"\n",
        "// \"let\" statement introduces a new variable\n",
        "// \"as\" converts the u1 type \"a\" variable to a u2 type variable (Type casting: https://google.github.io/xls/dslx_reference/#type-casting)\n",
        "\n",
        "// The third line is the return value (Functions return the result of their last computed expression as their return value.)\n",
        "\n",
        "fn adder1(a: u1, b: u1) -> u2 {\n",
        "  let n: u2 = a as u2 + b as u2;\n",
        "  n\n",
        "}\n",
        "\n",
        "\n",
        "// This is a function to turn the \"adder1\" function into 8-bit input, 8-bit output function\n",
        "// Refer to \"Bit Slice Expressions\" section in DSLX reference (Bit Slice Expressions: https://google.github.io/xls/dslx_reference/#bit-slice-expressions)\n",
        "\n",
        "fn user_module(io_in: u8) -> u8 {\n",
        "  adder1(io_in[0:1], io_in[4:5]) as u8\n",
        "}\n",
        "\n",
        "\n",
        "// This is a test function that tests whether the functions work as intended\n",
        "// Refer to \"assert_eq, assert_lt\" section in DSLX reference (assert_eq, assert_lt: https://google.github.io/xls/dslx_reference/#assert_eq-assert_lt)\n",
        "// The underscore (_) in the \"let _ = ...\" part means that the returned values of the function is ignored\n",
        "// The underscore (_) in the binary values (\"0b0001_0001\") is just inserted for readablility and can be ignored\n",
        "\n",
        "#[test]\n",
        "fn test() {\n",
        "  let _ = assert_eq(adder1(u1:0b1, u1:0b1), u2:0b10);\n",
        "  let _ = assert_eq(user_module(u8:0b0001_0001), u8:0b000000_10);\n",
        "  _\n",
        "}"
      ],
      "metadata": {
        "id": "JKGxScUtoV4E"
      },
      "execution_count": null,
      "outputs": []
    },
    {
      "cell_type": "markdown",
      "source": [
        "## Convert to Hardware IR\n",
        "\n",
        "The [XLS IR](https://google.github.io/xls/ir_semantics/) is a pure dataflow-oriented IR that has the static-single-assignment property, but is specialized for generating circuitry."
      ],
      "metadata": {
        "id": "smMIJhopvqwo"
      }
    },
    {
      "cell_type": "code",
      "source": [
        "!ir_converter_main --top=user_module user_module.x > user_module.ir\n",
        "!opt_main user_module.ir > user_module_opt.ir\n",
        "!cat user_module_opt.ir"
      ],
      "metadata": {
        "id": "YMTh7WB6oxeW"
      },
      "execution_count": null,
      "outputs": []
    },
    {
      "cell_type": "markdown",
      "source": [
        "## Generate RTL\n",
        "\n",
        "XLS codegen outputs (System)Verilog [RTL](https://en.wikipedia.org/wiki/Register-transfer_level) for synthesis and simulation.\n",
        "\n",
        "As a lowest common denominator, [Verilog](https://en.wikipedia.org/wiki/Verilog) output enables XLS generated designs to integrate into existing design flows."
      ],
      "metadata": {
        "id": "i-4cFqIFfE9M"
      }
    },
    {
      "cell_type": "code",
      "source": [
        "!codegen_main --use_system_verilog=false --module_name=user_module --generator=combinational user_module_opt.ir > user_module.v\n",
        "!cat user_module.v"
      ],
      "metadata": {
        "id": "CL1HG1ApfDn9"
      },
      "execution_count": null,
      "outputs": []
    },
    {
      "cell_type": "markdown",
      "source": [
        "## Run the OpenLane flow\n",
        "\n",
        "[OpenLane](https://openlane.readthedocs.io/en/latest/) is an automated [RTL](https://en.wikipedia.org/wiki/Register-transfer_level) to [GDSII](https://en.wikipedia.org/wiki/GDSII) flow based on several components including [OpenROAD](https://theopenroadproject.org/), [Yosys](https://yosyshq.net/yosys/), [Magic](http://www.opencircuitdesign.com/magic/), [Netgen](http://opencircuitdesign.com/netgen/) and custom methodology scripts for design exploration and optimization targeting [open source PDKs](https://github.com/google/open-source-pdks).\n",
        "\n",
        "![img](https://openlane.readthedocs.io/en/latest/_images/flow_v1.png)"
      ],
      "metadata": {
        "id": "ff2G5VJjvz3z"
      }
    },
    {
      "cell_type": "markdown",
      "source": [
        "#### Configuration\n",
        "\n",
        "[Documentation](https://openlane.readthedocs.io/en/latest/reference/configuration.html)"
      ],
      "metadata": {
        "id": "gDWDJZpX_sMW"
      }
    },
    {
      "cell_type": "code",
      "source": [
        "%%writefile config.json\n",
        "{\n",
        "    \"DESIGN_NAME\": \"user_module\",\n",
        "    \"VERILOG_FILES\": \"dir::user_module.v\",\n",
        "    \"CLOCK_TREE_SYNTH\": false,\n",
        "    \"CLOCK_PERIOD\": 10,\n",
        "    \"CLOCK_PORT\": \"clk\",\n",
        "    \"CLOCK_NET\": \"ref::$CLOCK_PORT\",\n",
        "    \"FP_SIZING\": \"absolute\",\n",
        "    \"DIE_AREA\": \"0 0 50 50\",\n",
        "    \"PL_TARGET_DENSITY\": 0.30,\n",
        "    \"FP_PIN_ORDER_CFG\": \"dir::pin_order.cfg\"\n",
        "}"
      ],
      "metadata": {
        "id": "W9mttCesa512"
      },
      "execution_count": null,
      "outputs": []
    },
    {
      "cell_type": "code",
      "source": [
        "%%writefile pin_order.cfg\n",
        "#BUS_SORT\n",
        "\n",
        "#W\n",
        "io_in.*\n",
        "\n",
        "#E\n",
        "out.*"
      ],
      "metadata": {
        "id": "Nt1yYz3Spo6A"
      },
      "execution_count": null,
      "outputs": []
    },
    {
      "cell_type": "markdown",
      "source": [
        "### Synthesis\n",
        "\n",
        "- Input: [RTL](https://en.wikipedia.org/wiki/Register-transfer_level) (Verilog)\n",
        "- Output: Technology mapped [netlist](https://en.wikipedia.org/wiki/Netlist) (Verilog)\n",
        "- Metrics: Cell count and [timing closure](https://en.wikipedia.org/wiki/Timing_closure) estimate\n",
        "\n",
        "[Documentation](https://openlane.readthedocs.io/en/latest/usage/hardening_macros.html#synthesis)"
      ],
      "metadata": {
        "id": "epoiobzjkwuT"
      }
    },
    {
      "cell_type": "code",
      "source": [
        "%env PDK=sky130A\n",
        "!flow.tcl -design . -to synthesis"
      ],
      "metadata": {
        "id": "8gim7pEdozHv"
      },
      "execution_count": null,
      "outputs": []
    },
    {
      "cell_type": "code",
      "source": [
        "#@title Preview {display-mode: \"form\"}\n",
        "\n",
        "import graphviz\n",
        "import pathlib\n",
        "\n",
        "dots = sorted(pathlib.Path('runs').glob('*/tmp/synthesis/post_techmap.dot'))\n",
        "print(dots)\n",
        "dot = graphviz.Source.from_file(dots[-1])\n",
        "dot.engine = 'dot'\n",
        "dot"
      ],
      "metadata": {
        "id": "wUiIfa_9wMRh"
      },
      "execution_count": null,
      "outputs": []
    },
    {
      "cell_type": "markdown",
      "source": [
        "### Floorplan\n",
        "\n",
        "- Input: Technology mapped [netlist](https://en.wikipedia.org/wiki/Netlist) (Verilog)\n",
        "- Output: Die Physical layout with PDN and I/O pins ([DEF](https://en.wikipedia.org/wiki/Design_Exchange_Format))\n",
        "- Metrics: Area\n",
        "\n",
        "[Documentation](https://openlane.readthedocs.io/en/latest/usage/hardening_macros.html#floorplan)"
      ],
      "metadata": {
        "id": "PaKJ6dr3k1yT"
      }
    },
    {
      "cell_type": "code",
      "source": [
        "%env PDK=sky130A\n",
        "!flow.tcl -design . -to floorplan"
      ],
      "metadata": {
        "id": "5hzngAqWcNlW"
      },
      "execution_count": null,
      "outputs": []
    },
    {
      "cell_type": "code",
      "source": [
        "#@title Preview {display-mode: \"form\"}\n",
        "\n",
        "import pathlib\n",
        "\n",
        "STEP='floorplan'\n",
        "in_def = sorted(pathlib.Path('runs').glob(f'*/results/{STEP}/*.def'))[-1].resolve()\n",
        "!IN_DEF={in_def} magic -dnull -noconsole -rcfile {CONDA_PREFIX}/share/pdk/sky130A/libs.tech/magic/sky130A.magicrc < def2gds.mag\n",
        "!python3 GDS2glTF/gds2gltf.py {in_def}.gds | tee gds2gltf.log\n",
        "import IPython.display\n",
        "IPython.display.clear_output(wait=True)\n",
        "with open(f'{in_def}.gds.gltf') as f:\n",
        "  gltf_data=f.read()\n",
        "  output = gds_viewer.render(gltf_data=gltf_data)\n",
        "IPython.display.HTML(output)"
      ],
      "metadata": {
        "id": "QhO6v-1N7l2u"
      },
      "execution_count": null,
      "outputs": []
    },
    {
      "cell_type": "markdown",
      "source": [
        "### Placement\n",
        "\n",
        "- Input: Technology mapped [netlist](https://en.wikipedia.org/wiki/Netlist) (Verilog), Die Physical layout with PDN and I/O pins ([DEF](https://en.wikipedia.org/wiki/Design_Exchange_Format))\n",
        "- Output: Physical layout with component cells placed ([DEF](https://en.wikipedia.org/wiki/Design_Exchange_Format))\n",
        "- Metrics: Area, cell density, [timing closure](https://en.wikipedia.org/wiki/Timing_closure) estimate\n",
        "\n",
        "[Documentation](https://openlane.readthedocs.io/en/latest/usage/hardening_macros.html#placement)"
      ],
      "metadata": {
        "id": "mOxtgJhfhO_G"
      }
    },
    {
      "cell_type": "code",
      "source": [
        "%env PDK=sky130A\n",
        "!flow.tcl -design . -to placement"
      ],
      "metadata": {
        "id": "JJu8kAI_hO_O"
      },
      "execution_count": null,
      "outputs": []
    },
    {
      "cell_type": "code",
      "source": [
        "#@title Preview {display-mode: \"form\"}\n",
        "\n",
        "import pathlib\n",
        "\n",
        "STEP='placement'\n",
        "in_def = sorted(pathlib.Path('runs').glob(f'*/results/{STEP}/*.def'))[-1].resolve()\n",
        "!IN_DEF={in_def} magic -dnull -noconsole -rcfile {CONDA_PREFIX}/share/pdk/sky130A/libs.tech/magic/sky130A.magicrc < def2gds.mag\n",
        "!python3 GDS2glTF/gds2gltf.py {in_def}.gds | tee gds2gltf.log\n",
        "import IPython.display\n",
        "IPython.display.clear_output(wait=True)\n",
        "with open(f'{in_def}.gds.gltf') as f:\n",
        "  gltf_data=f.read()\n",
        "  output = gds_viewer.render(gltf_data=gltf_data)\n",
        "IPython.display.HTML(output)"
      ],
      "metadata": {
        "id": "oD8Ekk4thO_P"
      },
      "execution_count": null,
      "outputs": []
    },
    {
      "cell_type": "markdown",
      "source": [
        "### Routing\n",
        "\n",
        "- Input: Technology mapped [netlist](https://en.wikipedia.org/wiki/Netlist) (Verilog), Physical layout with component cells placed ([DEF](https://en.wikipedia.org/wiki/Design_Exchange_Format))\n",
        "- Output: Physical layout with component cells fully-connected ([DEF](https://en.wikipedia.org/wiki/Design_Exchange_Format))\n",
        "- Metrics: Routing congestion, [timing closure](https://en.wikipedia.org/wiki/Timing_closure) estimate\n",
        "\n",
        "[Documentation](https://openlane.readthedocs.io/en/latest/usage/hardening_macros.html#routing)"
      ],
      "metadata": {
        "id": "9BqKTSVQJIjr"
      }
    },
    {
      "cell_type": "code",
      "source": [
        "%env PDK=sky130A\n",
        "!flow.tcl -design . -to routing"
      ],
      "metadata": {
        "id": "1EeLNXWXKiNM"
      },
      "execution_count": null,
      "outputs": []
    },
    {
      "cell_type": "code",
      "source": [
        "#@title Preview {display-mode: \"form\"}\n",
        "\n",
        "import pathlib\n",
        "\n",
        "STEP='routing'\n",
        "in_def = sorted(pathlib.Path('runs').glob(f'*/results/{STEP}/*.def'))[-1].resolve()\n",
        "!IN_DEF={in_def} magic -dnull -noconsole -rcfile {CONDA_PREFIX}/share/pdk/sky130A/libs.tech/magic/sky130A.magicrc < def2gds.mag\n",
        "!python3 GDS2glTF/gds2gltf.py {in_def}.gds | tee gds2gltf.log\n",
        "import IPython.display\n",
        "IPython.display.clear_output(wait=True)\n",
        "with open(f'{in_def}.gds.gltf') as f:\n",
        "  gltf_data=f.read()\n",
        "  output = gds_viewer.render(gltf_data=gltf_data)\n",
        "IPython.display.HTML(output)"
      ],
      "metadata": {
        "id": "4yNkdUfpcjph"
      },
      "execution_count": null,
      "outputs": []
    },
    {
      "cell_type": "markdown",
      "source": [
        "### Sign off\n",
        "\n",
        "- Input: Physical layout with component cells fully-connected ([DEF](https://en.wikipedia.org/wiki/Design_Exchange_Format))\n",
        "- Output: Physical layout validated against foundry [DRC rules](https://en.wikipedia.org/wiki/Design_rule_checking), ready for manufacturing ([GDSII](https://en.wikipedia.org/wiki/GDSII))\n",
        "- Metrics: DRC errors, [parasitics](https://en.wikipedia.org/wiki/Standard_Parasitic_Exchange_Format) and [timing closure](https://en.wikipedia.org/wiki/Timing_closure) estimate\n",
        "\n",
        "[Documentation](https://openlane.readthedocs.io/en/latest/usage/hardening_macros.html#final-reports-and-checks)"
      ],
      "metadata": {
        "id": "a1T20TOGzjQ0"
      }
    },
    {
      "cell_type": "code",
      "source": [
        "%env PDK=sky130A\n",
        "!flow.tcl -design ."
      ],
      "metadata": {
        "id": "ZUq1xBKpeYJm"
      },
      "execution_count": null,
      "outputs": []
    },
    {
      "cell_type": "code",
      "source": [
        "#@title Preview {display-mode: \"form\"}\n",
        "\n",
        "import pathlib\n",
        "\n",
        "gds = sorted(pathlib.Path('runs').glob(f'*/results/final/gds/*.gds'))[-1].resolve()\n",
        "!python3 GDS2glTF/gds2gltf.py {gds} | tee gds2gltf.log\n",
        "import IPython.display\n",
        "IPython.display.clear_output(wait=True)\n",
        "with open(f'{gds}.gltf') as f:\n",
        "  gltf_data=f.read()\n",
        "  output = gds_viewer.render(gltf_data=gltf_data)\n",
        "IPython.display.HTML(output)"
      ],
      "metadata": {
        "id": "TKcEZXM1KiNM"
      },
      "execution_count": null,
      "outputs": []
    },
    {
      "cell_type": "code",
      "source": [
        "#@title Metrics {display-mode: \"form\"}\n",
        "#@markdown [Documentation](https://openlane.readthedocs.io/en/latest/reference/datapoint_definitions.html)\n",
        "import pathlib\n",
        "import pandas as pd\n",
        "\n",
        "pd.options.display.max_rows = None\n",
        "csv = sorted(pathlib.Path('runs').glob('*/reports/metrics.csv'))\n",
        "df = pd.read_csv(csv[-1])\n",
        "df.transpose()"
      ],
      "metadata": {
        "id": "ku12Wqw_znRp"
      },
      "execution_count": null,
      "outputs": []
    },
    {
      "cell_type": "markdown",
      "source": [
        "# Assignments"
      ],
      "metadata": {
        "id": "zEET8HjMKcbj"
      }
    },
    {
      "cell_type": "markdown",
      "source": [
        "## Multiplier"
      ],
      "metadata": {
        "id": "ac7FgU_LKffK"
      }
    },
    {
      "cell_type": "markdown",
      "source": [
        "### ⌨ DSLX\n",
        "\n",
        "1. Update the `mul4` function below to use the [DSLX standard library](https://google.github.io/xls/dslx_std/) functions to implement a 4-bit multiplier (don't forget the `std::` prefix).\n",
        "1. Generate the verilog for the design.\n",
        "1. Run the OpenLane flow up until synthesis.\n",
        "1. Observe the change in the complexity of the graph.\n",
        "1. Compare to the results w/ the previous adder design."
      ],
      "metadata": {
        "id": "I0OFABt0L_Or"
      }
    },
    {
      "cell_type": "code",
      "source": [
        "%%bash -c 'cat > user_module.x; interpreter_main user_module.x'\n",
        "import std\n",
        "\n",
        "fn mul4(a: u4, b: u4) -> u8 {\n",
        "  u8:0 // TODO(YOU) implement mul4\n",
        "}\n",
        "\n",
        "fn user_module(io_in: u8) -> u8 {\n",
        "  mul4(io_in[0:4], io_in[4:8]) as u8\n",
        "}\n",
        "\n",
        "#[test]\n",
        "fn test() {\n",
        "  let _ = assert_eq(mul4(u4:8, u4:8), u8:64);\n",
        "  let _ = assert_eq(user_module(u8:0b1000_1000), u8:0b0100_0000);\n",
        "  _\n",
        "}"
      ],
      "metadata": {
        "id": "Lpg06y1aKr7F"
      },
      "execution_count": null,
      "outputs": []
    },
    {
      "cell_type": "code",
      "source": [
        "!ir_converter_main --top=user_module user_module.x > user_module.ir\n",
        "!opt_main user_module.ir > user_module_opt.ir\n",
        "!codegen_main --use_system_verilog=false --module_name=user_module --generator=combinational user_module_opt.ir > user_module.v\n",
        "!cat user_module.v"
      ],
      "metadata": {
        "id": "u_86JuvgOwcu"
      },
      "execution_count": null,
      "outputs": []
    },
    {
      "cell_type": "code",
      "source": [
        "%env PDK=sky130A\n",
        "!flow.tcl -design . -to synthesis"
      ],
      "metadata": {
        "id": "e0rZkCcaRhK3"
      },
      "execution_count": null,
      "outputs": []
    },
    {
      "cell_type": "code",
      "source": [
        "#@title Preview {display-mode: \"form\"}\n",
        "\n",
        "import graphviz\n",
        "import pathlib\n",
        "\n",
        "dots = sorted(pathlib.Path('runs').glob('*/tmp/synthesis/post_techmap.dot'))\n",
        "dot = graphviz.Source.from_file(dots[-1])\n",
        "dot.engine = 'dot'\n",
        "dot"
      ],
      "metadata": {
        "id": "stD3P27ARpmm"
      },
      "execution_count": null,
      "outputs": []
    },
    {
      "cell_type": "markdown",
      "source": [
        "### 🛠️ OpenLane\n",
        "\n",
        "1. Run the complete OpenLane flow.\n",
        "1. Fix errors by tweaking `DIE_AREA` or `PL_TARGET_DENSITY` [configuration variables](https://openlane.readthedocs.io/en/latest/reference/configuration.html).\n",
        "1. Observe changes in the [metrics](https://openlane.readthedocs.io/en/latest/reference/datapoint_definitions.html) (`Total_Physical_Cells`, `wire_length`).\n",
        "1. Observe changes in the layout preview.\n",
        "1. Compare to the results w/ the previous adder design."
      ],
      "metadata": {
        "id": "FPyEu-juOCUD"
      }
    },
    {
      "cell_type": "code",
      "source": [
        "%%writefile config.json\n",
        "{\n",
        "    \"DESIGN_NAME\": \"user_module\",\n",
        "    \"VERILOG_FILES\": \"dir::user_module.v\",\n",
        "    \"CLOCK_TREE_SYNTH\": false,\n",
        "    \"CLOCK_PERIOD\": 10,\n",
        "    \"CLOCK_PORT\": \"clk\",\n",
        "    \"CLOCK_NET\": \"ref::$CLOCK_PORT\",\n",
        "    \"FP_SIZING\": \"absolute\",\n",
        "    \"DIE_AREA\": \"0 0 50 50\",\n",
        "    \"PL_TARGET_DENSITY\": 0.30,\n",
        "    \"FP_PIN_ORDER_CFG\": \"dir::pin_order.cfg\"\n",
        "}"
      ],
      "metadata": {
        "id": "X2DWoHCkNcdV"
      },
      "execution_count": null,
      "outputs": []
    },
    {
      "cell_type": "code",
      "source": [
        "%env PDK=sky130A\n",
        "!flow.tcl -design ."
      ],
      "metadata": {
        "id": "iVKvUGQ4QPYb"
      },
      "execution_count": null,
      "outputs": []
    },
    {
      "cell_type": "code",
      "source": [
        "#@title Metrics {display-mode: \"form\"}\n",
        "import pathlib\n",
        "import pandas as pd\n",
        "\n",
        "pd.options.display.max_rows = None\n",
        "csv = sorted(pathlib.Path('runs').glob('*/reports/metrics.csv'))\n",
        "df = pd.read_csv(csv[-1])\n",
        "df.transpose()"
      ],
      "metadata": {
        "id": "22bEoYqTtj8O"
      },
      "execution_count": null,
      "outputs": []
    },
    {
      "cell_type": "code",
      "source": [
        "#@title Preview {display-mode: \"form\"}\n",
        "\n",
        "import pathlib\n",
        "\n",
        "gds = sorted(pathlib.Path('runs').glob(f'*/results/final/gds/*.gds'))[-1].resolve()\n",
        "!python3 GDS2glTF/gds2gltf.py {gds} | tee gds2gltf.log\n",
        "import IPython.display\n",
        "IPython.display.clear_output(wait=True)\n",
        "with open(f'{gds}.gltf') as f:\n",
        "  gltf_data=f.read()\n",
        "  output = gds_viewer.render(gltf_data=gltf_data)\n",
        "IPython.display.HTML(output)"
      ],
      "metadata": {
        "id": "BYPHnimkuEXU"
      },
      "execution_count": null,
      "outputs": []
    },
    {
      "cell_type": "markdown",
      "source": [
        "## Pipeline"
      ],
      "metadata": {
        "id": "1eCp-QKdsLXq"
      }
    },
    {
      "cell_type": "markdown",
      "source": [
        "### Pipeline stages\n",
        "\n",
        "1. Find the right combination of XLS [codegen pipelining options](https://google.github.io/xls/codegen_options/#pipelining-and-scheduling-options) to [schedule](https://google.github.io/xls/scheduling/) the multiplier across multiple pipeline stages.\n",
        "1. Observe the generated verilog"
      ],
      "metadata": {
        "id": "oaM-cRpWxMxo"
      }
    },
    {
      "cell_type": "code",
      "source": [
        "pipeline_stages = 1\n",
        "clock_period_ps = 10\n",
        "!ir_converter_main --top=user_module user_module.x > user_module.ir\n",
        "!opt_main user_module.ir > user_module_opt.ir\n",
        "!codegen_main --pipeline_stages={pipeline_stages} --clock_period_ps={clock_period_ps} --delay_model=sky130 --use_system_verilog=false --module_name=user_module user_module_opt.ir > user_module.v\n",
        "!cat user_module.v"
      ],
      "metadata": {
        "id": "2ZNQm_VQsKhC"
      },
      "execution_count": null,
      "outputs": []
    },
    {
      "cell_type": "markdown",
      "source": [
        "### Simulation.\n",
        "\n",
        "1. Update the [cocotb](https://www.cocotb.org/) test bench to verify the behavior of the generated verilog.\n",
        "1. Observe the [digital timing diagram](https://en.wikipedia.org/wiki/Digital_timing_diagram) to see how values flow thru the pipeling stages"
      ],
      "metadata": {
        "id": "MaB4bJsPxgjk"
      }
    },
    {
      "cell_type": "code",
      "source": [
        "%%writefile Makefile\n",
        "SIM ?= icarus\n",
        "TOPLEVEL_LANG ?= verilog\n",
        "VERILOG_SOURCES += user_module.v\n",
        "VERILOG_SOURCES += top.v\n",
        "TOPLEVEL = top\n",
        "MODULE = test\n",
        "\n",
        "include $(shell cocotb-config --makefiles)/Makefile.sim"
      ],
      "metadata": {
        "id": "HV26dk7Wxixh"
      },
      "execution_count": null,
      "outputs": []
    },
    {
      "cell_type": "code",
      "source": [
        "%%writefile top.v\n",
        "\n",
        "module top(\n",
        "  input wire clk,\n",
        "  input wire [7:0] io_in,\n",
        "  output wire [7:0] out\n",
        ");\n",
        "\n",
        "  user_module user_module_tb(clk, io_in, out);\n",
        "`ifdef COCOTB_SIM\n",
        "initial begin\n",
        "  $dumpfile (\"user_module.vcd\");\n",
        "  $dumpvars (0, user_module_tb);\n",
        "  #1;\n",
        "end\n",
        "`endif\n",
        "endmodule"
      ],
      "metadata": {
        "id": "UFrDgE3Ahy3Y"
      },
      "execution_count": null,
      "outputs": []
    },
    {
      "cell_type": "code",
      "source": [
        "%%bash -c \"cat > test.py; make\"\n",
        "import cocotb\n",
        "from cocotb.triggers import ClockCycles, RisingEdge\n",
        "from cocotb.clock import Clock\n",
        "\n",
        "@cocotb.test()\n",
        "async def test_test(dut):\n",
        "    c = Clock(dut.clk, 1, 'ns')\n",
        "    cocotb.start_soon(c.start())\n",
        "\n",
        "    # TODO(YOU): update with the 8-input to user_module\n",
        "    dut.user_module_tb.io_in.value = NaN\n",
        "    # pipeline stage 0: fetch\n",
        "    await ClockCycles(dut.clk, 2)\n",
        "    # TODO(YOU): verify that the input value propagate to stage #0\n",
        "    assert dut.user_module_tb.p0_io_in == NaN\n",
        "\n",
        "    # pipeline stage 1: slice\n",
        "    await ClockCycles(dut.clk, 2)\n",
        "    # TODO(YOU): update `p1_bit_slice_*` names to match the wire in the generated verilog\n",
        "    # TODO(YOU): verify that the input value is sliced into 4-bit umul operands\n",
        "    assert dut.user_module_tb.p1_bit_slice_TODO == NaN\n",
        "    assert dut.user_module_tb.p1_bit_slice_TODO == NaN\n",
        "\n",
        "    # pipeline stage 2: multiply\n",
        "    await ClockCycles(dut.clk, 2)\n",
        "    # TODO(YOU): verify that the output value match the multiplication result\n",
        "    assert dut.user_module_tb.out == NaN"
      ],
      "metadata": {
        "id": "VhwSiHVPvOzB"
      },
      "execution_count": null,
      "outputs": []
    },
    {
      "cell_type": "code",
      "source": [
        "#@title Preview {display-mode: \"form\"}\n",
        "\n",
        "import wavedrom\n",
        "import vcdvcd\n",
        "import json\n",
        "\n",
        "def filter_signals(top, signals, filter=[]):\n",
        "  if len(filter) == 0:\n",
        "    return signals\n",
        "  for f in filter:\n",
        "    for s in signals:\n",
        "      if f in s and 'comb' not in s:\n",
        "        yield s.replace(f'{top}.', '')\n",
        "\n",
        "def signals_to_wave(filename, top, clk='clk', cycles=0, filter=[], period=500):\n",
        "  vcd = vcdvcd.VCDVCD(filename)\n",
        "  clk_tv = vcd[f'{top}.{clk}'].tv\n",
        "  ticks = len(clk_tv) if cycles == 0 else cycles * 2\n",
        "  yield {'name': clk, 'wave': 'P' + '.' * (cycles-1), 'period': 2 }\n",
        "  for s in filter_signals(top, vcd.signals, filter):\n",
        "    wave = ['x'] * ticks\n",
        "    data = []\n",
        "    for t, d in vcd[f'{top}.{s}'].tv:\n",
        "      i = int(t/500)\n",
        "      if d != 'x':\n",
        "        wave[i] = '='\n",
        "        data.append(hex(int(f'0b{d}', 2)))\n",
        "      else:\n",
        "        wave[i] = 'x'\n",
        "    yield {'name': s, 'wave': ''.join(wave), 'data': ' '.join(data), 'phase': 0.5}\n",
        "\n",
        "drom = {\n",
        "    'signal': list(signals_to_wave('user_module.vcd', top='top.user_module_tb', cycles = pipeline_stages+1, signals = ['io_in[7:0]', 'p1_bit_slice_33[3:0]', 'p1_bit_slice_34[3:0]', 'out[7:0]']))\n",
        "}\n",
        "svg = wavedrom.render(json.dumps(drom))\n",
        "display(svg)"
      ],
      "metadata": {
        "id": "b-ftZx5aErWW"
      },
      "execution_count": null,
      "outputs": []
    },
    {
      "cell_type": "markdown",
      "source": [
        "### Static timing analysis\n",
        "\n",
        "1. Run the OpenLane flow up until [Clock Tree Synthesis](https://en.wikipedia.org/wiki/Physical_design_(electronics)#Clock_tree_synthesis).\n",
        "1. Fix errors by tweaking the `CLOCK_PERIOD` [configuration variable](https://openlane.readthedocs.io/en/latest/reference/configuration.html) until [static timing analysis](https://en.wikipedia.org/wiki/Static_timing_analysis) logs shows positive [slack](https://en.wikipedia.org/wiki/Static_timing_analysis#Definitions) `MET` (not `VIOLATED`) for all [corners](https://en.wikipedia.org/wiki/Static_timing_analysis#Corners_and_STA).\n",
        "1. Re-harden the design.\n",
        "1. Observe the impact of pipeling on the layout."
      ],
      "metadata": {
        "id": "sXM7WwzDxC3S"
      }
    },
    {
      "cell_type": "code",
      "source": [
        "%%writefile config.json\n",
        "{\n",
        "    \"DESIGN_NAME\": \"user_module\",\n",
        "    \"VERILOG_FILES\": \"dir::user_module.v\",\n",
        "    \"CLOCK_TREE_SYNTH\": true,\n",
        "    \"CLOCK_PERIOD\": 1,\n",
        "    \"CLOCK_PORT\": \"clk\",\n",
        "    \"CLOCK_NET\": \"ref::$CLOCK_PORT\",\n",
        "    \"FP_SIZING\": \"absolute\",\n",
        "    \"DIE_AREA\": \"0 0 150 150\",\n",
        "    \"PL_TARGET_DENSITY\": 0.70,\n",
        "    \"FP_PIN_ORDER_CFG\": \"dir::pin_order.cfg\"\n",
        "}"
      ],
      "metadata": {
        "id": "PHFpwhOvs6uQ"
      },
      "execution_count": null,
      "outputs": []
    },
    {
      "cell_type": "code",
      "source": [
        "%%writefile pin_order.cfg\n",
        "#BUS_SORT\n",
        "\n",
        "#W\n",
        "io_in\\[0\\]\n",
        "io_in\\[1\\]\n",
        "io_in\\[2\\]\n",
        "io_in\\[3\\]\n",
        "clk\n",
        "io_in\\[4\\]\n",
        "io_in\\[5\\]\n",
        "io_in\\[6\\]\n",
        "io_in\\[7\\]\n",
        "\n",
        "#E\n",
        "out.*"
      ],
      "metadata": {
        "id": "em-NHkbxt1ky"
      },
      "execution_count": null,
      "outputs": []
    },
    {
      "cell_type": "code",
      "source": [
        "%env PDK=sky130A\n",
        "!flow.tcl -design . -verbose 10 -to cts"
      ],
      "metadata": {
        "id": "UIqEvPRHtdCQ"
      },
      "execution_count": null,
      "outputs": []
    },
    {
      "cell_type": "code",
      "source": [
        "%env PDK=sky130A\n",
        "!flow.tcl -design ."
      ],
      "metadata": {
        "id": "0JipsFZNyxPM"
      },
      "execution_count": null,
      "outputs": []
    },
    {
      "cell_type": "code",
      "source": [
        "#@title Metrics {display-mode: \"form\"}\n",
        "import pathlib\n",
        "import pandas as pd\n",
        "\n",
        "pd.options.display.max_rows = None\n",
        "csv = sorted(pathlib.Path('runs').glob('*/reports/metrics.csv'))\n",
        "df = pd.read_csv(csv[-1])\n",
        "df.transpose()"
      ],
      "metadata": {
        "id": "22bEoYqTtj8O"
      },
      "execution_count": null,
      "outputs": []
    },
    {
      "cell_type": "code",
      "source": [
        "#@title Preview {display-mode: \"form\"}\n",
        "\n",
        "import pathlib\n",
        "\n",
        "gds = sorted(pathlib.Path('runs').glob(f'*/results/final/gds/*.gds'))[-1].resolve()\n",
        "!python3 GDS2glTF/gds2gltf.py {gds} | tee gds2gltf.log\n",
        "import IPython.display\n",
        "IPython.display.clear_output(wait=True)\n",
        "with open(f'{gds}.gltf') as f:\n",
        "  gltf_data=f.read()\n",
        "  output = gds_viewer.render(gltf_data=gltf_data)\n",
        "IPython.display.HTML(output)"
      ],
      "metadata": {
        "id": "BYPHnimkuEXU"
      },
      "execution_count": null,
      "outputs": []
    },
    {
      "cell_type": "markdown",
      "source": [
        "## DIY Zone\n",
        "\n",
        "1. Use the remaining to work on your own design.\n",
        "1. Re-use functions from XLS [stdlib](https://github.com/google/xls/tree/main/xls/dslx/stdlib), [examples](https://github.com/google/xls/tree/main/xls/examples), [modules](https://github.com/google/xls/tree/main/xls/examples) or [third_party](https://github.com/google/xls/tree/main/third_party)."
      ],
      "metadata": {
        "id": "4oOsNfozVIDo"
      }
    },
    {
      "cell_type": "code",
      "source": [
        "%%bash -c 'cat > user_module.x; interpreter_main user_module.x'\n",
        "\n",
        "fn user_module(io_in: u8) -> u8 {\n",
        "  u8:0\n",
        "}\n",
        "\n",
        "#[test]\n",
        "fn test() {\n",
        "  let _ = assert_eq(user_module(u8:0), u8:0);\n",
        "  _\n",
        "}"
      ],
      "metadata": {
        "id": "PTyKSn92WZCW"
      },
      "execution_count": null,
      "outputs": []
    },
    {
      "cell_type": "code",
      "source": [
        "!ir_converter_main --top=user_module user_module.x > user_module.ir\n",
        "!opt_main user_module.ir > user_module_opt.ir\n",
        "!codegen_main --use_system_verilog=false --module_name=user_module --generator=combinational user_module_opt.ir > user_module.v\n",
        "!cat user_module.v"
      ],
      "metadata": {
        "id": "eIGKUPA9Wsch"
      },
      "execution_count": null,
      "outputs": []
    },
    {
      "cell_type": "code",
      "source": [
        "%env PDK=sky130A\n",
        "!flow.tcl -design ."
      ],
      "metadata": {
        "id": "N0XmREpoWPNP"
      },
      "execution_count": null,
      "outputs": []
    },
    {
      "cell_type": "code",
      "source": [
        "#@title Metrics {display-mode: \"form\"}\n",
        "import pathlib\n",
        "import pandas as pd\n",
        "\n",
        "pd.options.display.max_rows = None\n",
        "csv = sorted(pathlib.Path('runs').glob('*/reports/metrics.csv'))\n",
        "df = pd.read_csv(csv[-1])\n",
        "df.transpose()"
      ],
      "metadata": {
        "id": "kxTGtsHXWPNc"
      },
      "execution_count": null,
      "outputs": []
    },
    {
      "cell_type": "code",
      "source": [
        "#@title Preview {display-mode: \"form\"}\n",
        "\n",
        "import pathlib\n",
        "\n",
        "gds = sorted(pathlib.Path('runs').glob(f'*/results/final/gds/*.gds'))[-1].resolve()\n",
        "!python3 GDS2glTF/gds2gltf.py {gds} | tee gds2gltf.log\n",
        "import IPython.display\n",
        "IPython.display.clear_output(wait=True)\n",
        "with open(f'{gds}.gltf') as f:\n",
        "  gltf_data=f.read()\n",
        "  output = gds_viewer.render(gltf_data=gltf_data)\n",
        "IPython.display.HTML(output)"
      ],
      "metadata": {
        "id": "AxX138XzWPNc"
      },
      "execution_count": null,
      "outputs": []
    },    
    {
      "cell_type": "markdown",
      "source": [
        "# Tape-out\n",
        "\n",
        "In order to onboard on the Google's sponsored [OpenMPW shuttle program](https://developers.google.com/silicon), your design needs to be integrated in the [Caravel SoC harness](https://caravel-harness.readthedocs.io/) using the [Caravel User Project](https://caravel-user-project.readthedocs.io/en/latest/) template and pass the [mpw pre-check](https://github.com/efabless/mpw_precheck) tests.\n",
        "\n",
        "![caravel](https://caravel-user-project.readthedocs.io/en/latest/_static/layout.png)\n",
        "\n",
        "- User project area: 2920 µm x 3520 µm\n",
        "- SoC: RISC-V based ([specs](https://caravel-mgmt-soc-litex.readthedocs.io/en/latest/#features))\n",
        "- I/O pins: 38 ([pinout](https://caravel-harness.readthedocs.io/en/latest/pinout.html))\n",
        "- Communication: Wishbone bus and 128 logic analyser pins\n"
      ],
      "metadata": {
        "id": "KL01tTzh-O3u"
      }
    },
    {
      "cell_type": "markdown",
      "source": [
        "## Submit your design with `tiny_user_project`\n",
        "\n",
        "1. Create a new GitHub project using the [tiny_user_project template](https://github.com/proppy/tiny_user_project).\n",
        "1. [Set GitHub Pages](https://tinytapeout.com/faq/#my-github-action-is-failing-on-the-pages-part) `Sources` as `GitHub Actions`\n",
        "1. Update `verilog/rtl/user_module.v` with the generated verilog for your design.\n",
        "1. Update `info.yaml` to match your project:\n",
        "   - set `wokwi_id` to `0`\n",
        "   - uncomment and set `source_files` to `- verilog/rtl/user_module.v`.\n",
        "   - uncomment and set `top_module` to `user_module`.\n",
        "   - update the `documentation` and the `inputs` / `outputs` mapping to match your projects.\n",
        "1. Commit, push and check the `Actions` summary for the  ![user_project_ci](https://github.com/proppy/tiny_caravel_user_project/actions/workflows/user_project_ci.yml/badge.svg) workflow (if successful a new commit including the hardened files will be automatically created).\n",
        "1. [Submit](https://platform.efabless.com/projects/create?project_definition=Open+MPW&shuttle=MPW-8) your project github repository to the next [Open MPW shuttle](https://platform.efabless.com/shuttles/MPW-8)."
      ],
      "metadata": {
        "id": "ngWjRDn9pwzA"
      }
    }
  ]
}