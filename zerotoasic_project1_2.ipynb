{
  "nbformat": 4,
  "nbformat_minor": 0,
  "metadata": {
    "colab": {
      "name": "zerotoasic_project1_2.ipynb",
      "provenance": [],
      "authorship_tag": "ABX9TyN7A4HI/1vspMZAem1ruVQ2",
      "include_colab_link": true
    },
    "kernelspec": {
      "name": "python3",
      "display_name": "Python 3"
    },
    "language_info": {
      "name": "python"
    }
  },
  "cells": [
    {
      "cell_type": "markdown",
      "metadata": {
        "id": "view-in-github",
        "colab_type": "text"
      },
      "source": [
        "<a href=\"https://colab.research.google.com/gist/proppy/b8a35e01e22c9685a79fa144e0df3f36/zerotoasic_project1_2.ipynb\" target=\"_parent\"><img src=\"https://colab.research.google.com/assets/colab-badge.svg\" alt=\"Open In Colab\"/></a>"
      ]
    },
    {
      "cell_type": "code",
      "execution_count": 1,
      "metadata": {
        "colab": {
          "base_uri": "https://localhost:8080/"
        },
        "id": "yEJCPg3Ylyk4",
        "outputId": "95fb4736-c37f-4931-f2c1-961a7aabe300"
      },
      "outputs": [
        {
          "output_type": "stream",
          "name": "stdout",
          "text": [
            "⏬ Downloading https://github.com/jaimergp/miniforge/releases/latest/download/Mambaforge-colab-Linux-x86_64.sh...\n",
            "📦 Installing...\n",
            "📌 Adjusting configuration...\n",
            "🩹 Patching environment...\n",
            "⏲ Done in 0:00:32\n",
            "🔁 Restarting kernel...\n"
          ]
        }
      ],
      "source": [
        "!pip install -q condacolab\n",
        "import condacolab\n",
        "condacolab.install()"
      ]
    },
    {
      "cell_type": "code",
      "source": [
        "import condacolab\n",
        "condacolab.check()"
      ],
      "metadata": {
        "colab": {
          "base_uri": "https://localhost:8080/"
        },
        "id": "5-H8BmLS0_pW",
        "outputId": "b9b38cfa-ff5b-48f6-e932-aa6a2ad51663"
      },
      "execution_count": 4,
      "outputs": [
        {
          "output_type": "stream",
          "name": "stdout",
          "text": [
            "✨🍰✨ Everything looks OK!\n"
          ]
        }
      ]
    },
    {
      "cell_type": "code",
      "source": [
        "!gsutil cp -r gs://proppy-eda/conda-repo .\n",
        "!conda install -c file://content/conda-repo/ --yes magic open_pdks.sky130a gdstk ngspice-lib\n",
        "!pip install cairosvg pyspice"
      ],
      "metadata": {
        "colab": {
          "base_uri": "https://localhost:8080/",
          "height": 1000
        },
        "id": "Qyci9ZG0n_Gm",
        "outputId": "778930d4-8e68-45a6-f328-0ac0ed7a4559"
      },
      "execution_count": 50,
      "outputs": [
        {
          "output_type": "stream",
          "name": "stdout",
          "text": [
            "Copying gs://proppy-eda/conda-repo/channeldata.json...\n",
            "Copying gs://proppy-eda/conda-repo/index.html...\n",
            "Copying gs://proppy-eda/conda-repo/linux-64/.cache/about/magic-8.3.266_0000_g6ecd077-20220203_1935.tar.bz2.json...\n",
            "Copying gs://proppy-eda/conda-repo/linux-64/.cache/index/magic-8.3.266_0000_g6ecd077-20220203_1935.tar.bz2.json...\n",
            "/ [4 files][  9.2 KiB/  9.2 KiB]                                                \n",
            "==> NOTE: You are performing a sequence of gsutil operations that may\n",
            "run significantly faster if you instead use gsutil -m cp ... Please\n",
            "see the -m section under \"gsutil help options\" for further information\n",
            "about when gsutil -m can be advantageous.\n",
            "\n",
            "Copying gs://proppy-eda/conda-repo/linux-64/.cache/paths/magic-8.3.266_0000_g6ecd077-20220203_1935.tar.bz2.json...\n",
            "Copying gs://proppy-eda/conda-repo/linux-64/.cache/post_install/magic-8.3.266_0000_g6ecd077-20220203_1935.tar.bz2.json...\n",
            "Copying gs://proppy-eda/conda-repo/linux-64/.cache/recipe/magic-8.3.266_0000_g6ecd077-20220203_1935.tar.bz2.json...\n",
            "Copying gs://proppy-eda/conda-repo/linux-64/.cache/run_exports/magic-8.3.266_0000_g6ecd077-20220203_1935.tar.bz2.json...\n",
            "Copying gs://proppy-eda/conda-repo/linux-64/.cache/stat.json...\n",
            "Copying gs://proppy-eda/conda-repo/linux-64/current_repodata.json...\n",
            "Copying gs://proppy-eda/conda-repo/linux-64/current_repodata.json.bz2...\n",
            "Copying gs://proppy-eda/conda-repo/linux-64/index.html...\n",
            "Copying gs://proppy-eda/conda-repo/linux-64/magic-8.3.266_0000_g6ecd077-20220203_1935.tar.bz2...\n",
            "Copying gs://proppy-eda/conda-repo/linux-64/repodata.json...\n",
            "Copying gs://proppy-eda/conda-repo/linux-64/repodata.json.bz2...\n",
            "Copying gs://proppy-eda/conda-repo/linux-64/repodata_from_packages.json...\n",
            "Copying gs://proppy-eda/conda-repo/linux-64/repodata_from_packages.json.bz2...\n",
            "Copying gs://proppy-eda/conda-repo/noarch/.cache/about/open_pdks.sky130a-1.0.283_0000_g7519dfb-20220203_1935.tar.bz2.json...\n",
            "Copying gs://proppy-eda/conda-repo/noarch/.cache/index/open_pdks.sky130a-1.0.283_0000_g7519dfb-20220203_1935.tar.bz2.json...\n",
            "Copying gs://proppy-eda/conda-repo/noarch/.cache/paths/open_pdks.sky130a-1.0.283_0000_g7519dfb-20220203_1935.tar.bz2.json...\n",
            "Copying gs://proppy-eda/conda-repo/noarch/.cache/post_install/open_pdks.sky130a-1.0.283_0000_g7519dfb-20220203_1935.tar.bz2.json...\n",
            "Copying gs://proppy-eda/conda-repo/noarch/.cache/recipe/open_pdks.sky130a-1.0.283_0000_g7519dfb-20220203_1935.tar.bz2.json...\n",
            "Copying gs://proppy-eda/conda-repo/noarch/.cache/run_exports/open_pdks.sky130a-1.0.283_0000_g7519dfb-20220203_1935.tar.bz2.json...\n",
            "Copying gs://proppy-eda/conda-repo/noarch/.cache/stat.json...\n",
            "Copying gs://proppy-eda/conda-repo/noarch/current_repodata.json...\n",
            "Copying gs://proppy-eda/conda-repo/noarch/current_repodata.json.bz2...\n",
            "Copying gs://proppy-eda/conda-repo/noarch/index.html...\n",
            "Copying gs://proppy-eda/conda-repo/noarch/open_pdks.sky130a-1.0.283_0000_g7519dfb-20220203_1935.tar.bz2...\n",
            "Copying gs://proppy-eda/conda-repo/noarch/repodata.json...\n",
            "Copying gs://proppy-eda/conda-repo/noarch/repodata.json.bz2...\n",
            "Copying gs://proppy-eda/conda-repo/noarch/repodata_from_packages.json...\n",
            "Copying gs://proppy-eda/conda-repo/noarch/repodata_from_packages.json.bz2...\n",
            "| [32 files][125.1 MiB/125.1 MiB]                                               \n",
            "==> NOTE: You are performing a sequence of gsutil operations that may\n",
            "run significantly faster if you instead use gsutil -m cp ... Please\n",
            "see the -m section under \"gsutil help options\" for further information\n",
            "about when gsutil -m can be advantageous.\n",
            "\n",
            "\n",
            "Operation completed over 32 objects/125.1 MiB.                                   \n",
            "Collecting package metadata (current_repodata.json): - \b\b\\ \b\b| \b\b/ \b\b- \b\b\\ \b\b| \b\b/ \b\b- \b\b\\ \b\b| \b\b/ \b\b- \b\b\\ \b\b| \b\b/ \b\b- \b\b\\ \b\b| \b\b/ \b\bdone\n",
            "Solving environment: \\ \b\b| \b\b/ \b\b- \b\b\\ \b\b| \b\b/ \b\b- \b\b\\ \b\b| \b\b/ \b\b- \b\b\\ \b\b| \b\b/ \b\b- \b\b\\ \b\b| \b\b/ \b\b- \b\b\\ \b\b| \b\b/ \b\b- \b\b\\ \b\b| \b\b/ \b\b- \b\b\\ \b\bdone\n",
            "\n",
            "## Package Plan ##\n",
            "\n",
            "  environment location: /usr/local\n",
            "\n",
            "  added / updated specs:\n",
            "    - gdstk\n",
            "    - magic\n",
            "    - ngspice-lib\n",
            "    - open_pdks.sky130a\n",
            "\n",
            "\n",
            "The following packages will be downloaded:\n",
            "\n",
            "    package                    |            build\n",
            "    ---------------------------|-----------------\n",
            "    ngspice-lib-36             |       hf248978_7         2.9 MB  conda-forge\n",
            "    ------------------------------------------------------------\n",
            "                                           Total:         2.9 MB\n",
            "\n",
            "The following NEW packages will be INSTALLED:\n",
            "\n",
            "  ngspice-lib        conda-forge/linux-64::ngspice-lib-36-hf248978_7\n",
            "\n",
            "\n",
            "\n",
            "Downloading and Extracting Packages\n",
            "ngspice-lib-36       | 2.9 MB    | : 100% 1.0/1 [00:00<00:00,  1.31it/s]\n",
            "Preparing transaction: / \b\bdone\n",
            "Verifying transaction: \\ \b\b| \b\bdone\n",
            "Executing transaction: - \b\b\\ \b\b| \b\b/ \b\b- \b\bdone\n",
            "Requirement already satisfied: cairosvg in /usr/local/lib/python3.7/site-packages (2.5.2)\n",
            "Collecting pyspice\n",
            "  Downloading PySpice-1.5-py2.py3-none-any.whl (158 kB)\n",
            "\u001b[K     |████████████████████████████████| 158 kB 23.5 MB/s \n",
            "\u001b[?25hRequirement already satisfied: tinycss2 in /usr/local/lib/python3.7/site-packages (from cairosvg) (1.1.1)\n",
            "Requirement already satisfied: cssselect2 in /usr/local/lib/python3.7/site-packages (from cairosvg) (0.4.1)\n",
            "Requirement already satisfied: pillow in /usr/local/lib/python3.7/site-packages (from cairosvg) (9.0.1)\n",
            "Requirement already satisfied: cairocffi in /usr/local/lib/python3.7/site-packages (from cairosvg) (1.3.0)\n",
            "Requirement already satisfied: defusedxml in /usr/local/lib/python3.7/site-packages (from cairosvg) (0.7.1)\n",
            "Collecting ply>=3.11\n",
            "  Downloading ply-3.11-py2.py3-none-any.whl (49 kB)\n",
            "\u001b[K     |████████████████████████████████| 49 kB 5.5 MB/s \n",
            "\u001b[?25hCollecting matplotlib>=3.2\n",
            "  Downloading matplotlib-3.5.1-cp37-cp37m-manylinux_2_5_x86_64.manylinux1_x86_64.whl (11.2 MB)\n",
            "\u001b[K     |████████████████████████████████| 11.2 MB 45.5 MB/s \n",
            "\u001b[?25hRequirement already satisfied: cffi>=1.14 in /usr/local/lib/python3.7/site-packages (from pyspice) (1.15.0)\n",
            "Requirement already satisfied: requests>=2.23 in /usr/local/lib/python3.7/site-packages (from pyspice) (2.25.1)\n",
            "Collecting PyYAML>=5.3\n",
            "  Downloading PyYAML-6.0-cp37-cp37m-manylinux_2_5_x86_64.manylinux1_x86_64.manylinux_2_12_x86_64.manylinux2010_x86_64.whl (596 kB)\n",
            "\u001b[K     |████████████████████████████████| 596 kB 42.3 MB/s \n",
            "\u001b[?25hCollecting scipy>=1.4\n",
            "  Downloading scipy-1.7.3-cp37-cp37m-manylinux_2_12_x86_64.manylinux2010_x86_64.whl (38.1 MB)\n",
            "\u001b[K     |████████████████████████████████| 38.1 MB 134 kB/s \n",
            "\u001b[?25hRequirement already satisfied: numpy>=1.18 in /usr/local/lib/python3.7/site-packages (from pyspice) (1.21.5)\n",
            "Requirement already satisfied: pycparser in /usr/local/lib/python3.7/site-packages (from cffi>=1.14->pyspice) (2.20)\n",
            "Collecting cycler>=0.10\n",
            "  Downloading cycler-0.11.0-py3-none-any.whl (6.4 kB)\n",
            "Collecting kiwisolver>=1.0.1\n",
            "  Downloading kiwisolver-1.3.2-cp37-cp37m-manylinux_2_5_x86_64.manylinux1_x86_64.whl (1.1 MB)\n",
            "\u001b[K     |████████████████████████████████| 1.1 MB 33.9 MB/s \n",
            "\u001b[?25hCollecting python-dateutil>=2.7\n",
            "  Downloading python_dateutil-2.8.2-py2.py3-none-any.whl (247 kB)\n",
            "\u001b[K     |████████████████████████████████| 247 kB 48.1 MB/s \n",
            "\u001b[?25hCollecting pyparsing>=2.2.1\n",
            "  Downloading pyparsing-3.0.7-py3-none-any.whl (98 kB)\n",
            "\u001b[K     |████████████████████████████████| 98 kB 6.1 MB/s \n",
            "\u001b[?25hCollecting fonttools>=4.22.0\n",
            "  Downloading fonttools-4.29.1-py3-none-any.whl (895 kB)\n",
            "\u001b[K     |████████████████████████████████| 895 kB 51.1 MB/s \n",
            "\u001b[?25hCollecting packaging>=20.0\n",
            "  Downloading packaging-21.3-py3-none-any.whl (40 kB)\n",
            "\u001b[K     |████████████████████████████████| 40 kB 4.5 MB/s \n",
            "\u001b[?25hRequirement already satisfied: six>=1.5 in /usr/local/lib/python3.7/site-packages (from python-dateutil>=2.7->matplotlib>=3.2->pyspice) (1.15.0)\n",
            "Requirement already satisfied: idna<3,>=2.5 in /usr/local/lib/python3.7/site-packages (from requests>=2.23->pyspice) (2.10)\n",
            "Requirement already satisfied: certifi>=2017.4.17 in /usr/local/lib/python3.7/site-packages (from requests>=2.23->pyspice) (2021.10.8)\n",
            "Requirement already satisfied: urllib3<1.27,>=1.21.1 in /usr/local/lib/python3.7/site-packages (from requests>=2.23->pyspice) (1.26.3)\n",
            "Requirement already satisfied: chardet<5,>=3.0.2 in /usr/local/lib/python3.7/site-packages (from requests>=2.23->pyspice) (4.0.0)\n",
            "Requirement already satisfied: webencodings in /usr/local/lib/python3.7/site-packages (from cssselect2->cairosvg) (0.5.1)\n",
            "Installing collected packages: pyparsing, python-dateutil, packaging, kiwisolver, fonttools, cycler, scipy, PyYAML, ply, matplotlib, pyspice\n",
            "Successfully installed PyYAML-6.0 cycler-0.11.0 fonttools-4.29.1 kiwisolver-1.3.2 matplotlib-3.5.1 packaging-21.3 ply-3.11 pyparsing-3.0.7 pyspice-1.5 python-dateutil-2.8.2 scipy-1.7.3\n"
          ]
        },
        {
          "output_type": "display_data",
          "data": {
            "application/vnd.colab-display-data+json": {
              "pip_warning": {
                "packages": [
                  "cycler",
                  "dateutil",
                  "kiwisolver",
                  "packaging",
                  "pyparsing"
                ]
              }
            }
          },
          "metadata": {}
        }
      ]
    },
    {
      "cell_type": "code",
      "source": [
        "%%script bash -c \"PDK_ROOT=/usr/local/share/pdk/sky130A PDKPATH=/usr/local/share/pdk/sky130A magic -dnull -noconsole -rcfile /usr/local/share/pdk/sky130A/libs.tech/magic/sky130A.magicrc\"\n",
        "cellname rename mosfet\n",
        "\n",
        "box 0 0 950nm 650nm\n",
        "paint ndiffusion\n",
        "\n",
        "box 400nm -600nm 550nm 1200nm\n",
        "paint polysilicon\n",
        "\n",
        "box 0 0 400nm 650nm\n",
        "label source\n",
        "port make 3\n",
        "\n",
        "box 550nm 0 950nm 650nm\n",
        "label drain\n",
        "port make 1\n",
        "\n",
        "box 400nm -600nm 550nm 0\n",
        "label gate\n",
        "port make 2\n",
        "\n",
        "extract\n",
        "ext2spice lvs\n",
        "ext2spice cthresh 0\n",
        "ext2spice\n",
        "\n",
        "gds labels no\n",
        "gds write mosfet.gds"
      ],
      "metadata": {
        "colab": {
          "base_uri": "https://localhost:8080/"
        },
        "id": "hhpUJrMBmlfj",
        "outputId": "62fd1d09-0b58-4330-f63c-581a5e9d9962"
      },
      "execution_count": 64,
      "outputs": [
        {
          "output_type": "stream",
          "name": "stdout",
          "text": [
            "\n",
            "Magic 8.3 revision 266 - Compiled on Sat Feb 12 12:14:27 PM JST 2022.\n",
            "Starting magic under Tcl interpreter\n",
            "Using the terminal as the console.\n",
            "Using NULL graphics device.\n",
            "Processing system .magicrc file\n",
            "Sourcing design .magicrc for technology sky130A ...\n",
            "2 Magic internal units = 1 Lambda\n",
            "Input style sky130(vendor): scaleFactor=2, multiplier=2\n",
            "The following types are not handled by extraction and will be treated as non-electrical types:\n",
            "    mvobsactive ubm \n",
            "Scaled tech values by 2 / 1 to match internal grid scaling\n",
            "Loading sky130A Device Generator Menu ...\n",
            "Using technology \"sky130A\", version 1.0.283-0-g7519dfb\n",
            "Root cell box:\n",
            "           width x height  (   llx,  lly  ), (   urx,  ury  )  area (units^2)\n",
            "\n",
            "microns:   0.950 x 0.650   ( 0.000,  0.000), ( 0.950,  0.650)  0.618     \n",
            "lambda:    95.00 x 65.00   (  0.00,  0.00 ), ( 95.00,  65.00)  6175.00   \n",
            "internal:    190 x 130     (     0,  0    ), (   190,  130  )  24700     \n",
            "Root cell box:\n",
            "           width x height  (   llx,  lly  ), (   urx,  ury  )  area (units^2)\n",
            "\n",
            "microns:   0.150 x 1.800   ( 0.400, -0.600), ( 0.550,  1.200)  0.270     \n",
            "lambda:    15.00 x 180.00  ( 40.00, -60.00), ( 55.00,  120.00)  2700.00   \n",
            "internal:     30 x 360     (    80, -120  ), (   110,  240  )  10800     \n",
            "Root cell box:\n",
            "           width x height  (   llx,  lly  ), (   urx,  ury  )  area (units^2)\n",
            "\n",
            "microns:   0.400 x 0.650   ( 0.000,  0.000), ( 0.400,  0.650)  0.260     \n",
            "lambda:    40.00 x 65.00   (  0.00,  0.00 ), ( 40.00,  65.00)  2600.00   \n",
            "internal:     80 x 130     (     0,  0    ), (    80,  130  )  10400     \n",
            "Moving label \"source\" from space to ndiff in cell mosfet.\n",
            "Root cell box:\n",
            "           width x height  (   llx,  lly  ), (   urx,  ury  )  area (units^2)\n",
            "\n",
            "microns:   0.400 x 0.650   ( 0.550,  0.000), ( 0.950,  0.650)  0.260     \n",
            "lambda:    40.00 x 65.00   ( 55.00,  0.00 ), ( 95.00,  65.00)  2600.00   \n",
            "internal:     80 x 130     (   110,  0    ), (   190,  130  )  10400     \n",
            "Moving label \"drain\" from space to ndiff in cell mosfet.\n",
            "Root cell box:\n",
            "           width x height  (   llx,  lly  ), (   urx,  ury  )  area (units^2)\n",
            "\n",
            "microns:   0.150 x 0.600   ( 0.400, -0.600), ( 0.550,  0.000)  0.090     \n",
            "lambda:    15.00 x 60.00   ( 40.00, -60.00), ( 55.00,  0.00 )  900.00    \n",
            "internal:     30 x 120     (    80, -120  ), (   110,  0    )  3600      \n",
            "Moving label \"gate\" from space to poly in cell mosfet.\n",
            "Extracting mosfet into mosfet.ext:\n",
            "exttospice finished.\n",
            "   Generating output for cell mosfet\n"
          ]
        }
      ]
    },
    {
      "cell_type": "code",
      "source": [
        "import gdstk\n",
        "import cairosvg\n",
        "from IPython.display import Image\n",
        "\n",
        "library = gdstk.read_gds('mosfet.gds')\n",
        "top_cells = library.top_level()\n",
        "top_cells[0].write_svg('mosfet.svg')\n",
        "cairosvg.svg2png(url='mosfet.svg', write_to='mosfet.png', scale=30.0)\n",
        "Image('mosfet.png')"
      ],
      "metadata": {
        "colab": {
          "base_uri": "https://localhost:8080/",
          "height": 611
        },
        "id": "xjz3IYz55vu2",
        "outputId": "631f2cf6-3f19-4a86-f7a7-db3d81d58379"
      },
      "execution_count": 56,
      "outputs": [
        {
          "output_type": "execute_result",
          "data": {
            "image/png": "[encoded data removed]",
            "text/plain": [
              "<IPython.core.display.Image object>"
            ]
          },
          "metadata": {},
          "execution_count": 56
        }
      ]
    },
    {
      "cell_type": "code",
      "source": [
        "from PySpice.Spice.Netlist import Circuit, SubCircuit, SubCircuitFactory\n",
        "from PySpice.Unit import *\n",
        "import matplotlib.pyplot as plt\n",
        "\n",
        "circuit = Circuit('mosfet0')\n",
        "circuit.lib('/usr/local/share/pdk/sky130A/libs.tech/ngspice/sky130.lib.spice', 'tt')\n",
        "circuit.include('mosfet.spice')\n",
        "circuit.X('mosfet0', 'mosfet', 'DRAIN', 'GATE', 'VGND')\n",
        "circuit.V('gnd', 'VGND', 0, 0)\n",
        "circuit.V('dd', 'VPWR', 'VGND', 1.8)\n",
        "circuit.R('', 'VPWR', 'DRAIN', '10k')\n",
        "circuit.PulseVoltageSource('Vin', 'GATE', 'VGND',\n",
        "                           initial_value=0@u_V, pulsed_value=1.8@u_V,\n",
        "                           rise_time=10@u_ps, fall_time=10@u_ps,\n",
        "                           pulse_width=1@u_ns, period=2@u_ns, delay_time=1@u_ns)\n",
        "print(str(circuit))\n",
        "simulator = circuit.simulator()\n",
        "analysis = simulator.transient(step_time=10@u_ps, end_time=2@u_ns)\n",
        "print('done')\n",
        "fig, ax = plt.subplots(figsize=(20, 10))\n",
        "ax.set_title('sky130_fd_sc_hd__nand2_1')\n",
        "ax.set_xlabel('time in 1e-14s')\n",
        "ax.set_ylabel('voltage in V')\n",
        "ax.plot(analysis.GATE)\n",
        "ax.plot(analysis.DRAIN)\n",
        "ax.legend(('GATE', 'DRAIN'))\n",
        "plt.tight_layout()\n",
        "plt.show()"
      ],
      "metadata": {
        "colab": {
          "base_uri": "https://localhost:8080/",
          "height": 632
        },
        "id": "9scIFl1w7Lk6",
        "outputId": "bf89fb93-fb74-48ff-cbb0-b34dd52a9be5"
      },
      "execution_count": 80,
      "outputs": [
        {
          "output_type": "stream",
          "name": "stdout",
          "text": [
            ".title mosfet0\n",
            ".include /content/mosfet.spice\n",
            ".lib /usr/local/share/pdk/sky130A/libs.tech/ngspice/sky130.lib.spice tt\n",
            "Xmosfet0 DRAIN GATE VGND mosfet\n",
            "Vgnd VGND 0 0\n",
            "Vdd VPWR VGND 1.8\n",
            "R VPWR DRAIN 10k\n",
            "VVin GATE VGND DC 0V PULSE(0V 1.8V 1ns 10ps 10ps 1ns 2ns)\n",
            "\n",
            "done\n"
          ]
        },
        {
          "output_type": "display_data",
          "data": {
            "image/png": "[encoded data removed]",
            "text/plain": [
              "<Figure size 1440x720 with 1 Axes>"
            ]
          },
          "metadata": {
            "needs_background": "light"
          }
        }
      ]
    }
  ]
}