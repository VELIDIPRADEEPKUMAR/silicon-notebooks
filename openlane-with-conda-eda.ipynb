{
  "nbformat": 4,
  "nbformat_minor": 0,
  "metadata": {
    "colab": {
      "name": "openlane-with-conda-eda.ipynb",
      "provenance": [],
      "collapsed_sections": [],
      "include_colab_link": true
    },
    "kernelspec": {
      "name": "python3",
      "display_name": "Python 3"
    },
    "language_info": {
      "name": "python"
    }
  },
  "cells": [
    {
      "cell_type": "markdown",
      "metadata": {
        "id": "view-in-github",
        "colab_type": "text"
      },
      "source": [
        "<a href=\"https://colab.research.google.com/gist/proppy/26525ff7d9810247759a8d3ff3c41dcb/openlane-with-conda-eda.ipynb\" target=\"_parent\"><img src=\"https://colab.research.google.com/assets/colab-badge.svg\" alt=\"Open In Colab\"/></a>"
      ]
    },
    {
      "cell_type": "markdown",
      "source": [
        "# OpenLane flow with conda-eda packages\n",
        "\n",
        "```\n",
        "Copyright 2022 Google LLC.\n",
        "SPDX-License-Identifier: Apache-2.0\n",
        "```"
      ],
      "metadata": {
        "id": "HkFeU0R-0hzi"
      }
    },
    {
      "cell_type": "markdown",
      "source": [
        "## install conda"
      ],
      "metadata": {
        "id": "gxIm7zGh0pJA"
      }
    },
    {
      "cell_type": "code",
      "execution_count": 1,
      "metadata": {
        "colab": {
          "base_uri": "https://localhost:8080/"
        },
        "id": "NC__X6Jph4CU",
        "outputId": "0ad1214d-ee8a-46a5-cb65-748b09ab4509"
      },
      "outputs": [
        {
          "output_type": "stream",
          "name": "stdout",
          "text": [
            "⏬ Downloading https://repo.anaconda.com/miniconda/Miniconda3-py37_4.11.0-Linux-x86_64.sh...\n",
            "📦 Installing...\n",
            "📌 Adjusting configuration...\n",
            "🩹 Patching environment...\n",
            "⏲ Done in 0:00:33\n",
            "🔁 Restarting kernel...\n"
          ]
        }
      ],
      "source": [
        "!pip install -q condacolab\n",
        "import condacolab\n",
        "condacolab.install_from_url(\"https://repo.anaconda.com/miniconda/Miniconda3-py37_4.11.0-Linux-x86_64.sh\")"
      ]
    },
    {
      "cell_type": "code",
      "source": [
        "import condacolab\n",
        "condacolab.check()\n",
        "!sed -i -e /cudatoolkit/d /usr/local/conda-meta/pinned"
      ],
      "metadata": {
        "colab": {
          "base_uri": "https://localhost:8080/"
        },
        "id": "hr5m8yvcRKYR",
        "outputId": "ec8aef1f-c530-497f-f2de-ad701dffcd2e"
      },
      "execution_count": 1,
      "outputs": [
        {
          "output_type": "stream",
          "name": "stdout",
          "text": [
            "✨🍰✨ Everything looks OK!\n"
          ]
        }
      ]
    },
    {
      "cell_type": "markdown",
      "source": [
        "## Install dependencies"
      ],
      "metadata": {
        "id": "Gk35qYyy0tUx"
      }
    },
    {
      "cell_type": "code",
      "source": [
        "%%writefile environment.yml\n",
        "channels:\n",
        "  - litex-hub\n",
        "  - conda-forge\n",
        "dependencies:\n",
        "  - open_pdks.sky130a\n",
        "  - magic\n",
        "  - openroad\n",
        "  - netgen\n",
        "  - yosys\n",
        "  - gdstk\n",
        "  - tcllib\n",
        "  - python\n",
        "  - pip\n",
        "  - pip:\n",
        "    - pyyaml\n",
        "    - click\n",
        "    - pandas"
      ],
      "metadata": {
        "colab": {
          "base_uri": "https://localhost:8080/"
        },
        "id": "ltqhSgAHl4Qt",
        "outputId": "1d6ec12c-f5bf-456b-edb0-2184ddcf44ed"
      },
      "execution_count": 110,
      "outputs": [
        {
          "output_type": "stream",
          "name": "stdout",
          "text": [
            "Overwriting environment.yml\n"
          ]
        }
      ]
    },
    {
      "cell_type": "code",
      "source": [
        "!conda env update --prefix /usr/local --file environment.yml"
      ],
      "metadata": {
        "colab": {
          "base_uri": "https://localhost:8080/"
        },
        "id": "OxONmJT0nP_Y",
        "outputId": "182745bc-2d97-4aa3-bba6-afc5b1355d56"
      },
      "execution_count": 105,
      "outputs": [
        {
          "output_type": "stream",
          "name": "stdout",
          "text": [
            "Collecting package metadata (repodata.json): - \b\b\\ \b\b| \b\b/ \b\b- \b\b\\ \b\b| \b\b/ \b\b- \b\b\\ \b\b| \b\b/ \b\b- \b\b\\ \b\b| \b\b/ \b\b- \b\b\\ \b\b| \b\b/ \b\b- \b\b\\ \b\b| \b\b/ \b\b- \b\b\\ \b\b| \b\b/ \b\b- \b\b\\ \b\b| \b\b/ \b\b- \b\b\\ \b\b| \b\b/ \b\b- \b\b\\ \b\b| \b\b/ \b\b- \b\b\\ \b\b| \b\b/ \b\b- \b\b\\ \b\b| \b\b/ \b\b- \b\b\\ \b\b| \b\b/ \b\b- \b\b\\ \b\b| \b\b/ \b\b- \b\b\\ \b\b| \b\b/ \b\b- \b\b\\ \b\b| \b\b/ \b\b- \b\b\\ \b\b| \b\b/ \b\b- \b\b\\ \b\b| \b\b/ \b\b- \b\b\\ \b\b| \b\b/ \b\b- \b\b\\ \b\b| \b\b/ \b\b- \b\b\\ \b\b| \b\b/ \b\b- \b\b\\ \b\b| \b\b/ \b\b- \b\b\\ \b\b| \b\b/ \b\b- \b\b\\ \b\bdone\n",
            "Solving environment: / \b\bfailed\n",
            "\n",
            "ResolvePackageNotFound: \n",
            "  - openroad=2.0_3198\n",
            "\n"
          ]
        }
      ]
    },
    {
      "cell_type": "markdown",
      "source": [
        "## Get OpenLane"
      ],
      "metadata": {
        "id": "9Q9Fipzf0xyo"
      }
    },
    {
      "cell_type": "code",
      "source": [
        "!git clone --depth=1 https://github.com/The-OpenROAD-Project/OpenLane\n",
        "# fix for https://github.com/The-OpenROAD-Project/OpenLane/issues/1037\n",
        "!curl -L -O https://patch-diff.githubusercontent.com/raw/The-OpenROAD-Project/OpenLane/pull/1044.patch\n",
        "!patch -d OpenLane -p1 < 1044.patch"
      ],
      "metadata": {
        "id": "ZQL9FaBLiNFS",
        "colab": {
          "base_uri": "https://localhost:8080/"
        },
        "outputId": "720f68a3-b97a-4474-fce4-2fc004f475bf"
      },
      "execution_count": 107,
      "outputs": [
        {
          "output_type": "stream",
          "name": "stdout",
          "text": [
            "fatal: destination path 'OpenLane' already exists and is not an empty directory.\n",
            "  % Total    % Received % Xferd  Average Speed   Time    Time     Time  Current\n",
            "                                 Dload  Upload   Total   Spent    Left  Speed\n",
            "100  1496    0  1496    0     0   7555      0 --:--:-- --:--:-- --:--:--  7555\n",
            "patching file scripts/tcl_commands/floorplan.tcl\n"
          ]
        }
      ]
    },
    {
      "cell_type": "markdown",
      "source": [
        "## Write verilog"
      ],
      "metadata": {
        "id": "uINjDJNf39eD"
      }
    },
    {
      "cell_type": "code",
      "source": [
        "%%writefile inverter.v\n",
        "module inverter(input wire in, output wire out);\n",
        "    assign out = !in;\n",
        "endmodule"
      ],
      "metadata": {
        "colab": {
          "base_uri": "https://localhost:8080/"
        },
        "id": "gpgkIYB739Ii",
        "outputId": "134e7be1-1d41-4d40-cf74-0a8b232668e3"
      },
      "execution_count": 16,
      "outputs": [
        {
          "output_type": "stream",
          "name": "stdout",
          "text": [
            "Overwriting inverter.v\n"
          ]
        }
      ]
    },
    {
      "cell_type": "markdown",
      "source": [
        "## Write configuration"
      ],
      "metadata": {
        "id": "a82MVEbP4WoR"
      }
    },
    {
      "cell_type": "code",
      "source": [
        "%%writefile config.tcl\n",
        "\n",
        "set ::env(DESIGN_NAME) inverter\n",
        "\n",
        "set script_dir [file dirname [file normalize [info script]]]\n",
        "set ::env(VERILOG_FILES) \"$script_dir/inverter.v\"\n",
        "\n",
        "set ::env(CLOCK_TREE_SYNTH) 0\n",
        "set ::env(CLOCK_PORT) \"\"\n",
        "\n",
        "set ::env(PL_RANDOM_GLB_PLACEMENT) 1\n",
        "\n",
        "set ::env(FP_SIZING) absolute\n",
        "set ::env(DIE_AREA) \"0 0 30 30\"\n",
        "set ::env(PL_TARGET_DENSITY) 0.80\n",
        "\n",
        "\n",
        "set ::env(FP_PDN_HORIZONTAL_HALO) 6\n",
        "set ::env(FP_PDN_VERTICAL_HALO) 6\n",
        "\n",
        "set ::env(DIODE_INSERTION_STRATEGY) 3\n",
        "\n",
        "# disable version checks because we use the latest packaged versions of open_pdks and OpenROAD\n",
        "set ::env(TEST_MISMATCHES) none"
      ],
      "metadata": {
        "colab": {
          "base_uri": "https://localhost:8080/"
        },
        "id": "KwGe_Lf14Wcd",
        "outputId": "4f650733-3f40-488c-a79b-210adc43c73b"
      },
      "execution_count": 150,
      "outputs": [
        {
          "output_type": "stream",
          "name": "stdout",
          "text": [
            "Overwriting flow.tcl\n"
          ]
        }
      ]
    },
    {
      "cell_type": "markdown",
      "source": [
        "## Run OpenLane Flow\n",
        "\n",
        "- disable CVC because of https://github.com/hdl/conda-eda/issues/174\n",
        "- disable klayout because of https://github.com/hdl/conda-eda/issues/175"
      ],
      "metadata": {
        "id": "Nrt1yS_u1_m4"
      }
    },
    {
      "cell_type": "code",
      "source": [
        "import os\n",
        "PATH=os.environ['PATH']\n",
        "%env PDK_ROOT=/usr/local/share/pdk\n",
        "%env TCLLIBPATH=/usr/local/lib/tcllib1.20\n",
        "%env OPENLANE_ROOT=/content/OpenLane\n",
        "%env PATH={PATH}:/content/OpenLane:/content/OpenLane/scripts\n",
        "%env OPENLANE_LOCAL_INSTALL=1\n",
        "!flow.tcl -design ."
      ],
      "metadata": {
        "id": "VP60fdObiP15",
        "colab": {
          "base_uri": "https://localhost:8080/"
        },
        "outputId": "87a1e0e8-3d39-44e0-b427-76f3257c5e8d"
      },
      "execution_count": 151,
      "outputs": [
        {
          "output_type": "stream",
          "name": "stdout",
          "text": [
            "env: PDK_ROOT=/usr/local/share/pdk\n",
            "env: TCLLIBPATH=/usr/local/lib/tcllib1.20\n",
            "env: OPENLANE_ROOT=/content/OpenLane\n",
            "env: PATH=/opt/bin:/usr/local/nvidia/bin:/usr/local/cuda/bin:/usr/local/sbin:/usr/local/bin:/usr/sbin:/usr/bin:/sbin:/bin:/tools/node/bin:/tools/google-cloud-sdk/bin:/content/OpenLane:/content/OpenLane/scripts:/content/OpenLane:/content/OpenLane/scripts:/content/OpenLane:/content/OpenLane/scripts:/content/OpenLane:/content/OpenLane/scripts:/content/OpenLane:/content/OpenLane/scripts:/content/OpenLane:/content/OpenLane/scripts:/content/OpenLane:/content/OpenLane/scripts:/content/OpenLane:/content/OpenLane/scripts:/content/OpenLane:/content/OpenLane/scripts:/content/OpenLane:/content/OpenLane/scripts:/content/OpenLane:/content/OpenLane/scripts:/content/OpenLane:/content/OpenLane/scripts:/content/OpenLane:/content/OpenLane/scripts:/content/OpenLane:/content/OpenLane/scripts:/content/OpenLane:/content/OpenLane/scripts:/content/OpenLane:/content/OpenLane/scripts:/content/OpenLane:/content/OpenLane/scripts:/content/OpenLane:/content/OpenLane/scripts:/content/OpenLane:/content/OpenLane/scripts:/content/OpenLane:/content/OpenLane/scripts:/content/OpenLane:/content/OpenLane/scripts:/content/OpenLane:/content/OpenLane/scripts:/content/OpenLane:/content/OpenLane/scripts:/content/OpenLane:/content/OpenLane/scripts:/content/OpenLane:/content/OpenLane/scripts:/content/OpenLane:/content/OpenLane/scripts:/content/OpenLane:/content/OpenLane/scripts:/content/OpenLane:/content/OpenLane/scripts:/content/OpenLane:/content/OpenLane/scripts:/content/OpenLane:/content/OpenLane/scripts:/content/OpenLane:/content/OpenLane/scripts:/content/OpenLane:/content/OpenLane/scripts:/content/OpenLane:/content/OpenLane/scripts:/content/OpenLane:/content/OpenLane/scripts:/content/OpenLane:/content/OpenLane/scripts:/content/OpenLane:/content/OpenLane/scripts:/content/OpenLane:/content/OpenLane/scripts:/content/OpenLane:/content/OpenLane/scripts:/content/OpenLane:/content/OpenLane/scripts:/content/OpenLane:/content/OpenLane/scripts:/content/OpenLane:/content/OpenLane/scripts:/content/OpenLane:/content/OpenLane/scripts\n",
            "env: OPENLANE_LOCAL_INSTALL=1\n",
            "OpenLane 7891c2c8859e8c800226920c181fa039ad298e79\r\n",
            "All rights reserved. (c) 2020-2022 Efabless Corporation and contributors.\r\n",
            "Available under the Apache License, version 2.0. See the LICENSE file for more details.\r\n",
            "\r\n",
            "\u001b[36m[INFO]: Using design configuration at /content/config.tcl\u001b[39m\r\n",
            "\u001b[36m[INFO]: Sourcing Configurations from /content/config.tcl\u001b[39m\r\n",
            "\u001b[36m[INFO]: PDKs root directory: /usr/local/share/pdk\u001b[39m\n",
            "\u001b[36m[INFO]: PDK: sky130A\u001b[39m\n",
            "\u001b[36m[INFO]: Setting PDKPATH to /usr/local/share/pdk/sky130A\u001b[39m\n",
            "\u001b[36m[INFO]: Standard Cell Library: sky130_fd_sc_hd\u001b[39m\n",
            "\u001b[36m[INFO]: Optimization Standard Cell Library is set to: sky130_fd_sc_hd\u001b[39m\n",
            "\u001b[36m[INFO]: Sourcing Configurations from /content/config.tcl\u001b[39m\n",
            "\u001b[36m[INFO]: Current run directory is /content/runs/RUN_2022.04.12_06.23.33\u001b[39m\n",
            "\u001b[36m[INFO]: Preparing LEF files for the nom corner...\u001b[39m\n",
            "\u001b[36m[INFO]: Preparing LEF files for the min corner...\u001b[39m\n",
            "\u001b[36m[INFO]: Preparing LEF files for the max corner...\u001b[39m\n",
            "[STEP 1]\n",
            "\u001b[36m[INFO]: Running Synthesis...\u001b[39m\n",
            "[STEP 2]\n",
            "\u001b[36m[INFO]: Running Single-Corner Static Timing Analysis...\u001b[39m\n",
            "[STEP 3]\n",
            "\u001b[36m[INFO]: Running Initial Floorplanning...\u001b[39m\n",
            "\u001b[33m[WARNING]: Current core area is too small for a power grid. The power grid will be minimized.\u001b[39m\n",
            "\u001b[36m[INFO]: Setting Core Dimensions...\u001b[39m\n",
            "[STEP 4]\n",
            "\u001b[36m[INFO]: Running IO Placement...\u001b[39m\n",
            "[STEP 5]\n",
            "\u001b[36m[INFO]: Running Tap/Decap Insertion...\u001b[39m\n",
            "\u001b[36m[INFO]: Power planning with power {VPWR} and ground {VGND}...\u001b[39m\n",
            "[STEP 6]\n",
            "\u001b[36m[INFO]: Generating PDN...\u001b[39m\n",
            "[STEP 7]\n",
            "\u001b[36m[INFO]: Performing Random Global Placement...\u001b[39m\n",
            "[STEP 8]\n",
            "\u001b[36m[INFO]: Running Resizer Design Optimizations...\u001b[39m\n",
            "[STEP 9]\n",
            "\u001b[36m[INFO]: Writing Verilog...\u001b[39m\n",
            "[STEP 10]\n",
            "\u001b[36m[INFO]: Running Detailed Placement...\u001b[39m\n",
            "[STEP 11]\n",
            "[STEP 12]\n",
            "\u001b[36m[INFO]: Running Resizer Timing Optimizations...\u001b[39m\n",
            "[STEP 13]\n",
            "\u001b[36m[INFO]: Writing Verilog...\u001b[39m\n",
            "\u001b[36m[INFO]: Routing...\u001b[39m\n",
            "[STEP 14]\n",
            "\u001b[36m[INFO]: Running Resizer Timing Optimizations...\u001b[39m\n",
            "[STEP 15]\n",
            "\u001b[36m[INFO]: Writing Verilog...\u001b[39m\n",
            "[STEP 16]\n",
            "\u001b[36m[INFO]: Running Detailed Placement...\u001b[39m\n",
            "[STEP 17]\n",
            "\u001b[36m[INFO]: Running Global Routing...\u001b[39m\n",
            "\u001b[36m[INFO]: Starting FastRoute Antenna Repair Iterations...\u001b[39m\n",
            "[STEP 18]\n",
            "\u001b[36m[INFO]: Running Fill Insertion...\u001b[39m\n",
            "[STEP 19]\n",
            "\u001b[36m[INFO]: Writing Verilog...\u001b[39m\n",
            "[STEP 20]\n",
            "\u001b[36m[INFO]: Running Detailed Routing...\u001b[39m\n",
            "\u001b[36m[INFO]: No DRC violations after detailed routing.\u001b[39m\n",
            "[STEP 21]\n",
            "\u001b[36m[INFO]: Writing Verilog...\u001b[39m\n",
            "\u001b[36m[INFO]: Running parasitics-based static timing analysis...\u001b[39m\n",
            "[STEP 22]\n",
            "\u001b[36m[INFO]: Running SPEF Extraction at the min process corner...\u001b[39m\n",
            "[STEP 23]\n",
            "\u001b[36m[INFO]: Running Multi-Corner Static Timing Analysis at the min process corner...\u001b[39m\n",
            "[STEP 24]\n",
            "\u001b[36m[INFO]: Running SPEF Extraction at the max process corner...\u001b[39m\n",
            "[STEP 25]\n",
            "\u001b[36m[INFO]: Running Multi-Corner Static Timing Analysis at the max process corner...\u001b[39m\n",
            "[STEP 26]\n",
            "\u001b[36m[INFO]: Running SPEF Extraction at the nom process corner...\u001b[39m\n",
            "[STEP 27]\n",
            "\u001b[36m[INFO]: Running Single-Corner Static Timing Analysis at the nom process corner...\u001b[39m\n",
            "[STEP 28]\n",
            "\u001b[36m[INFO]: Running Multi-Corner Static Timing Analysis at the nom process corner...\u001b[39m\n",
            "[STEP 29]\n",
            "\u001b[36m[INFO]: Running Magic to generate various views...\u001b[39m\n",
            "\u001b[36m[INFO]: Streaming out GDS-II with Magic...\u001b[39m\n",
            "\u001b[36m[INFO]: Generating MAGLEF views...\u001b[39m\n",
            "[STEP 30]\n",
            "\u001b[36m[INFO]: Running XOR on the layouts using Klayout...\u001b[39m\n",
            "\u001b[33m[WARNING]: /content/runs/RUN_2022.04.12_06.23.33/results/signoff/inverter.klayout.gds wasn't found. Skipping GDS XOR.\u001b[39m\n",
            "[STEP 31]\n",
            "\u001b[36m[INFO]: Running Magic Spice Export from LEF...\u001b[39m\n",
            "[STEP 32]\n",
            "\u001b[36m[INFO]: Writing Powered Verilog...\u001b[39m\n",
            "[STEP 33]\n",
            "\u001b[36m[INFO]: Writing Verilog...\u001b[39m\n",
            "[STEP 34]\n",
            "\u001b[36m[INFO]: Running LEF LVS...\u001b[39m\n",
            "[STEP 35]\n",
            "\u001b[36m[INFO]: Running Magic DRC...\u001b[39m\n",
            "\u001b[36m[INFO]: Converting Magic DRC Violations to Magic Readable Format...\u001b[39m\n",
            "\u001b[36m[INFO]: Converting Magic DRC Violations to Klayout XML Database...\u001b[39m\n",
            "\u001b[36m[INFO]: Converting TritonRoute DRC Violations to Klayout XML Database...\u001b[39m\n",
            "\u001b[36m[INFO]: Converting DRC Violations to RDB Format...\u001b[39m\n",
            "\u001b[36m[INFO]: No DRC violations after GDS streaming out.\u001b[39m\n",
            "\u001b[36m[INFO]: Running Antenna Checks...\u001b[39m\n",
            "[STEP 36]\n",
            "\u001b[36m[INFO]: Running OpenROAD Antenna Rule Checker...\u001b[39m\n",
            "\u001b[36m[INFO]: Skipping CVC...\u001b[39m\n",
            "\u001b[36m[INFO]: Saving final set of views in '/content/runs/RUN_2022.04.12_06.23.33/results/final'...\u001b[39m\n",
            "\u001b[36m[INFO]: Saving runtime environment...\u001b[39m\n",
            "\u001b[36m[INFO]: Generating final set of reports...\u001b[39m\n",
            "\u001b[36m[INFO]: Created manufacturability report at 'runs/RUN_2022.04.12_06.23.33/reports/manufacturability.rpt'.\u001b[39m\n",
            "\u001b[36m[INFO]: Created metrics report at 'runs/RUN_2022.04.12_06.23.33/reports/metrics.csv'.\u001b[39m\n",
            "\u001b[36m[INFO]: There are no max slew violations in the design at the typical corner.\u001b[39m\n",
            "\u001b[36m[INFO]: There are no hold violations in the design at the typical corner.\u001b[39m\n",
            "\u001b[36m[INFO]: There are no setup violations in the design at the typical corner.\u001b[39m\n",
            "\u001b[32m[SUCCESS]: Flow complete.\u001b[39m\n",
            "\u001b[36m[INFO]: Note that the following warnings have been generated:\u001b[39m\n",
            "[WARNING]: Current core area is too small for a power grid. The power grid will be minimized.\n",
            "[WARNING]: /content/runs/RUN_2022.04.12_06.23.33/results/signoff/inverter.klayout.gds wasn't found. Skipping GDS XOR.\n",
            "\n"
          ]
        }
      ]
    },
    {
      "cell_type": "markdown",
      "source": [
        "## Display layout"
      ],
      "metadata": {
        "id": "luguFgZ43AeL"
      }
    },
    {
      "cell_type": "code",
      "source": [
        "import pathlib\n",
        "import gdstk\n",
        "import IPython.display\n",
        "\n",
        "gdss = sorted(pathlib.Path('/content/runs').glob('*/results/final/gds/*.gds'))\n",
        "library = gdstk.read_gds(gdss[0])\n",
        "top_cells = library.top_level()\n",
        "top_cells[0].write_svg('inverter.svg')\n",
        "IPython.display.SVG('inverter.svg')"
      ],
      "metadata": {
        "id": "WOnhdtp3ivRi",
        "colab": {
          "base_uri": "https://localhost:8080/",
          "height": 626
        },
        "outputId": "8f5f2d6c-c881-407b-a4ae-3cceffe356e3"
      },
      "execution_count": 154,
      "outputs": [
        {
          "output_type": "execute_result",
          "data": {
            "text/plain": [
              "<IPython.core.display.SVG object>"
            ],
            "image/svg+xml": "<svg height=\"605\" viewBox=\"-27.5 -577.5 405 605\" width=\"405\" xmlns=\"http://www.w3.org/2000/svg\" xmlns:xlink=\"http://www.w3.org/1999/xlink\">\n<defs>\n<style type=\"text/css\">\n.l65d44 {stroke: #2B3D26; fill: #2B3D26; fill-opacity: 0.5;}\n.l67d44 {stroke: #875692; fill: #875692; fill-opacity: 0.5;}\n.l69d44 {stroke: #A1CAF1; fill: #A1CAF1; fill-opacity: 0.5;}\n.l71d44 {stroke: #C2B280; fill: #C2B280; fill-opacity: 0.5;}\n.l93d44 {stroke: #008856; fill: #008856; fill-opacity: 0.5;}\n.l83d44 {stroke: #654522; fill: #654522; fill-opacity: 0.5;}\n.l78d44 {stroke: #F6A600; fill: #F6A600; fill-opacity: 0.5;}\n.l66d44 {stroke: #F3C300; fill: #F3C300; fill-opacity: 0.5;}\n.l68d44 {stroke: #F38400; fill: #F38400; fill-opacity: 0.5;}\n.l70d44 {stroke: #BE0032; fill: #BE0032; fill-opacity: 0.5;}\n.l94d20 {stroke: #8DB600; fill: #8DB600; fill-opacity: 0.5;}\n.l81d4 {stroke: #882D17; fill: #882D17; fill-opacity: 0.5;}\n.l65d20 {stroke: #008856; fill: #008856; fill-opacity: 0.5;}\n.l64d5 {stroke: #604E97; fill: #604E97; fill-opacity: 0.5;}\n.l64d20 {stroke: #848482; fill: #848482; fill-opacity: 0.5;}\n.l71d16 {stroke: #875692; fill: #875692; fill-opacity: 0.5;}\n.l69d20 {stroke: #604E97; fill: #604E97; fill-opacity: 0.5;}\n.l68d5 {stroke: #882D17; fill: #882D17; fill-opacity: 0.5;}\n.l68d20 {stroke: #F99379; fill: #F99379; fill-opacity: 0.5;}\n.l67d16 {stroke: #654522; fill: #654522; fill-opacity: 0.5;}\n.l72d20 {stroke: #DCD300; fill: #DCD300; fill-opacity: 0.5;}\n.l235d4 {stroke: #0067A5; fill: #0067A5; fill-opacity: 0.5;}\n.l122d16 {stroke: #F6A600; fill: #F6A600; fill-opacity: 0.5;}\n.l236d0 {stroke: #E25822; fill: #E25822; fill-opacity: 0.5;}\n.l95d20 {stroke: #654522; fill: #654522; fill-opacity: 0.5;}\n.l64d59 {stroke: #B3446C; fill: #B3446C; fill-opacity: 0.5;}\n.l69d16 {stroke: #2B3D26; fill: #2B3D26; fill-opacity: 0.5;}\n.l68d16 {stroke: #E25822; fill: #E25822; fill-opacity: 0.5;}\n.l67d20 {stroke: #0067A5; fill: #0067A5; fill-opacity: 0.5;}\n.l66d20 {stroke: #E68FAC; fill: #E68FAC; fill-opacity: 0.5;}\n.l67d5 {stroke: #DCD300; fill: #DCD300; fill-opacity: 0.5;}\n.l64d16 {stroke: #DCD300; fill: #DCD300; fill-opacity: 0.5;}\n.l71d20 {stroke: #B3446C; fill: #B3446C; fill-opacity: 0.5;}\n.l70d20 {stroke: #F6A600; fill: #F6A600; fill-opacity: 0.5;}\n.l72d16 {stroke: #F38400; fill: #F38400; fill-opacity: 0.5;}\n</style>\n<g id=\"sky130_fd_sc_hd__tapvpwrvgnd_1\">\n<polygon class=\"l68d16\" id=\"0x556db555b0a0\" points=\"1.05,-0.9 3.6,-0.9 3.6,1 1.05,1\"/>\n<polygon class=\"l68d16\" id=\"0x556db555b110\" points=\"1.1,26.2 3.75,26.2 3.75,27.65 1.1,27.65\"/>\n<polygon class=\"l94d20\" id=\"0x556db555b180\" points=\"0,1.9 4.6,1.9 4.6,9.75 0,9.75\"/>\n<polygon class=\"l94d20\" id=\"0x556db555b1f0\" points=\"0,25.3 4.6,25.3 4.6,29.1 0,29.1\"/>\n<polygon class=\"l93d44\" id=\"0x556db555b260\" points=\"0,-1.9 4.6,-1.9 4.6,1.9 0,1.9\"/>\n<polygon class=\"l93d44\" id=\"0x556db555b2d0\" points=\"0,13.95 4.6,13.95 4.6,25.3 0,25.3\"/>\n<polygon class=\"l64d20\" id=\"0x556db555b340\" points=\"-1.9,13.05 6.5,13.05 6.5,29.1 -1.9,29.1\"/>\n<polygon class=\"l66d44\" id=\"0x556db555b3b0\" points=\"1.45,5.55 3.15,5.55 3.15,7.25 1.45,7.25\"/>\n<polygon class=\"l66d44\" id=\"0x556db555b420\" points=\"1.45,16.45 3.15,16.45 3.15,18.15 1.45,18.15\"/>\n<polygon class=\"l66d44\" id=\"0x556db555b490\" points=\"1.45,21.1 3.15,21.1 3.15,22.8 1.45,22.8\"/>\n<polygon class=\"l65d44\" id=\"0x556db555b500\" points=\"1.45,3.2 3.15,3.2 3.15,8.45 1.45,8.45\"/>\n<polygon class=\"l65d44\" id=\"0x556db555b570\" points=\"1.45,15.25 3.15,15.25 3.15,24 1.45,24\"/>\n<polygon class=\"l68d20\" id=\"0x556db555b5e0\" points=\"0,-2.4 4.6,-2.4 4.6,2.4 0,2.4\"/>\n<polygon class=\"l68d20\" id=\"0x556db555b650\" points=\"0,24.8 4.6,24.8 4.6,29.6 0,29.6\"/>\n<polygon class=\"l67d44\" id=\"0x556db555b6c0\" points=\"1.45,-0.85 3.15,-0.85 3.15,0.85 1.45,0.85\"/>\n<polygon class=\"l67d44\" id=\"0x556db555b730\" points=\"1.45,26.35 3.15,26.35 3.15,28.05 1.45,28.05\"/>\n<polygon class=\"l67d20\" id=\"0x556db555b7a0\" points=\"0.85,0 3.75,0 3.75,8.1 0.85,8.1\"/>\n<polygon class=\"l67d20\" id=\"0x556db555b810\" points=\"0.85,14.7 3.75,14.7 3.75,27.2 0.85,27.2\"/>\n<polygon class=\"l67d20\" id=\"0x556db555b880\" points=\"0,26.35 4.6,26.35 4.6,28.05 0,28.05\"/>\n<polygon class=\"l67d20\" id=\"0x556db555b8f0\" points=\"0,-0.85 4.6,-0.85 4.6,0.85 0,0.85\"/>\n<polygon class=\"l78d44\" id=\"0x556db555b960\" points=\"0,12.5 4.6,12.5 4.6,27.2 0,27.2\"/>\n<polygon class=\"l81d4\" id=\"0x556db555b9d0\" points=\"0,0 4.6,0 4.6,27.2 0,27.2\"/>\n<text class=\"l68t5\" dominant-baseline=\"central\" id=\"0x556db5745680\" text-anchor=\"middle\" transform=\"scale(1 -1) translate(2.3 27.2) scale(0.1)\">VPWR</text>\n<text class=\"l68t5\" dominant-baseline=\"central\" id=\"0x556db5745710\" text-anchor=\"middle\" transform=\"scale(1 -1) translate(2.3 0) scale(0.1)\">VGND</text>\n<text class=\"l83t44\" dominant-baseline=\"text-before-edge\" id=\"0x556db57457a0\" text-anchor=\"start\" transform=\"scale(1 -1) translate(0 0) rotate(-90) scale(0.1)\">tapvpwrvgnd_1</text>\n</g>\n<g id=\"sky130_fd_sc_hd__decap_8\">\n<polygon class=\"l236d0\" id=\"0x556db56c3720\" points=\"0,0 36.8,0 36.8,27.2 0,27.2\"/>\n<polygon class=\"l68d16\" id=\"0x556db56c3790\" points=\"1.45,26.35 3.15,26.35 3.15,28.05 1.45,28.05\"/>\n<polygon class=\"l68d16\" id=\"0x556db56c3800\" points=\"1.45,-0.85 3.15,-0.85 3.15,0.85 1.45,0.85\"/>\n<polygon class=\"l64d16\" id=\"0x556db56c3870\" points=\"1.45,26.35 3.15,26.35 3.15,28.05 1.45,28.05\"/>\n<polygon class=\"l122d16\" id=\"0x556db56c38e0\" points=\"1.45,-0.85 3.15,-0.85 3.15,0.85 1.45,0.85\"/>\n<polygon class=\"l67d20\" id=\"0x556db56c3950\" points=\"36.8,0.85 35.95,0.85 35.95,8.55 17.35,8.55 17.35,13.75 0.85,13.75 0.85,0.85 0,0.85 0,-0.85 36.8,-0.85\"/>\n<polygon class=\"l67d20\" id=\"0x556db56c39c0\" points=\"36.8,28.05 0,28.05 0,26.35 0.85,26.35 0.85,15.45 19.05,15.45 19.05,10.25 35.95,10.25 35.95,26.35 36.8,26.35\"/>\n<polygon class=\"l81d4\" id=\"0x556db56c3a30\" points=\"0,0 36.8,0 36.8,27.2 0,27.2\"/>\n<polygon class=\"l65d20\" id=\"0x556db56c3aa0\" points=\"1.35,16.15 35.45,16.15 35.45,24.85 1.35,24.85\"/>\n<polygon class=\"l65d20\" id=\"0x556db56c3b10\" points=\"1.35,2.35 35.45,2.35 35.45,7.85 1.35,7.85\"/>\n<polygon class=\"l78d44\" id=\"0x556db56c3b80\" points=\"0,12.5 36.8,12.5 36.8,27.2 0,27.2\"/>\n<polygon class=\"l93d44\" id=\"0x556db56c3bf0\" points=\"0,-1.9 36.8,-1.9 36.8,10.15 0,10.15\"/>\n<polygon class=\"l64d20\" id=\"0x556db56c3c60\" points=\"-1.9,13.05 38.7,13.05 38.7,29.1 -1.9,29.1\"/>\n<polygon class=\"l94d20\" id=\"0x556db56c3cd0\" points=\"0,14.85 36.8,14.85 36.8,29.1 0,29.1\"/>\n<polygon class=\"l67d44\" id=\"0x556db56c3d40\" points=\"1.45,26.35 3.15,26.35 3.15,28.05 1.45,28.05\"/>\n<polygon class=\"l67d44\" id=\"0x556db56c3db0\" points=\"1.45,-0.85 3.15,-0.85 3.15,0.85 1.45,0.85\"/>\n<polygon class=\"l67d44\" id=\"0x556db56c3e20\" points=\"6.05,26.35 7.75,26.35 7.75,28.05 6.05,28.05\"/>\n<polygon class=\"l67d44\" id=\"0x556db56c3e90\" points=\"6.05,-0.85 7.75,-0.85 7.75,0.85 6.05,0.85\"/>\n<polygon class=\"l67d44\" id=\"0x556db56c3f00\" points=\"10.65,26.35 12.35,26.35 12.35,28.05 10.65,28.05\"/>\n<polygon class=\"l67d44\" id=\"0x556db56c3f70\" points=\"10.65,-0.85 12.35,-0.85 12.35,0.85 10.65,0.85\"/>\n<polygon class=\"l67d44\" id=\"0x556db555a000\" points=\"15.25,26.35 16.95,26.35 16.95,28.05 15.25,28.05\"/>\n<polygon class=\"l67d44\" id=\"0x556db555a070\" points=\"15.25,-0.85 16.95,-0.85 16.95,0.85 15.25,0.85\"/>\n<polygon class=\"l67d44\" id=\"0x556db555a0e0\" points=\"19.85,26.35 21.55,26.35 21.55,28.05 19.85,28.05\"/>\n<polygon class=\"l67d44\" id=\"0x556db555a150\" points=\"19.85,-0.85 21.55,-0.85 21.55,0.85 19.85,0.85\"/>\n<polygon class=\"l67d44\" id=\"0x556db555a1c0\" points=\"24.45,26.35 26.15,26.35 26.15,28.05 24.45,28.05\"/>\n<polygon class=\"l67d44\" id=\"0x556db555a230\" points=\"24.45,-0.85 26.15,-0.85 26.15,0.85 24.45,0.85\"/>\n<polygon class=\"l67d44\" id=\"0x556db555a2a0\" points=\"29.05,26.35 30.75,26.35 30.75,28.05 29.05,28.05\"/>\n<polygon class=\"l67d44\" id=\"0x556db555a310\" points=\"29.05,-0.85 30.75,-0.85 30.75,0.85 29.05,0.85\"/>\n<polygon class=\"l67d44\" id=\"0x556db555a380\" points=\"33.65,26.35 35.35,26.35 35.35,28.05 33.65,28.05\"/>\n<polygon class=\"l67d44\" id=\"0x556db555a3f0\" points=\"33.65,-0.85 35.35,-0.85 35.35,0.85 33.65,0.85\"/>\n<polygon class=\"l66d20\" id=\"0x556db555a460\" points=\"32.85,26.15 3.95,26.15 3.95,11.25 17.15,11.25 17.15,14.85 32.85,14.85\"/>\n<polygon class=\"l66d20\" id=\"0x556db555a540\" points=\"32.85,12.75 19.25,12.75 19.25,9.15 3.95,9.15 3.95,1.05 32.85,1.05\"/>\n<polygon class=\"l66d44\" id=\"0x556db555a620\" points=\"1.75,22.55 3.45,22.55 3.45,24.25 1.75,24.25\"/>\n<polygon class=\"l66d44\" id=\"0x556db555a690\" points=\"1.75,17.45 3.45,17.45 3.45,19.15 1.75,19.15\"/>\n<polygon class=\"l66d44\" id=\"0x556db555a700\" points=\"1.75,3.9 3.45,3.9 3.45,5.6 1.75,5.6\"/>\n<polygon class=\"l66d44\" id=\"0x556db555a770\" points=\"4.75,12.05 6.45,12.05 6.45,13.75 4.75,13.75\"/>\n<polygon class=\"l66d44\" id=\"0x556db555a7e0\" points=\"9.7,12.05 11.4,12.05 11.4,13.75 9.7,13.75\"/>\n<polygon class=\"l66d44\" id=\"0x556db555a850\" points=\"14.65,12.05 16.35,12.05 16.35,13.75 14.65,13.75\"/>\n<polygon class=\"l66d44\" id=\"0x556db555a8c0\" points=\"33.35,3.9 35.05,3.9 35.05,5.6 33.35,5.6\"/>\n<polygon class=\"l66d44\" id=\"0x556db555a930\" points=\"20.05,10.25 21.75,10.25 21.75,11.95 20.05,11.95\"/>\n<polygon class=\"l66d44\" id=\"0x556db555a9a0\" points=\"25.2,10.25 26.9,10.25 26.9,11.95 25.2,11.95\"/>\n<polygon class=\"l66d44\" id=\"0x556db555aa10\" points=\"30.35,10.25 32.05,10.25 32.05,11.95 30.35,11.95\"/>\n<polygon class=\"l66d44\" id=\"0x556db555aa80\" points=\"33.35,22.55 35.05,22.55 35.05,24.25 33.35,24.25\"/>\n<polygon class=\"l66d44\" id=\"0x556db555aaf0\" points=\"33.35,17.45 35.05,17.45 35.05,19.15 33.35,19.15\"/>\n<polygon class=\"l95d20\" id=\"0x556db555ab60\" points=\"36.8,13.45 17.35,13.45 17.35,14.75 0,14.75 0,9.75 19.05,9.75 19.05,9.25 36.8,9.25\"/>\n<polygon class=\"l68d20\" id=\"0x556db543b1e0\" points=\"0,29.6 0,24.8 36.8,24.8 36.8,29.6\"/>\n<polygon class=\"l68d20\" id=\"0x556db543b1e0\" points=\"0,2.4 0,-2.4 36.8,-2.4 36.8,2.4\"/>\n<text class=\"l68t5\" dominant-baseline=\"central\" id=\"0x556db5744f30\" text-anchor=\"middle\" transform=\"scale(1 -1) translate(2.3 27.2) scale(0.1)\">VPWR</text>\n<text class=\"l68t5\" dominant-baseline=\"central\" id=\"0x556db5744fc0\" text-anchor=\"middle\" transform=\"scale(1 -1) translate(2.3 0) scale(0.1)\">VGND</text>\n<text class=\"l64t5\" dominant-baseline=\"central\" id=\"0x556db5745050\" text-anchor=\"middle\" transform=\"scale(1 -1) translate(2.3 27.2) scale(0.1)\">VPB</text>\n<text class=\"l64t59\" dominant-baseline=\"central\" id=\"0x556db57450e0\" text-anchor=\"middle\" transform=\"scale(1 -1) translate(2.3 0) scale(0.1)\">VNB</text>\n<text class=\"l83t44\" dominant-baseline=\"text-before-edge\" id=\"0x556db5745200\" text-anchor=\"start\" transform=\"scale(1 -1) translate(0 0) rotate(-90) scale(0.1)\">decap_8</text>\n</g>\n<g id=\"sky130_ef_sc_hd__decap_12\">\n<polygon class=\"l236d0\" id=\"0x556db4d50ee0\" points=\"0,0 55.2,0 55.2,27.2 0,27.2\"/>\n<polygon class=\"l68d16\" id=\"0x556db4d53480\" points=\"1.45,-0.85 3.15,-0.85 3.15,0.85 1.45,0.85\"/>\n<polygon class=\"l68d16\" id=\"0x556db4d50fc0\" points=\"1.45,26.35 3.15,26.35 3.15,28.05 1.45,28.05\"/>\n<polygon class=\"l64d16\" id=\"0x556db4d52df0\" points=\"1.45,26.35 3.15,26.35 3.15,28.05 1.45,28.05\"/>\n<polygon class=\"l122d16\" id=\"0x556db4d52fb0\" points=\"1.45,-0.85 3.15,-0.85 3.15,0.85 1.45,0.85\"/>\n<polygon class=\"l65d20\" id=\"0x556db4d52920\" points=\"1.35,16.15 53.85,16.15 53.85,24.85 1.35,24.85\"/>\n<polygon class=\"l65d20\" id=\"0x556db4d52f40\" points=\"1.35,2.35 53.85,2.35 53.85,7.85 1.35,7.85\"/>\n<polygon class=\"l78d44\" id=\"0x556db4d52610\" points=\"0,12.5 55.2,12.5 55.2,27.2 0,27.2\"/>\n<polygon class=\"l93d44\" id=\"0x556db4d52840\" points=\"0,-1.9 55.2,-1.9 55.2,10.15 0,10.15\"/>\n<polygon class=\"l64d20\" id=\"0x556db4d53b80\" points=\"-1.9,13.05 57.1,13.05 57.1,29.1 -1.9,29.1\"/>\n<polygon class=\"l94d20\" id=\"0x556db4d53b10\" points=\"0,14.85 55.2,14.85 55.2,29.1 0,29.1\"/>\n<polygon class=\"l81d4\" id=\"0x556db4d53720\" points=\"0,0 55.2,0 55.2,27.2 0,27.2\"/>\n<polygon class=\"l67d44\" id=\"0x556db4d52370\" points=\"24.45,-0.85 26.15,-0.85 26.15,0.85 24.45,0.85\"/>\n<polygon class=\"l67d44\" id=\"0x556db4d52760\" points=\"29.05,26.35 30.75,26.35 30.75,28.05 29.05,28.05\"/>\n<polygon class=\"l67d44\" id=\"0x556db4d52a70\" points=\"1.45,26.35 3.15,26.35 3.15,28.05 1.45,28.05\"/>\n<polygon class=\"l67d44\" id=\"0x556db4d525a0\" points=\"1.45,-0.85 3.15,-0.85 3.15,0.85 1.45,0.85\"/>\n<polygon class=\"l67d44\" id=\"0x556db4d538e0\" points=\"6.05,26.35 7.75,26.35 7.75,28.05 6.05,28.05\"/>\n<polygon class=\"l67d44\" id=\"0x556db4d53950\" points=\"6.05,-0.85 7.75,-0.85 7.75,0.85 6.05,0.85\"/>\n<polygon class=\"l67d44\" id=\"0x556db4d539c0\" points=\"10.65,26.35 12.35,26.35 12.35,28.05 10.65,28.05\"/>\n<polygon class=\"l67d44\" id=\"0x556db4d52d80\" points=\"10.65,-0.85 12.35,-0.85 12.35,0.85 10.65,0.85\"/>\n<polygon class=\"l67d44\" id=\"0x556db4d53790\" points=\"15.25,26.35 16.95,26.35 16.95,28.05 15.25,28.05\"/>\n<polygon class=\"l67d44\" id=\"0x556db4d524c0\" points=\"15.25,-0.85 16.95,-0.85 16.95,0.85 15.25,0.85\"/>\n<polygon class=\"l67d44\" id=\"0x556db4d53800\" points=\"19.85,26.35 21.55,26.35 21.55,28.05 19.85,28.05\"/>\n<polygon class=\"l67d44\" id=\"0x556db4d53170\" points=\"19.85,-0.85 21.55,-0.85 21.55,0.85 19.85,0.85\"/>\n<polygon class=\"l67d44\" id=\"0x556db4d52ca0\" points=\"24.45,26.35 26.15,26.35 26.15,28.05 24.45,28.05\"/>\n<polygon class=\"l67d44\" id=\"0x556db4d50f50\" points=\"29.05,-0.85 30.75,-0.85 30.75,0.85 29.05,0.85\"/>\n<polygon class=\"l67d44\" id=\"0x556db4d53a30\" points=\"33.65,26.35 35.35,26.35 35.35,28.05 33.65,28.05\"/>\n<polygon class=\"l67d44\" id=\"0x556db4d510a0\" points=\"33.65,-0.85 35.35,-0.85 35.35,0.85 33.65,0.85\"/>\n<polygon class=\"l67d44\" id=\"0x556db4d52450\" points=\"38.25,26.35 39.95,26.35 39.95,28.05 38.25,28.05\"/>\n<polygon class=\"l67d44\" id=\"0x556db4d526f0\" points=\"38.25,-0.85 39.95,-0.85 39.95,0.85 38.25,0.85\"/>\n<polygon class=\"l67d44\" id=\"0x556db4d523e0\" points=\"42.85,26.35 44.55,26.35 44.55,28.05 42.85,28.05\"/>\n<polygon class=\"l67d44\" id=\"0x556db4d50e00\" points=\"42.85,-0.85 44.55,-0.85 44.55,0.85 42.85,0.85\"/>\n<polygon class=\"l67d44\" id=\"0x556db4d53c60\" points=\"47.45,26.35 49.15,26.35 49.15,28.05 47.45,28.05\"/>\n<polygon class=\"l67d44\" id=\"0x556db4d53cd0\" points=\"47.45,-0.85 49.15,-0.85 49.15,0.85 47.45,0.85\"/>\n<polygon class=\"l67d44\" id=\"0x556db4d53d40\" points=\"52.05,26.35 53.75,26.35 53.75,28.05 52.05,28.05\"/>\n<polygon class=\"l67d44\" id=\"0x556db4d53db0\" points=\"52.05,-0.85 53.75,-0.85 53.75,0.85 52.05,0.85\"/>\n<polygon class=\"l95d20\" id=\"0x556db4d53250\" points=\"0,9.25 55.2,9.25 55.2,14.75 0,14.75\"/>\n<polygon class=\"l66d20\" id=\"0x556db4d52b50\" points=\"51.25,26.15 3.95,26.15 3.95,11.25 26.45,11.25 26.45,14.85 51.25,14.85\"/>\n<polygon class=\"l66d20\" id=\"0x556db4d50e70\" points=\"51.25,12.75 28.55,12.75 28.55,9.15 3.95,9.15 3.95,1.05 51.25,1.05\"/>\n<polygon class=\"l67d20\" id=\"0x556db4d532c0\" points=\"16.7,6.3 20.1,6.3 20.1,14.6 16.7,14.6\"/>\n<polygon class=\"l67d20\" id=\"0x556db4d50bd0\" points=\"0,26.35 55.2,26.35 55.2,28.05 0,28.05\"/>\n<polygon class=\"l67d20\" id=\"0x556db4d52d10\" points=\"0.85,22 54.3,22 54.3,26.35 0.85,26.35\"/>\n<polygon class=\"l67d20\" id=\"0x556db4d53090\" points=\"0,-0.85 55.2,-0.85 55.2,0.85 0,0.85\"/>\n<polygon class=\"l67d20\" id=\"0x556db4d52300\" points=\"34.9,9.5 38.4,9.5 38.4,22 34.9,22\"/>\n<polygon class=\"l67d20\" id=\"0x556db4d53020\" points=\"0.85,0.85 54.3,0.85 54.3,6.3 0.85,6.3\"/>\n<polygon class=\"l66d44\" id=\"0x556db4d53100\" points=\"1.75,22.55 3.45,22.55 3.45,24.25 1.75,24.25\"/>\n<polygon class=\"l66d44\" id=\"0x556db4d53870\" points=\"51.75,22.55 53.45,22.55 53.45,24.25 51.75,24.25\"/>\n<polygon class=\"l66d44\" id=\"0x556db4d52680\" points=\"51.75,3.9 53.45,3.9 53.45,5.6 51.75,5.6\"/>\n<polygon class=\"l66d44\" id=\"0x556db4d52c30\" points=\"35.75,10.25 37.45,10.25 37.45,11.95 35.75,11.95\"/>\n<polygon class=\"l66d44\" id=\"0x556db4d535d0\" points=\"1.75,3.9 3.45,3.9 3.45,5.6 1.75,5.6\"/>\n<polygon class=\"l66d44\" id=\"0x556db4d52bc0\" points=\"17.55,12.05 19.25,12.05 19.25,13.75 17.55,13.75\"/>\n<polygon class=\"l68d20\" id=\"0x556db543b1e0\" points=\"0,29.6 0,24.8 55.2,24.8 55.2,29.6\"/>\n<polygon class=\"l68d20\" id=\"0x556db543b1e0\" points=\"0,2.4 0,-2.4 55.2,-2.4 55.2,2.4\"/>\n<text class=\"l68t5\" dominant-baseline=\"central\" id=\"0x556db35257b0\" text-anchor=\"middle\" transform=\"scale(1 -1) translate(2.3 0) scale(0.1)\">VGND</text>\n<text class=\"l68t5\" dominant-baseline=\"central\" id=\"0x556db3525210\" text-anchor=\"middle\" transform=\"scale(1 -1) translate(2.3 27.2) scale(0.1)\">VPWR</text>\n<text class=\"l64t5\" dominant-baseline=\"central\" id=\"0x556db35252a0\" text-anchor=\"middle\" transform=\"scale(1 -1) translate(2.3 27.2) scale(0.1)\">VPB</text>\n<text class=\"l64t59\" dominant-baseline=\"central\" id=\"0x556db3525450\" text-anchor=\"middle\" transform=\"scale(1 -1) translate(2.3 0) scale(0.1)\">VNB</text>\n<text class=\"l83t44\" dominant-baseline=\"text-before-edge\" id=\"0x556db35253c0\" text-anchor=\"start\" transform=\"scale(1 -1) translate(0 0) rotate(-90) scale(0.1)\">decap_12</text>\n</g>\n<g id=\"sky130_fd_sc_hd__decap_4\">\n<polygon class=\"l236d0\" id=\"0x556db555d1e0\" points=\"0,0 18.4,0 18.4,27.2 0,27.2\"/>\n<polygon class=\"l68d16\" id=\"0x556db555d250\" points=\"1.45,-0.85 3.15,-0.85 3.15,0.85 1.45,0.85\"/>\n<polygon class=\"l68d16\" id=\"0x556db555d2c0\" points=\"1.45,26.35 3.15,26.35 3.15,28.05 1.45,28.05\"/>\n<polygon class=\"l64d16\" id=\"0x556db555d330\" points=\"1.45,26.35 3.15,26.35 3.15,28.05 1.45,28.05\"/>\n<polygon class=\"l122d16\" id=\"0x556db555d3a0\" points=\"1.45,-0.85 3.15,-0.85 3.15,0.85 1.45,0.85\"/>\n<polygon class=\"l81d4\" id=\"0x556db555d410\" points=\"0,0 18.4,0 18.4,27.2 0,27.2\"/>\n<polygon class=\"l78d44\" id=\"0x556db555d480\" points=\"0,12.5 18.4,12.5 18.4,27.2 0,27.2\"/>\n<polygon class=\"l93d44\" id=\"0x556db555d4f0\" points=\"0,-1.9 18.4,-1.9 18.4,10.15 0,10.15\"/>\n<polygon class=\"l64d20\" id=\"0x556db555d560\" points=\"-1.9,13.05 20.3,13.05 20.3,29.1 -1.9,29.1\"/>\n<polygon class=\"l94d20\" id=\"0x556db555d5d0\" points=\"0,14.85 18.4,14.85 18.4,29.1 0,29.1\"/>\n<polygon class=\"l67d44\" id=\"0x556db555d640\" points=\"1.45,26.35 3.15,26.35 3.15,28.05 1.45,28.05\"/>\n<polygon class=\"l67d44\" id=\"0x556db555d6b0\" points=\"1.45,-0.85 3.15,-0.85 3.15,0.85 1.45,0.85\"/>\n<polygon class=\"l67d44\" id=\"0x556db555d720\" points=\"6.05,26.35 7.75,26.35 7.75,28.05 6.05,28.05\"/>\n<polygon class=\"l67d44\" id=\"0x556db555d790\" points=\"6.05,-0.85 7.75,-0.85 7.75,0.85 6.05,0.85\"/>\n<polygon class=\"l67d44\" id=\"0x556db555d800\" points=\"10.65,26.35 12.35,26.35 12.35,28.05 10.65,28.05\"/>\n<polygon class=\"l67d44\" id=\"0x556db555d870\" points=\"10.65,-0.85 12.35,-0.85 12.35,0.85 10.65,0.85\"/>\n<polygon class=\"l67d44\" id=\"0x556db555d8e0\" points=\"15.25,26.35 16.95,26.35 16.95,28.05 15.25,28.05\"/>\n<polygon class=\"l67d44\" id=\"0x556db555d950\" points=\"15.25,-0.85 16.95,-0.85 16.95,0.85 15.25,0.85\"/>\n<polygon class=\"l65d20\" id=\"0x556db555d9c0\" points=\"1.35,16.15 17.05,16.15 17.05,24.85 1.35,24.85\"/>\n<polygon class=\"l65d20\" id=\"0x556db555da30\" points=\"1.35,2.35 17.05,2.35 17.05,7.85 1.35,7.85\"/>\n<polygon class=\"l66d20\" id=\"0x556db555daa0\" points=\"14.45,26.15 3.95,26.15 3.95,14.55 1.05,14.55 1.05,11.25 8.15,11.25 8.15,14.85 14.45,14.85\"/>\n<polygon class=\"l66d20\" id=\"0x556db555db10\" points=\"17.35,12.75 10.25,12.75 10.25,9.15 3.95,9.15 3.95,1.05 14.45,1.05 14.45,9.45 17.35,9.45\"/>\n<polygon class=\"l66d44\" id=\"0x556db555db80\" points=\"14.95,4.25 16.65,4.25 16.65,5.95 14.95,5.95\"/>\n<polygon class=\"l66d44\" id=\"0x556db555dbf0\" points=\"1.75,22.55 3.45,22.55 3.45,24.25 1.75,24.25\"/>\n<polygon class=\"l66d44\" id=\"0x556db555dc60\" points=\"1.75,17.45 3.45,17.45 3.45,19.15 1.75,19.15\"/>\n<polygon class=\"l66d44\" id=\"0x556db555dcd0\" points=\"1.75,4.25 3.45,4.25 3.45,5.95 1.75,5.95\"/>\n<polygon class=\"l66d44\" id=\"0x556db555dd40\" points=\"1.85,12.05 3.55,12.05 3.55,13.75 1.85,13.75\"/>\n<polygon class=\"l66d44\" id=\"0x556db555ddb0\" points=\"14.85,10.25 16.55,10.25 16.55,11.95 14.85,11.95\"/>\n<polygon class=\"l66d44\" id=\"0x556db555de20\" points=\"14.95,22.55 16.65,22.55 16.65,24.25 14.95,24.25\"/>\n<polygon class=\"l66d44\" id=\"0x556db555de90\" points=\"14.95,17.45 16.65,17.45 16.65,19.15 14.95,19.15\"/>\n<polygon class=\"l67d20\" id=\"0x556db555df00\" points=\"18.4,28.05 0,28.05 0,26.35 0.85,26.35 0.85,15.45 10.05,15.45 10.05,10.25 17.55,10.25 17.55,26.35 18.4,26.35\"/>\n<polygon class=\"l67d20\" id=\"0x556db555df70\" points=\"18.4,0.85 17.55,0.85 17.55,8.55 8.35,8.55 8.35,13.75 0.85,13.75 0.85,0.85 0,0.85 0,-0.85 18.4,-0.85\"/>\n<polygon class=\"l95d20\" id=\"0x556db5562000\" points=\"18.4,13.45 4.55,13.45 4.55,14.75 0,14.75 0,9.75 13.85,9.75 13.85,9.25 18.4,9.25\"/>\n<polygon class=\"l68d20\" id=\"0x556db543b1e0\" points=\"0,29.6 0,24.8 18.4,24.8 18.4,29.6\"/>\n<polygon class=\"l68d20\" id=\"0x556db543b1e0\" points=\"0,2.4 0,-2.4 18.4,-2.4 18.4,2.4\"/>\n<text class=\"l68t5\" dominant-baseline=\"central\" id=\"0x556db5746010\" text-anchor=\"middle\" transform=\"scale(1 -1) translate(2.3 0) scale(0.1)\">VGND</text>\n<text class=\"l68t5\" dominant-baseline=\"central\" id=\"0x556db57460a0\" text-anchor=\"middle\" transform=\"scale(1 -1) translate(2.3 27.2) scale(0.1)\">VPWR</text>\n<text class=\"l64t5\" dominant-baseline=\"central\" id=\"0x556db5746130\" text-anchor=\"middle\" transform=\"scale(1 -1) translate(2.3 27.2) scale(0.1)\">VPB</text>\n<text class=\"l64t59\" dominant-baseline=\"central\" id=\"0x556db57461c0\" text-anchor=\"middle\" transform=\"scale(1 -1) translate(2.3 0) scale(0.1)\">VNB</text>\n<text class=\"l83t44\" dominant-baseline=\"text-before-edge\" id=\"0x556db5746400\" text-anchor=\"start\" transform=\"scale(1 -1) translate(0 0) rotate(-90) scale(0.1)\">decap_4</text>\n</g>\n<g id=\"sky130_fd_sc_hd__clkinv_2\">\n<polygon class=\"l236d0\" id=\"0x556db56c0bd0\" points=\"0,0 18.4,0 18.4,27.2 0,27.2\"/>\n<polygon class=\"l122d16\" id=\"0x556db56c0c40\" points=\"1.45,-0.85 3.15,-0.85 3.15,0.85 1.45,0.85\"/>\n<polygon class=\"l64d16\" id=\"0x556db56c0cb0\" points=\"1.45,26.35 3.15,26.35 3.15,28.05 1.45,28.05\"/>\n<polygon class=\"l68d16\" id=\"0x556db56c0d20\" points=\"1.45,26.35 3.15,26.35 3.15,28.05 1.45,28.05\"/>\n<polygon class=\"l68d16\" id=\"0x556db56c0d90\" points=\"1.45,-0.85 3.15,-0.85 3.15,0.85 1.45,0.85\"/>\n<polygon class=\"l67d20\" id=\"0x556db56c0e00\" points=\"0.85,10.65 13.05,10.65 13.05,12.9 0.85,12.9\"/>\n<polygon class=\"l67d20\" id=\"0x556db56c0e70\" points=\"17.55,16.3 12.7,16.3 12.7,24.35 10.1,24.35 10.1,16.3 4.1,16.3 4.1,24.35 1.55,24.35 1.55,14.6 14.75,14.6 14.75,8.95 10.25,8.95 10.25,2.8 12.5,2.8 12.5,7.25 17.55,7.25\"/>\n<polygon class=\"l67d20\" id=\"0x556db56c0ee0\" points=\"18.4,0.85 17.5,0.85 17.5,5.55 14.2,5.55 14.2,0.85 8.55,0.85 8.55,6.1 5.6,6.1 5.6,0.85 0,0.85 0,-0.85 18.4,-0.85\"/>\n<polygon class=\"l67d20\" id=\"0x556db56c0f50\" points=\"18.4,28.05 0,28.05 0,26.35 5.8,26.35 5.8,18 8.4,18 8.4,26.35 14.4,26.35 14.4,18 16.95,18 16.95,26.35 18.4,26.35\"/>\n<polygon class=\"l67d16\" id=\"0x556db56c0fc0\" points=\"1.45,11.05 3.15,11.05 3.15,12.75 1.45,12.75\"/>\n<polygon class=\"l67d16\" id=\"0x556db56c1030\" points=\"6.05,11.05 7.75,11.05 7.75,12.75 6.05,12.75\"/>\n<polygon class=\"l67d16\" id=\"0x556db56c10a0\" points=\"10.65,11.05 12.35,11.05 12.35,12.75 10.65,12.75\"/>\n<polygon class=\"l67d16\" id=\"0x556db56c1110\" points=\"15.25,14.45 16.95,14.45 16.95,16.15 15.25,16.15\"/>\n<polygon class=\"l67d16\" id=\"0x556db56c1180\" points=\"15.25,11.05 16.95,11.05 16.95,12.75 15.25,12.75\"/>\n<polygon class=\"l67d16\" id=\"0x556db56c11f0\" points=\"15.25,7.65 16.95,7.65 16.95,9.35 15.25,9.35\"/>\n<polygon class=\"l65d20\" id=\"0x556db56c1260\" points=\"1.55,14.85 16.95,14.85 16.95,24.85 1.55,24.85\"/>\n<polygon class=\"l65d20\" id=\"0x556db56c12d0\" points=\"6,2.35 17.05,2.35 17.05,6.55 6,6.55\"/>\n<polygon class=\"l66d20\" id=\"0x556db56c1340\" points=\"14.45,12.95 14.3,12.95 14.3,26.15 12.8,26.15 12.8,12.95 10,12.95 10,26.15 8.5,26.15 8.5,12.95 5.7,12.95 5.7,26.15 4.2,26.15 4.2,12.95 1.55,12.95 1.55,10.25 8.65,10.25 8.65,1.05 10.15,1.05 10.15,10.25 12.95,10.25 12.95,1.05 14.45,1.05\"/>\n<polygon class=\"l66d20\" id=\"0x556db56c13b0\" points=\"1.55,10.15 8.65,10.15 8.65,10.25 1.55,10.25\"/>\n<polygon class=\"l66d20\" id=\"0x556db56c1420\" points=\"1.55,12.95 4.2,12.95 4.2,13.05 1.55,13.05\"/>\n<polygon class=\"l66d44\" id=\"0x556db56c1490\" points=\"1.95,21.85 3.65,21.85 3.65,23.55 1.95,23.55\"/>\n<polygon class=\"l66d44\" id=\"0x556db56c1500\" points=\"1.95,17.45 3.65,17.45 3.65,19.15 1.95,19.15\"/>\n<polygon class=\"l66d44\" id=\"0x556db56c1570\" points=\"2.35,10.75 4.05,10.75 4.05,12.45 2.35,12.45\"/>\n<polygon class=\"l66d44\" id=\"0x556db56c15e0\" points=\"6.25,22.2 7.95,22.2 7.95,23.9 6.25,23.9\"/>\n<polygon class=\"l66d44\" id=\"0x556db56c1650\" points=\"6.25,18.8 7.95,18.8 7.95,20.5 6.25,20.5\"/>\n<polygon class=\"l66d44\" id=\"0x556db56c16c0\" points=\"6.4,3.6 8.1,3.6 8.1,5.3 6.4,5.3\"/>\n<polygon class=\"l66d44\" id=\"0x556db56c1730\" points=\"9.15,10.75 10.85,10.75 10.85,12.45 9.15,12.45\"/>\n<polygon class=\"l66d44\" id=\"0x556db56c17a0\" points=\"10.55,21.85 12.25,21.85 12.25,23.55 10.55,23.55\"/>\n<polygon class=\"l66d44\" id=\"0x556db56c1810\" points=\"10.55,17.45 12.25,17.45 12.25,19.15 10.55,19.15\"/>\n<polygon class=\"l66d44\" id=\"0x556db56c1880\" points=\"10.7,3.6 12.4,3.6 12.4,5.3 10.7,5.3\"/>\n<polygon class=\"l66d44\" id=\"0x556db56c18f0\" points=\"14.85,22.2 16.55,22.2 16.55,23.9 14.85,23.9\"/>\n<polygon class=\"l66d44\" id=\"0x556db56c1960\" points=\"14.85,18.8 16.55,18.8 16.55,20.5 14.85,20.5\"/>\n<polygon class=\"l66d44\" id=\"0x556db56c19d0\" points=\"14.95,3.05 16.65,3.05 16.65,4.75 14.95,4.75\"/>\n<polygon class=\"l66d44\" id=\"0x556db56c1a40\" points=\"5.75,10.75 7.45,10.75 7.45,12.45 5.75,12.45\"/>\n<polygon class=\"l67d44\" id=\"0x556db56c1ab0\" points=\"1.45,26.35 3.15,26.35 3.15,28.05 1.45,28.05\"/>\n<polygon class=\"l67d44\" id=\"0x556db56c1b20\" points=\"1.45,-0.85 3.15,-0.85 3.15,0.85 1.45,0.85\"/>\n<polygon class=\"l67d44\" id=\"0x556db56c1b90\" points=\"6.05,26.35 7.75,26.35 7.75,28.05 6.05,28.05\"/>\n<polygon class=\"l67d44\" id=\"0x556db56c1c00\" points=\"6.05,-0.85 7.75,-0.85 7.75,0.85 6.05,0.85\"/>\n<polygon class=\"l67d44\" id=\"0x556db56c1c70\" points=\"10.65,26.35 12.35,26.35 12.35,28.05 10.65,28.05\"/>\n<polygon class=\"l67d44\" id=\"0x556db56c1ce0\" points=\"10.65,-0.85 12.35,-0.85 12.35,0.85 10.65,0.85\"/>\n<polygon class=\"l67d44\" id=\"0x556db56c1d50\" points=\"15.25,26.35 16.95,26.35 16.95,28.05 15.25,28.05\"/>\n<polygon class=\"l67d44\" id=\"0x556db56c1dc0\" points=\"15.25,-0.85 16.95,-0.85 16.95,0.85 15.25,0.85\"/>\n<polygon class=\"l94d20\" id=\"0x556db56c1e30\" points=\"0,13.55 18.4,13.55 18.4,29.1 0,29.1\"/>\n<polygon class=\"l64d20\" id=\"0x556db56c1ea0\" points=\"-1.9,13.05 20.3,13.05 20.3,29.1 -1.9,29.1\"/>\n<polygon class=\"l93d44\" id=\"0x556db56c1f10\" points=\"0,-1.9 18.4,-1.9 18.4,10.15 0,10.15\"/>\n<polygon class=\"l78d44\" id=\"0x556db56c1f80\" points=\"0,12.5 18.4,12.5 18.4,27.2 0,27.2\"/>\n<polygon class=\"l81d4\" id=\"0x556db56c1ff0\" points=\"0,0 18.4,0 18.4,27.2 0,27.2\"/>\n<polygon class=\"l95d20\" id=\"0x556db56c2060\" points=\"0,9.75 18.4,9.75 18.4,13.45 0,13.45\"/>\n<polygon class=\"l68d20\" id=\"0x556db543b1e0\" points=\"0,29.6 0,24.8 18.4,24.8 18.4,29.6\"/>\n<polygon class=\"l68d20\" id=\"0x556db543b1e0\" points=\"0,2.4 0,-2.4 18.4,-2.4 18.4,2.4\"/>\n<text class=\"l67t5\" dominant-baseline=\"central\" id=\"0x556db5744000\" text-anchor=\"middle\" transform=\"scale(1 -1) translate(16.1 8.5) scale(0.2)\">Y</text>\n<text class=\"l67t5\" dominant-baseline=\"central\" id=\"0x556db5744090\" text-anchor=\"middle\" transform=\"scale(1 -1) translate(16.1 11.9) scale(0.2)\">Y</text>\n<text class=\"l67t5\" dominant-baseline=\"central\" id=\"0x556db5744120\" text-anchor=\"middle\" transform=\"scale(1 -1) translate(16.1 15.3) scale(0.2)\">Y</text>\n<text class=\"l67t5\" dominant-baseline=\"central\" id=\"0x556db57441b0\" text-anchor=\"middle\" transform=\"scale(1 -1) translate(11.5 11.9) scale(0.2)\">A</text>\n<text class=\"l67t5\" dominant-baseline=\"central\" id=\"0x556db5744240\" text-anchor=\"middle\" transform=\"scale(1 -1) translate(6.9 11.9) scale(0.2)\">A</text>\n<text class=\"l67t5\" dominant-baseline=\"central\" id=\"0x556db57442d0\" text-anchor=\"middle\" transform=\"scale(1 -1) translate(2.3 11.9) scale(0.2)\">A</text>\n<text class=\"l64t59\" dominant-baseline=\"central\" id=\"0x556db5744360\" text-anchor=\"middle\" transform=\"scale(1 -1) translate(2.3 0) scale(0.1)\">VNB</text>\n<text class=\"l64t5\" dominant-baseline=\"central\" id=\"0x556db57443f0\" text-anchor=\"middle\" transform=\"scale(1 -1) translate(2.3 27.2) scale(0.1)\">VPB</text>\n<text class=\"l68t5\" dominant-baseline=\"central\" id=\"0x556db5744480\" text-anchor=\"middle\" transform=\"scale(1 -1) translate(2.3 27.2) scale(0.1)\">VPWR</text>\n<text class=\"l68t5\" dominant-baseline=\"central\" id=\"0x556db5744510\" text-anchor=\"middle\" transform=\"scale(1 -1) translate(2.3 0) scale(0.1)\">VGND</text>\n<text class=\"l83t44\" dominant-baseline=\"text-before-edge\" id=\"0x556db57445a0\" text-anchor=\"start\" transform=\"scale(1 -1) translate(0 0) rotate(-90) scale(0.1)\">clkinv_2</text>\n</g>\n<g id=\"sky130_fd_sc_hd__fill_2\">\n<polygon class=\"l122d16\" id=\"0x556db555cc30\" points=\"1.55,-0.5 3.15,-0.5 3.15,0.6 1.55,0.6\"/>\n<polygon class=\"l64d16\" id=\"0x556db555cca0\" points=\"1.4,26.75 3.1,26.75 3.1,27.65 1.4,27.65\"/>\n<polygon class=\"l68d16\" id=\"0x556db555cd10\" points=\"1,-0.7 3.65,-0.7 3.65,0.9 1,0.9\"/>\n<polygon class=\"l68d16\" id=\"0x556db555cd80\" points=\"1.05,26.5 3.65,26.5 3.65,28.05 1.05,28.05\"/>\n<polygon class=\"l78d44\" id=\"0x556db555cdf0\" points=\"0,12.5 9.2,12.5 9.2,27.2 0,27.2\"/>\n<polygon class=\"l93d44\" id=\"0x556db555ce60\" points=\"0,-1.9 9.2,-1.9 9.2,10.15 0,10.15\"/>\n<polygon class=\"l64d20\" id=\"0x556db555ced0\" points=\"-1.9,13.05 11.1,13.05 11.1,29.1 -1.9,29.1\"/>\n<polygon class=\"l94d20\" id=\"0x556db555cf40\" points=\"0,13.55 9.2,13.55 9.2,29.1 0,29.1\"/>\n<polygon class=\"l81d4\" id=\"0x556db555cfb0\" points=\"0,0 9.2,0 9.2,27.2 0,27.2\"/>\n<polygon class=\"l67d44\" id=\"0x556db555d020\" points=\"1.45,26.35 3.15,26.35 3.15,28.05 1.45,28.05\"/>\n<polygon class=\"l67d44\" id=\"0x556db555d090\" points=\"1.45,-0.85 3.15,-0.85 3.15,0.85 1.45,0.85\"/>\n<polygon class=\"l67d44\" id=\"0x556db555d100\" points=\"6.05,-0.85 7.75,-0.85 7.75,0.85 6.05,0.85\"/>\n<polygon class=\"l67d44\" id=\"0x556db555d170\" points=\"6.05,26.35 7.75,26.35 7.75,28.05 6.05,28.05\"/>\n<polygon class=\"l67d20\" id=\"0x556db543b1e0\" points=\"0,0.85 0,-0.85 9.2,-0.85 9.2,0.85\"/>\n<polygon class=\"l67d20\" id=\"0x556db543b1e0\" points=\"0,28.05 0,26.35 9.2,26.35 9.2,28.05\"/>\n<polygon class=\"l68d20\" id=\"0x556db543b1e0\" points=\"0,29.6 0,24.8 9.2,24.8 9.2,29.6\"/>\n<polygon class=\"l68d20\" id=\"0x556db543b1e0\" points=\"0,2.4 0,-2.4 9.2,-2.4 9.2,2.4\"/>\n<text class=\"l68t5\" dominant-baseline=\"central\" id=\"0x556db5745cb0\" text-anchor=\"middle\" transform=\"scale(1 -1) translate(2.3 0) scale(0.1)\">VGND</text>\n<text class=\"l68t5\" dominant-baseline=\"central\" id=\"0x556db5745d40\" text-anchor=\"middle\" transform=\"scale(1 -1) translate(2.3 27.2) scale(0.1)\">VPWR</text>\n<text class=\"l64t5\" dominant-baseline=\"central\" id=\"0x556db5745dd0\" text-anchor=\"middle\" transform=\"scale(1 -1) translate(2.3 27.2) scale(0.1)\">VPB</text>\n<text class=\"l64t59\" dominant-baseline=\"central\" id=\"0x556db5745e60\" text-anchor=\"middle\" transform=\"scale(1 -1) translate(2.3 0) scale(0.1)\">VNB</text>\n<text class=\"l83t44\" dominant-baseline=\"text-before-edge\" id=\"0x556db5745ef0\" text-anchor=\"start\" transform=\"scale(1 -1) translate(0 0) rotate(-90) scale(0.1)\">fill_2</text>\n</g>\n<g id=\"sky130_fd_sc_hd__decap_6\">\n<polygon class=\"l236d0\" id=\"0x556db555ba40\" points=\"0,0 27.6,0 27.6,27.2 0,27.2\"/>\n<polygon class=\"l68d16\" id=\"0x556db555bab0\" points=\"1.45,26.35 3.15,26.35 3.15,28.05 1.45,28.05\"/>\n<polygon class=\"l68d16\" id=\"0x556db555bb20\" points=\"1.45,-0.85 3.15,-0.85 3.15,0.85 1.45,0.85\"/>\n<polygon class=\"l64d16\" id=\"0x556db555bb90\" points=\"1.45,26.35 3.15,26.35 3.15,28.05 1.45,28.05\"/>\n<polygon class=\"l122d16\" id=\"0x556db555bc00\" points=\"1.45,-0.85 3.15,-0.85 3.15,0.85 1.45,0.85\"/>\n<polygon class=\"l65d20\" id=\"0x556db555bc70\" points=\"1.35,16.15 26.25,16.15 26.25,24.85 1.35,24.85\"/>\n<polygon class=\"l65d20\" id=\"0x556db555bce0\" points=\"1.35,2.35 26.25,2.35 26.25,7.85 1.35,7.85\"/>\n<polygon class=\"l81d4\" id=\"0x556db555bd50\" points=\"0,0 27.6,0 27.6,27.2 0,27.2\"/>\n<polygon class=\"l78d44\" id=\"0x556db555bdc0\" points=\"0,12.5 27.6,12.5 27.6,27.2 0,27.2\"/>\n<polygon class=\"l93d44\" id=\"0x556db555be30\" points=\"0,-1.9 27.6,-1.9 27.6,10.15 0,10.15\"/>\n<polygon class=\"l64d20\" id=\"0x556db555bea0\" points=\"-1.9,13.05 29.5,13.05 29.5,29.1 -1.9,29.1\"/>\n<polygon class=\"l94d20\" id=\"0x556db555bf10\" points=\"0,14.85 27.6,14.85 27.6,29.1 0,29.1\"/>\n<polygon class=\"l67d44\" id=\"0x556db555bf80\" points=\"1.45,26.35 3.15,26.35 3.15,28.05 1.45,28.05\"/>\n<polygon class=\"l67d44\" id=\"0x556db555bff0\" points=\"1.45,-0.85 3.15,-0.85 3.15,0.85 1.45,0.85\"/>\n<polygon class=\"l67d44\" id=\"0x556db555c060\" points=\"6.05,26.35 7.75,26.35 7.75,28.05 6.05,28.05\"/>\n<polygon class=\"l67d44\" id=\"0x556db555c0d0\" points=\"6.05,-0.85 7.75,-0.85 7.75,0.85 6.05,0.85\"/>\n<polygon class=\"l67d44\" id=\"0x556db555c140\" points=\"10.65,26.35 12.35,26.35 12.35,28.05 10.65,28.05\"/>\n<polygon class=\"l67d44\" id=\"0x556db555c1b0\" points=\"10.65,-0.85 12.35,-0.85 12.35,0.85 10.65,0.85\"/>\n<polygon class=\"l67d44\" id=\"0x556db555c220\" points=\"15.25,26.35 16.95,26.35 16.95,28.05 15.25,28.05\"/>\n<polygon class=\"l67d44\" id=\"0x556db555c290\" points=\"15.25,-0.85 16.95,-0.85 16.95,0.85 15.25,0.85\"/>\n<polygon class=\"l67d44\" id=\"0x556db555c300\" points=\"19.85,26.35 21.55,26.35 21.55,28.05 19.85,28.05\"/>\n<polygon class=\"l67d44\" id=\"0x556db555c370\" points=\"19.85,-0.85 21.55,-0.85 21.55,0.85 19.85,0.85\"/>\n<polygon class=\"l67d44\" id=\"0x556db555c3e0\" points=\"24.45,26.35 26.15,26.35 26.15,28.05 24.45,28.05\"/>\n<polygon class=\"l67d44\" id=\"0x556db555c450\" points=\"24.45,-0.85 26.15,-0.85 26.15,0.85 24.45,0.85\"/>\n<polygon class=\"l66d20\" id=\"0x556db555c4c0\" points=\"23.65,26.15 3.95,26.15 3.95,11.25 12.75,11.25 12.75,14.85 23.65,14.85\"/>\n<polygon class=\"l66d20\" id=\"0x556db555c5a0\" points=\"23.65,12.75 14.85,12.75 14.85,9.15 3.95,9.15 3.95,1.05 23.65,1.05\"/>\n<polygon class=\"l67d20\" id=\"0x556db555c680\" points=\"27.6,0.85 26.75,0.85 26.75,8.55 12.95,8.55 12.95,13.75 0.85,13.75 0.85,0.85 0,0.85 0,-0.85 27.6,-0.85\"/>\n<polygon class=\"l67d20\" id=\"0x556db555c6f0\" points=\"27.6,28.05 0,28.05 0,26.35 0.85,26.35 0.85,15.45 14.65,15.45 14.65,10.25 26.75,10.25 26.75,26.35 27.6,26.35\"/>\n<polygon class=\"l95d20\" id=\"0x556db555c760\" points=\"27.6,13.45 12.95,13.45 12.95,14.75 0,14.75 0,9.75 14.65,9.75 14.65,9.25 27.6,9.25\"/>\n<polygon class=\"l66d44\" id=\"0x556db555c7d0\" points=\"1.75,22.55 3.45,22.55 3.45,24.25 1.75,24.25\"/>\n<polygon class=\"l66d44\" id=\"0x556db555c840\" points=\"24.15,3.9 25.85,3.9 25.85,5.6 24.15,5.6\"/>\n<polygon class=\"l66d44\" id=\"0x556db555c8b0\" points=\"24.15,22.55 25.85,22.55 25.85,24.25 24.15,24.25\"/>\n<polygon class=\"l66d44\" id=\"0x556db555c920\" points=\"24.15,17.45 25.85,17.45 25.85,19.15 24.15,19.15\"/>\n<polygon class=\"l66d44\" id=\"0x556db555c990\" points=\"1.75,17.45 3.45,17.45 3.45,19.15 1.75,19.15\"/>\n<polygon class=\"l66d44\" id=\"0x556db555ca00\" points=\"1.75,3.9 3.45,3.9 3.45,5.6 1.75,5.6\"/>\n<polygon class=\"l66d44\" id=\"0x556db555ca70\" points=\"4.75,12.05 6.45,12.05 6.45,13.75 4.75,13.75\"/>\n<polygon class=\"l66d44\" id=\"0x556db555cae0\" points=\"10.25,12.05 11.95,12.05 11.95,13.75 10.25,13.75\"/>\n<polygon class=\"l66d44\" id=\"0x556db555cb50\" points=\"15.65,10.25 17.35,10.25 17.35,11.95 15.65,11.95\"/>\n<polygon class=\"l66d44\" id=\"0x556db555cbc0\" points=\"21.15,10.25 22.85,10.25 22.85,11.95 21.15,11.95\"/>\n<polygon class=\"l68d20\" id=\"0x556db543b1e0\" points=\"0,29.6 0,24.8 27.6,24.8 27.6,29.6\"/>\n<polygon class=\"l68d20\" id=\"0x556db543b1e0\" points=\"0,2.4 0,-2.4 27.6,-2.4 27.6,2.4\"/>\n<text class=\"l68t5\" dominant-baseline=\"central\" id=\"0x556db57458c0\" text-anchor=\"middle\" transform=\"scale(1 -1) translate(2.3 27.2) scale(0.1)\">VPWR</text>\n<text class=\"l68t5\" dominant-baseline=\"central\" id=\"0x556db5745950\" text-anchor=\"middle\" transform=\"scale(1 -1) translate(2.3 0) scale(0.1)\">VGND</text>\n<text class=\"l64t5\" dominant-baseline=\"central\" id=\"0x556db57459e0\" text-anchor=\"middle\" transform=\"scale(1 -1) translate(2.3 27.2) scale(0.1)\">VPB</text>\n<text class=\"l64t59\" dominant-baseline=\"central\" id=\"0x556db5745a70\" text-anchor=\"middle\" transform=\"scale(1 -1) translate(2.3 0) scale(0.1)\">VNB</text>\n<text class=\"l83t44\" dominant-baseline=\"text-before-edge\" id=\"0x556db5745b90\" text-anchor=\"start\" transform=\"scale(1 -1) translate(0 0) rotate(-90) scale(0.1)\">decap_6</text>\n</g>\n<g id=\"sky130_fd_sc_hd__decap_3\">\n<polygon class=\"l236d0\" id=\"0x556db4d531e0\" points=\"0,0 13.8,0 13.8,27.2 0,27.2\"/>\n<polygon class=\"l68d16\" id=\"0x556db337fff0\" points=\"1.45,26.35 3.15,26.35 3.15,28.05 1.45,28.05\"/>\n<polygon class=\"l68d16\" id=\"0x556db3380680\" points=\"1.45,-0.85 3.15,-0.85 3.15,0.85 1.45,0.85\"/>\n<polygon class=\"l64d16\" id=\"0x556db33803e0\" points=\"1.45,26.35 3.15,26.35 3.15,28.05 1.45,28.05\"/>\n<polygon class=\"l122d16\" id=\"0x556db56c0000\" points=\"1.45,-0.85 3.15,-0.85 3.15,0.85 1.45,0.85\"/>\n<polygon class=\"l65d20\" id=\"0x556db56c0070\" points=\"1.35,2.35 12.45,2.35 12.45,7.85 1.35,7.85\"/>\n<polygon class=\"l65d20\" id=\"0x556db56c00e0\" points=\"1.35,16.15 12.45,16.15 12.45,24.85 1.35,24.85\"/>\n<polygon class=\"l78d44\" id=\"0x556db56c0150\" points=\"0,12.5 13.8,12.5 13.8,27.2 0,27.2\"/>\n<polygon class=\"l64d20\" id=\"0x556db56c01c0\" points=\"-1.9,13.05 15.7,13.05 15.7,29.1 -1.9,29.1\"/>\n<polygon class=\"l94d20\" id=\"0x556db56c0230\" points=\"0,14.85 13.8,14.85 13.8,29.1 0,29.1\"/>\n<polygon class=\"l67d44\" id=\"0x556db56c02a0\" points=\"10.65,-0.85 12.35,-0.85 12.35,0.85 10.65,0.85\"/>\n<polygon class=\"l67d44\" id=\"0x556db56c0310\" points=\"10.65,26.35 12.35,26.35 12.35,28.05 10.65,28.05\"/>\n<polygon class=\"l67d44\" id=\"0x556db56c0380\" points=\"6.05,-0.85 7.75,-0.85 7.75,0.85 6.05,0.85\"/>\n<polygon class=\"l67d44\" id=\"0x556db56c03f0\" points=\"6.05,26.35 7.75,26.35 7.75,28.05 6.05,28.05\"/>\n<polygon class=\"l67d44\" id=\"0x556db56c0460\" points=\"1.45,-0.85 3.15,-0.85 3.15,0.85 1.45,0.85\"/>\n<polygon class=\"l67d44\" id=\"0x556db56c04d0\" points=\"1.45,26.35 3.15,26.35 3.15,28.05 1.45,28.05\"/>\n<polygon class=\"l81d4\" id=\"0x556db56c0540\" points=\"0,0 13.8,0 13.8,27.2 0,27.2\"/>\n<polygon class=\"l93d44\" id=\"0x556db56c05b0\" points=\"0,-1.9 13.8,-1.9 13.8,10.15 0,10.15\"/>\n<polygon class=\"l95d20\" id=\"0x556db56c0620\" points=\"13.8,13.45 6.05,13.45 6.05,14.75 0,14.75 0,9.75 7.75,9.75 7.75,9.05 13.8,9.05\"/>\n<polygon class=\"l67d20\" id=\"0x556db56c0690\" points=\"13.8,28.05 0,28.05 0,26.35 0.85,26.35 0.85,15.45 7.75,15.45 7.75,10.05 12.95,10.05 12.95,26.35 13.8,26.35\"/>\n<polygon class=\"l67d20\" id=\"0x556db56c0700\" points=\"13.8,0.85 12.95,0.85 12.95,8.35 6.05,8.35 6.05,13.75 0.85,13.75 0.85,0.85 0,0.85 0,-0.85 13.8,-0.85\"/>\n<polygon class=\"l66d20\" id=\"0x556db56c0770\" points=\"11.25,12.55 7.95,12.55 7.95,9.15 3.95,9.15 3.95,1.05 9.85,1.05 9.85,9.25 11.25,9.25\"/>\n<polygon class=\"l66d20\" id=\"0x556db56c07e0\" points=\"9.85,26.15 3.95,26.15 3.95,14.55 2.55,14.55 2.55,11.25 5.85,11.25 5.85,14.65 9.85,14.65\"/>\n<polygon class=\"l66d44\" id=\"0x556db56c0850\" points=\"10.35,4 12.05,4 12.05,5.7 10.35,5.7\"/>\n<polygon class=\"l66d44\" id=\"0x556db56c08c0\" points=\"10.35,17.8 12.05,17.8 12.05,19.5 10.35,19.5\"/>\n<polygon class=\"l66d44\" id=\"0x556db56c0930\" points=\"10.35,22.55 12.05,22.55 12.05,24.25 10.35,24.25\"/>\n<polygon class=\"l66d44\" id=\"0x556db56c09a0\" points=\"8.75,10.05 10.45,10.05 10.45,11.75 8.75,11.75\"/>\n<polygon class=\"l66d44\" id=\"0x556db56c0a10\" points=\"3.35,12.05 5.05,12.05 5.05,13.75 3.35,13.75\"/>\n<polygon class=\"l66d44\" id=\"0x556db56c0a80\" points=\"1.75,4 3.45,4 3.45,5.7 1.75,5.7\"/>\n<polygon class=\"l66d44\" id=\"0x556db56c0af0\" points=\"1.75,17.8 3.45,17.8 3.45,19.5 1.75,19.5\"/>\n<polygon class=\"l66d44\" id=\"0x556db56c0b60\" points=\"1.75,22.55 3.45,22.55 3.45,24.25 1.75,24.25\"/>\n<polygon class=\"l68d20\" id=\"0x556db543b1e0\" points=\"0,29.6 0,24.8 13.8,24.8 13.8,29.6\"/>\n<polygon class=\"l68d20\" id=\"0x556db543b1e0\" points=\"0,2.4 0,-2.4 13.8,-2.4 13.8,2.4\"/>\n<text class=\"l68t5\" dominant-baseline=\"central\" id=\"0x556db35227e0\" text-anchor=\"middle\" transform=\"scale(1 -1) translate(2.3 27.2) scale(0.1)\">VPWR</text>\n<text class=\"l68t5\" dominant-baseline=\"central\" id=\"0x556db35245b0\" text-anchor=\"middle\" transform=\"scale(1 -1) translate(2.3 0) scale(0.1)\">VGND</text>\n<text class=\"l64t5\" dominant-baseline=\"central\" id=\"0x556db3524520\" text-anchor=\"middle\" transform=\"scale(1 -1) translate(2.3 27.2) scale(0.1)\">VPB</text>\n<text class=\"l64t59\" dominant-baseline=\"central\" id=\"0x556db3524eb0\" text-anchor=\"middle\" transform=\"scale(1 -1) translate(2.3 0) scale(0.1)\">VNB</text>\n<text class=\"l83t44\" dominant-baseline=\"text-before-edge\" id=\"0x556db3524fd0\" text-anchor=\"start\" transform=\"scale(1 -1) translate(0 0) rotate(-90) scale(0.1)\">decap_3</text>\n</g>\n<g id=\"sky130_fd_sc_hd__clkbuf_1\">\n<polygon class=\"l236d0\" id=\"0x556db5562070\" points=\"0,0 13.8,0 13.8,27.2 0,27.2\"/>\n<polygon class=\"l68d16\" id=\"0x556db55620e0\" points=\"10.65,-0.85 12.35,-0.85 12.35,0.85 10.65,0.85\"/>\n<polygon class=\"l68d16\" id=\"0x556db5562150\" points=\"10.65,26.35 12.35,26.35 12.35,28.05 10.65,28.05\"/>\n<polygon class=\"l64d16\" id=\"0x556db55621c0\" points=\"10.65,26.35 12.35,26.35 12.35,28.05 10.65,28.05\"/>\n<polygon class=\"l122d16\" id=\"0x556db5562230\" points=\"10.65,-0.85 12.35,-0.85 12.35,0.85 10.65,0.85\"/>\n<polygon class=\"l67d20\" id=\"0x556db55622a0\" points=\"0.85,24.65 3.55,24.65 3.55,15.6 2.55,15.6 2.55,7.6 3.45,7.6 3.45,2.55 0.85,2.55\"/>\n<polygon class=\"l67d20\" id=\"0x556db5562310\" points=\"0,0.85 5.25,0.85 5.25,4.65 8.55,4.65 8.55,0.85 13.8,0.85 13.8,-0.85 0,-0.85\"/>\n<polygon class=\"l67d20\" id=\"0x556db5562380\" points=\"4.25,13.9 5.4,13.9 5.4,17.05 10.35,17.05 10.35,24.65 12.05,24.65 12.05,15.35 7.1,15.35 7.1,8.05 12.05,8.05 12.05,2.55 10.35,2.55 10.35,6.35 5.4,6.35 5.4,10.6 4.25,10.6\"/>\n<polygon class=\"l67d20\" id=\"0x556db55623f0\" points=\"9.45,9.85 12.75,9.85 12.75,13.55 9.45,13.55\"/>\n<polygon class=\"l67d20\" id=\"0x556db5562460\" points=\"0,28.05 13.8,28.05 13.8,26.35 8.55,26.35 8.55,18.75 5.25,18.75 5.25,26.35 0,26.35\"/>\n<polygon class=\"l95d20\" id=\"0x556db55624d0\" points=\"0,9.75 13.8,9.75 13.8,14.1 0,14.1\"/>\n<polygon class=\"l78d44\" id=\"0x556db5562540\" points=\"0,12.5 13.8,12.5 13.8,27.2 0,27.2\"/>\n<polygon class=\"l93d44\" id=\"0x556db55625b0\" points=\"0,-1.9 13.8,-1.9 13.8,10.15 0,10.15\"/>\n<polygon class=\"l64d20\" id=\"0x556db5562620\" points=\"-1.9,13.05 15.7,13.05 15.7,29.1 -1.9,29.1\"/>\n<polygon class=\"l94d20\" id=\"0x556db5562690\" points=\"0,14.2 13.8,14.2 13.8,29.1 0,29.1\"/>\n<polygon class=\"l81d4\" id=\"0x556db5562700\" points=\"0,0 13.8,0 13.8,27.2 0,27.2\"/>\n<polygon class=\"l67d44\" id=\"0x556db5562770\" points=\"1.45,-0.85 3.15,-0.85 3.15,0.85 1.45,0.85\"/>\n<polygon class=\"l67d44\" id=\"0x556db55627e0\" points=\"1.45,26.35 3.15,26.35 3.15,28.05 1.45,28.05\"/>\n<polygon class=\"l67d44\" id=\"0x556db5562850\" points=\"6.05,-0.85 7.75,-0.85 7.75,0.85 6.05,0.85\"/>\n<polygon class=\"l67d44\" id=\"0x556db55628c0\" points=\"6.05,26.35 7.75,26.35 7.75,28.05 6.05,28.05\"/>\n<polygon class=\"l67d44\" id=\"0x556db5562930\" points=\"10.65,-0.85 12.35,-0.85 12.35,0.85 10.65,0.85\"/>\n<polygon class=\"l67d44\" id=\"0x556db55629a0\" points=\"10.65,26.35 12.35,26.35 12.35,28.05 10.65,28.05\"/>\n<polygon class=\"l67d16\" id=\"0x556db5562a10\" points=\"1.45,4.25 3.15,4.25 3.15,5.95 1.45,5.95\"/>\n<polygon class=\"l67d16\" id=\"0x556db5562a80\" points=\"1.45,17.85 3.15,17.85 3.15,19.55 1.45,19.55\"/>\n<polygon class=\"l67d16\" id=\"0x556db5562af0\" points=\"1.45,21.25 3.15,21.25 3.15,22.95 1.45,22.95\"/>\n<polygon class=\"l67d16\" id=\"0x556db5562b60\" points=\"10.65,11.05 12.35,11.05 12.35,12.75 10.65,12.75\"/>\n<polygon class=\"l65d20\" id=\"0x556db5562bd0\" points=\"1.35,2.35 12.45,2.35 12.45,7.55 1.35,7.55\"/>\n<polygon class=\"l65d20\" id=\"0x556db5562c40\" points=\"1.35,16.95 12.45,16.95 12.45,24.85 1.35,24.85\"/>\n<polygon class=\"l66d44\" id=\"0x556db5562cb0\" points=\"1.75,4.45 3.45,4.45 3.45,6.15 1.75,6.15\"/>\n<polygon class=\"l66d44\" id=\"0x556db5562d20\" points=\"1.75,18.1 3.45,18.1 3.45,19.8 1.75,19.8\"/>\n<polygon class=\"l66d44\" id=\"0x556db5562d90\" points=\"1.75,22.15 3.45,22.15 3.45,23.85 1.75,23.85\"/>\n<polygon class=\"l66d44\" id=\"0x556db5562e00\" points=\"4.25,11.4 5.95,11.4 5.95,13.1 4.25,13.1\"/>\n<polygon class=\"l66d44\" id=\"0x556db5562e70\" points=\"6.05,2.95 7.75,2.95 7.75,4.65 6.05,4.65\"/>\n<polygon class=\"l66d44\" id=\"0x556db5562ee0\" points=\"6.05,18.75 7.75,18.75 7.75,20.45 6.05,20.45\"/>\n<polygon class=\"l66d44\" id=\"0x556db5562f50\" points=\"6.05,22.15 7.75,22.15 7.75,23.85 6.05,23.85\"/>\n<polygon class=\"l66d44\" id=\"0x556db5562fc0\" points=\"10.25,10.75 11.95,10.75 11.95,12.45 10.25,12.45\"/>\n<polygon class=\"l66d44\" id=\"0x556db5563030\" points=\"10.35,3.6 12.05,3.6 12.05,5.3 10.35,5.3\"/>\n<polygon class=\"l66d44\" id=\"0x556db55630a0\" points=\"10.35,18.75 12.05,18.75 12.05,20.45 10.35,20.45\"/>\n<polygon class=\"l66d44\" id=\"0x556db5563110\" points=\"10.35,22.15 12.05,22.15 12.05,23.85 10.35,23.85\"/>\n<polygon class=\"l66d20\" id=\"0x556db5563180\" points=\"3.75,13.9 3.95,13.9 3.95,26.15 5.45,26.15 5.45,13.9 6.45,13.9 6.45,10.6 5.45,10.6 5.45,1.05 3.95,1.05 3.95,10.6 3.75,10.6\"/>\n<polygon class=\"l66d20\" id=\"0x556db55631f0\" points=\"12.45,13.25 10.15,13.25 10.15,16.2 9.85,16.2 9.85,26.15 8.35,26.15 8.35,15 8.65,15 8.65,9.5 8.35,9.5 8.35,1.05 9.85,1.05 9.85,8.3 10.15,8.3 10.15,9.95 12.45,9.95\"/>\n<polygon class=\"l68d20\" id=\"0x556db543b1e0\" points=\"13.8,-2.4 13.8,2.4 0,2.4 0,-2.4\"/>\n<polygon class=\"l68d20\" id=\"0x556db543b1e0\" points=\"13.8,24.8 13.8,29.6 0,29.6 0,24.8\"/>\n<text class=\"l68t5\" dominant-baseline=\"central\" id=\"0x556db57466d0\" text-anchor=\"middle\" transform=\"scale(1 -1) translate(11.5 0) rotate(-180) scale(1 -1) scale(0.1)\">VGND</text>\n<text class=\"l68t5\" dominant-baseline=\"central\" id=\"0x556db5746760\" text-anchor=\"middle\" transform=\"scale(1 -1) translate(11.5 27.2) rotate(-180) scale(1 -1) scale(0.1)\">VPWR</text>\n<text class=\"l67t5\" dominant-baseline=\"central\" id=\"0x556db57467f0\" text-anchor=\"middle\" transform=\"scale(1 -1) translate(2.3 5.1) rotate(-180) scale(1 -1) scale(0.1)\">X</text>\n<text class=\"l67t5\" dominant-baseline=\"central\" id=\"0x556db5746880\" text-anchor=\"middle\" transform=\"scale(1 -1) translate(2.3 18.7) rotate(-180) scale(1 -1) scale(0.1)\">X</text>\n<text class=\"l67t5\" dominant-baseline=\"central\" id=\"0x556db5746910\" text-anchor=\"middle\" transform=\"scale(1 -1) translate(2.3 22.1) rotate(-180) scale(1 -1) scale(0.1)\">X</text>\n<text class=\"l67t5\" dominant-baseline=\"central\" id=\"0x556db57469a0\" text-anchor=\"middle\" transform=\"scale(1 -1) translate(11.5 11.9) rotate(-180) scale(1 -1) scale(0.1)\">A</text>\n<text class=\"l64t5\" dominant-baseline=\"central\" id=\"0x556db5746a30\" text-anchor=\"middle\" transform=\"scale(1 -1) translate(11.5 27.2) rotate(-180) scale(1 -1) scale(0.1)\">VPB</text>\n<text class=\"l64t59\" dominant-baseline=\"central\" id=\"0x556db5746ac0\" text-anchor=\"middle\" transform=\"scale(1 -1) translate(11.5 0) rotate(-180) scale(1 -1) scale(0.1)\">VNB</text>\n<text class=\"l83t44\" dominant-baseline=\"text-before-edge\" id=\"0x556db5746b50\" text-anchor=\"start\" transform=\"scale(1 -1) translate(0 0) rotate(-90) scale(0.1)\">clkbuf_1</text>\n</g>\n<g id=\"sky130_fd_sc_hd__buf_2\">\n<polygon class=\"l236d0\" id=\"0x556db56c20d0\" points=\"0,0 18.4,0 18.4,27.2 0,27.2\"/>\n<polygon class=\"l68d16\" id=\"0x556db56c2140\" points=\"1.45,26.35 3.15,26.35 3.15,28.05 1.45,28.05\"/>\n<polygon class=\"l68d16\" id=\"0x556db56c21b0\" points=\"1.45,-0.85 3.15,-0.85 3.15,0.85 1.45,0.85\"/>\n<polygon class=\"l64d16\" id=\"0x556db56c2220\" points=\"1.45,26.35 3.15,26.35 3.15,28.05 1.45,28.05\"/>\n<polygon class=\"l122d16\" id=\"0x556db56c2290\" points=\"1.45,-0.85 3.15,-0.85 3.15,0.85 1.45,0.85\"/>\n<polygon class=\"l66d20\" id=\"0x556db56c2300\" points=\"14.4,26.15 12.9,26.15 12.9,13.25 10.2,13.25 10.2,26.15 8.7,26.15 8.7,13.25 7.55,13.25 7.55,9.95 8.7,9.95 8.7,1.05 10.2,1.05 10.2,9.95 12.9,9.95 12.9,1.05 14.4,1.05\"/>\n<polygon class=\"l66d20\" id=\"0x556db56c2370\" points=\"5.45,25.75 3.95,25.75 3.95,13.25 1.35,13.25 1.35,9.95 3.95,9.95 3.95,1.05 5.45,1.05\"/>\n<polygon class=\"l66d44\" id=\"0x556db56c23e0\" points=\"6.4,2.95 8.1,2.95 8.1,4.65 6.4,4.65\"/>\n<polygon class=\"l66d44\" id=\"0x556db56c2450\" points=\"8.05,10.75 9.75,10.75 9.75,12.45 8.05,12.45\"/>\n<polygon class=\"l66d44\" id=\"0x556db56c24c0\" points=\"10.7,21.35 12.4,21.35 12.4,23.05 10.7,23.05\"/>\n<polygon class=\"l66d44\" id=\"0x556db56c2530\" points=\"10.7,17.3 12.4,17.3 12.4,19 10.7,19\"/>\n<polygon class=\"l66d44\" id=\"0x556db56c25a0\" points=\"6.4,18.75 8.1,18.75 8.1,20.45 6.4,20.45\"/>\n<polygon class=\"l66d44\" id=\"0x556db56c2610\" points=\"10.7,4.45 12.4,4.45 12.4,6.15 10.7,6.15\"/>\n<polygon class=\"l66d44\" id=\"0x556db56c2680\" points=\"14.9,19.15 16.6,19.15 16.6,20.85 14.9,20.85\"/>\n<polygon class=\"l66d44\" id=\"0x556db56c26f0\" points=\"14.9,15.75 16.6,15.75 16.6,17.45 14.9,17.45\"/>\n<polygon class=\"l66d44\" id=\"0x556db56c2760\" points=\"14.9,22.55 16.6,22.55 16.6,24.25 14.9,24.25\"/>\n<polygon class=\"l66d44\" id=\"0x556db56c27d0\" points=\"14.9,3.15 16.6,3.15 16.6,4.85 14.9,4.85\"/>\n<polygon class=\"l66d44\" id=\"0x556db56c2840\" points=\"1.75,18.75 3.45,18.75 3.45,20.45 1.75,20.45\"/>\n<polygon class=\"l66d44\" id=\"0x556db56c28b0\" points=\"1.75,3.6 3.45,3.6 3.45,5.3 1.75,5.3\"/>\n<polygon class=\"l66d44\" id=\"0x556db56c2920\" points=\"1.85,10.75 3.55,10.75 3.55,12.45 1.85,12.45\"/>\n<polygon class=\"l66d44\" id=\"0x556db56c2990\" points=\"6.4,22.15 8.1,22.15 8.1,23.85 6.4,23.85\"/>\n<polygon class=\"l66d44\" id=\"0x556db56c2a00\" points=\"1.75,22.15 3.45,22.15 3.45,23.85 1.75,23.85\"/>\n<polygon class=\"l66d44\" id=\"0x556db56c2a70\" points=\"14.9,6.55 16.6,6.55 16.6,8.25 14.9,8.25\"/>\n<polygon class=\"l67d20\" id=\"0x556db56c2ae0\" points=\"0.85,9.85 4.4,9.85 4.4,13.55 0.85,13.55\"/>\n<polygon class=\"l67d20\" id=\"0x556db56c2b50\" points=\"9.75,13.25 8.9,13.25 8.9,17.05 3.45,17.05 3.45,24.65 1.75,24.65 1.75,15.35 7.2,15.35 7.2,8.05 1.75,8.05 1.75,2.55 3.45,2.55 3.45,6.35 8.9,6.35 8.9,9.95 9.75,9.95\"/>\n<polygon class=\"l67d20\" id=\"0x556db56c2bc0\" points=\"13.15,24.65 10.6,24.65 10.6,15.6 11.45,15.6 11.45,8.3 10.6,8.3 10.6,2.55 13.15,2.55\"/>\n<polygon class=\"l67d20\" id=\"0x556db56c2c30\" points=\"18.4,28.05 0,28.05 0,26.35 5.6,26.35 5.6,18.75 8.9,18.75 8.9,26.35 14.9,26.35 14.9,14.85 17.5,14.85 17.5,26.35 18.4,26.35\"/>\n<polygon class=\"l67d20\" id=\"0x556db56c2ca0\" points=\"18.4,0.85 17.5,0.85 17.5,9.25 14.9,9.25 14.9,0.85 8.9,0.85 8.9,4.65 5.6,4.65 5.6,0.85 0,0.85 0,-0.85 18.4,-0.85\"/>\n<polygon class=\"l95d20\" id=\"0x556db56c2d10\" points=\"0,9.75 18.4,9.75 18.4,13.45 0,13.45\"/>\n<polygon class=\"l67d16\" id=\"0x556db56c2d80\" points=\"10.6,4.25 12.3,4.25 12.3,5.95 10.6,5.95\"/>\n<polygon class=\"l67d16\" id=\"0x556db56c2df0\" points=\"1.45,11.05 3.15,11.05 3.15,12.75 1.45,12.75\"/>\n<polygon class=\"l67d16\" id=\"0x556db56c2e60\" points=\"10.6,17.85 12.3,17.85 12.3,19.55 10.6,19.55\"/>\n<polygon class=\"l67d16\" id=\"0x556db56c2ed0\" points=\"10.6,21.25 12.3,21.25 12.3,22.95 10.6,22.95\"/>\n<polygon class=\"l67d16\" id=\"0x556db56c2f40\" points=\"1.45,26.35 3.15,26.35 3.15,28.05 1.45,28.05\"/>\n<polygon class=\"l67d16\" id=\"0x556db56c2fb0\" points=\"1.45,-0.85 3.15,-0.85 3.15,0.85 1.45,0.85\"/>\n<polygon class=\"l65d20\" id=\"0x556db56c3020\" points=\"17.05,24.85 6.2,24.85 6.2,24.45 1.35,24.45 1.35,18.05 6.2,18.05 6.2,14.85 17.05,14.85\"/>\n<polygon class=\"l65d20\" id=\"0x556db56c3090\" points=\"17.05,8.85 6.2,8.85 6.2,6.55 1.35,6.55 1.35,2.35 17.05,2.35\"/>\n<polygon class=\"l67d44\" id=\"0x556db56c3170\" points=\"15.25,-0.85 16.95,-0.85 16.95,0.85 15.25,0.85\"/>\n<polygon class=\"l67d44\" id=\"0x556db56c31e0\" points=\"15.25,26.35 16.95,26.35 16.95,28.05 15.25,28.05\"/>\n<polygon class=\"l67d44\" id=\"0x556db56c3250\" points=\"10.65,-0.85 12.35,-0.85 12.35,0.85 10.65,0.85\"/>\n<polygon class=\"l67d44\" id=\"0x556db56c32c0\" points=\"10.65,26.35 12.35,26.35 12.35,28.05 10.65,28.05\"/>\n<polygon class=\"l67d44\" id=\"0x556db56c3330\" points=\"6.05,-0.85 7.75,-0.85 7.75,0.85 6.05,0.85\"/>\n<polygon class=\"l67d44\" id=\"0x556db56c33a0\" points=\"6.05,26.35 7.75,26.35 7.75,28.05 6.05,28.05\"/>\n<polygon class=\"l67d44\" id=\"0x556db56c3410\" points=\"1.45,-0.85 3.15,-0.85 3.15,0.85 1.45,0.85\"/>\n<polygon class=\"l67d44\" id=\"0x556db56c3480\" points=\"1.45,26.35 3.15,26.35 3.15,28.05 1.45,28.05\"/>\n<polygon class=\"l94d20\" id=\"0x556db56c34f0\" points=\"0,13.55 18.4,13.55 18.4,29.1 0,29.1\"/>\n<polygon class=\"l64d20\" id=\"0x556db56c3560\" points=\"-1.9,13.05 20.3,13.05 20.3,29.1 -1.9,29.1\"/>\n<polygon class=\"l93d44\" id=\"0x556db56c35d0\" points=\"0,-1.9 18.4,-1.9 18.4,10.15 0,10.15\"/>\n<polygon class=\"l78d44\" id=\"0x556db56c3640\" points=\"0,12.5 18.4,12.5 18.4,27.2 0,27.2\"/>\n<polygon class=\"l81d4\" id=\"0x556db56c36b0\" points=\"0,0 18.4,0 18.4,27.2 0,27.2\"/>\n<polygon class=\"l68d20\" id=\"0x556db543b1e0\" points=\"0,2.4 0,-2.4 18.4,-2.4 18.4,2.4\"/>\n<polygon class=\"l68d20\" id=\"0x556db543b1e0\" points=\"0,29.6 0,24.8 18.4,24.8 18.4,29.6\"/>\n<text class=\"l68t5\" dominant-baseline=\"central\" id=\"0x556db5744870\" text-anchor=\"middle\" transform=\"scale(1 -1) translate(2.3 27.2) scale(0.1)\">VPWR</text>\n<text class=\"l68t5\" dominant-baseline=\"central\" id=\"0x556db5744900\" text-anchor=\"middle\" transform=\"scale(1 -1) translate(2.3 0) scale(0.1)\">VGND</text>\n<text class=\"l67t5\" dominant-baseline=\"central\" id=\"0x556db5744990\" text-anchor=\"middle\" transform=\"scale(1 -1) translate(2.3 27.2) scale(0.1)\">VPWR</text>\n<text class=\"l67t5\" dominant-baseline=\"central\" id=\"0x556db5744a20\" text-anchor=\"middle\" transform=\"scale(1 -1) translate(2.3 0) scale(0.1)\">VGND</text>\n<text class=\"l67t5\" dominant-baseline=\"central\" id=\"0x556db5744ab0\" text-anchor=\"middle\" transform=\"scale(1 -1) translate(11.45 5.1) scale(0.1)\">X</text>\n<text class=\"l67t5\" dominant-baseline=\"central\" id=\"0x556db5744b40\" text-anchor=\"middle\" transform=\"scale(1 -1) translate(11.45 18.7) scale(0.1)\">X</text>\n<text class=\"l67t5\" dominant-baseline=\"central\" id=\"0x556db5744bd0\" text-anchor=\"middle\" transform=\"scale(1 -1) translate(11.45 22.1) scale(0.1)\">X</text>\n<text class=\"l67t5\" dominant-baseline=\"central\" id=\"0x556db5744c60\" text-anchor=\"middle\" transform=\"scale(1 -1) translate(2.3 11.9) scale(0.1)\">A</text>\n<text class=\"l64t5\" dominant-baseline=\"central\" id=\"0x556db5744cf0\" text-anchor=\"middle\" transform=\"scale(1 -1) translate(2.3 27.2) scale(0.1)\">VPB</text>\n<text class=\"l64t59\" dominant-baseline=\"central\" id=\"0x556db5744d80\" text-anchor=\"middle\" transform=\"scale(1 -1) translate(2.3 0) scale(0.1)\">VNB</text>\n<text class=\"l83t44\" dominant-baseline=\"text-before-edge\" id=\"0x556db5744e10\" text-anchor=\"start\" transform=\"scale(1 -1) translate(0 0) rotate(-90) scale(0.1)\">buf_2</text>\n</g>\n<g id=\"sky130_fd_sc_hd__fill_1\">\n<polygon class=\"l64d16\" id=\"0x556db555abd0\" points=\"1.55,26.7 2.55,26.7 2.55,27.55 1.55,27.55\"/>\n<polygon class=\"l122d16\" id=\"0x556db555ac40\" points=\"1.4,-0.55 2.6,-0.55 2.6,0.55 1.4,0.55\"/>\n<polygon class=\"l68d16\" id=\"0x556db555acb0\" points=\"1.1,26.35 2.9,26.35 2.9,27.85 1.1,27.85\"/>\n<polygon class=\"l68d16\" id=\"0x556db555ad20\" points=\"1.1,-0.65 2.9,-0.65 2.9,0.8 1.1,0.8\"/>\n<polygon class=\"l81d4\" id=\"0x556db555ad90\" points=\"0,0 4.6,0 4.6,27.2 0,27.2\"/>\n<polygon class=\"l78d44\" id=\"0x556db555ae00\" points=\"0,12.5 4.6,12.5 4.6,27.2 0,27.2\"/>\n<polygon class=\"l93d44\" id=\"0x556db555ae70\" points=\"0,-1.9 4.6,-1.9 4.6,10.15 0,10.15\"/>\n<polygon class=\"l64d20\" id=\"0x556db555aee0\" points=\"-1.9,13.05 6.5,13.05 6.5,29.1 -1.9,29.1\"/>\n<polygon class=\"l94d20\" id=\"0x556db555af50\" points=\"0,13.55 4.6,13.55 4.6,29.1 0,29.1\"/>\n<polygon class=\"l67d44\" id=\"0x556db555afc0\" points=\"1.45,26.35 3.15,26.35 3.15,28.05 1.45,28.05\"/>\n<polygon class=\"l67d44\" id=\"0x556db555b030\" points=\"1.45,-0.85 3.15,-0.85 3.15,0.85 1.45,0.85\"/>\n<polygon class=\"l67d20\" id=\"0x556db543b1e0\" points=\"0,0.85 0,-0.85 4.6,-0.85 4.6,0.85\"/>\n<polygon class=\"l67d20\" id=\"0x556db543b1e0\" points=\"0,28.05 0,26.35 4.6,26.35 4.6,28.05\"/>\n<polygon class=\"l68d20\" id=\"0x556db543b1e0\" points=\"0,29.6 0,24.8 4.6,24.8 4.6,29.6\"/>\n<polygon class=\"l68d20\" id=\"0x556db543b1e0\" points=\"0,2.4 0,-2.4 4.6,-2.4 4.6,2.4\"/>\n<text class=\"l68t5\" dominant-baseline=\"central\" id=\"0x556db5745320\" text-anchor=\"middle\" transform=\"scale(1 -1) translate(2.05 27.2) scale(0.125)\">VPWR</text>\n<text class=\"l68t5\" dominant-baseline=\"central\" id=\"0x556db57453b0\" text-anchor=\"middle\" transform=\"scale(1 -1) translate(2.05 0) scale(0.125)\">VGND</text>\n<text class=\"l64t5\" dominant-baseline=\"central\" id=\"0x556db5745440\" text-anchor=\"middle\" transform=\"scale(1 -1) translate(2.3 27.2) scale(0.1)\">VPB</text>\n<text class=\"l64t59\" dominant-baseline=\"central\" id=\"0x556db57454d0\" text-anchor=\"middle\" transform=\"scale(1 -1) translate(2.3 0) scale(0.1)\">VNB</text>\n<text class=\"l83t44\" dominant-baseline=\"text-before-edge\" id=\"0x556db5745560\" text-anchor=\"start\" transform=\"scale(1 -1) translate(0 0) rotate(-90) scale(0.1)\">fill_1</text>\n</g>\n</defs>\n<rect fill=\"#222222\" height=\"605\" stroke=\"none\" width=\"405\" x=\"-27.5\" y=\"-577.5\"/>\n<g id=\"inverter\" transform=\"scale(1 -1)\">\n<polygon class=\"l235d4\" id=\"0x556db5563260\" points=\"0,0 350,0 350,550 0,550\"/>\n<polygon class=\"l67d20\" id=\"0x556db55632d0\" points=\"259.05,422.45 260.75,422.45 260.75,424.15 259.05,424.15\"/>\n<polygon class=\"l67d20\" id=\"0x556db5563340\" points=\"249.85,415.65 251.55,415.65 251.55,417.35 249.85,417.35\"/>\n<polygon class=\"l67d20\" id=\"0x556db55633b0\" points=\"84.25,150.45 85.95,150.45 85.95,152.15 84.25,152.15\"/>\n<polygon class=\"l67d20\" id=\"0x556db5563420\" points=\"75.05,140.25 76.75,140.25 76.75,141.95 75.05,141.95\"/>\n<polygon class=\"l67d20\" id=\"0x556db5563490\" points=\"75.05,130.05 76.75,130.05 76.75,131.75 75.05,131.75\"/>\n<polygon class=\"l67d20\" id=\"0x556db5563500\" points=\"84.25,119.85 85.95,119.85 85.95,121.55 84.25,121.55\"/>\n<polygon class=\"l67d44\" id=\"0x556db5563570\" points=\"259.05,422.45 260.75,422.45 260.75,424.15 259.05,424.15\"/>\n<polygon class=\"l67d44\" id=\"0x556db55635e0\" points=\"249.85,415.65 251.55,415.65 251.55,417.35 249.85,417.35\"/>\n<polygon class=\"l67d44\" id=\"0x556db5563650\" points=\"84.25,150.45 85.95,150.45 85.95,152.15 84.25,152.15\"/>\n<polygon class=\"l67d44\" id=\"0x556db55636c0\" points=\"75.05,140.25 76.75,140.25 76.75,141.95 75.05,141.95\"/>\n<polygon class=\"l67d44\" id=\"0x556db5563730\" points=\"75.05,130.05 76.75,130.05 76.75,131.75 75.05,131.75\"/>\n<polygon class=\"l67d44\" id=\"0x556db55637a0\" points=\"84.25,119.85 85.95,119.85 85.95,121.55 84.25,121.55\"/>\n<polygon class=\"l68d20\" id=\"0x556db5563810\" points=\"55.2,432.8 294.4,432.8 294.4,437.6 55.2,437.6\"/>\n<polygon class=\"l68d20\" id=\"0x556db5563880\" points=\"258.45,424 261.35,424 261.35,424.45 258.45,424.45\"/>\n<polygon class=\"l68d20\" id=\"0x556db55638f0\" points=\"322.7,424 325.9,424 325.9,424.6 322.7,424.6\"/>\n<polygon class=\"l68d20\" id=\"0x556db5563960\" points=\"258.45,422.6 325.9,422.6 325.9,424 258.45,424\"/>\n<polygon class=\"l68d20\" id=\"0x556db55639d0\" points=\"258.45,422.15 261.35,422.15 261.35,422.6 258.45,422.6\"/>\n<polygon class=\"l68d20\" id=\"0x556db5563a40\" points=\"322.7,422 325.9,422 325.9,422.6 322.7,422.6\"/>\n<polygon class=\"l68d20\" id=\"0x556db5563ab0\" points=\"249.1,417.2 252.3,417.2 252.3,417.8 249.1,417.8\"/>\n<polygon class=\"l68d20\" id=\"0x556db5563b20\" points=\"247.15,415.8 252.3,415.8 252.3,417.2 247.15,417.2\"/>\n<polygon class=\"l68d20\" id=\"0x556db5563b90\" points=\"249.1,415.2 252.3,415.2 252.3,415.8 249.1,415.8\"/>\n<polygon class=\"l68d20\" id=\"0x556db5563c00\" points=\"55.2,405.6 294.4,405.6 294.4,410.4 55.2,410.4\"/>\n<polygon class=\"l68d20\" id=\"0x556db5563c70\" points=\"55.2,378.4 294.4,378.4 294.4,383.2 55.2,383.2\"/>\n<polygon class=\"l68d20\" id=\"0x556db5563ce0\" points=\"55.2,351.2 294.4,351.2 294.4,356 55.2,356\"/>\n<polygon class=\"l68d20\" id=\"0x556db5563d50\" points=\"55.2,324 294.4,324 294.4,328.8 55.2,328.8\"/>\n<polygon class=\"l68d20\" id=\"0x556db5563dc0\" points=\"55.2,296.8 294.4,296.8 294.4,301.6 55.2,301.6\"/>\n<polygon class=\"l68d20\" id=\"0x556db5563e30\" points=\"55.2,269.6 294.4,269.6 294.4,274.4 55.2,274.4\"/>\n<polygon class=\"l68d20\" id=\"0x556db5563ea0\" points=\"55.2,242.4 294.4,242.4 294.4,247.2 55.2,247.2\"/>\n<polygon class=\"l68d20\" id=\"0x556db5563f10\" points=\"55.2,215.2 294.4,215.2 294.4,220 55.2,220\"/>\n<polygon class=\"l68d20\" id=\"0x556db5563f80\" points=\"55.2,188 294.4,188 294.4,192.8 55.2,192.8\"/>\n<polygon class=\"l68d20\" id=\"0x556db5563ff0\" points=\"55.2,160.8 294.4,160.8 294.4,165.6 55.2,165.6\"/>\n<polygon class=\"l68d20\" id=\"0x556db5564060\" points=\"69.7,152 72.9,152 72.9,152.6 69.7,152.6\"/>\n<polygon class=\"l68d20\" id=\"0x556db55640d0\" points=\"83.65,152 86.55,152 86.55,152.45 83.65,152.45\"/>\n<polygon class=\"l68d20\" id=\"0x556db5564140\" points=\"69.7,150.6 86.55,150.6 86.55,152 69.7,152\"/>\n<polygon class=\"l68d20\" id=\"0x556db55641b0\" points=\"69.7,150 72.9,150 72.9,150.6 69.7,150.6\"/>\n<polygon class=\"l68d20\" id=\"0x556db5564220\" points=\"83.65,150.15 86.55,150.15 86.55,150.6 83.65,150.6\"/>\n<polygon class=\"l68d20\" id=\"0x556db5564290\" points=\"0.7,141.8 3.9,141.8 3.9,142.4 0.7,142.4\"/>\n<polygon class=\"l68d20\" id=\"0x556db5564300\" points=\"74.45,141.8 77.35,141.8 77.35,142.25 74.45,142.25\"/>\n<polygon class=\"l68d20\" id=\"0x556db5564370\" points=\"0.7,140.4 77.35,140.4 77.35,141.8 0.7,141.8\"/>\n<polygon class=\"l68d20\" id=\"0x556db55643e0\" points=\"0.7,139.8 3.9,139.8 3.9,140.4 0.7,140.4\"/>\n<polygon class=\"l68d20\" id=\"0x556db5564450\" points=\"74.45,139.95 77.35,139.95 77.35,140.4 74.45,140.4\"/>\n<polygon class=\"l68d20\" id=\"0x556db55644c0\" points=\"55.2,133.6 294.4,133.6 294.4,138.4 55.2,138.4\"/>\n<polygon class=\"l68d20\" id=\"0x556db5564530\" points=\"69.7,131.6 72.9,131.6 72.9,132.2 69.7,132.2\"/>\n<polygon class=\"l68d20\" id=\"0x556db55645a0\" points=\"74.45,131.6 77.35,131.6 77.35,132.05 74.45,132.05\"/>\n<polygon class=\"l68d20\" id=\"0x556db5564610\" points=\"69.7,130.2 77.35,130.2 77.35,131.6 69.7,131.6\"/>\n<polygon class=\"l68d20\" id=\"0x556db5564680\" points=\"69.7,129.6 72.9,129.6 72.9,130.2 69.7,130.2\"/>\n<polygon class=\"l68d20\" id=\"0x556db55646f0\" points=\"74.45,129.75 77.35,129.75 77.35,130.2 74.45,130.2\"/>\n<polygon class=\"l68d20\" id=\"0x556db5564760\" points=\"83.65,121.4 86.55,121.4 86.55,121.85 83.65,121.85\"/>\n<polygon class=\"l68d20\" id=\"0x556db55647d0\" points=\"249.1,121.4 252.3,121.4 252.3,122 249.1,122\"/>\n<polygon class=\"l68d20\" id=\"0x556db5564840\" points=\"83.65,120 252.3,120 252.3,121.4 83.65,121.4\"/>\n<polygon class=\"l68d20\" id=\"0x556db55648b0\" points=\"83.65,119.55 86.55,119.55 86.55,120 83.65,120\"/>\n<polygon class=\"l68d20\" id=\"0x556db5564920\" points=\"249.1,119.4 252.3,119.4 252.3,120 249.1,120\"/>\n<polygon class=\"l68d20\" id=\"0x556db5564990\" points=\"55.2,106.4 294.4,106.4 294.4,111.2 55.2,111.2\"/>\n<polygon class=\"l68d44\" id=\"0x556db5564a00\" points=\"107.95,434.45 109.45,434.45 109.45,435.95 107.95,435.95\"/>\n<polygon class=\"l68d44\" id=\"0x556db5564a70\" points=\"111.15,434.45 112.65,434.45 112.65,435.95 111.15,435.95\"/>\n<polygon class=\"l68d44\" id=\"0x556db5564ae0\" points=\"114.35,434.45 115.85,434.45 115.85,435.95 114.35,435.95\"/>\n<polygon class=\"l68d44\" id=\"0x556db5564b50\" points=\"117.55,434.45 119.05,434.45 119.05,435.95 117.55,435.95\"/>\n<polygon class=\"l68d44\" id=\"0x556db5564bc0\" points=\"120.75,434.45 122.25,434.45 122.25,435.95 120.75,435.95\"/>\n<polygon class=\"l68d44\" id=\"0x556db5564c30\" points=\"167.85,434.45 169.35,434.45 169.35,435.95 167.85,435.95\"/>\n<polygon class=\"l68d44\" id=\"0x556db5564ca0\" points=\"171.05,434.45 172.55,434.45 172.55,435.95 171.05,435.95\"/>\n<polygon class=\"l68d44\" id=\"0x556db5564d10\" points=\"174.25,434.45 175.75,434.45 175.75,435.95 174.25,435.95\"/>\n<polygon class=\"l68d44\" id=\"0x556db5564d80\" points=\"177.45,434.45 178.95,434.45 178.95,435.95 177.45,435.95\"/>\n<polygon class=\"l68d44\" id=\"0x556db5564df0\" points=\"180.65,434.45 182.15,434.45 182.15,435.95 180.65,435.95\"/>\n<polygon class=\"l68d44\" id=\"0x556db5564e60\" points=\"227.75,434.45 229.25,434.45 229.25,435.95 227.75,435.95\"/>\n<polygon class=\"l68d44\" id=\"0x556db5564ed0\" points=\"230.95,434.45 232.45,434.45 232.45,435.95 230.95,435.95\"/>\n<polygon class=\"l68d44\" id=\"0x556db5564f40\" points=\"234.15,434.45 235.65,434.45 235.65,435.95 234.15,435.95\"/>\n<polygon class=\"l68d44\" id=\"0x556db5564fb0\" points=\"237.35,434.45 238.85,434.45 238.85,435.95 237.35,435.95\"/>\n<polygon class=\"l68d44\" id=\"0x556db5565020\" points=\"240.55,434.45 242.05,434.45 242.05,435.95 240.55,435.95\"/>\n<polygon class=\"l68d44\" id=\"0x556db5565090\" points=\"323.55,422.55 325.05,422.55 325.05,424.05 323.55,424.05\"/>\n<polygon class=\"l68d44\" id=\"0x556db5565100\" points=\"249.95,415.75 251.45,415.75 251.45,417.25 249.95,417.25\"/>\n<polygon class=\"l68d44\" id=\"0x556db5565170\" points=\"78,407.25 79.5,407.25 79.5,408.75 78,408.75\"/>\n<polygon class=\"l68d44\" id=\"0x556db55651e0\" points=\"81.2,407.25 82.7,407.25 82.7,408.75 81.2,408.75\"/>\n<polygon class=\"l68d44\" id=\"0x556db5565250\" points=\"84.4,407.25 85.9,407.25 85.9,408.75 84.4,408.75\"/>\n<polygon class=\"l68d44\" id=\"0x556db55652c0\" points=\"87.6,407.25 89.1,407.25 89.1,408.75 87.6,408.75\"/>\n<polygon class=\"l68d44\" id=\"0x556db5565330\" points=\"90.8,407.25 92.3,407.25 92.3,408.75 90.8,408.75\"/>\n<polygon class=\"l68d44\" id=\"0x556db55653a0\" points=\"137.9,407.25 139.4,407.25 139.4,408.75 137.9,408.75\"/>\n<polygon class=\"l68d44\" id=\"0x556db5565410\" points=\"141.1,407.25 142.6,407.25 142.6,408.75 141.1,408.75\"/>\n<polygon class=\"l68d44\" id=\"0x556db5565480\" points=\"144.3,407.25 145.8,407.25 145.8,408.75 144.3,408.75\"/>\n<polygon class=\"l68d44\" id=\"0x556db55654f0\" points=\"147.5,407.25 149,407.25 149,408.75 147.5,408.75\"/>\n<polygon class=\"l68d44\" id=\"0x556db5565560\" points=\"150.7,407.25 152.2,407.25 152.2,408.75 150.7,408.75\"/>\n<polygon class=\"l68d44\" id=\"0x556db55655d0\" points=\"197.8,407.25 199.3,407.25 199.3,408.75 197.8,408.75\"/>\n<polygon class=\"l68d44\" id=\"0x556db5565640\" points=\"201,407.25 202.5,407.25 202.5,408.75 201,408.75\"/>\n<polygon class=\"l68d44\" id=\"0x556db55656b0\" points=\"204.2,407.25 205.7,407.25 205.7,408.75 204.2,408.75\"/>\n<polygon class=\"l68d44\" id=\"0x556db5565720\" points=\"207.4,407.25 208.9,407.25 208.9,408.75 207.4,408.75\"/>\n<polygon class=\"l68d44\" id=\"0x556db5565790\" points=\"210.6,407.25 212.1,407.25 212.1,408.75 210.6,408.75\"/>\n<polygon class=\"l68d44\" id=\"0x556db5565800\" points=\"257.7,407.25 259.2,407.25 259.2,408.75 257.7,408.75\"/>\n<polygon class=\"l68d44\" id=\"0x556db5565870\" points=\"260.9,407.25 262.4,407.25 262.4,408.75 260.9,408.75\"/>\n<polygon class=\"l68d44\" id=\"0x556db55658e0\" points=\"264.1,407.25 265.6,407.25 265.6,408.75 264.1,408.75\"/>\n<polygon class=\"l68d44\" id=\"0x556db5565950\" points=\"267.3,407.25 268.8,407.25 268.8,408.75 267.3,408.75\"/>\n<polygon class=\"l68d44\" id=\"0x556db55659c0\" points=\"270.5,407.25 272,407.25 272,408.75 270.5,408.75\"/>\n<polygon class=\"l68d44\" id=\"0x556db5565a30\" points=\"107.95,380.05 109.45,380.05 109.45,381.55 107.95,381.55\"/>\n<polygon class=\"l68d44\" id=\"0x556db5565aa0\" points=\"111.15,380.05 112.65,380.05 112.65,381.55 111.15,381.55\"/>\n<polygon class=\"l68d44\" id=\"0x556db5565b10\" points=\"114.35,380.05 115.85,380.05 115.85,381.55 114.35,381.55\"/>\n<polygon class=\"l68d44\" id=\"0x556db5565b80\" points=\"117.55,380.05 119.05,380.05 119.05,381.55 117.55,381.55\"/>\n<polygon class=\"l68d44\" id=\"0x556db5565bf0\" points=\"120.75,380.05 122.25,380.05 122.25,381.55 120.75,381.55\"/>\n<polygon class=\"l68d44\" id=\"0x556db5565c60\" points=\"167.85,380.05 169.35,380.05 169.35,381.55 167.85,381.55\"/>\n<polygon class=\"l68d44\" id=\"0x556db5565cd0\" points=\"171.05,380.05 172.55,380.05 172.55,381.55 171.05,381.55\"/>\n<polygon class=\"l68d44\" id=\"0x556db5565d40\" points=\"174.25,380.05 175.75,380.05 175.75,381.55 174.25,381.55\"/>\n<polygon class=\"l68d44\" id=\"0x556db5565db0\" points=\"177.45,380.05 178.95,380.05 178.95,381.55 177.45,381.55\"/>\n<polygon class=\"l68d44\" id=\"0x556db5565e20\" points=\"180.65,380.05 182.15,380.05 182.15,381.55 180.65,381.55\"/>\n<polygon class=\"l68d44\" id=\"0x556db5565e90\" points=\"227.75,380.05 229.25,380.05 229.25,381.55 227.75,381.55\"/>\n<polygon class=\"l68d44\" id=\"0x556db5565f00\" points=\"230.95,380.05 232.45,380.05 232.45,381.55 230.95,381.55\"/>\n<polygon class=\"l68d44\" id=\"0x556db5565f70\" points=\"234.15,380.05 235.65,380.05 235.65,381.55 234.15,381.55\"/>\n<polygon class=\"l68d44\" id=\"0x556db56e8000\" points=\"237.35,380.05 238.85,380.05 238.85,381.55 237.35,381.55\"/>\n<polygon class=\"l68d44\" id=\"0x556db56e8070\" points=\"240.55,380.05 242.05,380.05 242.05,381.55 240.55,381.55\"/>\n<polygon class=\"l68d44\" id=\"0x556db56e80e0\" points=\"78,352.85 79.5,352.85 79.5,354.35 78,354.35\"/>\n<polygon class=\"l68d44\" id=\"0x556db56e8150\" points=\"81.2,352.85 82.7,352.85 82.7,354.35 81.2,354.35\"/>\n<polygon class=\"l68d44\" id=\"0x556db56e81c0\" points=\"84.4,352.85 85.9,352.85 85.9,354.35 84.4,354.35\"/>\n<polygon class=\"l68d44\" id=\"0x556db56e8230\" points=\"87.6,352.85 89.1,352.85 89.1,354.35 87.6,354.35\"/>\n<polygon class=\"l68d44\" id=\"0x556db56e82a0\" points=\"90.8,352.85 92.3,352.85 92.3,354.35 90.8,354.35\"/>\n<polygon class=\"l68d44\" id=\"0x556db56e8310\" points=\"137.9,352.85 139.4,352.85 139.4,354.35 137.9,354.35\"/>\n<polygon class=\"l68d44\" id=\"0x556db56e8380\" points=\"141.1,352.85 142.6,352.85 142.6,354.35 141.1,354.35\"/>\n<polygon class=\"l68d44\" id=\"0x556db56e83f0\" points=\"144.3,352.85 145.8,352.85 145.8,354.35 144.3,354.35\"/>\n<polygon class=\"l68d44\" id=\"0x556db56e8460\" points=\"147.5,352.85 149,352.85 149,354.35 147.5,354.35\"/>\n<polygon class=\"l68d44\" id=\"0x556db56e84d0\" points=\"150.7,352.85 152.2,352.85 152.2,354.35 150.7,354.35\"/>\n<polygon class=\"l68d44\" id=\"0x556db56e8540\" points=\"197.8,352.85 199.3,352.85 199.3,354.35 197.8,354.35\"/>\n<polygon class=\"l68d44\" id=\"0x556db56e85b0\" points=\"201,352.85 202.5,352.85 202.5,354.35 201,354.35\"/>\n<polygon class=\"l68d44\" id=\"0x556db56e8620\" points=\"204.2,352.85 205.7,352.85 205.7,354.35 204.2,354.35\"/>\n<polygon class=\"l68d44\" id=\"0x556db56e8690\" points=\"207.4,352.85 208.9,352.85 208.9,354.35 207.4,354.35\"/>\n<polygon class=\"l68d44\" id=\"0x556db56e8700\" points=\"210.6,352.85 212.1,352.85 212.1,354.35 210.6,354.35\"/>\n<polygon class=\"l68d44\" id=\"0x556db56e8770\" points=\"257.7,352.85 259.2,352.85 259.2,354.35 257.7,354.35\"/>\n<polygon class=\"l68d44\" id=\"0x556db56e87e0\" points=\"260.9,352.85 262.4,352.85 262.4,354.35 260.9,354.35\"/>\n<polygon class=\"l68d44\" id=\"0x556db56e8850\" points=\"264.1,352.85 265.6,352.85 265.6,354.35 264.1,354.35\"/>\n<polygon class=\"l68d44\" id=\"0x556db56e88c0\" points=\"267.3,352.85 268.8,352.85 268.8,354.35 267.3,354.35\"/>\n<polygon class=\"l68d44\" id=\"0x556db56e8930\" points=\"270.5,352.85 272,352.85 272,354.35 270.5,354.35\"/>\n<polygon class=\"l68d44\" id=\"0x556db56e89a0\" points=\"107.95,325.65 109.45,325.65 109.45,327.15 107.95,327.15\"/>\n<polygon class=\"l68d44\" id=\"0x556db56e8a10\" points=\"111.15,325.65 112.65,325.65 112.65,327.15 111.15,327.15\"/>\n<polygon class=\"l68d44\" id=\"0x556db56e8a80\" points=\"114.35,325.65 115.85,325.65 115.85,327.15 114.35,327.15\"/>\n<polygon class=\"l68d44\" id=\"0x556db56e8af0\" points=\"117.55,325.65 119.05,325.65 119.05,327.15 117.55,327.15\"/>\n<polygon class=\"l68d44\" id=\"0x556db56e8b60\" points=\"120.75,325.65 122.25,325.65 122.25,327.15 120.75,327.15\"/>\n<polygon class=\"l68d44\" id=\"0x556db56e8bd0\" points=\"167.85,325.65 169.35,325.65 169.35,327.15 167.85,327.15\"/>\n<polygon class=\"l68d44\" id=\"0x556db56e8c40\" points=\"171.05,325.65 172.55,325.65 172.55,327.15 171.05,327.15\"/>\n<polygon class=\"l68d44\" id=\"0x556db56e8cb0\" points=\"174.25,325.65 175.75,325.65 175.75,327.15 174.25,327.15\"/>\n<polygon class=\"l68d44\" id=\"0x556db56e8d20\" points=\"177.45,325.65 178.95,325.65 178.95,327.15 177.45,327.15\"/>\n<polygon class=\"l68d44\" id=\"0x556db56e8d90\" points=\"180.65,325.65 182.15,325.65 182.15,327.15 180.65,327.15\"/>\n<polygon class=\"l68d44\" id=\"0x556db56e8e00\" points=\"227.75,325.65 229.25,325.65 229.25,327.15 227.75,327.15\"/>\n<polygon class=\"l68d44\" id=\"0x556db56e8e70\" points=\"230.95,325.65 232.45,325.65 232.45,327.15 230.95,327.15\"/>\n<polygon class=\"l68d44\" id=\"0x556db56e8ee0\" points=\"234.15,325.65 235.65,325.65 235.65,327.15 234.15,327.15\"/>\n<polygon class=\"l68d44\" id=\"0x556db56e8f50\" points=\"237.35,325.65 238.85,325.65 238.85,327.15 237.35,327.15\"/>\n<polygon class=\"l68d44\" id=\"0x556db56e8fc0\" points=\"240.55,325.65 242.05,325.65 242.05,327.15 240.55,327.15\"/>\n<polygon class=\"l68d44\" id=\"0x556db56e9030\" points=\"78,298.45 79.5,298.45 79.5,299.95 78,299.95\"/>\n<polygon class=\"l68d44\" id=\"0x556db56e90a0\" points=\"81.2,298.45 82.7,298.45 82.7,299.95 81.2,299.95\"/>\n<polygon class=\"l68d44\" id=\"0x556db56e9110\" points=\"84.4,298.45 85.9,298.45 85.9,299.95 84.4,299.95\"/>\n<polygon class=\"l68d44\" id=\"0x556db56e9180\" points=\"87.6,298.45 89.1,298.45 89.1,299.95 87.6,299.95\"/>\n<polygon class=\"l68d44\" id=\"0x556db56e91f0\" points=\"90.8,298.45 92.3,298.45 92.3,299.95 90.8,299.95\"/>\n<polygon class=\"l68d44\" id=\"0x556db56e9260\" points=\"137.9,298.45 139.4,298.45 139.4,299.95 137.9,299.95\"/>\n<polygon class=\"l68d44\" id=\"0x556db56e92d0\" points=\"141.1,298.45 142.6,298.45 142.6,299.95 141.1,299.95\"/>\n<polygon class=\"l68d44\" id=\"0x556db56e9340\" points=\"144.3,298.45 145.8,298.45 145.8,299.95 144.3,299.95\"/>\n<polygon class=\"l68d44\" id=\"0x556db56e93b0\" points=\"147.5,298.45 149,298.45 149,299.95 147.5,299.95\"/>\n<polygon class=\"l68d44\" id=\"0x556db56e9420\" points=\"150.7,298.45 152.2,298.45 152.2,299.95 150.7,299.95\"/>\n<polygon class=\"l68d44\" id=\"0x556db56e9490\" points=\"197.8,298.45 199.3,298.45 199.3,299.95 197.8,299.95\"/>\n<polygon class=\"l68d44\" id=\"0x556db56e9500\" points=\"201,298.45 202.5,298.45 202.5,299.95 201,299.95\"/>\n<polygon class=\"l68d44\" id=\"0x556db56e9570\" points=\"204.2,298.45 205.7,298.45 205.7,299.95 204.2,299.95\"/>\n<polygon class=\"l68d44\" id=\"0x556db56e95e0\" points=\"207.4,298.45 208.9,298.45 208.9,299.95 207.4,299.95\"/>\n<polygon class=\"l68d44\" id=\"0x556db56e9650\" points=\"210.6,298.45 212.1,298.45 212.1,299.95 210.6,299.95\"/>\n<polygon class=\"l68d44\" id=\"0x556db56e96c0\" points=\"257.7,298.45 259.2,298.45 259.2,299.95 257.7,299.95\"/>\n<polygon class=\"l68d44\" id=\"0x556db56e9730\" points=\"260.9,298.45 262.4,298.45 262.4,299.95 260.9,299.95\"/>\n<polygon class=\"l68d44\" id=\"0x556db56e97a0\" points=\"264.1,298.45 265.6,298.45 265.6,299.95 264.1,299.95\"/>\n<polygon class=\"l68d44\" id=\"0x556db56e9810\" points=\"267.3,298.45 268.8,298.45 268.8,299.95 267.3,299.95\"/>\n<polygon class=\"l68d44\" id=\"0x556db56e9880\" points=\"270.5,298.45 272,298.45 272,299.95 270.5,299.95\"/>\n<polygon class=\"l68d44\" id=\"0x556db56e98f0\" points=\"107.95,271.25 109.45,271.25 109.45,272.75 107.95,272.75\"/>\n<polygon class=\"l68d44\" id=\"0x556db56e9960\" points=\"111.15,271.25 112.65,271.25 112.65,272.75 111.15,272.75\"/>\n<polygon class=\"l68d44\" id=\"0x556db56e99d0\" points=\"114.35,271.25 115.85,271.25 115.85,272.75 114.35,272.75\"/>\n<polygon class=\"l68d44\" id=\"0x556db56e9a40\" points=\"117.55,271.25 119.05,271.25 119.05,272.75 117.55,272.75\"/>\n<polygon class=\"l68d44\" id=\"0x556db56e9ab0\" points=\"120.75,271.25 122.25,271.25 122.25,272.75 120.75,272.75\"/>\n<polygon class=\"l68d44\" id=\"0x556db56e9b20\" points=\"167.85,271.25 169.35,271.25 169.35,272.75 167.85,272.75\"/>\n<polygon class=\"l68d44\" id=\"0x556db56e9b90\" points=\"171.05,271.25 172.55,271.25 172.55,272.75 171.05,272.75\"/>\n<polygon class=\"l68d44\" id=\"0x556db56e9c00\" points=\"174.25,271.25 175.75,271.25 175.75,272.75 174.25,272.75\"/>\n<polygon class=\"l68d44\" id=\"0x556db56e9c70\" points=\"177.45,271.25 178.95,271.25 178.95,272.75 177.45,272.75\"/>\n<polygon class=\"l68d44\" id=\"0x556db56e9ce0\" points=\"180.65,271.25 182.15,271.25 182.15,272.75 180.65,272.75\"/>\n<polygon class=\"l68d44\" id=\"0x556db56e9d50\" points=\"227.75,271.25 229.25,271.25 229.25,272.75 227.75,272.75\"/>\n<polygon class=\"l68d44\" id=\"0x556db56e9dc0\" points=\"230.95,271.25 232.45,271.25 232.45,272.75 230.95,272.75\"/>\n<polygon class=\"l68d44\" id=\"0x556db56e9e30\" points=\"234.15,271.25 235.65,271.25 235.65,272.75 234.15,272.75\"/>\n<polygon class=\"l68d44\" id=\"0x556db56e9ea0\" points=\"237.35,271.25 238.85,271.25 238.85,272.75 237.35,272.75\"/>\n<polygon class=\"l68d44\" id=\"0x556db56e9f10\" points=\"240.55,271.25 242.05,271.25 242.05,272.75 240.55,272.75\"/>\n<polygon class=\"l68d44\" id=\"0x556db56e9f80\" points=\"78,244.05 79.5,244.05 79.5,245.55 78,245.55\"/>\n<polygon class=\"l68d44\" id=\"0x556db56e9ff0\" points=\"81.2,244.05 82.7,244.05 82.7,245.55 81.2,245.55\"/>\n<polygon class=\"l68d44\" id=\"0x556db56ea060\" points=\"84.4,244.05 85.9,244.05 85.9,245.55 84.4,245.55\"/>\n<polygon class=\"l68d44\" id=\"0x556db56ea0d0\" points=\"87.6,244.05 89.1,244.05 89.1,245.55 87.6,245.55\"/>\n<polygon class=\"l68d44\" id=\"0x556db56ea140\" points=\"90.8,244.05 92.3,244.05 92.3,245.55 90.8,245.55\"/>\n<polygon class=\"l68d44\" id=\"0x556db56ea1b0\" points=\"137.9,244.05 139.4,244.05 139.4,245.55 137.9,245.55\"/>\n<polygon class=\"l68d44\" id=\"0x556db56ea220\" points=\"141.1,244.05 142.6,244.05 142.6,245.55 141.1,245.55\"/>\n<polygon class=\"l68d44\" id=\"0x556db56ea290\" points=\"144.3,244.05 145.8,244.05 145.8,245.55 144.3,245.55\"/>\n<polygon class=\"l68d44\" id=\"0x556db56ea300\" points=\"147.5,244.05 149,244.05 149,245.55 147.5,245.55\"/>\n<polygon class=\"l68d44\" id=\"0x556db56ea370\" points=\"150.7,244.05 152.2,244.05 152.2,245.55 150.7,245.55\"/>\n<polygon class=\"l68d44\" id=\"0x556db56ea3e0\" points=\"197.8,244.05 199.3,244.05 199.3,245.55 197.8,245.55\"/>\n<polygon class=\"l68d44\" id=\"0x556db56ea450\" points=\"201,244.05 202.5,244.05 202.5,245.55 201,245.55\"/>\n<polygon class=\"l68d44\" id=\"0x556db56ea4c0\" points=\"204.2,244.05 205.7,244.05 205.7,245.55 204.2,245.55\"/>\n<polygon class=\"l68d44\" id=\"0x556db56ea530\" points=\"207.4,244.05 208.9,244.05 208.9,245.55 207.4,245.55\"/>\n<polygon class=\"l68d44\" id=\"0x556db56ea5a0\" points=\"210.6,244.05 212.1,244.05 212.1,245.55 210.6,245.55\"/>\n<polygon class=\"l68d44\" id=\"0x556db56ea610\" points=\"257.7,244.05 259.2,244.05 259.2,245.55 257.7,245.55\"/>\n<polygon class=\"l68d44\" id=\"0x556db56ea680\" points=\"260.9,244.05 262.4,244.05 262.4,245.55 260.9,245.55\"/>\n<polygon class=\"l68d44\" id=\"0x556db56ea6f0\" points=\"264.1,244.05 265.6,244.05 265.6,245.55 264.1,245.55\"/>\n<polygon class=\"l68d44\" id=\"0x556db56ea760\" points=\"267.3,244.05 268.8,244.05 268.8,245.55 267.3,245.55\"/>\n<polygon class=\"l68d44\" id=\"0x556db56ea7d0\" points=\"270.5,244.05 272,244.05 272,245.55 270.5,245.55\"/>\n<polygon class=\"l68d44\" id=\"0x556db56ea840\" points=\"107.95,216.85 109.45,216.85 109.45,218.35 107.95,218.35\"/>\n<polygon class=\"l68d44\" id=\"0x556db56ea8b0\" points=\"111.15,216.85 112.65,216.85 112.65,218.35 111.15,218.35\"/>\n<polygon class=\"l68d44\" id=\"0x556db56ea920\" points=\"114.35,216.85 115.85,216.85 115.85,218.35 114.35,218.35\"/>\n<polygon class=\"l68d44\" id=\"0x556db56ea990\" points=\"117.55,216.85 119.05,216.85 119.05,218.35 117.55,218.35\"/>\n<polygon class=\"l68d44\" id=\"0x556db56eaa00\" points=\"120.75,216.85 122.25,216.85 122.25,218.35 120.75,218.35\"/>\n<polygon class=\"l68d44\" id=\"0x556db56eaa70\" points=\"167.85,216.85 169.35,216.85 169.35,218.35 167.85,218.35\"/>\n<polygon class=\"l68d44\" id=\"0x556db56eaae0\" points=\"171.05,216.85 172.55,216.85 172.55,218.35 171.05,218.35\"/>\n<polygon class=\"l68d44\" id=\"0x556db56eab50\" points=\"174.25,216.85 175.75,216.85 175.75,218.35 174.25,218.35\"/>\n<polygon class=\"l68d44\" id=\"0x556db56eabc0\" points=\"177.45,216.85 178.95,216.85 178.95,218.35 177.45,218.35\"/>\n<polygon class=\"l68d44\" id=\"0x556db56eac30\" points=\"180.65,216.85 182.15,216.85 182.15,218.35 180.65,218.35\"/>\n<polygon class=\"l68d44\" id=\"0x556db56eaca0\" points=\"227.75,216.85 229.25,216.85 229.25,218.35 227.75,218.35\"/>\n<polygon class=\"l68d44\" id=\"0x556db56ead10\" points=\"230.95,216.85 232.45,216.85 232.45,218.35 230.95,218.35\"/>\n<polygon class=\"l68d44\" id=\"0x556db56ead80\" points=\"234.15,216.85 235.65,216.85 235.65,218.35 234.15,218.35\"/>\n<polygon class=\"l68d44\" id=\"0x556db56eadf0\" points=\"237.35,216.85 238.85,216.85 238.85,218.35 237.35,218.35\"/>\n<polygon class=\"l68d44\" id=\"0x556db56eae60\" points=\"240.55,216.85 242.05,216.85 242.05,218.35 240.55,218.35\"/>\n<polygon class=\"l68d44\" id=\"0x556db56eaed0\" points=\"78,189.65 79.5,189.65 79.5,191.15 78,191.15\"/>\n<polygon class=\"l68d44\" id=\"0x556db56eaf40\" points=\"81.2,189.65 82.7,189.65 82.7,191.15 81.2,191.15\"/>\n<polygon class=\"l68d44\" id=\"0x556db56eafb0\" points=\"84.4,189.65 85.9,189.65 85.9,191.15 84.4,191.15\"/>\n<polygon class=\"l68d44\" id=\"0x556db56eb020\" points=\"87.6,189.65 89.1,189.65 89.1,191.15 87.6,191.15\"/>\n<polygon class=\"l68d44\" id=\"0x556db56eb090\" points=\"90.8,189.65 92.3,189.65 92.3,191.15 90.8,191.15\"/>\n<polygon class=\"l68d44\" id=\"0x556db56eb100\" points=\"137.9,189.65 139.4,189.65 139.4,191.15 137.9,191.15\"/>\n<polygon class=\"l68d44\" id=\"0x556db56eb170\" points=\"141.1,189.65 142.6,189.65 142.6,191.15 141.1,191.15\"/>\n<polygon class=\"l68d44\" id=\"0x556db56eb1e0\" points=\"144.3,189.65 145.8,189.65 145.8,191.15 144.3,191.15\"/>\n<polygon class=\"l68d44\" id=\"0x556db56eb250\" points=\"147.5,189.65 149,189.65 149,191.15 147.5,191.15\"/>\n<polygon class=\"l68d44\" id=\"0x556db56eb2c0\" points=\"150.7,189.65 152.2,189.65 152.2,191.15 150.7,191.15\"/>\n<polygon class=\"l68d44\" id=\"0x556db56eb330\" points=\"197.8,189.65 199.3,189.65 199.3,191.15 197.8,191.15\"/>\n<polygon class=\"l68d44\" id=\"0x556db56eb3a0\" points=\"201,189.65 202.5,189.65 202.5,191.15 201,191.15\"/>\n<polygon class=\"l68d44\" id=\"0x556db56eb410\" points=\"204.2,189.65 205.7,189.65 205.7,191.15 204.2,191.15\"/>\n<polygon class=\"l68d44\" id=\"0x556db56eb480\" points=\"207.4,189.65 208.9,189.65 208.9,191.15 207.4,191.15\"/>\n<polygon class=\"l68d44\" id=\"0x556db56eb4f0\" points=\"210.6,189.65 212.1,189.65 212.1,191.15 210.6,191.15\"/>\n<polygon class=\"l68d44\" id=\"0x556db56eb560\" points=\"257.7,189.65 259.2,189.65 259.2,191.15 257.7,191.15\"/>\n<polygon class=\"l68d44\" id=\"0x556db56eb5d0\" points=\"260.9,189.65 262.4,189.65 262.4,191.15 260.9,191.15\"/>\n<polygon class=\"l68d44\" id=\"0x556db56eb640\" points=\"264.1,189.65 265.6,189.65 265.6,191.15 264.1,191.15\"/>\n<polygon class=\"l68d44\" id=\"0x556db56eb6b0\" points=\"267.3,189.65 268.8,189.65 268.8,191.15 267.3,191.15\"/>\n<polygon class=\"l68d44\" id=\"0x556db56eb720\" points=\"270.5,189.65 272,189.65 272,191.15 270.5,191.15\"/>\n<polygon class=\"l68d44\" id=\"0x556db56eb790\" points=\"107.95,162.45 109.45,162.45 109.45,163.95 107.95,163.95\"/>\n<polygon class=\"l68d44\" id=\"0x556db56eb800\" points=\"111.15,162.45 112.65,162.45 112.65,163.95 111.15,163.95\"/>\n<polygon class=\"l68d44\" id=\"0x556db56eb870\" points=\"114.35,162.45 115.85,162.45 115.85,163.95 114.35,163.95\"/>\n<polygon class=\"l68d44\" id=\"0x556db56eb8e0\" points=\"117.55,162.45 119.05,162.45 119.05,163.95 117.55,163.95\"/>\n<polygon class=\"l68d44\" id=\"0x556db56eb950\" points=\"120.75,162.45 122.25,162.45 122.25,163.95 120.75,163.95\"/>\n<polygon class=\"l68d44\" id=\"0x556db56eb9c0\" points=\"167.85,162.45 169.35,162.45 169.35,163.95 167.85,163.95\"/>\n<polygon class=\"l68d44\" id=\"0x556db56eba30\" points=\"171.05,162.45 172.55,162.45 172.55,163.95 171.05,163.95\"/>\n<polygon class=\"l68d44\" id=\"0x556db56ebaa0\" points=\"174.25,162.45 175.75,162.45 175.75,163.95 174.25,163.95\"/>\n<polygon class=\"l68d44\" id=\"0x556db56ebb10\" points=\"177.45,162.45 178.95,162.45 178.95,163.95 177.45,163.95\"/>\n<polygon class=\"l68d44\" id=\"0x556db56ebb80\" points=\"180.65,162.45 182.15,162.45 182.15,163.95 180.65,163.95\"/>\n<polygon class=\"l68d44\" id=\"0x556db56ebbf0\" points=\"227.75,162.45 229.25,162.45 229.25,163.95 227.75,163.95\"/>\n<polygon class=\"l68d44\" id=\"0x556db56ebc60\" points=\"230.95,162.45 232.45,162.45 232.45,163.95 230.95,163.95\"/>\n<polygon class=\"l68d44\" id=\"0x556db56ebcd0\" points=\"234.15,162.45 235.65,162.45 235.65,163.95 234.15,163.95\"/>\n<polygon class=\"l68d44\" id=\"0x556db56ebd40\" points=\"237.35,162.45 238.85,162.45 238.85,163.95 237.35,163.95\"/>\n<polygon class=\"l68d44\" id=\"0x556db56ebdb0\" points=\"240.55,162.45 242.05,162.45 242.05,163.95 240.55,163.95\"/>\n<polygon class=\"l68d44\" id=\"0x556db56ebe20\" points=\"70.55,150.55 72.05,150.55 72.05,152.05 70.55,152.05\"/>\n<polygon class=\"l68d44\" id=\"0x556db56ebe90\" points=\"1.55,140.35 3.05,140.35 3.05,141.85 1.55,141.85\"/>\n<polygon class=\"l68d44\" id=\"0x556db56ebf00\" points=\"78,135.25 79.5,135.25 79.5,136.75 78,136.75\"/>\n<polygon class=\"l68d44\" id=\"0x556db56ebf70\" points=\"81.2,135.25 82.7,135.25 82.7,136.75 81.2,136.75\"/>\n<polygon class=\"l68d44\" id=\"0x556db56ec000\" points=\"84.4,135.25 85.9,135.25 85.9,136.75 84.4,136.75\"/>\n<polygon class=\"l68d44\" id=\"0x556db56ec070\" points=\"87.6,135.25 89.1,135.25 89.1,136.75 87.6,136.75\"/>\n<polygon class=\"l68d44\" id=\"0x556db56ec0e0\" points=\"90.8,135.25 92.3,135.25 92.3,136.75 90.8,136.75\"/>\n<polygon class=\"l68d44\" id=\"0x556db56ec150\" points=\"137.9,135.25 139.4,135.25 139.4,136.75 137.9,136.75\"/>\n<polygon class=\"l68d44\" id=\"0x556db56ec1c0\" points=\"141.1,135.25 142.6,135.25 142.6,136.75 141.1,136.75\"/>\n<polygon class=\"l68d44\" id=\"0x556db56ec230\" points=\"144.3,135.25 145.8,135.25 145.8,136.75 144.3,136.75\"/>\n<polygon class=\"l68d44\" id=\"0x556db56ec2a0\" points=\"147.5,135.25 149,135.25 149,136.75 147.5,136.75\"/>\n<polygon class=\"l68d44\" id=\"0x556db56ec310\" points=\"150.7,135.25 152.2,135.25 152.2,136.75 150.7,136.75\"/>\n<polygon class=\"l68d44\" id=\"0x556db56ec380\" points=\"197.8,135.25 199.3,135.25 199.3,136.75 197.8,136.75\"/>\n<polygon class=\"l68d44\" id=\"0x556db56ec3f0\" points=\"201,135.25 202.5,135.25 202.5,136.75 201,136.75\"/>\n<polygon class=\"l68d44\" id=\"0x556db56ec460\" points=\"204.2,135.25 205.7,135.25 205.7,136.75 204.2,136.75\"/>\n<polygon class=\"l68d44\" id=\"0x556db56ec4d0\" points=\"207.4,135.25 208.9,135.25 208.9,136.75 207.4,136.75\"/>\n<polygon class=\"l68d44\" id=\"0x556db56ec540\" points=\"210.6,135.25 212.1,135.25 212.1,136.75 210.6,136.75\"/>\n<polygon class=\"l68d44\" id=\"0x556db56ec5b0\" points=\"257.7,135.25 259.2,135.25 259.2,136.75 257.7,136.75\"/>\n<polygon class=\"l68d44\" id=\"0x556db56ec620\" points=\"260.9,135.25 262.4,135.25 262.4,136.75 260.9,136.75\"/>\n<polygon class=\"l68d44\" id=\"0x556db56ec690\" points=\"264.1,135.25 265.6,135.25 265.6,136.75 264.1,136.75\"/>\n<polygon class=\"l68d44\" id=\"0x556db56ec700\" points=\"267.3,135.25 268.8,135.25 268.8,136.75 267.3,136.75\"/>\n<polygon class=\"l68d44\" id=\"0x556db56ec770\" points=\"270.5,135.25 272,135.25 272,136.75 270.5,136.75\"/>\n<polygon class=\"l68d44\" id=\"0x556db56ec7e0\" points=\"70.55,130.15 72.05,130.15 72.05,131.65 70.55,131.65\"/>\n<polygon class=\"l68d44\" id=\"0x556db56ec850\" points=\"249.95,119.95 251.45,119.95 251.45,121.45 249.95,121.45\"/>\n<polygon class=\"l68d44\" id=\"0x556db56ec8c0\" points=\"107.95,108.05 109.45,108.05 109.45,109.55 107.95,109.55\"/>\n<polygon class=\"l68d44\" id=\"0x556db56ec930\" points=\"111.15,108.05 112.65,108.05 112.65,109.55 111.15,109.55\"/>\n<polygon class=\"l68d44\" id=\"0x556db56ec9a0\" points=\"114.35,108.05 115.85,108.05 115.85,109.55 114.35,109.55\"/>\n<polygon class=\"l68d44\" id=\"0x556db56eca10\" points=\"117.55,108.05 119.05,108.05 119.05,109.55 117.55,109.55\"/>\n<polygon class=\"l68d44\" id=\"0x556db56eca80\" points=\"120.75,108.05 122.25,108.05 122.25,109.55 120.75,109.55\"/>\n<polygon class=\"l68d44\" id=\"0x556db56ecaf0\" points=\"167.85,108.05 169.35,108.05 169.35,109.55 167.85,109.55\"/>\n<polygon class=\"l68d44\" id=\"0x556db56ecb60\" points=\"171.05,108.05 172.55,108.05 172.55,109.55 171.05,109.55\"/>\n<polygon class=\"l68d44\" id=\"0x556db56ecbd0\" points=\"174.25,108.05 175.75,108.05 175.75,109.55 174.25,109.55\"/>\n<polygon class=\"l68d44\" id=\"0x556db56ecc40\" points=\"177.45,108.05 178.95,108.05 178.95,109.55 177.45,109.55\"/>\n<polygon class=\"l68d44\" id=\"0x556db56eccb0\" points=\"180.65,108.05 182.15,108.05 182.15,109.55 180.65,109.55\"/>\n<polygon class=\"l68d44\" id=\"0x556db56ecd20\" points=\"227.75,108.05 229.25,108.05 229.25,109.55 227.75,109.55\"/>\n<polygon class=\"l68d44\" id=\"0x556db56ecd90\" points=\"230.95,108.05 232.45,108.05 232.45,109.55 230.95,109.55\"/>\n<polygon class=\"l68d44\" id=\"0x556db56ece00\" points=\"234.15,108.05 235.65,108.05 235.65,109.55 234.15,109.55\"/>\n<polygon class=\"l68d44\" id=\"0x556db56ece70\" points=\"237.35,108.05 238.85,108.05 238.85,109.55 237.35,109.55\"/>\n<polygon class=\"l68d44\" id=\"0x556db56ecee0\" points=\"240.55,108.05 242.05,108.05 242.05,109.55 240.55,109.55\"/>\n<polygon class=\"l69d20\" id=\"0x556db56ecf50\" points=\"322.9,510 325.7,510 325.7,550 322.9,550\"/>\n<polygon class=\"l69d20\" id=\"0x556db56ecfc0\" points=\"107.4,433.35 122.8,433.35 122.8,437.05 107.4,437.05\"/>\n<polygon class=\"l69d20\" id=\"0x556db56ed030\" points=\"167.3,433.35 182.7,433.35 182.7,437.05 167.3,437.05\"/>\n<polygon class=\"l69d20\" id=\"0x556db56ed0a0\" points=\"227.2,433.35 242.6,433.35 242.6,437.05 227.2,437.05\"/>\n<polygon class=\"l69d20\" id=\"0x556db56ed110\" points=\"323.6,424.9 325,424.9 325,510 323.6,510\"/>\n<polygon class=\"l69d20\" id=\"0x556db56ed180\" points=\"323,421.7 325.6,421.7 325.6,424.9 323,424.9\"/>\n<polygon class=\"l69d20\" id=\"0x556db56ed1f0\" points=\"249.4,414.9 252,414.9 252,418.1 249.4,418.1\"/>\n<polygon class=\"l69d20\" id=\"0x556db56ed260\" points=\"77.45,406.15 92.85,406.15 92.85,409.85 77.45,409.85\"/>\n<polygon class=\"l69d20\" id=\"0x556db56ed2d0\" points=\"137.35,406.15 152.75,406.15 152.75,409.85 137.35,409.85\"/>\n<polygon class=\"l69d20\" id=\"0x556db56ed340\" points=\"197.25,406.15 212.65,406.15 212.65,409.85 197.25,409.85\"/>\n<polygon class=\"l69d20\" id=\"0x556db56ed3b0\" points=\"107.4,378.95 122.8,378.95 122.8,382.65 107.4,382.65\"/>\n<polygon class=\"l69d20\" id=\"0x556db56ed420\" points=\"167.3,378.95 182.7,378.95 182.7,382.65 167.3,382.65\"/>\n<polygon class=\"l69d20\" id=\"0x556db56ed490\" points=\"227.2,378.95 242.6,378.95 242.6,382.65 227.2,382.65\"/>\n<polygon class=\"l69d20\" id=\"0x556db56ed500\" points=\"77.45,351.75 92.85,351.75 92.85,355.45 77.45,355.45\"/>\n<polygon class=\"l69d20\" id=\"0x556db56ed570\" points=\"137.35,351.75 152.75,351.75 152.75,355.45 137.35,355.45\"/>\n<polygon class=\"l69d20\" id=\"0x556db56ed5e0\" points=\"197.25,351.75 212.65,351.75 212.65,355.45 197.25,355.45\"/>\n<polygon class=\"l69d20\" id=\"0x556db56ed650\" points=\"107.4,324.55 122.8,324.55 122.8,328.25 107.4,328.25\"/>\n<polygon class=\"l69d20\" id=\"0x556db56ed6c0\" points=\"167.3,324.55 182.7,324.55 182.7,328.25 167.3,328.25\"/>\n<polygon class=\"l69d20\" id=\"0x556db56ed730\" points=\"227.2,324.55 242.6,324.55 242.6,328.25 227.2,328.25\"/>\n<polygon class=\"l69d20\" id=\"0x556db56ed7a0\" points=\"77.45,297.35 92.85,297.35 92.85,301.05 77.45,301.05\"/>\n<polygon class=\"l69d20\" id=\"0x556db56ed810\" points=\"137.35,297.35 152.75,297.35 152.75,301.05 137.35,301.05\"/>\n<polygon class=\"l69d20\" id=\"0x556db56ed880\" points=\"197.25,297.35 212.65,297.35 212.65,301.05 197.25,301.05\"/>\n<polygon class=\"l69d20\" id=\"0x556db56ed8f0\" points=\"107.4,270.15 122.8,270.15 122.8,273.85 107.4,273.85\"/>\n<polygon class=\"l69d20\" id=\"0x556db56ed960\" points=\"167.3,270.15 182.7,270.15 182.7,273.85 167.3,273.85\"/>\n<polygon class=\"l69d20\" id=\"0x556db56ed9d0\" points=\"227.2,270.15 242.6,270.15 242.6,273.85 227.2,273.85\"/>\n<polygon class=\"l69d20\" id=\"0x556db56eda40\" points=\"77.45,242.95 92.85,242.95 92.85,246.65 77.45,246.65\"/>\n<polygon class=\"l69d20\" id=\"0x556db56edab0\" points=\"137.35,242.95 152.75,242.95 152.75,246.65 137.35,246.65\"/>\n<polygon class=\"l69d20\" id=\"0x556db56edb20\" points=\"197.25,242.95 212.65,242.95 212.65,246.65 197.25,246.65\"/>\n<polygon class=\"l69d20\" id=\"0x556db56edb90\" points=\"107.4,215.75 122.8,215.75 122.8,219.45 107.4,219.45\"/>\n<polygon class=\"l69d20\" id=\"0x556db56edc00\" points=\"167.3,215.75 182.7,215.75 182.7,219.45 167.3,219.45\"/>\n<polygon class=\"l69d20\" id=\"0x556db56edc70\" points=\"227.2,215.75 242.6,215.75 242.6,219.45 227.2,219.45\"/>\n<polygon class=\"l69d20\" id=\"0x556db56edce0\" points=\"77.45,188.55 92.85,188.55 92.85,192.25 77.45,192.25\"/>\n<polygon class=\"l69d20\" id=\"0x556db56edd50\" points=\"137.35,188.55 152.75,188.55 152.75,192.25 137.35,192.25\"/>\n<polygon class=\"l69d20\" id=\"0x556db56eddc0\" points=\"197.25,188.55 212.65,188.55 212.65,192.25 197.25,192.25\"/>\n<polygon class=\"l69d20\" id=\"0x556db56ede30\" points=\"107.4,161.35 122.8,161.35 122.8,165.05 107.4,165.05\"/>\n<polygon class=\"l69d20\" id=\"0x556db56edea0\" points=\"167.3,161.35 182.7,161.35 182.7,165.05 167.3,165.05\"/>\n<polygon class=\"l69d20\" id=\"0x556db56edf10\" points=\"227.2,161.35 242.6,161.35 242.6,165.05 227.2,165.05\"/>\n<polygon class=\"l69d20\" id=\"0x556db56edf80\" points=\"70,149.7 72.6,149.7 72.6,152.9 70,152.9\"/>\n<polygon class=\"l69d20\" id=\"0x556db56edff0\" points=\"1,139.5 3.6,139.5 3.6,142.7 1,142.7\"/>\n<polygon class=\"l69d20\" id=\"0x556db56ee060\" points=\"1.6,40 3,40 3,139.5 1.6,139.5\"/>\n<polygon class=\"l69d20\" id=\"0x556db56ee0d0\" points=\"70.6,132.5 72,132.5 72,149.7 70.6,149.7\"/>\n<polygon class=\"l69d20\" id=\"0x556db56ee140\" points=\"77.45,134.15 92.85,134.15 92.85,137.85 77.45,137.85\"/>\n<polygon class=\"l69d20\" id=\"0x556db56ee1b0\" points=\"137.35,134.15 152.75,134.15 152.75,137.85 137.35,137.85\"/>\n<polygon class=\"l69d20\" id=\"0x556db56ee220\" points=\"197.25,134.15 212.65,134.15 212.65,137.85 197.25,137.85\"/>\n<polygon class=\"l69d20\" id=\"0x556db56ee290\" points=\"70,129.3 72.6,129.3 72.6,132.5 70,132.5\"/>\n<polygon class=\"l69d20\" id=\"0x556db56ee300\" points=\"250,122.3 251.4,122.3 251.4,414.9 250,414.9\"/>\n<polygon class=\"l69d20\" id=\"0x556db56ee370\" points=\"257.15,406.15 272.55,406.15 272.55,409.85 257.15,409.85\"/>\n<polygon class=\"l69d20\" id=\"0x556db56ee3e0\" points=\"257.15,351.75 272.55,351.75 272.55,355.45 257.15,355.45\"/>\n<polygon class=\"l69d20\" id=\"0x556db56ee450\" points=\"257.15,297.35 272.55,297.35 272.55,301.05 257.15,301.05\"/>\n<polygon class=\"l69d20\" id=\"0x556db56ee4c0\" points=\"257.15,242.95 272.55,242.95 272.55,246.65 257.15,246.65\"/>\n<polygon class=\"l69d20\" id=\"0x556db56ee530\" points=\"257.15,188.55 272.55,188.55 272.55,192.25 257.15,192.25\"/>\n<polygon class=\"l69d20\" id=\"0x556db56ee5a0\" points=\"257.15,134.15 272.55,134.15 272.55,137.85 257.15,137.85\"/>\n<polygon class=\"l69d20\" id=\"0x556db56ee610\" points=\"249.4,119.1 252,119.1 252,122.3 249.4,122.3\"/>\n<polygon class=\"l69d20\" id=\"0x556db56ee680\" points=\"107.4,106.95 122.8,106.95 122.8,110.65 107.4,110.65\"/>\n<polygon class=\"l69d20\" id=\"0x556db56ee6f0\" points=\"167.3,106.95 182.7,106.95 182.7,110.65 167.3,110.65\"/>\n<polygon class=\"l69d20\" id=\"0x556db56ee760\" points=\"227.2,106.95 242.6,106.95 242.6,110.65 227.2,110.65\"/>\n<polygon class=\"l69d20\" id=\"0x556db56ee7d0\" points=\"0.9,0 3.7,0 3.7,40 0.9,40\"/>\n<polygon class=\"l69d44\" id=\"0x556db56ee840\" points=\"108.1,434.2 110.1,434.2 110.1,436.2 108.1,436.2\"/>\n<polygon class=\"l69d44\" id=\"0x556db56ee8b0\" points=\"112.1,434.2 114.1,434.2 114.1,436.2 112.1,436.2\"/>\n<polygon class=\"l69d44\" id=\"0x556db56ee920\" points=\"116.1,434.2 118.1,434.2 118.1,436.2 116.1,436.2\"/>\n<polygon class=\"l69d44\" id=\"0x556db56ee990\" points=\"120.1,434.2 122.1,434.2 122.1,436.2 120.1,436.2\"/>\n<polygon class=\"l69d44\" id=\"0x556db56eea00\" points=\"168,434.2 170,434.2 170,436.2 168,436.2\"/>\n<polygon class=\"l69d44\" id=\"0x556db56eea70\" points=\"172,434.2 174,434.2 174,436.2 172,436.2\"/>\n<polygon class=\"l69d44\" id=\"0x556db56eeae0\" points=\"176,434.2 178,434.2 178,436.2 176,436.2\"/>\n<polygon class=\"l69d44\" id=\"0x556db56eeb50\" points=\"180,434.2 182,434.2 182,436.2 180,436.2\"/>\n<polygon class=\"l69d44\" id=\"0x556db56eebc0\" points=\"227.9,434.2 229.9,434.2 229.9,436.2 227.9,436.2\"/>\n<polygon class=\"l69d44\" id=\"0x556db56eec30\" points=\"231.9,434.2 233.9,434.2 233.9,436.2 231.9,436.2\"/>\n<polygon class=\"l69d44\" id=\"0x556db56eeca0\" points=\"235.9,434.2 237.9,434.2 237.9,436.2 235.9,436.2\"/>\n<polygon class=\"l69d44\" id=\"0x556db56eed10\" points=\"239.9,434.2 241.9,434.2 241.9,436.2 239.9,436.2\"/>\n<polygon class=\"l69d44\" id=\"0x556db56eed80\" points=\"78.15,407 80.15,407 80.15,409 78.15,409\"/>\n<polygon class=\"l69d44\" id=\"0x556db56eedf0\" points=\"82.15,407 84.15,407 84.15,409 82.15,409\"/>\n<polygon class=\"l69d44\" id=\"0x556db56eee60\" points=\"86.15,407 88.15,407 88.15,409 86.15,409\"/>\n<polygon class=\"l69d44\" id=\"0x556db56eeed0\" points=\"90.15,407 92.15,407 92.15,409 90.15,409\"/>\n<polygon class=\"l69d44\" id=\"0x556db56eef40\" points=\"138.05,407 140.05,407 140.05,409 138.05,409\"/>\n<polygon class=\"l69d44\" id=\"0x556db56eefb0\" points=\"142.05,407 144.05,407 144.05,409 142.05,409\"/>\n<polygon class=\"l69d44\" id=\"0x556db56ef020\" points=\"146.05,407 148.05,407 148.05,409 146.05,409\"/>\n<polygon class=\"l69d44\" id=\"0x556db56ef090\" points=\"150.05,407 152.05,407 152.05,409 150.05,409\"/>\n<polygon class=\"l69d44\" id=\"0x556db56ef100\" points=\"197.95,407 199.95,407 199.95,409 197.95,409\"/>\n<polygon class=\"l69d44\" id=\"0x556db56ef170\" points=\"201.95,407 203.95,407 203.95,409 201.95,409\"/>\n<polygon class=\"l69d44\" id=\"0x556db56ef1e0\" points=\"205.95,407 207.95,407 207.95,409 205.95,409\"/>\n<polygon class=\"l69d44\" id=\"0x556db56ef250\" points=\"209.95,407 211.95,407 211.95,409 209.95,409\"/>\n<polygon class=\"l69d44\" id=\"0x556db56ef2c0\" points=\"257.85,407 259.85,407 259.85,409 257.85,409\"/>\n<polygon class=\"l69d44\" id=\"0x556db56ef330\" points=\"261.85,407 263.85,407 263.85,409 261.85,409\"/>\n<polygon class=\"l69d44\" id=\"0x556db56ef3a0\" points=\"265.85,407 267.85,407 267.85,409 265.85,409\"/>\n<polygon class=\"l69d44\" id=\"0x556db56ef410\" points=\"269.85,407 271.85,407 271.85,409 269.85,409\"/>\n<polygon class=\"l69d44\" id=\"0x556db56ef480\" points=\"108.1,379.8 110.1,379.8 110.1,381.8 108.1,381.8\"/>\n<polygon class=\"l69d44\" id=\"0x556db56ef4f0\" points=\"112.1,379.8 114.1,379.8 114.1,381.8 112.1,381.8\"/>\n<polygon class=\"l69d44\" id=\"0x556db56ef560\" points=\"116.1,379.8 118.1,379.8 118.1,381.8 116.1,381.8\"/>\n<polygon class=\"l69d44\" id=\"0x556db56ef5d0\" points=\"120.1,379.8 122.1,379.8 122.1,381.8 120.1,381.8\"/>\n<polygon class=\"l69d44\" id=\"0x556db56ef640\" points=\"168,379.8 170,379.8 170,381.8 168,381.8\"/>\n<polygon class=\"l69d44\" id=\"0x556db56ef6b0\" points=\"172,379.8 174,379.8 174,381.8 172,381.8\"/>\n<polygon class=\"l69d44\" id=\"0x556db56ef720\" points=\"176,379.8 178,379.8 178,381.8 176,381.8\"/>\n<polygon class=\"l69d44\" id=\"0x556db56ef790\" points=\"180,379.8 182,379.8 182,381.8 180,381.8\"/>\n<polygon class=\"l69d44\" id=\"0x556db56ef800\" points=\"227.9,379.8 229.9,379.8 229.9,381.8 227.9,381.8\"/>\n<polygon class=\"l69d44\" id=\"0x556db56ef870\" points=\"231.9,379.8 233.9,379.8 233.9,381.8 231.9,381.8\"/>\n<polygon class=\"l69d44\" id=\"0x556db56ef8e0\" points=\"235.9,379.8 237.9,379.8 237.9,381.8 235.9,381.8\"/>\n<polygon class=\"l69d44\" id=\"0x556db56ef950\" points=\"239.9,379.8 241.9,379.8 241.9,381.8 239.9,381.8\"/>\n<polygon class=\"l69d44\" id=\"0x556db56ef9c0\" points=\"78.15,352.6 80.15,352.6 80.15,354.6 78.15,354.6\"/>\n<polygon class=\"l69d44\" id=\"0x556db56efa30\" points=\"82.15,352.6 84.15,352.6 84.15,354.6 82.15,354.6\"/>\n<polygon class=\"l69d44\" id=\"0x556db56efaa0\" points=\"86.15,352.6 88.15,352.6 88.15,354.6 86.15,354.6\"/>\n<polygon class=\"l69d44\" id=\"0x556db56efb10\" points=\"90.15,352.6 92.15,352.6 92.15,354.6 90.15,354.6\"/>\n<polygon class=\"l69d44\" id=\"0x556db56efb80\" points=\"138.05,352.6 140.05,352.6 140.05,354.6 138.05,354.6\"/>\n<polygon class=\"l69d44\" id=\"0x556db56efbf0\" points=\"142.05,352.6 144.05,352.6 144.05,354.6 142.05,354.6\"/>\n<polygon class=\"l69d44\" id=\"0x556db56efc60\" points=\"146.05,352.6 148.05,352.6 148.05,354.6 146.05,354.6\"/>\n<polygon class=\"l69d44\" id=\"0x556db56efcd0\" points=\"150.05,352.6 152.05,352.6 152.05,354.6 150.05,354.6\"/>\n<polygon class=\"l69d44\" id=\"0x556db56efd40\" points=\"197.95,352.6 199.95,352.6 199.95,354.6 197.95,354.6\"/>\n<polygon class=\"l69d44\" id=\"0x556db56efdb0\" points=\"201.95,352.6 203.95,352.6 203.95,354.6 201.95,354.6\"/>\n<polygon class=\"l69d44\" id=\"0x556db56efe20\" points=\"205.95,352.6 207.95,352.6 207.95,354.6 205.95,354.6\"/>\n<polygon class=\"l69d44\" id=\"0x556db56efe90\" points=\"209.95,352.6 211.95,352.6 211.95,354.6 209.95,354.6\"/>\n<polygon class=\"l69d44\" id=\"0x556db56eff00\" points=\"257.85,352.6 259.85,352.6 259.85,354.6 257.85,354.6\"/>\n<polygon class=\"l69d44\" id=\"0x556db56eff70\" points=\"261.85,352.6 263.85,352.6 263.85,354.6 261.85,354.6\"/>\n<polygon class=\"l69d44\" id=\"0x556db5660000\" points=\"265.85,352.6 267.85,352.6 267.85,354.6 265.85,354.6\"/>\n<polygon class=\"l69d44\" id=\"0x556db5660070\" points=\"269.85,352.6 271.85,352.6 271.85,354.6 269.85,354.6\"/>\n<polygon class=\"l69d44\" id=\"0x556db56600e0\" points=\"108.1,325.4 110.1,325.4 110.1,327.4 108.1,327.4\"/>\n<polygon class=\"l69d44\" id=\"0x556db5660150\" points=\"112.1,325.4 114.1,325.4 114.1,327.4 112.1,327.4\"/>\n<polygon class=\"l69d44\" id=\"0x556db56601c0\" points=\"116.1,325.4 118.1,325.4 118.1,327.4 116.1,327.4\"/>\n<polygon class=\"l69d44\" id=\"0x556db5660230\" points=\"120.1,325.4 122.1,325.4 122.1,327.4 120.1,327.4\"/>\n<polygon class=\"l69d44\" id=\"0x556db56602a0\" points=\"168,325.4 170,325.4 170,327.4 168,327.4\"/>\n<polygon class=\"l69d44\" id=\"0x556db5660310\" points=\"172,325.4 174,325.4 174,327.4 172,327.4\"/>\n<polygon class=\"l69d44\" id=\"0x556db5660380\" points=\"176,325.4 178,325.4 178,327.4 176,327.4\"/>\n<polygon class=\"l69d44\" id=\"0x556db56603f0\" points=\"180,325.4 182,325.4 182,327.4 180,327.4\"/>\n<polygon class=\"l69d44\" id=\"0x556db5660460\" points=\"227.9,325.4 229.9,325.4 229.9,327.4 227.9,327.4\"/>\n<polygon class=\"l69d44\" id=\"0x556db56604d0\" points=\"231.9,325.4 233.9,325.4 233.9,327.4 231.9,327.4\"/>\n<polygon class=\"l69d44\" id=\"0x556db5660540\" points=\"235.9,325.4 237.9,325.4 237.9,327.4 235.9,327.4\"/>\n<polygon class=\"l69d44\" id=\"0x556db56605b0\" points=\"239.9,325.4 241.9,325.4 241.9,327.4 239.9,327.4\"/>\n<polygon class=\"l69d44\" id=\"0x556db5660620\" points=\"78.15,298.2 80.15,298.2 80.15,300.2 78.15,300.2\"/>\n<polygon class=\"l69d44\" id=\"0x556db5660690\" points=\"82.15,298.2 84.15,298.2 84.15,300.2 82.15,300.2\"/>\n<polygon class=\"l69d44\" id=\"0x556db5660700\" points=\"86.15,298.2 88.15,298.2 88.15,300.2 86.15,300.2\"/>\n<polygon class=\"l69d44\" id=\"0x556db5660770\" points=\"90.15,298.2 92.15,298.2 92.15,300.2 90.15,300.2\"/>\n<polygon class=\"l69d44\" id=\"0x556db56607e0\" points=\"138.05,298.2 140.05,298.2 140.05,300.2 138.05,300.2\"/>\n<polygon class=\"l69d44\" id=\"0x556db5660850\" points=\"142.05,298.2 144.05,298.2 144.05,300.2 142.05,300.2\"/>\n<polygon class=\"l69d44\" id=\"0x556db56608c0\" points=\"146.05,298.2 148.05,298.2 148.05,300.2 146.05,300.2\"/>\n<polygon class=\"l69d44\" id=\"0x556db5660930\" points=\"150.05,298.2 152.05,298.2 152.05,300.2 150.05,300.2\"/>\n<polygon class=\"l69d44\" id=\"0x556db56609a0\" points=\"197.95,298.2 199.95,298.2 199.95,300.2 197.95,300.2\"/>\n<polygon class=\"l69d44\" id=\"0x556db5660a10\" points=\"201.95,298.2 203.95,298.2 203.95,300.2 201.95,300.2\"/>\n<polygon class=\"l69d44\" id=\"0x556db5660a80\" points=\"205.95,298.2 207.95,298.2 207.95,300.2 205.95,300.2\"/>\n<polygon class=\"l69d44\" id=\"0x556db5660af0\" points=\"209.95,298.2 211.95,298.2 211.95,300.2 209.95,300.2\"/>\n<polygon class=\"l69d44\" id=\"0x556db5660b60\" points=\"257.85,298.2 259.85,298.2 259.85,300.2 257.85,300.2\"/>\n<polygon class=\"l69d44\" id=\"0x556db5660bd0\" points=\"261.85,298.2 263.85,298.2 263.85,300.2 261.85,300.2\"/>\n<polygon class=\"l69d44\" id=\"0x556db5660c40\" points=\"265.85,298.2 267.85,298.2 267.85,300.2 265.85,300.2\"/>\n<polygon class=\"l69d44\" id=\"0x556db5660cb0\" points=\"269.85,298.2 271.85,298.2 271.85,300.2 269.85,300.2\"/>\n<polygon class=\"l69d44\" id=\"0x556db5660d20\" points=\"108.1,271 110.1,271 110.1,273 108.1,273\"/>\n<polygon class=\"l69d44\" id=\"0x556db5660d90\" points=\"112.1,271 114.1,271 114.1,273 112.1,273\"/>\n<polygon class=\"l69d44\" id=\"0x556db5660e00\" points=\"116.1,271 118.1,271 118.1,273 116.1,273\"/>\n<polygon class=\"l69d44\" id=\"0x556db5660e70\" points=\"120.1,271 122.1,271 122.1,273 120.1,273\"/>\n<polygon class=\"l69d44\" id=\"0x556db5660ee0\" points=\"168,271 170,271 170,273 168,273\"/>\n<polygon class=\"l69d44\" id=\"0x556db5660f50\" points=\"172,271 174,271 174,273 172,273\"/>\n<polygon class=\"l69d44\" id=\"0x556db5660fc0\" points=\"176,271 178,271 178,273 176,273\"/>\n<polygon class=\"l69d44\" id=\"0x556db5661030\" points=\"180,271 182,271 182,273 180,273\"/>\n<polygon class=\"l69d44\" id=\"0x556db56610a0\" points=\"227.9,271 229.9,271 229.9,273 227.9,273\"/>\n<polygon class=\"l69d44\" id=\"0x556db5661110\" points=\"231.9,271 233.9,271 233.9,273 231.9,273\"/>\n<polygon class=\"l69d44\" id=\"0x556db5661180\" points=\"235.9,271 237.9,271 237.9,273 235.9,273\"/>\n<polygon class=\"l69d44\" id=\"0x556db56611f0\" points=\"239.9,271 241.9,271 241.9,273 239.9,273\"/>\n<polygon class=\"l69d44\" id=\"0x556db5661260\" points=\"78.15,243.8 80.15,243.8 80.15,245.8 78.15,245.8\"/>\n<polygon class=\"l69d44\" id=\"0x556db56612d0\" points=\"82.15,243.8 84.15,243.8 84.15,245.8 82.15,245.8\"/>\n<polygon class=\"l69d44\" id=\"0x556db5661340\" points=\"86.15,243.8 88.15,243.8 88.15,245.8 86.15,245.8\"/>\n<polygon class=\"l69d44\" id=\"0x556db56613b0\" points=\"90.15,243.8 92.15,243.8 92.15,245.8 90.15,245.8\"/>\n<polygon class=\"l69d44\" id=\"0x556db5661420\" points=\"138.05,243.8 140.05,243.8 140.05,245.8 138.05,245.8\"/>\n<polygon class=\"l69d44\" id=\"0x556db5661490\" points=\"142.05,243.8 144.05,243.8 144.05,245.8 142.05,245.8\"/>\n<polygon class=\"l69d44\" id=\"0x556db5661500\" points=\"146.05,243.8 148.05,243.8 148.05,245.8 146.05,245.8\"/>\n<polygon class=\"l69d44\" id=\"0x556db5661570\" points=\"150.05,243.8 152.05,243.8 152.05,245.8 150.05,245.8\"/>\n<polygon class=\"l69d44\" id=\"0x556db56615e0\" points=\"197.95,243.8 199.95,243.8 199.95,245.8 197.95,245.8\"/>\n<polygon class=\"l69d44\" id=\"0x556db5661650\" points=\"201.95,243.8 203.95,243.8 203.95,245.8 201.95,245.8\"/>\n<polygon class=\"l69d44\" id=\"0x556db56616c0\" points=\"205.95,243.8 207.95,243.8 207.95,245.8 205.95,245.8\"/>\n<polygon class=\"l69d44\" id=\"0x556db5661730\" points=\"209.95,243.8 211.95,243.8 211.95,245.8 209.95,245.8\"/>\n<polygon class=\"l69d44\" id=\"0x556db56617a0\" points=\"257.85,243.8 259.85,243.8 259.85,245.8 257.85,245.8\"/>\n<polygon class=\"l69d44\" id=\"0x556db5661810\" points=\"261.85,243.8 263.85,243.8 263.85,245.8 261.85,245.8\"/>\n<polygon class=\"l69d44\" id=\"0x556db5661880\" points=\"265.85,243.8 267.85,243.8 267.85,245.8 265.85,245.8\"/>\n<polygon class=\"l69d44\" id=\"0x556db56618f0\" points=\"269.85,243.8 271.85,243.8 271.85,245.8 269.85,245.8\"/>\n<polygon class=\"l69d44\" id=\"0x556db5661960\" points=\"108.1,216.6 110.1,216.6 110.1,218.6 108.1,218.6\"/>\n<polygon class=\"l69d44\" id=\"0x556db56619d0\" points=\"112.1,216.6 114.1,216.6 114.1,218.6 112.1,218.6\"/>\n<polygon class=\"l69d44\" id=\"0x556db5661a40\" points=\"116.1,216.6 118.1,216.6 118.1,218.6 116.1,218.6\"/>\n<polygon class=\"l69d44\" id=\"0x556db5661ab0\" points=\"120.1,216.6 122.1,216.6 122.1,218.6 120.1,218.6\"/>\n<polygon class=\"l69d44\" id=\"0x556db5661b20\" points=\"168,216.6 170,216.6 170,218.6 168,218.6\"/>\n<polygon class=\"l69d44\" id=\"0x556db5661b90\" points=\"172,216.6 174,216.6 174,218.6 172,218.6\"/>\n<polygon class=\"l69d44\" id=\"0x556db5661c00\" points=\"176,216.6 178,216.6 178,218.6 176,218.6\"/>\n<polygon class=\"l69d44\" id=\"0x556db5661c70\" points=\"180,216.6 182,216.6 182,218.6 180,218.6\"/>\n<polygon class=\"l69d44\" id=\"0x556db5661ce0\" points=\"227.9,216.6 229.9,216.6 229.9,218.6 227.9,218.6\"/>\n<polygon class=\"l69d44\" id=\"0x556db5661d50\" points=\"231.9,216.6 233.9,216.6 233.9,218.6 231.9,218.6\"/>\n<polygon class=\"l69d44\" id=\"0x556db5661dc0\" points=\"235.9,216.6 237.9,216.6 237.9,218.6 235.9,218.6\"/>\n<polygon class=\"l69d44\" id=\"0x556db5661e30\" points=\"239.9,216.6 241.9,216.6 241.9,218.6 239.9,218.6\"/>\n<polygon class=\"l69d44\" id=\"0x556db5661ea0\" points=\"78.15,189.4 80.15,189.4 80.15,191.4 78.15,191.4\"/>\n<polygon class=\"l69d44\" id=\"0x556db5661f10\" points=\"82.15,189.4 84.15,189.4 84.15,191.4 82.15,191.4\"/>\n<polygon class=\"l69d44\" id=\"0x556db5661f80\" points=\"86.15,189.4 88.15,189.4 88.15,191.4 86.15,191.4\"/>\n<polygon class=\"l69d44\" id=\"0x556db5661ff0\" points=\"90.15,189.4 92.15,189.4 92.15,191.4 90.15,191.4\"/>\n<polygon class=\"l69d44\" id=\"0x556db5662060\" points=\"138.05,189.4 140.05,189.4 140.05,191.4 138.05,191.4\"/>\n<polygon class=\"l69d44\" id=\"0x556db56620d0\" points=\"142.05,189.4 144.05,189.4 144.05,191.4 142.05,191.4\"/>\n<polygon class=\"l69d44\" id=\"0x556db5662140\" points=\"146.05,189.4 148.05,189.4 148.05,191.4 146.05,191.4\"/>\n<polygon class=\"l69d44\" id=\"0x556db56621b0\" points=\"150.05,189.4 152.05,189.4 152.05,191.4 150.05,191.4\"/>\n<polygon class=\"l69d44\" id=\"0x556db5662220\" points=\"197.95,189.4 199.95,189.4 199.95,191.4 197.95,191.4\"/>\n<polygon class=\"l69d44\" id=\"0x556db5662290\" points=\"201.95,189.4 203.95,189.4 203.95,191.4 201.95,191.4\"/>\n<polygon class=\"l69d44\" id=\"0x556db5662300\" points=\"205.95,189.4 207.95,189.4 207.95,191.4 205.95,191.4\"/>\n<polygon class=\"l69d44\" id=\"0x556db5662370\" points=\"209.95,189.4 211.95,189.4 211.95,191.4 209.95,191.4\"/>\n<polygon class=\"l69d44\" id=\"0x556db56623e0\" points=\"257.85,189.4 259.85,189.4 259.85,191.4 257.85,191.4\"/>\n<polygon class=\"l69d44\" id=\"0x556db5662450\" points=\"261.85,189.4 263.85,189.4 263.85,191.4 261.85,191.4\"/>\n<polygon class=\"l69d44\" id=\"0x556db56624c0\" points=\"265.85,189.4 267.85,189.4 267.85,191.4 265.85,191.4\"/>\n<polygon class=\"l69d44\" id=\"0x556db5662530\" points=\"269.85,189.4 271.85,189.4 271.85,191.4 269.85,191.4\"/>\n<polygon class=\"l69d44\" id=\"0x556db56625a0\" points=\"108.1,162.2 110.1,162.2 110.1,164.2 108.1,164.2\"/>\n<polygon class=\"l69d44\" id=\"0x556db5662610\" points=\"112.1,162.2 114.1,162.2 114.1,164.2 112.1,164.2\"/>\n<polygon class=\"l69d44\" id=\"0x556db5662680\" points=\"116.1,162.2 118.1,162.2 118.1,164.2 116.1,164.2\"/>\n<polygon class=\"l69d44\" id=\"0x556db56626f0\" points=\"120.1,162.2 122.1,162.2 122.1,164.2 120.1,164.2\"/>\n<polygon class=\"l69d44\" id=\"0x556db5662760\" points=\"168,162.2 170,162.2 170,164.2 168,164.2\"/>\n<polygon class=\"l69d44\" id=\"0x556db56627d0\" points=\"172,162.2 174,162.2 174,164.2 172,164.2\"/>\n<polygon class=\"l69d44\" id=\"0x556db5662840\" points=\"176,162.2 178,162.2 178,164.2 176,164.2\"/>\n<polygon class=\"l69d44\" id=\"0x556db56628b0\" points=\"180,162.2 182,162.2 182,164.2 180,164.2\"/>\n<polygon class=\"l69d44\" id=\"0x556db5662920\" points=\"227.9,162.2 229.9,162.2 229.9,164.2 227.9,164.2\"/>\n<polygon class=\"l69d44\" id=\"0x556db5662990\" points=\"231.9,162.2 233.9,162.2 233.9,164.2 231.9,164.2\"/>\n<polygon class=\"l69d44\" id=\"0x556db5662a00\" points=\"235.9,162.2 237.9,162.2 237.9,164.2 235.9,164.2\"/>\n<polygon class=\"l69d44\" id=\"0x556db5662a70\" points=\"239.9,162.2 241.9,162.2 241.9,164.2 239.9,164.2\"/>\n<polygon class=\"l69d44\" id=\"0x556db5662ae0\" points=\"78.15,135 80.15,135 80.15,137 78.15,137\"/>\n<polygon class=\"l69d44\" id=\"0x556db5662b50\" points=\"82.15,135 84.15,135 84.15,137 82.15,137\"/>\n<polygon class=\"l69d44\" id=\"0x556db5662bc0\" points=\"86.15,135 88.15,135 88.15,137 86.15,137\"/>\n<polygon class=\"l69d44\" id=\"0x556db5662c30\" points=\"90.15,135 92.15,135 92.15,137 90.15,137\"/>\n<polygon class=\"l69d44\" id=\"0x556db5662ca0\" points=\"138.05,135 140.05,135 140.05,137 138.05,137\"/>\n<polygon class=\"l69d44\" id=\"0x556db5662d10\" points=\"142.05,135 144.05,135 144.05,137 142.05,137\"/>\n<polygon class=\"l69d44\" id=\"0x556db5662d80\" points=\"146.05,135 148.05,135 148.05,137 146.05,137\"/>\n<polygon class=\"l69d44\" id=\"0x556db5662df0\" points=\"150.05,135 152.05,135 152.05,137 150.05,137\"/>\n<polygon class=\"l69d44\" id=\"0x556db5662e60\" points=\"197.95,135 199.95,135 199.95,137 197.95,137\"/>\n<polygon class=\"l69d44\" id=\"0x556db5662ed0\" points=\"201.95,135 203.95,135 203.95,137 201.95,137\"/>\n<polygon class=\"l69d44\" id=\"0x556db5662f40\" points=\"205.95,135 207.95,135 207.95,137 205.95,137\"/>\n<polygon class=\"l69d44\" id=\"0x556db5662fb0\" points=\"209.95,135 211.95,135 211.95,137 209.95,137\"/>\n<polygon class=\"l69d44\" id=\"0x556db5663020\" points=\"257.85,135 259.85,135 259.85,137 257.85,137\"/>\n<polygon class=\"l69d44\" id=\"0x556db5663090\" points=\"261.85,135 263.85,135 263.85,137 261.85,137\"/>\n<polygon class=\"l69d44\" id=\"0x556db5663100\" points=\"265.85,135 267.85,135 267.85,137 265.85,137\"/>\n<polygon class=\"l69d44\" id=\"0x556db5663170\" points=\"269.85,135 271.85,135 271.85,137 269.85,137\"/>\n<polygon class=\"l69d44\" id=\"0x556db56631e0\" points=\"108.1,107.8 110.1,107.8 110.1,109.8 108.1,109.8\"/>\n<polygon class=\"l69d44\" id=\"0x556db5663250\" points=\"112.1,107.8 114.1,107.8 114.1,109.8 112.1,109.8\"/>\n<polygon class=\"l69d44\" id=\"0x556db56632c0\" points=\"116.1,107.8 118.1,107.8 118.1,109.8 116.1,109.8\"/>\n<polygon class=\"l69d44\" id=\"0x556db5663330\" points=\"120.1,107.8 122.1,107.8 122.1,109.8 120.1,109.8\"/>\n<polygon class=\"l69d44\" id=\"0x556db56633a0\" points=\"168,107.8 170,107.8 170,109.8 168,109.8\"/>\n<polygon class=\"l69d44\" id=\"0x556db5663410\" points=\"172,107.8 174,107.8 174,109.8 172,109.8\"/>\n<polygon class=\"l69d44\" id=\"0x556db5663480\" points=\"176,107.8 178,107.8 178,109.8 176,109.8\"/>\n<polygon class=\"l69d44\" id=\"0x556db56634f0\" points=\"180,107.8 182,107.8 182,109.8 180,109.8\"/>\n<polygon class=\"l69d44\" id=\"0x556db5663560\" points=\"227.9,107.8 229.9,107.8 229.9,109.8 227.9,109.8\"/>\n<polygon class=\"l69d44\" id=\"0x556db56635d0\" points=\"231.9,107.8 233.9,107.8 233.9,109.8 231.9,109.8\"/>\n<polygon class=\"l69d44\" id=\"0x556db5663640\" points=\"235.9,107.8 237.9,107.8 237.9,109.8 235.9,109.8\"/>\n<polygon class=\"l69d44\" id=\"0x556db56636b0\" points=\"239.9,107.8 241.9,107.8 241.9,109.8 239.9,109.8\"/>\n<polygon class=\"l70d20\" id=\"0x556db5663720\" points=\"107.2,433.55 123,433.55 123,436.85 107.2,436.85\"/>\n<polygon class=\"l70d20\" id=\"0x556db5663790\" points=\"167.1,433.55 182.9,433.55 182.9,436.85 167.1,436.85\"/>\n<polygon class=\"l70d20\" id=\"0x556db5663800\" points=\"227,433.55 242.8,433.55 242.8,436.85 227,436.85\"/>\n<polygon class=\"l70d20\" id=\"0x556db5663870\" points=\"77.25,406.35 93.05,406.35 93.05,409.65 77.25,409.65\"/>\n<polygon class=\"l70d20\" id=\"0x556db56638e0\" points=\"137.15,406.35 152.95,406.35 152.95,409.65 137.15,409.65\"/>\n<polygon class=\"l70d20\" id=\"0x556db5663950\" points=\"197.05,406.35 212.85,406.35 212.85,409.65 197.05,409.65\"/>\n<polygon class=\"l70d20\" id=\"0x556db56639c0\" points=\"256.95,406.35 272.75,406.35 272.75,409.65 256.95,409.65\"/>\n<polygon class=\"l70d20\" id=\"0x556db5663a30\" points=\"107.2,379.15 123,379.15 123,382.45 107.2,382.45\"/>\n<polygon class=\"l70d20\" id=\"0x556db5663aa0\" points=\"167.1,379.15 182.9,379.15 182.9,382.45 167.1,382.45\"/>\n<polygon class=\"l70d20\" id=\"0x556db5663b10\" points=\"227,379.15 242.8,379.15 242.8,382.45 227,382.45\"/>\n<polygon class=\"l70d20\" id=\"0x556db5663b80\" points=\"77.25,351.95 93.05,351.95 93.05,355.25 77.25,355.25\"/>\n<polygon class=\"l70d20\" id=\"0x556db5663bf0\" points=\"137.15,351.95 152.95,351.95 152.95,355.25 137.15,355.25\"/>\n<polygon class=\"l70d20\" id=\"0x556db5663c60\" points=\"197.05,351.95 212.85,351.95 212.85,355.25 197.05,355.25\"/>\n<polygon class=\"l70d20\" id=\"0x556db5663cd0\" points=\"256.95,351.95 272.75,351.95 272.75,355.25 256.95,355.25\"/>\n<polygon class=\"l70d20\" id=\"0x556db5663d40\" points=\"107.2,324.75 123,324.75 123,328.05 107.2,328.05\"/>\n<polygon class=\"l70d20\" id=\"0x556db5663db0\" points=\"167.1,324.75 182.9,324.75 182.9,328.05 167.1,328.05\"/>\n<polygon class=\"l70d20\" id=\"0x556db5663e20\" points=\"227,324.75 242.8,324.75 242.8,328.05 227,328.05\"/>\n<polygon class=\"l70d20\" id=\"0x556db5663e90\" points=\"77.25,297.55 93.05,297.55 93.05,300.85 77.25,300.85\"/>\n<polygon class=\"l70d20\" id=\"0x556db5663f00\" points=\"137.15,297.55 152.95,297.55 152.95,300.85 137.15,300.85\"/>\n<polygon class=\"l70d20\" id=\"0x556db5663f70\" points=\"197.05,297.55 212.85,297.55 212.85,300.85 197.05,300.85\"/>\n<polygon class=\"l70d20\" id=\"0x556db5668000\" points=\"256.95,297.55 272.75,297.55 272.75,300.85 256.95,300.85\"/>\n<polygon class=\"l70d20\" id=\"0x556db5668070\" points=\"107.2,270.35 123,270.35 123,273.65 107.2,273.65\"/>\n<polygon class=\"l70d20\" id=\"0x556db56680e0\" points=\"167.1,270.35 182.9,270.35 182.9,273.65 167.1,273.65\"/>\n<polygon class=\"l70d20\" id=\"0x556db5668150\" points=\"227,270.35 242.8,270.35 242.8,273.65 227,273.65\"/>\n<polygon class=\"l70d20\" id=\"0x556db56681c0\" points=\"77.25,243.15 93.05,243.15 93.05,246.45 77.25,246.45\"/>\n<polygon class=\"l70d20\" id=\"0x556db5668230\" points=\"137.15,243.15 152.95,243.15 152.95,246.45 137.15,246.45\"/>\n<polygon class=\"l70d20\" id=\"0x556db56682a0\" points=\"197.05,243.15 212.85,243.15 212.85,246.45 197.05,246.45\"/>\n<polygon class=\"l70d20\" id=\"0x556db5668310\" points=\"256.95,243.15 272.75,243.15 272.75,246.45 256.95,246.45\"/>\n<polygon class=\"l70d20\" id=\"0x556db5668380\" points=\"107.2,215.95 123,215.95 123,219.25 107.2,219.25\"/>\n<polygon class=\"l70d20\" id=\"0x556db56683f0\" points=\"167.1,215.95 182.9,215.95 182.9,219.25 167.1,219.25\"/>\n<polygon class=\"l70d20\" id=\"0x556db5668460\" points=\"227,215.95 242.8,215.95 242.8,219.25 227,219.25\"/>\n<polygon class=\"l70d20\" id=\"0x556db56684d0\" points=\"77.25,188.75 93.05,188.75 93.05,192.05 77.25,192.05\"/>\n<polygon class=\"l70d20\" id=\"0x556db5668540\" points=\"137.15,188.75 152.95,188.75 152.95,192.05 137.15,192.05\"/>\n<polygon class=\"l70d20\" id=\"0x556db56685b0\" points=\"197.05,188.75 212.85,188.75 212.85,192.05 197.05,192.05\"/>\n<polygon class=\"l70d20\" id=\"0x556db5668620\" points=\"256.95,188.75 272.75,188.75 272.75,192.05 256.95,192.05\"/>\n<polygon class=\"l70d20\" id=\"0x556db5668690\" points=\"107.2,161.55 123,161.55 123,164.85 107.2,164.85\"/>\n<polygon class=\"l70d20\" id=\"0x556db5668700\" points=\"167.1,161.55 182.9,161.55 182.9,164.85 167.1,164.85\"/>\n<polygon class=\"l70d20\" id=\"0x556db5668770\" points=\"227,161.55 242.8,161.55 242.8,164.85 227,164.85\"/>\n<polygon class=\"l70d20\" id=\"0x556db56687e0\" points=\"77.25,134.35 93.05,134.35 93.05,137.65 77.25,137.65\"/>\n<polygon class=\"l70d20\" id=\"0x556db5668850\" points=\"137.15,134.35 152.95,134.35 152.95,137.65 137.15,137.65\"/>\n<polygon class=\"l70d20\" id=\"0x556db56688c0\" points=\"197.05,134.35 212.85,134.35 212.85,137.65 197.05,137.65\"/>\n<polygon class=\"l70d20\" id=\"0x556db5668930\" points=\"256.95,134.35 272.75,134.35 272.75,137.65 256.95,137.65\"/>\n<polygon class=\"l70d20\" id=\"0x556db56689a0\" points=\"107.2,107.15 123,107.15 123,110.45 107.2,110.45\"/>\n<polygon class=\"l70d20\" id=\"0x556db5668a10\" points=\"167.1,107.15 182.9,107.15 182.9,110.45 167.1,110.45\"/>\n<polygon class=\"l70d20\" id=\"0x556db5668a80\" points=\"227,107.15 242.8,107.15 242.8,110.45 227,110.45\"/>\n<polygon class=\"l70d44\" id=\"0x556db5668af0\" points=\"108.1,434.2 110.1,434.2 110.1,436.2 108.1,436.2\"/>\n<polygon class=\"l70d44\" id=\"0x556db5668b60\" points=\"112.1,434.2 114.1,434.2 114.1,436.2 112.1,436.2\"/>\n<polygon class=\"l70d44\" id=\"0x556db5668bd0\" points=\"116.1,434.2 118.1,434.2 118.1,436.2 116.1,436.2\"/>\n<polygon class=\"l70d44\" id=\"0x556db5668c40\" points=\"120.1,434.2 122.1,434.2 122.1,436.2 120.1,436.2\"/>\n<polygon class=\"l70d44\" id=\"0x556db5668cb0\" points=\"168,434.2 170,434.2 170,436.2 168,436.2\"/>\n<polygon class=\"l70d44\" id=\"0x556db5668d20\" points=\"172,434.2 174,434.2 174,436.2 172,436.2\"/>\n<polygon class=\"l70d44\" id=\"0x556db5668d90\" points=\"176,434.2 178,434.2 178,436.2 176,436.2\"/>\n<polygon class=\"l70d44\" id=\"0x556db5668e00\" points=\"180,434.2 182,434.2 182,436.2 180,436.2\"/>\n<polygon class=\"l70d44\" id=\"0x556db5668e70\" points=\"227.9,434.2 229.9,434.2 229.9,436.2 227.9,436.2\"/>\n<polygon class=\"l70d44\" id=\"0x556db5668ee0\" points=\"231.9,434.2 233.9,434.2 233.9,436.2 231.9,436.2\"/>\n<polygon class=\"l70d44\" id=\"0x556db5668f50\" points=\"235.9,434.2 237.9,434.2 237.9,436.2 235.9,436.2\"/>\n<polygon class=\"l70d44\" id=\"0x556db5668fc0\" points=\"239.9,434.2 241.9,434.2 241.9,436.2 239.9,436.2\"/>\n<polygon class=\"l70d44\" id=\"0x556db5669030\" points=\"78.15,407 80.15,407 80.15,409 78.15,409\"/>\n<polygon class=\"l70d44\" id=\"0x556db56690a0\" points=\"82.15,407 84.15,407 84.15,409 82.15,409\"/>\n<polygon class=\"l70d44\" id=\"0x556db5669110\" points=\"86.15,407 88.15,407 88.15,409 86.15,409\"/>\n<polygon class=\"l70d44\" id=\"0x556db5669180\" points=\"90.15,407 92.15,407 92.15,409 90.15,409\"/>\n<polygon class=\"l70d44\" id=\"0x556db56691f0\" points=\"138.05,407 140.05,407 140.05,409 138.05,409\"/>\n<polygon class=\"l70d44\" id=\"0x556db5669260\" points=\"142.05,407 144.05,407 144.05,409 142.05,409\"/>\n<polygon class=\"l70d44\" id=\"0x556db56692d0\" points=\"146.05,407 148.05,407 148.05,409 146.05,409\"/>\n<polygon class=\"l70d44\" id=\"0x556db5669340\" points=\"150.05,407 152.05,407 152.05,409 150.05,409\"/>\n<polygon class=\"l70d44\" id=\"0x556db56693b0\" points=\"197.95,407 199.95,407 199.95,409 197.95,409\"/>\n<polygon class=\"l70d44\" id=\"0x556db5669420\" points=\"201.95,407 203.95,407 203.95,409 201.95,409\"/>\n<polygon class=\"l70d44\" id=\"0x556db5669490\" points=\"205.95,407 207.95,407 207.95,409 205.95,409\"/>\n<polygon class=\"l70d44\" id=\"0x556db5669500\" points=\"209.95,407 211.95,407 211.95,409 209.95,409\"/>\n<polygon class=\"l70d44\" id=\"0x556db5669570\" points=\"257.85,407 259.85,407 259.85,409 257.85,409\"/>\n<polygon class=\"l70d44\" id=\"0x556db56695e0\" points=\"261.85,407 263.85,407 263.85,409 261.85,409\"/>\n<polygon class=\"l70d44\" id=\"0x556db5669650\" points=\"265.85,407 267.85,407 267.85,409 265.85,409\"/>\n<polygon class=\"l70d44\" id=\"0x556db56696c0\" points=\"269.85,407 271.85,407 271.85,409 269.85,409\"/>\n<polygon class=\"l70d44\" id=\"0x556db5669730\" points=\"108.1,379.8 110.1,379.8 110.1,381.8 108.1,381.8\"/>\n<polygon class=\"l70d44\" id=\"0x556db56697a0\" points=\"112.1,379.8 114.1,379.8 114.1,381.8 112.1,381.8\"/>\n<polygon class=\"l70d44\" id=\"0x556db5669810\" points=\"116.1,379.8 118.1,379.8 118.1,381.8 116.1,381.8\"/>\n<polygon class=\"l70d44\" id=\"0x556db5669880\" points=\"120.1,379.8 122.1,379.8 122.1,381.8 120.1,381.8\"/>\n<polygon class=\"l70d44\" id=\"0x556db56698f0\" points=\"168,379.8 170,379.8 170,381.8 168,381.8\"/>\n<polygon class=\"l70d44\" id=\"0x556db5669960\" points=\"172,379.8 174,379.8 174,381.8 172,381.8\"/>\n<polygon class=\"l70d44\" id=\"0x556db56699d0\" points=\"176,379.8 178,379.8 178,381.8 176,381.8\"/>\n<polygon class=\"l70d44\" id=\"0x556db5669a40\" points=\"180,379.8 182,379.8 182,381.8 180,381.8\"/>\n<polygon class=\"l70d44\" id=\"0x556db5669ab0\" points=\"227.9,379.8 229.9,379.8 229.9,381.8 227.9,381.8\"/>\n<polygon class=\"l70d44\" id=\"0x556db5669b20\" points=\"231.9,379.8 233.9,379.8 233.9,381.8 231.9,381.8\"/>\n<polygon class=\"l70d44\" id=\"0x556db5669b90\" points=\"235.9,379.8 237.9,379.8 237.9,381.8 235.9,381.8\"/>\n<polygon class=\"l70d44\" id=\"0x556db5669c00\" points=\"239.9,379.8 241.9,379.8 241.9,381.8 239.9,381.8\"/>\n<polygon class=\"l70d44\" id=\"0x556db5669c70\" points=\"78.15,352.6 80.15,352.6 80.15,354.6 78.15,354.6\"/>\n<polygon class=\"l70d44\" id=\"0x556db5669ce0\" points=\"82.15,352.6 84.15,352.6 84.15,354.6 82.15,354.6\"/>\n<polygon class=\"l70d44\" id=\"0x556db5669d50\" points=\"86.15,352.6 88.15,352.6 88.15,354.6 86.15,354.6\"/>\n<polygon class=\"l70d44\" id=\"0x556db5669dc0\" points=\"90.15,352.6 92.15,352.6 92.15,354.6 90.15,354.6\"/>\n<polygon class=\"l70d44\" id=\"0x556db5669e30\" points=\"138.05,352.6 140.05,352.6 140.05,354.6 138.05,354.6\"/>\n<polygon class=\"l70d44\" id=\"0x556db5669ea0\" points=\"142.05,352.6 144.05,352.6 144.05,354.6 142.05,354.6\"/>\n<polygon class=\"l70d44\" id=\"0x556db5669f10\" points=\"146.05,352.6 148.05,352.6 148.05,354.6 146.05,354.6\"/>\n<polygon class=\"l70d44\" id=\"0x556db5669f80\" points=\"150.05,352.6 152.05,352.6 152.05,354.6 150.05,354.6\"/>\n<polygon class=\"l70d44\" id=\"0x556db5669ff0\" points=\"197.95,352.6 199.95,352.6 199.95,354.6 197.95,354.6\"/>\n<polygon class=\"l70d44\" id=\"0x556db566a060\" points=\"201.95,352.6 203.95,352.6 203.95,354.6 201.95,354.6\"/>\n<polygon class=\"l70d44\" id=\"0x556db566a0d0\" points=\"205.95,352.6 207.95,352.6 207.95,354.6 205.95,354.6\"/>\n<polygon class=\"l70d44\" id=\"0x556db566a140\" points=\"209.95,352.6 211.95,352.6 211.95,354.6 209.95,354.6\"/>\n<polygon class=\"l70d44\" id=\"0x556db566a1b0\" points=\"257.85,352.6 259.85,352.6 259.85,354.6 257.85,354.6\"/>\n<polygon class=\"l70d44\" id=\"0x556db566a220\" points=\"261.85,352.6 263.85,352.6 263.85,354.6 261.85,354.6\"/>\n<polygon class=\"l70d44\" id=\"0x556db566a290\" points=\"265.85,352.6 267.85,352.6 267.85,354.6 265.85,354.6\"/>\n<polygon class=\"l70d44\" id=\"0x556db566a300\" points=\"269.85,352.6 271.85,352.6 271.85,354.6 269.85,354.6\"/>\n<polygon class=\"l70d44\" id=\"0x556db566a370\" points=\"108.1,325.4 110.1,325.4 110.1,327.4 108.1,327.4\"/>\n<polygon class=\"l70d44\" id=\"0x556db566a3e0\" points=\"112.1,325.4 114.1,325.4 114.1,327.4 112.1,327.4\"/>\n<polygon class=\"l70d44\" id=\"0x556db566a450\" points=\"116.1,325.4 118.1,325.4 118.1,327.4 116.1,327.4\"/>\n<polygon class=\"l70d44\" id=\"0x556db566a4c0\" points=\"120.1,325.4 122.1,325.4 122.1,327.4 120.1,327.4\"/>\n<polygon class=\"l70d44\" id=\"0x556db566a530\" points=\"168,325.4 170,325.4 170,327.4 168,327.4\"/>\n<polygon class=\"l70d44\" id=\"0x556db566a5a0\" points=\"172,325.4 174,325.4 174,327.4 172,327.4\"/>\n<polygon class=\"l70d44\" id=\"0x556db566a610\" points=\"176,325.4 178,325.4 178,327.4 176,327.4\"/>\n<polygon class=\"l70d44\" id=\"0x556db566a680\" points=\"180,325.4 182,325.4 182,327.4 180,327.4\"/>\n<polygon class=\"l70d44\" id=\"0x556db566a6f0\" points=\"227.9,325.4 229.9,325.4 229.9,327.4 227.9,327.4\"/>\n<polygon class=\"l70d44\" id=\"0x556db566a760\" points=\"231.9,325.4 233.9,325.4 233.9,327.4 231.9,327.4\"/>\n<polygon class=\"l70d44\" id=\"0x556db566a7d0\" points=\"235.9,325.4 237.9,325.4 237.9,327.4 235.9,327.4\"/>\n<polygon class=\"l70d44\" id=\"0x556db566a840\" points=\"239.9,325.4 241.9,325.4 241.9,327.4 239.9,327.4\"/>\n<polygon class=\"l70d44\" id=\"0x556db566a8b0\" points=\"78.15,298.2 80.15,298.2 80.15,300.2 78.15,300.2\"/>\n<polygon class=\"l70d44\" id=\"0x556db566a920\" points=\"82.15,298.2 84.15,298.2 84.15,300.2 82.15,300.2\"/>\n<polygon class=\"l70d44\" id=\"0x556db566a990\" points=\"86.15,298.2 88.15,298.2 88.15,300.2 86.15,300.2\"/>\n<polygon class=\"l70d44\" id=\"0x556db566aa00\" points=\"90.15,298.2 92.15,298.2 92.15,300.2 90.15,300.2\"/>\n<polygon class=\"l70d44\" id=\"0x556db566aa70\" points=\"138.05,298.2 140.05,298.2 140.05,300.2 138.05,300.2\"/>\n<polygon class=\"l70d44\" id=\"0x556db566aae0\" points=\"142.05,298.2 144.05,298.2 144.05,300.2 142.05,300.2\"/>\n<polygon class=\"l70d44\" id=\"0x556db566ab50\" points=\"146.05,298.2 148.05,298.2 148.05,300.2 146.05,300.2\"/>\n<polygon class=\"l70d44\" id=\"0x556db566abc0\" points=\"150.05,298.2 152.05,298.2 152.05,300.2 150.05,300.2\"/>\n<polygon class=\"l70d44\" id=\"0x556db566ac30\" points=\"197.95,298.2 199.95,298.2 199.95,300.2 197.95,300.2\"/>\n<polygon class=\"l70d44\" id=\"0x556db566aca0\" points=\"201.95,298.2 203.95,298.2 203.95,300.2 201.95,300.2\"/>\n<polygon class=\"l70d44\" id=\"0x556db566ad10\" points=\"205.95,298.2 207.95,298.2 207.95,300.2 205.95,300.2\"/>\n<polygon class=\"l70d44\" id=\"0x556db566ad80\" points=\"209.95,298.2 211.95,298.2 211.95,300.2 209.95,300.2\"/>\n<polygon class=\"l70d44\" id=\"0x556db566adf0\" points=\"257.85,298.2 259.85,298.2 259.85,300.2 257.85,300.2\"/>\n<polygon class=\"l70d44\" id=\"0x556db566ae60\" points=\"261.85,298.2 263.85,298.2 263.85,300.2 261.85,300.2\"/>\n<polygon class=\"l70d44\" id=\"0x556db566aed0\" points=\"265.85,298.2 267.85,298.2 267.85,300.2 265.85,300.2\"/>\n<polygon class=\"l70d44\" id=\"0x556db566af40\" points=\"269.85,298.2 271.85,298.2 271.85,300.2 269.85,300.2\"/>\n<polygon class=\"l70d44\" id=\"0x556db566afb0\" points=\"108.1,271 110.1,271 110.1,273 108.1,273\"/>\n<polygon class=\"l70d44\" id=\"0x556db566b020\" points=\"112.1,271 114.1,271 114.1,273 112.1,273\"/>\n<polygon class=\"l70d44\" id=\"0x556db566b090\" points=\"116.1,271 118.1,271 118.1,273 116.1,273\"/>\n<polygon class=\"l70d44\" id=\"0x556db566b100\" points=\"120.1,271 122.1,271 122.1,273 120.1,273\"/>\n<polygon class=\"l70d44\" id=\"0x556db566b170\" points=\"168,271 170,271 170,273 168,273\"/>\n<polygon class=\"l70d44\" id=\"0x556db566b1e0\" points=\"172,271 174,271 174,273 172,273\"/>\n<polygon class=\"l70d44\" id=\"0x556db566b250\" points=\"176,271 178,271 178,273 176,273\"/>\n<polygon class=\"l70d44\" id=\"0x556db566b2c0\" points=\"180,271 182,271 182,273 180,273\"/>\n<polygon class=\"l70d44\" id=\"0x556db566b330\" points=\"227.9,271 229.9,271 229.9,273 227.9,273\"/>\n<polygon class=\"l70d44\" id=\"0x556db566b3a0\" points=\"231.9,271 233.9,271 233.9,273 231.9,273\"/>\n<polygon class=\"l70d44\" id=\"0x556db566b410\" points=\"235.9,271 237.9,271 237.9,273 235.9,273\"/>\n<polygon class=\"l70d44\" id=\"0x556db566b480\" points=\"239.9,271 241.9,271 241.9,273 239.9,273\"/>\n<polygon class=\"l70d44\" id=\"0x556db566b4f0\" points=\"78.15,243.8 80.15,243.8 80.15,245.8 78.15,245.8\"/>\n<polygon class=\"l70d44\" id=\"0x556db566b560\" points=\"82.15,243.8 84.15,243.8 84.15,245.8 82.15,245.8\"/>\n<polygon class=\"l70d44\" id=\"0x556db566b5d0\" points=\"86.15,243.8 88.15,243.8 88.15,245.8 86.15,245.8\"/>\n<polygon class=\"l70d44\" id=\"0x556db566b640\" points=\"90.15,243.8 92.15,243.8 92.15,245.8 90.15,245.8\"/>\n<polygon class=\"l70d44\" id=\"0x556db566b6b0\" points=\"138.05,243.8 140.05,243.8 140.05,245.8 138.05,245.8\"/>\n<polygon class=\"l70d44\" id=\"0x556db566b720\" points=\"142.05,243.8 144.05,243.8 144.05,245.8 142.05,245.8\"/>\n<polygon class=\"l70d44\" id=\"0x556db566b790\" points=\"146.05,243.8 148.05,243.8 148.05,245.8 146.05,245.8\"/>\n<polygon class=\"l70d44\" id=\"0x556db566b800\" points=\"150.05,243.8 152.05,243.8 152.05,245.8 150.05,245.8\"/>\n<polygon class=\"l70d44\" id=\"0x556db566b870\" points=\"197.95,243.8 199.95,243.8 199.95,245.8 197.95,245.8\"/>\n<polygon class=\"l70d44\" id=\"0x556db566b8e0\" points=\"201.95,243.8 203.95,243.8 203.95,245.8 201.95,245.8\"/>\n<polygon class=\"l70d44\" id=\"0x556db566b950\" points=\"205.95,243.8 207.95,243.8 207.95,245.8 205.95,245.8\"/>\n<polygon class=\"l70d44\" id=\"0x556db566b9c0\" points=\"209.95,243.8 211.95,243.8 211.95,245.8 209.95,245.8\"/>\n<polygon class=\"l70d44\" id=\"0x556db566ba30\" points=\"257.85,243.8 259.85,243.8 259.85,245.8 257.85,245.8\"/>\n<polygon class=\"l70d44\" id=\"0x556db566baa0\" points=\"261.85,243.8 263.85,243.8 263.85,245.8 261.85,245.8\"/>\n<polygon class=\"l70d44\" id=\"0x556db566bb10\" points=\"265.85,243.8 267.85,243.8 267.85,245.8 265.85,245.8\"/>\n<polygon class=\"l70d44\" id=\"0x556db566bb80\" points=\"269.85,243.8 271.85,243.8 271.85,245.8 269.85,245.8\"/>\n<polygon class=\"l70d44\" id=\"0x556db566bbf0\" points=\"108.1,216.6 110.1,216.6 110.1,218.6 108.1,218.6\"/>\n<polygon class=\"l70d44\" id=\"0x556db566bc60\" points=\"112.1,216.6 114.1,216.6 114.1,218.6 112.1,218.6\"/>\n<polygon class=\"l70d44\" id=\"0x556db566bcd0\" points=\"116.1,216.6 118.1,216.6 118.1,218.6 116.1,218.6\"/>\n<polygon class=\"l70d44\" id=\"0x556db566bd40\" points=\"120.1,216.6 122.1,216.6 122.1,218.6 120.1,218.6\"/>\n<polygon class=\"l70d44\" id=\"0x556db566bdb0\" points=\"168,216.6 170,216.6 170,218.6 168,218.6\"/>\n<polygon class=\"l70d44\" id=\"0x556db566be20\" points=\"172,216.6 174,216.6 174,218.6 172,218.6\"/>\n<polygon class=\"l70d44\" id=\"0x556db566be90\" points=\"176,216.6 178,216.6 178,218.6 176,218.6\"/>\n<polygon class=\"l70d44\" id=\"0x556db566bf00\" points=\"180,216.6 182,216.6 182,218.6 180,218.6\"/>\n<polygon class=\"l70d44\" id=\"0x556db566bf70\" points=\"227.9,216.6 229.9,216.6 229.9,218.6 227.9,218.6\"/>\n<polygon class=\"l70d44\" id=\"0x556db5438000\" points=\"231.9,216.6 233.9,216.6 233.9,218.6 231.9,218.6\"/>\n<polygon class=\"l70d44\" id=\"0x556db5438070\" points=\"235.9,216.6 237.9,216.6 237.9,218.6 235.9,218.6\"/>\n<polygon class=\"l70d44\" id=\"0x556db54380e0\" points=\"239.9,216.6 241.9,216.6 241.9,218.6 239.9,218.6\"/>\n<polygon class=\"l70d44\" id=\"0x556db5438150\" points=\"78.15,189.4 80.15,189.4 80.15,191.4 78.15,191.4\"/>\n<polygon class=\"l70d44\" id=\"0x556db54381c0\" points=\"82.15,189.4 84.15,189.4 84.15,191.4 82.15,191.4\"/>\n<polygon class=\"l70d44\" id=\"0x556db5438230\" points=\"86.15,189.4 88.15,189.4 88.15,191.4 86.15,191.4\"/>\n<polygon class=\"l70d44\" id=\"0x556db54382a0\" points=\"90.15,189.4 92.15,189.4 92.15,191.4 90.15,191.4\"/>\n<polygon class=\"l70d44\" id=\"0x556db5438310\" points=\"138.05,189.4 140.05,189.4 140.05,191.4 138.05,191.4\"/>\n<polygon class=\"l70d44\" id=\"0x556db5438380\" points=\"142.05,189.4 144.05,189.4 144.05,191.4 142.05,191.4\"/>\n<polygon class=\"l70d44\" id=\"0x556db54383f0\" points=\"146.05,189.4 148.05,189.4 148.05,191.4 146.05,191.4\"/>\n<polygon class=\"l70d44\" id=\"0x556db5438460\" points=\"150.05,189.4 152.05,189.4 152.05,191.4 150.05,191.4\"/>\n<polygon class=\"l70d44\" id=\"0x556db54384d0\" points=\"197.95,189.4 199.95,189.4 199.95,191.4 197.95,191.4\"/>\n<polygon class=\"l70d44\" id=\"0x556db5438540\" points=\"201.95,189.4 203.95,189.4 203.95,191.4 201.95,191.4\"/>\n<polygon class=\"l70d44\" id=\"0x556db54385b0\" points=\"205.95,189.4 207.95,189.4 207.95,191.4 205.95,191.4\"/>\n<polygon class=\"l70d44\" id=\"0x556db5438620\" points=\"209.95,189.4 211.95,189.4 211.95,191.4 209.95,191.4\"/>\n<polygon class=\"l70d44\" id=\"0x556db5438690\" points=\"257.85,189.4 259.85,189.4 259.85,191.4 257.85,191.4\"/>\n<polygon class=\"l70d44\" id=\"0x556db5438700\" points=\"261.85,189.4 263.85,189.4 263.85,191.4 261.85,191.4\"/>\n<polygon class=\"l70d44\" id=\"0x556db5438770\" points=\"265.85,189.4 267.85,189.4 267.85,191.4 265.85,191.4\"/>\n<polygon class=\"l70d44\" id=\"0x556db54387e0\" points=\"269.85,189.4 271.85,189.4 271.85,191.4 269.85,191.4\"/>\n<polygon class=\"l70d44\" id=\"0x556db5438850\" points=\"108.1,162.2 110.1,162.2 110.1,164.2 108.1,164.2\"/>\n<polygon class=\"l70d44\" id=\"0x556db54388c0\" points=\"112.1,162.2 114.1,162.2 114.1,164.2 112.1,164.2\"/>\n<polygon class=\"l70d44\" id=\"0x556db5438930\" points=\"116.1,162.2 118.1,162.2 118.1,164.2 116.1,164.2\"/>\n<polygon class=\"l70d44\" id=\"0x556db54389a0\" points=\"120.1,162.2 122.1,162.2 122.1,164.2 120.1,164.2\"/>\n<polygon class=\"l70d44\" id=\"0x556db5438a10\" points=\"168,162.2 170,162.2 170,164.2 168,164.2\"/>\n<polygon class=\"l70d44\" id=\"0x556db5438a80\" points=\"172,162.2 174,162.2 174,164.2 172,164.2\"/>\n<polygon class=\"l70d44\" id=\"0x556db5438af0\" points=\"176,162.2 178,162.2 178,164.2 176,164.2\"/>\n<polygon class=\"l70d44\" id=\"0x556db5438b60\" points=\"180,162.2 182,162.2 182,164.2 180,164.2\"/>\n<polygon class=\"l70d44\" id=\"0x556db5438bd0\" points=\"227.9,162.2 229.9,162.2 229.9,164.2 227.9,164.2\"/>\n<polygon class=\"l70d44\" id=\"0x556db5438c40\" points=\"231.9,162.2 233.9,162.2 233.9,164.2 231.9,164.2\"/>\n<polygon class=\"l70d44\" id=\"0x556db5438cb0\" points=\"235.9,162.2 237.9,162.2 237.9,164.2 235.9,164.2\"/>\n<polygon class=\"l70d44\" id=\"0x556db5438d20\" points=\"239.9,162.2 241.9,162.2 241.9,164.2 239.9,164.2\"/>\n<polygon class=\"l70d44\" id=\"0x556db5438d90\" points=\"78.15,135 80.15,135 80.15,137 78.15,137\"/>\n<polygon class=\"l70d44\" id=\"0x556db5438e00\" points=\"82.15,135 84.15,135 84.15,137 82.15,137\"/>\n<polygon class=\"l70d44\" id=\"0x556db5438e70\" points=\"86.15,135 88.15,135 88.15,137 86.15,137\"/>\n<polygon class=\"l70d44\" id=\"0x556db5438ee0\" points=\"90.15,135 92.15,135 92.15,137 90.15,137\"/>\n<polygon class=\"l70d44\" id=\"0x556db5438f50\" points=\"138.05,135 140.05,135 140.05,137 138.05,137\"/>\n<polygon class=\"l70d44\" id=\"0x556db5438fc0\" points=\"142.05,135 144.05,135 144.05,137 142.05,137\"/>\n<polygon class=\"l70d44\" id=\"0x556db5439030\" points=\"146.05,135 148.05,135 148.05,137 146.05,137\"/>\n<polygon class=\"l70d44\" id=\"0x556db54390a0\" points=\"150.05,135 152.05,135 152.05,137 150.05,137\"/>\n<polygon class=\"l70d44\" id=\"0x556db5439110\" points=\"197.95,135 199.95,135 199.95,137 197.95,137\"/>\n<polygon class=\"l70d44\" id=\"0x556db5439180\" points=\"201.95,135 203.95,135 203.95,137 201.95,137\"/>\n<polygon class=\"l70d44\" id=\"0x556db54391f0\" points=\"205.95,135 207.95,135 207.95,137 205.95,137\"/>\n<polygon class=\"l70d44\" id=\"0x556db5439260\" points=\"209.95,135 211.95,135 211.95,137 209.95,137\"/>\n<polygon class=\"l70d44\" id=\"0x556db54392d0\" points=\"257.85,135 259.85,135 259.85,137 257.85,137\"/>\n<polygon class=\"l70d44\" id=\"0x556db5439340\" points=\"261.85,135 263.85,135 263.85,137 261.85,137\"/>\n<polygon class=\"l70d44\" id=\"0x556db54393b0\" points=\"265.85,135 267.85,135 267.85,137 265.85,137\"/>\n<polygon class=\"l70d44\" id=\"0x556db5439420\" points=\"269.85,135 271.85,135 271.85,137 269.85,137\"/>\n<polygon class=\"l70d44\" id=\"0x556db5439490\" points=\"108.1,107.8 110.1,107.8 110.1,109.8 108.1,109.8\"/>\n<polygon class=\"l70d44\" id=\"0x556db5439500\" points=\"112.1,107.8 114.1,107.8 114.1,109.8 112.1,109.8\"/>\n<polygon class=\"l70d44\" id=\"0x556db5439570\" points=\"116.1,107.8 118.1,107.8 118.1,109.8 116.1,109.8\"/>\n<polygon class=\"l70d44\" id=\"0x556db54395e0\" points=\"120.1,107.8 122.1,107.8 122.1,109.8 120.1,109.8\"/>\n<polygon class=\"l70d44\" id=\"0x556db5439650\" points=\"168,107.8 170,107.8 170,109.8 168,109.8\"/>\n<polygon class=\"l70d44\" id=\"0x556db54396c0\" points=\"172,107.8 174,107.8 174,109.8 172,109.8\"/>\n<polygon class=\"l70d44\" id=\"0x556db5439730\" points=\"176,107.8 178,107.8 178,109.8 176,109.8\"/>\n<polygon class=\"l70d44\" id=\"0x556db54397a0\" points=\"180,107.8 182,107.8 182,109.8 180,109.8\"/>\n<polygon class=\"l70d44\" id=\"0x556db5439810\" points=\"227.9,107.8 229.9,107.8 229.9,109.8 227.9,109.8\"/>\n<polygon class=\"l70d44\" id=\"0x556db5439880\" points=\"231.9,107.8 233.9,107.8 233.9,109.8 231.9,109.8\"/>\n<polygon class=\"l70d44\" id=\"0x556db54398f0\" points=\"235.9,107.8 237.9,107.8 237.9,109.8 235.9,109.8\"/>\n<polygon class=\"l70d44\" id=\"0x556db5439960\" points=\"239.9,107.8 241.9,107.8 241.9,109.8 239.9,109.8\"/>\n<polygon class=\"l71d20\" id=\"0x556db54399d0\" points=\"77.15,106.4 93.15,106.4 93.15,437.6 77.15,437.6\"/>\n<polygon class=\"l71d20\" id=\"0x556db5439a40\" points=\"107.1,106.4 123.1,106.4 123.1,437.6 107.1,437.6\"/>\n<polygon class=\"l71d20\" id=\"0x556db5439ab0\" points=\"137.05,106.4 153.05,106.4 153.05,437.6 137.05,437.6\"/>\n<polygon class=\"l71d20\" id=\"0x556db5439b20\" points=\"167,106.4 183,106.4 183,437.6 167,437.6\"/>\n<polygon class=\"l71d20\" id=\"0x556db5439b90\" points=\"196.95,106.4 212.95,106.4 212.95,437.6 196.95,437.6\"/>\n<polygon class=\"l71d20\" id=\"0x556db5439c00\" points=\"226.9,106.4 242.9,106.4 242.9,437.6 226.9,437.6\"/>\n<polygon class=\"l71d20\" id=\"0x556db5439c70\" points=\"256.85,106.4 272.85,106.4 272.85,437.6 256.85,437.6\"/>\n<polygon class=\"l71d44\" id=\"0x556db5439ce0\" points=\"81.15,395.65 89.15,395.65 89.15,403.65 81.15,403.65\"/>\n<polygon class=\"l71d44\" id=\"0x556db5439d50\" points=\"141.05,395.65 149.05,395.65 149.05,403.65 141.05,403.65\"/>\n<polygon class=\"l71d44\" id=\"0x556db5439dc0\" points=\"200.95,395.65 208.95,395.65 208.95,403.65 200.95,403.65\"/>\n<polygon class=\"l71d44\" id=\"0x556db5439e30\" points=\"260.85,395.65 268.85,395.65 268.85,403.65 260.85,403.65\"/>\n<polygon class=\"l71d44\" id=\"0x556db5439ea0\" points=\"111.1,354.1 119.1,354.1 119.1,362.1 111.1,362.1\"/>\n<polygon class=\"l71d44\" id=\"0x556db5439f10\" points=\"171,354.1 179,354.1 179,362.1 171,362.1\"/>\n<polygon class=\"l71d44\" id=\"0x556db5439f80\" points=\"230.9,354.1 238.9,354.1 238.9,362.1 230.9,362.1\"/>\n<polygon class=\"l71d44\" id=\"0x556db5439ff0\" points=\"81.15,312.55 89.15,312.55 89.15,320.55 81.15,320.55\"/>\n<polygon class=\"l71d44\" id=\"0x556db543a060\" points=\"141.05,312.55 149.05,312.55 149.05,320.55 141.05,320.55\"/>\n<polygon class=\"l71d44\" id=\"0x556db543a0d0\" points=\"200.95,312.55 208.95,312.55 208.95,320.55 200.95,320.55\"/>\n<polygon class=\"l71d44\" id=\"0x556db543a140\" points=\"260.85,312.55 268.85,312.55 268.85,320.55 260.85,320.55\"/>\n<polygon class=\"l71d44\" id=\"0x556db543a1b0\" points=\"111.1,271 119.1,271 119.1,279 111.1,279\"/>\n<polygon class=\"l71d44\" id=\"0x556db543a220\" points=\"171,271 179,271 179,279 171,279\"/>\n<polygon class=\"l71d44\" id=\"0x556db543a290\" points=\"230.9,271 238.9,271 238.9,279 230.9,279\"/>\n<polygon class=\"l71d44\" id=\"0x556db543a300\" points=\"81.15,229.45 89.15,229.45 89.15,237.45 81.15,237.45\"/>\n<polygon class=\"l71d44\" id=\"0x556db543a370\" points=\"141.05,229.45 149.05,229.45 149.05,237.45 141.05,237.45\"/>\n<polygon class=\"l71d44\" id=\"0x556db543a3e0\" points=\"200.95,229.45 208.95,229.45 208.95,237.45 200.95,237.45\"/>\n<polygon class=\"l71d44\" id=\"0x556db543a450\" points=\"260.85,229.45 268.85,229.45 268.85,237.45 260.85,237.45\"/>\n<polygon class=\"l71d44\" id=\"0x556db543a4c0\" points=\"111.1,187.9 119.1,187.9 119.1,195.9 111.1,195.9\"/>\n<polygon class=\"l71d44\" id=\"0x556db543a530\" points=\"171,187.9 179,187.9 179,195.9 171,195.9\"/>\n<polygon class=\"l71d44\" id=\"0x556db543a5a0\" points=\"230.9,187.9 238.9,187.9 238.9,195.9 230.9,195.9\"/>\n<polygon class=\"l71d44\" id=\"0x556db543a610\" points=\"81.15,146.35 89.15,146.35 89.15,154.35 81.15,154.35\"/>\n<polygon class=\"l71d44\" id=\"0x556db543a680\" points=\"141.05,146.35 149.05,146.35 149.05,154.35 141.05,154.35\"/>\n<polygon class=\"l71d44\" id=\"0x556db543a6f0\" points=\"200.95,146.35 208.95,146.35 208.95,154.35 200.95,154.35\"/>\n<polygon class=\"l71d44\" id=\"0x556db543a760\" points=\"260.85,146.35 268.85,146.35 268.85,154.35 260.85,154.35\"/>\n<polygon class=\"l72d20\" id=\"0x556db543a7d0\" points=\"52.8,391.65 296.8,391.65 296.8,407.65 52.8,407.65\"/>\n<polygon class=\"l72d20\" id=\"0x556db543a840\" points=\"52.8,350.1 296.8,350.1 296.8,366.1 52.8,366.1\"/>\n<polygon class=\"l72d20\" id=\"0x556db543a8b0\" points=\"52.8,308.55 296.8,308.55 296.8,324.55 52.8,324.55\"/>\n<polygon class=\"l72d20\" id=\"0x556db543a920\" points=\"52.8,267 296.8,267 296.8,283 52.8,283\"/>\n<polygon class=\"l72d20\" id=\"0x556db543a990\" points=\"52.8,225.45 296.8,225.45 296.8,241.45 52.8,241.45\"/>\n<polygon class=\"l72d20\" id=\"0x556db543aa00\" points=\"52.8,183.9 296.8,183.9 296.8,199.9 52.8,199.9\"/>\n<polygon class=\"l72d20\" id=\"0x556db543aa70\" points=\"52.8,142.35 296.8,142.35 296.8,158.35 52.8,158.35\"/>\n<polygon class=\"l71d16\" id=\"0x556db543aae0\" points=\"107.1,106.4 123.1,106.4 123.1,437.6 107.1,437.6\"/>\n<polygon class=\"l71d16\" id=\"0x556db543ab50\" points=\"167,106.4 183,106.4 183,437.6 167,437.6\"/>\n<polygon class=\"l71d16\" id=\"0x556db543abc0\" points=\"226.9,106.4 242.9,106.4 242.9,437.6 226.9,437.6\"/>\n<polygon class=\"l72d16\" id=\"0x556db543ac30\" points=\"52.8,183.9 296.8,183.9 296.8,199.9 52.8,199.9\"/>\n<polygon class=\"l72d16\" id=\"0x556db543aca0\" points=\"52.8,267 296.8,267 296.8,283 52.8,283\"/>\n<polygon class=\"l72d16\" id=\"0x556db543ad10\" points=\"52.8,350.1 296.8,350.1 296.8,366.1 52.8,366.1\"/>\n<polygon class=\"l71d16\" id=\"0x556db543ad80\" points=\"77.15,106.4 93.15,106.4 93.15,437.6 77.15,437.6\"/>\n<polygon class=\"l71d16\" id=\"0x556db543adf0\" points=\"137.05,106.4 153.05,106.4 153.05,437.6 137.05,437.6\"/>\n<polygon class=\"l71d16\" id=\"0x556db543ae60\" points=\"196.95,106.4 212.95,106.4 212.95,437.6 196.95,437.6\"/>\n<polygon class=\"l71d16\" id=\"0x556db543aed0\" points=\"256.85,106.4 272.85,106.4 272.85,437.6 256.85,437.6\"/>\n<polygon class=\"l72d16\" id=\"0x556db543af40\" points=\"52.8,142.35 296.8,142.35 296.8,158.35 52.8,158.35\"/>\n<polygon class=\"l72d16\" id=\"0x556db543afb0\" points=\"52.8,225.45 296.8,225.45 296.8,241.45 52.8,241.45\"/>\n<polygon class=\"l72d16\" id=\"0x556db543b020\" points=\"52.8,308.55 296.8,308.55 296.8,324.55 52.8,324.55\"/>\n<polygon class=\"l72d16\" id=\"0x556db543b090\" points=\"52.8,391.65 296.8,391.65 296.8,407.65 52.8,407.65\"/>\n<polygon class=\"l69d16\" id=\"0x556db543b100\" points=\"322.9,510 325.7,510 325.7,550 322.9,550\"/>\n<polygon class=\"l69d16\" id=\"0x556db543b170\" points=\"0.9,0 3.7,0 3.7,40 0.9,40\"/>\n<use transform=\"translate(87.4 108.8)\" xlink:href=\"#sky130_ef_sc_hd__decap_12\"/>\n<use transform=\"translate(87.4 163.2) scale(1 -1)\" xlink:href=\"#sky130_ef_sc_hd__decap_12\"/>\n<use transform=\"translate(55.2 108.8)\" xlink:href=\"#sky130_fd_sc_hd__decap_3\"/>\n<use transform=\"translate(55.2 163.2) scale(1 -1)\" xlink:href=\"#sky130_fd_sc_hd__decap_3\"/>\n<use transform=\"translate(87.4 108.8) rotate(180) scale(1 -1)\" xlink:href=\"#sky130_fd_sc_hd__clkinv_2\"/>\n<use transform=\"translate(87.4 163.2) rotate(180)\" xlink:href=\"#sky130_fd_sc_hd__buf_2\"/>\n<use transform=\"translate(142.6 108.8)\" xlink:href=\"#sky130_fd_sc_hd__decap_8\"/>\n<use transform=\"translate(142.6 163.2) scale(1 -1)\" xlink:href=\"#sky130_ef_sc_hd__decap_12\"/>\n<use transform=\"translate(179.4 108.8)\" xlink:href=\"#sky130_fd_sc_hd__fill_1\"/>\n<use transform=\"translate(188.6 108.8)\" xlink:href=\"#sky130_ef_sc_hd__decap_12\"/>\n<use transform=\"translate(197.8 163.2) scale(1 -1)\" xlink:href=\"#sky130_ef_sc_hd__decap_12\"/>\n<use transform=\"translate(184 108.8)\" xlink:href=\"#sky130_fd_sc_hd__tapvpwrvgnd_1\"/>\n<use transform=\"translate(243.8 108.8)\" xlink:href=\"#sky130_fd_sc_hd__decap_8\"/>\n<use transform=\"translate(253 163.2) scale(1 -1)\" xlink:href=\"#sky130_fd_sc_hd__decap_6\"/>\n<use transform=\"translate(294.4 108.8) rotate(180) scale(1 -1)\" xlink:href=\"#sky130_fd_sc_hd__decap_3\"/>\n<use transform=\"translate(294.4 163.2) rotate(180)\" xlink:href=\"#sky130_fd_sc_hd__decap_3\"/>\n<use transform=\"translate(69 163.2)\" xlink:href=\"#sky130_ef_sc_hd__decap_12\"/>\n<use transform=\"translate(55.2 163.2)\" xlink:href=\"#sky130_fd_sc_hd__decap_3\"/>\n<use transform=\"translate(124.2 163.2)\" xlink:href=\"#sky130_ef_sc_hd__decap_12\"/>\n<use transform=\"translate(179.4 163.2)\" xlink:href=\"#sky130_fd_sc_hd__fill_1\"/>\n<use transform=\"translate(188.6 163.2)\" xlink:href=\"#sky130_ef_sc_hd__decap_12\"/>\n<use transform=\"translate(184 163.2)\" xlink:href=\"#sky130_fd_sc_hd__tapvpwrvgnd_1\"/>\n<use transform=\"translate(243.8 163.2)\" xlink:href=\"#sky130_fd_sc_hd__decap_8\"/>\n<use transform=\"translate(294.4 163.2) rotate(180) scale(1 -1)\" xlink:href=\"#sky130_fd_sc_hd__decap_3\"/>\n<use transform=\"translate(69 217.6) scale(1 -1)\" xlink:href=\"#sky130_ef_sc_hd__decap_12\"/>\n<use transform=\"translate(55.2 217.6) scale(1 -1)\" xlink:href=\"#sky130_fd_sc_hd__decap_3\"/>\n<use transform=\"translate(124.2 217.6) scale(1 -1)\" xlink:href=\"#sky130_ef_sc_hd__decap_12\"/>\n<use transform=\"translate(179.4 217.6) scale(1 -1)\" xlink:href=\"#sky130_ef_sc_hd__decap_12\"/>\n<use transform=\"translate(234.6 217.6) scale(1 -1)\" xlink:href=\"#sky130_fd_sc_hd__decap_8\"/>\n<use transform=\"translate(271.4 217.6) scale(1 -1)\" xlink:href=\"#sky130_fd_sc_hd__fill_2\"/>\n<use transform=\"translate(294.4 217.6) rotate(180)\" xlink:href=\"#sky130_fd_sc_hd__decap_3\"/>\n<use transform=\"translate(69 217.6)\" xlink:href=\"#sky130_ef_sc_hd__decap_12\"/>\n<use transform=\"translate(55.2 217.6)\" xlink:href=\"#sky130_fd_sc_hd__decap_3\"/>\n<use transform=\"translate(124.2 217.6)\" xlink:href=\"#sky130_ef_sc_hd__decap_12\"/>\n<use transform=\"translate(179.4 217.6)\" xlink:href=\"#sky130_fd_sc_hd__fill_1\"/>\n<use transform=\"translate(188.6 217.6)\" xlink:href=\"#sky130_ef_sc_hd__decap_12\"/>\n<use transform=\"translate(184 217.6)\" xlink:href=\"#sky130_fd_sc_hd__tapvpwrvgnd_1\"/>\n<use transform=\"translate(243.8 217.6)\" xlink:href=\"#sky130_fd_sc_hd__decap_8\"/>\n<use transform=\"translate(294.4 217.6) rotate(180) scale(1 -1)\" xlink:href=\"#sky130_fd_sc_hd__decap_3\"/>\n<use transform=\"translate(69 272) scale(1 -1)\" xlink:href=\"#sky130_ef_sc_hd__decap_12\"/>\n<use transform=\"translate(55.2 272) scale(1 -1)\" xlink:href=\"#sky130_fd_sc_hd__decap_3\"/>\n<use transform=\"translate(124.2 272) scale(1 -1)\" xlink:href=\"#sky130_ef_sc_hd__decap_12\"/>\n<use transform=\"translate(179.4 272) scale(1 -1)\" xlink:href=\"#sky130_ef_sc_hd__decap_12\"/>\n<use transform=\"translate(234.6 272) scale(1 -1)\" xlink:href=\"#sky130_fd_sc_hd__decap_8\"/>\n<use transform=\"translate(271.4 272) scale(1 -1)\" xlink:href=\"#sky130_fd_sc_hd__fill_2\"/>\n<use transform=\"translate(294.4 272) rotate(180)\" xlink:href=\"#sky130_fd_sc_hd__decap_3\"/>\n<use transform=\"translate(69 272)\" xlink:href=\"#sky130_ef_sc_hd__decap_12\"/>\n<use transform=\"translate(69 326.4) scale(1 -1)\" xlink:href=\"#sky130_ef_sc_hd__decap_12\"/>\n<use transform=\"translate(55.2 272)\" xlink:href=\"#sky130_fd_sc_hd__decap_3\"/>\n<use transform=\"translate(55.2 326.4) scale(1 -1)\" xlink:href=\"#sky130_fd_sc_hd__decap_3\"/>\n<use transform=\"translate(124.2 272)\" xlink:href=\"#sky130_ef_sc_hd__decap_12\"/>\n<use transform=\"translate(124.2 326.4) scale(1 -1)\" xlink:href=\"#sky130_ef_sc_hd__decap_12\"/>\n<use transform=\"translate(179.4 272)\" xlink:href=\"#sky130_fd_sc_hd__fill_1\"/>\n<use transform=\"translate(188.6 272)\" xlink:href=\"#sky130_ef_sc_hd__decap_12\"/>\n<use transform=\"translate(179.4 326.4) scale(1 -1)\" xlink:href=\"#sky130_ef_sc_hd__decap_12\"/>\n<use transform=\"translate(184 272)\" xlink:href=\"#sky130_fd_sc_hd__tapvpwrvgnd_1\"/>\n<use transform=\"translate(243.8 272)\" xlink:href=\"#sky130_fd_sc_hd__decap_8\"/>\n<use transform=\"translate(234.6 326.4) scale(1 -1)\" xlink:href=\"#sky130_fd_sc_hd__decap_8\"/>\n<use transform=\"translate(271.4 326.4) scale(1 -1)\" xlink:href=\"#sky130_fd_sc_hd__fill_2\"/>\n<use transform=\"translate(294.4 272) rotate(180) scale(1 -1)\" xlink:href=\"#sky130_fd_sc_hd__decap_3\"/>\n<use transform=\"translate(294.4 326.4) rotate(180)\" xlink:href=\"#sky130_fd_sc_hd__decap_3\"/>\n<use transform=\"translate(69 326.4)\" xlink:href=\"#sky130_ef_sc_hd__decap_12\"/>\n<use transform=\"translate(55.2 326.4)\" xlink:href=\"#sky130_fd_sc_hd__decap_3\"/>\n<use transform=\"translate(124.2 326.4)\" xlink:href=\"#sky130_ef_sc_hd__decap_12\"/>\n<use transform=\"translate(179.4 326.4)\" xlink:href=\"#sky130_fd_sc_hd__fill_1\"/>\n<use transform=\"translate(188.6 326.4)\" xlink:href=\"#sky130_ef_sc_hd__decap_12\"/>\n<use transform=\"translate(184 326.4)\" xlink:href=\"#sky130_fd_sc_hd__tapvpwrvgnd_1\"/>\n<use transform=\"translate(243.8 326.4)\" xlink:href=\"#sky130_fd_sc_hd__decap_8\"/>\n<use transform=\"translate(294.4 326.4) rotate(180) scale(1 -1)\" xlink:href=\"#sky130_fd_sc_hd__decap_3\"/>\n<use transform=\"translate(69 380.8) scale(1 -1)\" xlink:href=\"#sky130_ef_sc_hd__decap_12\"/>\n<use transform=\"translate(55.2 380.8) scale(1 -1)\" xlink:href=\"#sky130_fd_sc_hd__decap_3\"/>\n<use transform=\"translate(124.2 380.8) scale(1 -1)\" xlink:href=\"#sky130_ef_sc_hd__decap_12\"/>\n<use transform=\"translate(179.4 380.8) scale(1 -1)\" xlink:href=\"#sky130_ef_sc_hd__decap_12\"/>\n<use transform=\"translate(234.6 380.8) scale(1 -1)\" xlink:href=\"#sky130_fd_sc_hd__decap_8\"/>\n<use transform=\"translate(271.4 380.8) scale(1 -1)\" xlink:href=\"#sky130_fd_sc_hd__fill_2\"/>\n<use transform=\"translate(294.4 380.8) rotate(180)\" xlink:href=\"#sky130_fd_sc_hd__decap_3\"/>\n<use transform=\"translate(69 380.8)\" xlink:href=\"#sky130_ef_sc_hd__decap_12\"/>\n<use transform=\"translate(55.2 380.8)\" xlink:href=\"#sky130_fd_sc_hd__decap_3\"/>\n<use transform=\"translate(124.2 380.8)\" xlink:href=\"#sky130_ef_sc_hd__decap_12\"/>\n<use transform=\"translate(179.4 380.8)\" xlink:href=\"#sky130_fd_sc_hd__fill_1\"/>\n<use transform=\"translate(188.6 380.8)\" xlink:href=\"#sky130_ef_sc_hd__decap_12\"/>\n<use transform=\"translate(184 380.8)\" xlink:href=\"#sky130_fd_sc_hd__tapvpwrvgnd_1\"/>\n<use transform=\"translate(243.8 380.8)\" xlink:href=\"#sky130_fd_sc_hd__decap_8\"/>\n<use transform=\"translate(294.4 380.8) rotate(180) scale(1 -1)\" xlink:href=\"#sky130_fd_sc_hd__decap_3\"/>\n<use transform=\"translate(69 435.2) scale(1 -1)\" xlink:href=\"#sky130_ef_sc_hd__decap_12\"/>\n<use transform=\"translate(55.2 435.2) scale(1 -1)\" xlink:href=\"#sky130_fd_sc_hd__decap_3\"/>\n<use transform=\"translate(124.2 435.2) scale(1 -1)\" xlink:href=\"#sky130_ef_sc_hd__decap_12\"/>\n<use transform=\"translate(179.4 435.2) scale(1 -1)\" xlink:href=\"#sky130_fd_sc_hd__fill_1\"/>\n<use transform=\"translate(188.6 435.2) scale(1 -1)\" xlink:href=\"#sky130_ef_sc_hd__decap_12\"/>\n<use transform=\"translate(184 435.2) scale(1 -1)\" xlink:href=\"#sky130_fd_sc_hd__tapvpwrvgnd_1\"/>\n<use transform=\"translate(243.8 435.2) scale(1 -1)\" xlink:href=\"#sky130_fd_sc_hd__fill_1\"/>\n<use transform=\"translate(262.2 435.2) scale(1 -1)\" xlink:href=\"#sky130_fd_sc_hd__decap_4\"/>\n<use transform=\"translate(294.4 435.2) rotate(180)\" xlink:href=\"#sky130_fd_sc_hd__decap_3\"/>\n<use transform=\"translate(248.4 435.2) scale(1 -1)\" xlink:href=\"#sky130_fd_sc_hd__clkbuf_1\"/>\n<text class=\"l71t16\" dominant-baseline=\"central\" id=\"0x556db5746c70\" text-anchor=\"middle\" transform=\"scale(1 -1) translate(115.1 272) rotate(-90) scale(1.2)\">VGND</text>\n<text class=\"l71t16\" dominant-baseline=\"central\" id=\"0x556db5746d00\" text-anchor=\"middle\" transform=\"scale(1 -1) translate(175 272) rotate(-90) scale(1.2)\">VGND</text>\n<text class=\"l71t16\" dominant-baseline=\"central\" id=\"0x556db5746d90\" text-anchor=\"middle\" transform=\"scale(1 -1) translate(234.9 272) rotate(-90) scale(1.2)\">VGND</text>\n<text class=\"l72t16\" dominant-baseline=\"central\" id=\"0x556db5746e20\" text-anchor=\"middle\" transform=\"scale(1 -1) translate(174.8 191.9) scale(1.6)\">VGND</text>\n<text class=\"l72t16\" dominant-baseline=\"central\" id=\"0x556db5746eb0\" text-anchor=\"middle\" transform=\"scale(1 -1) translate(174.8 275) scale(1.6)\">VGND</text>\n<text class=\"l72t16\" dominant-baseline=\"central\" id=\"0x556db5746f40\" text-anchor=\"middle\" transform=\"scale(1 -1) translate(174.8 358.1) scale(1.6)\">VGND</text>\n<text class=\"l71t16\" dominant-baseline=\"central\" id=\"0x556db5746fd0\" text-anchor=\"middle\" transform=\"scale(1 -1) translate(85.15 272) rotate(-90) scale(1.2)\">VPWR</text>\n<text class=\"l71t16\" dominant-baseline=\"central\" id=\"0x556db5747060\" text-anchor=\"middle\" transform=\"scale(1 -1) translate(145.05 272) rotate(-90) scale(1.2)\">VPWR</text>\n<text class=\"l71t16\" dominant-baseline=\"central\" id=\"0x556db57470f0\" text-anchor=\"middle\" transform=\"scale(1 -1) translate(204.95 272) rotate(-90) scale(1.2)\">VPWR</text>\n<text class=\"l71t16\" dominant-baseline=\"central\" id=\"0x556db5747180\" text-anchor=\"middle\" transform=\"scale(1 -1) translate(264.85 272) rotate(-90) scale(1.2)\">VPWR</text>\n<text class=\"l72t16\" dominant-baseline=\"central\" id=\"0x556db5747210\" text-anchor=\"middle\" transform=\"scale(1 -1) translate(174.8 150.35) scale(1.6)\">VPWR</text>\n<text class=\"l72t16\" dominant-baseline=\"central\" id=\"0x556db57472a0\" text-anchor=\"middle\" transform=\"scale(1 -1) translate(174.8 233.45) scale(1.6)\">VPWR</text>\n<text class=\"l72t16\" dominant-baseline=\"central\" id=\"0x556db5747330\" text-anchor=\"middle\" transform=\"scale(1 -1) translate(174.8 316.55) scale(1.6)\">VPWR</text>\n<text class=\"l72t16\" dominant-baseline=\"central\" id=\"0x556db57473c0\" text-anchor=\"middle\" transform=\"scale(1 -1) translate(174.8 399.65) scale(1.6)\">VPWR</text>\n<text class=\"l69t16\" dominant-baseline=\"central\" id=\"0x556db5747450\" text-anchor=\"middle\" transform=\"scale(1 -1) translate(324.3 530) rotate(-90) scale(0.14)\">in</text>\n<text class=\"l69t16\" dominant-baseline=\"central\" id=\"0x556db57474e0\" text-anchor=\"middle\" transform=\"scale(1 -1) translate(2.3 20) rotate(-90) scale(0.14)\">out</text>\n</g>\n</svg>"
          },
          "metadata": {},
          "execution_count": 154
        }
      ]
    },
    {
      "cell_type": "markdown",
      "source": [
        "## Dump flow report"
      ],
      "metadata": {
        "id": "NW_7YdgTZYQK"
      }
    },
    {
      "cell_type": "code",
      "source": [
        "import pandas as pd\n",
        "import pathlib\n",
        "\n",
        "final_summary_reports = sorted(pathlib.Path('/content/runs').glob('*/reports/metrics.csv'))\n",
        "df = pd.read_csv(final_summary_reports[-1])\n",
        "df.transpose()"
      ],
      "metadata": {
        "colab": {
          "base_uri": "https://localhost:8080/",
          "height": 1000
        },
        "id": "OWAwQI3fZC4W",
        "outputId": "311c490c-2c0e-413a-82d4-0166b73f40cb"
      },
      "execution_count": 155,
      "outputs": [
        {
          "output_type": "execute_result",
          "data": {
            "text/plain": [
              "                                                 0\n",
              "Unnamed: 0                                       0\n",
              "design                                    /content\n",
              "design_name                               inverter\n",
              "config                     RUN_2022.04.12_06.23.33\n",
              "flow_status                         flow completed\n",
              "total_runtime                           0h0m34s0ms\n",
              "routed_runtime                          0h0m17s0ms\n",
              "(Cell/mm^2)/Core_Util                         -2.0\n",
              "DIEAREA_mm^2                              0.001925\n",
              "CellPer_mm^2                                    -1\n",
              "OpenDP_Util                                     -1\n",
              "Peak_Memory_Usage_MB                        464.61\n",
              "cell_count                                      -1\n",
              "tritonRoute_violations                           0\n",
              "Short_violations                                 0\n",
              "MetSpc_violations                                0\n",
              "OffGrid_violations                               0\n",
              "MinHole_violations                               0\n",
              "Other_violations                                 0\n",
              "Magic_violations                                 0\n",
              "antenna_violations                               0\n",
              "lvs_total_errors                                 0\n",
              "cvc_total_errors                                -1\n",
              "klayout_violations                              -1\n",
              "wire_length                                     76\n",
              "vias                                            12\n",
              "wns                                            0.0\n",
              "pl_wns                                          -1\n",
              "optimized_wns                                  0.0\n",
              "fastroute_wns                                  0.0\n",
              "spef_wns                                        -1\n",
              "tns                                            0.0\n",
              "pl_tns                                          -1\n",
              "optimized_tns                                  0.0\n",
              "fastroute_tns                                  0.0\n",
              "spef_tns                                        -1\n",
              "HPWL                                            -1\n",
              "routing_layer1_pct                             0.0\n",
              "routing_layer2_pct                            0.95\n",
              "routing_layer3_pct                            2.47\n",
              "routing_layer4_pct                             0.0\n",
              "routing_layer5_pct                             0.0\n",
              "routing_layer6_pct                             0.0\n",
              "wires_count                                      2\n",
              "wire_bits                                        2\n",
              "public_wires_count                               2\n",
              "public_wire_bits                                 2\n",
              "memories_count                                   0\n",
              "memory_bits                                      0\n",
              "processes_count                                  0\n",
              "cells_pre_abc                                    1\n",
              "AND                                              0\n",
              "DFF                                              0\n",
              "NAND                                             0\n",
              "NOR                                              0\n",
              "OR                                               0\n",
              "XOR                                              0\n",
              "XNOR                                             0\n",
              "MUX                                              0\n",
              "inputs                                           1\n",
              "outputs                                          1\n",
              "level                                            1\n",
              "EndCaps                                         24\n",
              "TapCells                                         7\n",
              "Diodes                                           0\n",
              "Total_Physical_Cells                            31\n",
              "suggested_clock_frequency                90.909091\n",
              "suggested_clock_period                        11.0\n",
              "CLOCK_PERIOD                                  10.0\n",
              "SYNTH_STRATEGY                              AREA 0\n",
              "SYNTH_MAX_FANOUT                                 5\n",
              "FP_CORE_UTIL                                    50\n",
              "FP_ASPECT_RATIO                                  1\n",
              "FP_PDN_VPITCH                                 5.99\n",
              "FP_PDN_HPITCH                                 8.31\n",
              "PL_TARGET_DENSITY                             0.75\n",
              "GLB_RT_ADJUSTMENT                              0.3\n",
              "STD_CELL_LIBRARY                   sky130_fd_sc_hd\n",
              "CELL_PAD                                         4\n",
              "DIODE_INSERTION_STRATEGY                         3"
            ],
            "text/html": [
              "\n",
              "  <div id=\"df-01d6edb7-3cab-4e72-9ccc-bad9f0a32ba2\">\n",
              "    <div class=\"colab-df-container\">\n",
              "      <div>\n",
              "<style scoped>\n",
              "    .dataframe tbody tr th:only-of-type {\n",
              "        vertical-align: middle;\n",
              "    }\n",
              "\n",
              "    .dataframe tbody tr th {\n",
              "        vertical-align: top;\n",
              "    }\n",
              "\n",
              "    .dataframe thead th {\n",
              "        text-align: right;\n",
              "    }\n",
              "</style>\n",
              "<table border=\"1\" class=\"dataframe\">\n",
              "  <thead>\n",
              "    <tr style=\"text-align: right;\">\n",
              "      <th></th>\n",
              "      <th>0</th>\n",
              "    </tr>\n",
              "  </thead>\n",
              "  <tbody>\n",
              "    <tr>\n",
              "      <th>Unnamed: 0</th>\n",
              "      <td>0</td>\n",
              "    </tr>\n",
              "    <tr>\n",
              "      <th>design</th>\n",
              "      <td>/content</td>\n",
              "    </tr>\n",
              "    <tr>\n",
              "      <th>design_name</th>\n",
              "      <td>inverter</td>\n",
              "    </tr>\n",
              "    <tr>\n",
              "      <th>config</th>\n",
              "      <td>RUN_2022.04.12_06.23.33</td>\n",
              "    </tr>\n",
              "    <tr>\n",
              "      <th>flow_status</th>\n",
              "      <td>flow completed</td>\n",
              "    </tr>\n",
              "    <tr>\n",
              "      <th>total_runtime</th>\n",
              "      <td>0h0m34s0ms</td>\n",
              "    </tr>\n",
              "    <tr>\n",
              "      <th>routed_runtime</th>\n",
              "      <td>0h0m17s0ms</td>\n",
              "    </tr>\n",
              "    <tr>\n",
              "      <th>(Cell/mm^2)/Core_Util</th>\n",
              "      <td>-2.0</td>\n",
              "    </tr>\n",
              "    <tr>\n",
              "      <th>DIEAREA_mm^2</th>\n",
              "      <td>0.001925</td>\n",
              "    </tr>\n",
              "    <tr>\n",
              "      <th>CellPer_mm^2</th>\n",
              "      <td>-1</td>\n",
              "    </tr>\n",
              "    <tr>\n",
              "      <th>OpenDP_Util</th>\n",
              "      <td>-1</td>\n",
              "    </tr>\n",
              "    <tr>\n",
              "      <th>Peak_Memory_Usage_MB</th>\n",
              "      <td>464.61</td>\n",
              "    </tr>\n",
              "    <tr>\n",
              "      <th>cell_count</th>\n",
              "      <td>-1</td>\n",
              "    </tr>\n",
              "    <tr>\n",
              "      <th>tritonRoute_violations</th>\n",
              "      <td>0</td>\n",
              "    </tr>\n",
              "    <tr>\n",
              "      <th>Short_violations</th>\n",
              "      <td>0</td>\n",
              "    </tr>\n",
              "    <tr>\n",
              "      <th>MetSpc_violations</th>\n",
              "      <td>0</td>\n",
              "    </tr>\n",
              "    <tr>\n",
              "      <th>OffGrid_violations</th>\n",
              "      <td>0</td>\n",
              "    </tr>\n",
              "    <tr>\n",
              "      <th>MinHole_violations</th>\n",
              "      <td>0</td>\n",
              "    </tr>\n",
              "    <tr>\n",
              "      <th>Other_violations</th>\n",
              "      <td>0</td>\n",
              "    </tr>\n",
              "    <tr>\n",
              "      <th>Magic_violations</th>\n",
              "      <td>0</td>\n",
              "    </tr>\n",
              "    <tr>\n",
              "      <th>antenna_violations</th>\n",
              "      <td>0</td>\n",
              "    </tr>\n",
              "    <tr>\n",
              "      <th>lvs_total_errors</th>\n",
              "      <td>0</td>\n",
              "    </tr>\n",
              "    <tr>\n",
              "      <th>cvc_total_errors</th>\n",
              "      <td>-1</td>\n",
              "    </tr>\n",
              "    <tr>\n",
              "      <th>klayout_violations</th>\n",
              "      <td>-1</td>\n",
              "    </tr>\n",
              "    <tr>\n",
              "      <th>wire_length</th>\n",
              "      <td>76</td>\n",
              "    </tr>\n",
              "    <tr>\n",
              "      <th>vias</th>\n",
              "      <td>12</td>\n",
              "    </tr>\n",
              "    <tr>\n",
              "      <th>wns</th>\n",
              "      <td>0.0</td>\n",
              "    </tr>\n",
              "    <tr>\n",
              "      <th>pl_wns</th>\n",
              "      <td>-1</td>\n",
              "    </tr>\n",
              "    <tr>\n",
              "      <th>optimized_wns</th>\n",
              "      <td>0.0</td>\n",
              "    </tr>\n",
              "    <tr>\n",
              "      <th>fastroute_wns</th>\n",
              "      <td>0.0</td>\n",
              "    </tr>\n",
              "    <tr>\n",
              "      <th>spef_wns</th>\n",
              "      <td>-1</td>\n",
              "    </tr>\n",
              "    <tr>\n",
              "      <th>tns</th>\n",
              "      <td>0.0</td>\n",
              "    </tr>\n",
              "    <tr>\n",
              "      <th>pl_tns</th>\n",
              "      <td>-1</td>\n",
              "    </tr>\n",
              "    <tr>\n",
              "      <th>optimized_tns</th>\n",
              "      <td>0.0</td>\n",
              "    </tr>\n",
              "    <tr>\n",
              "      <th>fastroute_tns</th>\n",
              "      <td>0.0</td>\n",
              "    </tr>\n",
              "    <tr>\n",
              "      <th>spef_tns</th>\n",
              "      <td>-1</td>\n",
              "    </tr>\n",
              "    <tr>\n",
              "      <th>HPWL</th>\n",
              "      <td>-1</td>\n",
              "    </tr>\n",
              "    <tr>\n",
              "      <th>routing_layer1_pct</th>\n",
              "      <td>0.0</td>\n",
              "    </tr>\n",
              "    <tr>\n",
              "      <th>routing_layer2_pct</th>\n",
              "      <td>0.95</td>\n",
              "    </tr>\n",
              "    <tr>\n",
              "      <th>routing_layer3_pct</th>\n",
              "      <td>2.47</td>\n",
              "    </tr>\n",
              "    <tr>\n",
              "      <th>routing_layer4_pct</th>\n",
              "      <td>0.0</td>\n",
              "    </tr>\n",
              "    <tr>\n",
              "      <th>routing_layer5_pct</th>\n",
              "      <td>0.0</td>\n",
              "    </tr>\n",
              "    <tr>\n",
              "      <th>routing_layer6_pct</th>\n",
              "      <td>0.0</td>\n",
              "    </tr>\n",
              "    <tr>\n",
              "      <th>wires_count</th>\n",
              "      <td>2</td>\n",
              "    </tr>\n",
              "    <tr>\n",
              "      <th>wire_bits</th>\n",
              "      <td>2</td>\n",
              "    </tr>\n",
              "    <tr>\n",
              "      <th>public_wires_count</th>\n",
              "      <td>2</td>\n",
              "    </tr>\n",
              "    <tr>\n",
              "      <th>public_wire_bits</th>\n",
              "      <td>2</td>\n",
              "    </tr>\n",
              "    <tr>\n",
              "      <th>memories_count</th>\n",
              "      <td>0</td>\n",
              "    </tr>\n",
              "    <tr>\n",
              "      <th>memory_bits</th>\n",
              "      <td>0</td>\n",
              "    </tr>\n",
              "    <tr>\n",
              "      <th>processes_count</th>\n",
              "      <td>0</td>\n",
              "    </tr>\n",
              "    <tr>\n",
              "      <th>cells_pre_abc</th>\n",
              "      <td>1</td>\n",
              "    </tr>\n",
              "    <tr>\n",
              "      <th>AND</th>\n",
              "      <td>0</td>\n",
              "    </tr>\n",
              "    <tr>\n",
              "      <th>DFF</th>\n",
              "      <td>0</td>\n",
              "    </tr>\n",
              "    <tr>\n",
              "      <th>NAND</th>\n",
              "      <td>0</td>\n",
              "    </tr>\n",
              "    <tr>\n",
              "      <th>NOR</th>\n",
              "      <td>0</td>\n",
              "    </tr>\n",
              "    <tr>\n",
              "      <th>OR</th>\n",
              "      <td>0</td>\n",
              "    </tr>\n",
              "    <tr>\n",
              "      <th>XOR</th>\n",
              "      <td>0</td>\n",
              "    </tr>\n",
              "    <tr>\n",
              "      <th>XNOR</th>\n",
              "      <td>0</td>\n",
              "    </tr>\n",
              "    <tr>\n",
              "      <th>MUX</th>\n",
              "      <td>0</td>\n",
              "    </tr>\n",
              "    <tr>\n",
              "      <th>inputs</th>\n",
              "      <td>1</td>\n",
              "    </tr>\n",
              "    <tr>\n",
              "      <th>outputs</th>\n",
              "      <td>1</td>\n",
              "    </tr>\n",
              "    <tr>\n",
              "      <th>level</th>\n",
              "      <td>1</td>\n",
              "    </tr>\n",
              "    <tr>\n",
              "      <th>EndCaps</th>\n",
              "      <td>24</td>\n",
              "    </tr>\n",
              "    <tr>\n",
              "      <th>TapCells</th>\n",
              "      <td>7</td>\n",
              "    </tr>\n",
              "    <tr>\n",
              "      <th>Diodes</th>\n",
              "      <td>0</td>\n",
              "    </tr>\n",
              "    <tr>\n",
              "      <th>Total_Physical_Cells</th>\n",
              "      <td>31</td>\n",
              "    </tr>\n",
              "    <tr>\n",
              "      <th>suggested_clock_frequency</th>\n",
              "      <td>90.909091</td>\n",
              "    </tr>\n",
              "    <tr>\n",
              "      <th>suggested_clock_period</th>\n",
              "      <td>11.0</td>\n",
              "    </tr>\n",
              "    <tr>\n",
              "      <th>CLOCK_PERIOD</th>\n",
              "      <td>10.0</td>\n",
              "    </tr>\n",
              "    <tr>\n",
              "      <th>SYNTH_STRATEGY</th>\n",
              "      <td>AREA 0</td>\n",
              "    </tr>\n",
              "    <tr>\n",
              "      <th>SYNTH_MAX_FANOUT</th>\n",
              "      <td>5</td>\n",
              "    </tr>\n",
              "    <tr>\n",
              "      <th>FP_CORE_UTIL</th>\n",
              "      <td>50</td>\n",
              "    </tr>\n",
              "    <tr>\n",
              "      <th>FP_ASPECT_RATIO</th>\n",
              "      <td>1</td>\n",
              "    </tr>\n",
              "    <tr>\n",
              "      <th>FP_PDN_VPITCH</th>\n",
              "      <td>5.99</td>\n",
              "    </tr>\n",
              "    <tr>\n",
              "      <th>FP_PDN_HPITCH</th>\n",
              "      <td>8.31</td>\n",
              "    </tr>\n",
              "    <tr>\n",
              "      <th>PL_TARGET_DENSITY</th>\n",
              "      <td>0.75</td>\n",
              "    </tr>\n",
              "    <tr>\n",
              "      <th>GLB_RT_ADJUSTMENT</th>\n",
              "      <td>0.3</td>\n",
              "    </tr>\n",
              "    <tr>\n",
              "      <th>STD_CELL_LIBRARY</th>\n",
              "      <td>sky130_fd_sc_hd</td>\n",
              "    </tr>\n",
              "    <tr>\n",
              "      <th>CELL_PAD</th>\n",
              "      <td>4</td>\n",
              "    </tr>\n",
              "    <tr>\n",
              "      <th>DIODE_INSERTION_STRATEGY</th>\n",
              "      <td>3</td>\n",
              "    </tr>\n",
              "  </tbody>\n",
              "</table>\n",
              "</div>\n",
              "      <button class=\"colab-df-convert\" onclick=\"convertToInteractive('df-01d6edb7-3cab-4e72-9ccc-bad9f0a32ba2')\"\n",
              "              title=\"Convert this dataframe to an interactive table.\"\n",
              "              style=\"display:none;\">\n",
              "        \n",
              "  <svg xmlns=\"http://www.w3.org/2000/svg\" height=\"24px\"viewBox=\"0 0 24 24\"\n",
              "       width=\"24px\">\n",
              "    <path d=\"M0 0h24v24H0V0z\" fill=\"none\"/>\n",
              "    <path d=\"M18.56 5.44l.94 2.06.94-2.06 2.06-.94-2.06-.94-.94-2.06-.94 2.06-2.06.94zm-11 1L8.5 8.5l.94-2.06 2.06-.94-2.06-.94L8.5 2.5l-.94 2.06-2.06.94zm10 10l.94 2.06.94-2.06 2.06-.94-2.06-.94-.94-2.06-.94 2.06-2.06.94z\"/><path d=\"M17.41 7.96l-1.37-1.37c-.4-.4-.92-.59-1.43-.59-.52 0-1.04.2-1.43.59L10.3 9.45l-7.72 7.72c-.78.78-.78 2.05 0 2.83L4 21.41c.39.39.9.59 1.41.59.51 0 1.02-.2 1.41-.59l7.78-7.78 2.81-2.81c.8-.78.8-2.07 0-2.86zM5.41 20L4 18.59l7.72-7.72 1.47 1.35L5.41 20z\"/>\n",
              "  </svg>\n",
              "      </button>\n",
              "      \n",
              "  <style>\n",
              "    .colab-df-container {\n",
              "      display:flex;\n",
              "      flex-wrap:wrap;\n",
              "      gap: 12px;\n",
              "    }\n",
              "\n",
              "    .colab-df-convert {\n",
              "      background-color: #E8F0FE;\n",
              "      border: none;\n",
              "      border-radius: 50%;\n",
              "      cursor: pointer;\n",
              "      display: none;\n",
              "      fill: #1967D2;\n",
              "      height: 32px;\n",
              "      padding: 0 0 0 0;\n",
              "      width: 32px;\n",
              "    }\n",
              "\n",
              "    .colab-df-convert:hover {\n",
              "      background-color: #E2EBFA;\n",
              "      box-shadow: 0px 1px 2px rgba(60, 64, 67, 0.3), 0px 1px 3px 1px rgba(60, 64, 67, 0.15);\n",
              "      fill: #174EA6;\n",
              "    }\n",
              "\n",
              "    [theme=dark] .colab-df-convert {\n",
              "      background-color: #3B4455;\n",
              "      fill: #D2E3FC;\n",
              "    }\n",
              "\n",
              "    [theme=dark] .colab-df-convert:hover {\n",
              "      background-color: #434B5C;\n",
              "      box-shadow: 0px 1px 3px 1px rgba(0, 0, 0, 0.15);\n",
              "      filter: drop-shadow(0px 1px 2px rgba(0, 0, 0, 0.3));\n",
              "      fill: #FFFFFF;\n",
              "    }\n",
              "  </style>\n",
              "\n",
              "      <script>\n",
              "        const buttonEl =\n",
              "          document.querySelector('#df-01d6edb7-3cab-4e72-9ccc-bad9f0a32ba2 button.colab-df-convert');\n",
              "        buttonEl.style.display =\n",
              "          google.colab.kernel.accessAllowed ? 'block' : 'none';\n",
              "\n",
              "        async function convertToInteractive(key) {\n",
              "          const element = document.querySelector('#df-01d6edb7-3cab-4e72-9ccc-bad9f0a32ba2');\n",
              "          const dataTable =\n",
              "            await google.colab.kernel.invokeFunction('convertToInteractive',\n",
              "                                                     [key], {});\n",
              "          if (!dataTable) return;\n",
              "\n",
              "          const docLinkHtml = 'Like what you see? Visit the ' +\n",
              "            '<a target=\"_blank\" href=https://colab.research.google.com/notebooks/data_table.ipynb>data table notebook</a>'\n",
              "            + ' to learn more about interactive tables.';\n",
              "          element.innerHTML = '';\n",
              "          dataTable['output_type'] = 'display_data';\n",
              "          await google.colab.output.renderOutput(dataTable, element);\n",
              "          const docLink = document.createElement('div');\n",
              "          docLink.innerHTML = docLinkHtml;\n",
              "          element.appendChild(docLink);\n",
              "        }\n",
              "      </script>\n",
              "    </div>\n",
              "  </div>\n",
              "  "
            ]
          },
          "metadata": {},
          "execution_count": 155
        }
      ]
    }
  ]
}