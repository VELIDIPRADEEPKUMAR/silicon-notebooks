{
  "nbformat": 4,
  "nbformat_minor": 0,
  "metadata": {
    "colab": {
      "name": "openlane-with-conda-eda.ipynb",
      "provenance": [],
      "collapsed_sections": [],
      "include_colab_link": true
    },
    "kernelspec": {
      "name": "python3",
      "display_name": "Python 3"
    },
    "language_info": {
      "name": "python"
    }
  },
  "cells": [
    {
      "cell_type": "markdown",
      "metadata": {
        "id": "view-in-github",
        "colab_type": "text"
      },
      "source": [
        "<a href=\"https://colab.research.google.com/gist/proppy/26525ff7d9810247759a8d3ff3c41dcb/openlane-with-conda-eda.ipynb\" target=\"_parent\"><img src=\"https://colab.research.google.com/assets/colab-badge.svg\" alt=\"Open In Colab\"/></a>"
      ]
    },
    {
      "cell_type": "markdown",
      "source": [
        "# OpenLane flow with conda-eda packages\n",
        "\n",
        "```\n",
        "Copyright 2022 Google LLC.\n",
        "SPDX-License-Identifier: Apache-2.0\n",
        "```"
      ],
      "metadata": {
        "id": "HkFeU0R-0hzi"
      }
    },
    {
      "cell_type": "markdown",
      "source": [
        "## install conda"
      ],
      "metadata": {
        "id": "gxIm7zGh0pJA"
      }
    },
    {
      "cell_type": "code",
      "execution_count": 2,
      "metadata": {
        "colab": {
          "base_uri": "https://localhost:8080/"
        },
        "id": "NC__X6Jph4CU",
        "outputId": "2a4594b0-091e-4750-cb35-a7cbb6690e67"
      },
      "outputs": [
        {
          "output_type": "stream",
          "name": "stdout",
          "text": [
            "⏬ Downloading https://repo.anaconda.com/miniconda/Miniconda3-py37_4.11.0-Linux-x86_64.sh...\n",
            "📦 Installing...\n",
            "📌 Adjusting configuration...\n",
            "🩹 Patching environment...\n",
            "⏲ Done in 0:00:26\n",
            "🔁 Restarting kernel...\n"
          ]
        }
      ],
      "source": [
        "!pip install -q condacolab\n",
        "import condacolab\n",
        "condacolab.install_from_url(\"https://repo.anaconda.com/miniconda/Miniconda3-py37_4.11.0-Linux-x86_64.sh\")"
      ]
    },
    {
      "cell_type": "code",
      "source": [
        "import condacolab\n",
        "condacolab.check()\n",
        "!sed -i -e /cudatoolkit/d /usr/local/conda-meta/pinned"
      ],
      "metadata": {
        "colab": {
          "base_uri": "https://localhost:8080/"
        },
        "id": "hr5m8yvcRKYR",
        "outputId": "ec8aef1f-c530-497f-f2de-ad701dffcd2e"
      },
      "execution_count": 1,
      "outputs": [
        {
          "output_type": "stream",
          "name": "stdout",
          "text": [
            "✨🍰✨ Everything looks OK!\n"
          ]
        }
      ]
    },
    {
      "cell_type": "markdown",
      "source": [
        "## Install dependencies"
      ],
      "metadata": {
        "id": "Gk35qYyy0tUx"
      }
    },
    {
      "cell_type": "code",
      "source": [
        "%%writefile environment.yml\n",
        "channels:\n",
        "  - litex-hub\n",
        "  - conda-forge\n",
        "dependencies:\n",
        "  - open_pdks.sky130a\n",
        "  - magic\n",
        "  - openroad\n",
        "  - netgen\n",
        "  - yosys\n",
        "  - gdstk\n",
        "  - tcllib\n",
        "  - python\n",
        "  - pip\n",
        "  - pip:\n",
        "    - pyyaml\n",
        "    - click\n",
        "    - pandas"
      ],
      "metadata": {
        "colab": {
          "base_uri": "https://localhost:8080/"
        },
        "id": "ltqhSgAHl4Qt",
        "outputId": "1d6ec12c-f5bf-456b-edb0-2184ddcf44ed"
      },
      "execution_count": 110,
      "outputs": [
        {
          "output_type": "stream",
          "name": "stdout",
          "text": [
            "Overwriting environment.yml\n"
          ]
        }
      ]
    },
    {
      "cell_type": "code",
      "source": [
        "!conda env update --prefix /usr/local --file environment.yml"
      ],
      "metadata": {
        "colab": {
          "base_uri": "https://localhost:8080/"
        },
        "id": "OxONmJT0nP_Y",
        "outputId": "182745bc-2d97-4aa3-bba6-afc5b1355d56"
      },
      "execution_count": 105,
      "outputs": [
        {
          "output_type": "stream",
          "name": "stdout",
          "text": [
            "Collecting package metadata (repodata.json): - \b\b\\ \b\b| \b\b/ \b\b- \b\b\\ \b\b| \b\b/ \b\b- \b\b\\ \b\b| \b\b/ \b\b- \b\b\\ \b\b| \b\b/ \b\b- \b\b\\ \b\b| \b\b/ \b\b- \b\b\\ \b\b| \b\b/ \b\b- \b\b\\ \b\b| \b\b/ \b\b- \b\b\\ \b\b| \b\b/ \b\b- \b\b\\ \b\b| \b\b/ \b\b- \b\b\\ \b\b| \b\b/ \b\b- \b\b\\ \b\b| \b\b/ \b\b- \b\b\\ \b\b| \b\b/ \b\b- \b\b\\ \b\b| \b\b/ \b\b- \b\b\\ \b\b| \b\b/ \b\b- \b\b\\ \b\b| \b\b/ \b\b- \b\b\\ \b\b| \b\b/ \b\b- \b\b\\ \b\b| \b\b/ \b\b- \b\b\\ \b\b| \b\b/ \b\b- \b\b\\ \b\b| \b\b/ \b\b- \b\b\\ \b\b| \b\b/ \b\b- \b\b\\ \b\b| \b\b/ \b\b- \b\b\\ \b\b| \b\b/ \b\b- \b\b\\ \b\b| \b\b/ \b\b- \b\b\\ \b\bdone\n",
            "Solving environment: / \b\bfailed\n",
            "\n",
            "ResolvePackageNotFound: \n",
            "  - openroad=2.0_3198\n",
            "\n"
          ]
        }
      ]
    },
    {
      "cell_type": "markdown",
      "source": [
        "## Get OpenLane"
      ],
      "metadata": {
        "id": "9Q9Fipzf0xyo"
      }
    },
    {
      "cell_type": "code",
      "source": [
        "!git clone --depth=1 https://github.com/The-OpenROAD-Project/OpenLane\n",
        "!curl -L -O https://patch-diff.githubusercontent.com/raw/The-OpenROAD-Project/OpenLane/pull/1044.patch\n",
        "!patch -d OpenLane -p1 < 1044.patch"
      ],
      "metadata": {
        "id": "ZQL9FaBLiNFS",
        "colab": {
          "base_uri": "https://localhost:8080/"
        },
        "outputId": "720f68a3-b97a-4474-fce4-2fc004f475bf"
      },
      "execution_count": 107,
      "outputs": [
        {
          "output_type": "stream",
          "name": "stdout",
          "text": [
            "fatal: destination path 'OpenLane' already exists and is not an empty directory.\n",
            "  % Total    % Received % Xferd  Average Speed   Time    Time     Time  Current\n",
            "                                 Dload  Upload   Total   Spent    Left  Speed\n",
            "100  1496    0  1496    0     0   7555      0 --:--:-- --:--:-- --:--:--  7555\n",
            "patching file scripts/tcl_commands/floorplan.tcl\n"
          ]
        }
      ]
    },
    {
      "cell_type": "markdown",
      "source": [
        "## Write verilog"
      ],
      "metadata": {
        "id": "uINjDJNf39eD"
      }
    },
    {
      "cell_type": "code",
      "source": [
        "%%writefile inverter.v\n",
        "module inverter(input wire in, output wire out);\n",
        "    assign out = !in;\n",
        "endmodule"
      ],
      "metadata": {
        "colab": {
          "base_uri": "https://localhost:8080/"
        },
        "id": "gpgkIYB739Ii",
        "outputId": "134e7be1-1d41-4d40-cf74-0a8b232668e3"
      },
      "execution_count": 16,
      "outputs": [
        {
          "output_type": "stream",
          "name": "stdout",
          "text": [
            "Overwriting inverter.v\n"
          ]
        }
      ]
    },
    {
      "cell_type": "markdown",
      "source": [
        "## Write flow configuration"
      ],
      "metadata": {
        "id": "a82MVEbP4WoR"
      }
    },
    {
      "cell_type": "code",
      "source": [
        "%%writefile flow.tcl\n",
        "\n",
        "set ::env(DESIGN_NAME) inverter\n",
        "\n",
        "set script_dir [file dirname [file normalize [info script]]]\n",
        "set ::env(VERILOG_FILES) \"$script_dir/inverter.v\"\n",
        "\n",
        "set ::env(CLOCK_TREE_SYNTH) 0\n",
        "set ::env(CLOCK_PORT) \"\"\n",
        "\n",
        "set ::env(PL_RANDOM_GLB_PLACEMENT) 1\n",
        "\n",
        "set ::env(FP_SIZING) absolute\n",
        "set ::env(DIE_AREA) \"0 0 30 30\"\n",
        "set ::env(PL_TARGET_DENSITY) 0.75\n",
        "\n",
        "\n",
        "set ::env(FP_PDN_HORIZONTAL_HALO) 6\n",
        "set ::env(FP_PDN_VERTICAL_HALO) 6\n",
        "\n",
        "set ::env(DIODE_INSERTION_STRATEGY) 3\n",
        "\n",
        "# disable version checks because we use the latest packaged versions of open_pdks and OpenROAD\n",
        "set ::env(TEST_MISMATCHES) none"
      ],
      "metadata": {
        "colab": {
          "base_uri": "https://localhost:8080/"
        },
        "id": "KwGe_Lf14Wcd",
        "outputId": "14982da5-a3fe-44f4-e1e7-11fc3584b6a9"
      },
      "execution_count": 142,
      "outputs": [
        {
          "output_type": "stream",
          "name": "stdout",
          "text": [
            "Overwriting flow.tcl\n"
          ]
        }
      ]
    },
    {
      "cell_type": "markdown",
      "source": [
        "## Run OpenLane Flow\n",
        "\n",
        "- disable CVC because of https://github.com/hdl/conda-eda/issues/174\n",
        "- disable klayout because of https://github.com/hdl/conda-eda/issues/175"
      ],
      "metadata": {
        "id": "Nrt1yS_u1_m4"
      }
    },
    {
      "cell_type": "code",
      "source": [
        "import os\n",
        "PATH=os.environ['PATH']\n",
        "%env PDK_ROOT=/usr/local/share/pdk\n",
        "%env TCLLIBPATH=/usr/local/lib/tcllib1.20\n",
        "%env OPENLANE_ROOT=/content/OpenLane\n",
        "%env PATH={PATH}:/content/OpenLane:/content/OpenLane/scripts\n",
        "%env OPENLANE_LOCAL_INSTALL=1\n",
        "!flow.tcl -design ."
      ],
      "metadata": {
        "id": "VP60fdObiP15",
        "colab": {
          "base_uri": "https://localhost:8080/"
        },
        "outputId": "2a42720a-ff65-40bc-fff0-003f7fe0fd5d"
      },
      "execution_count": 143,
      "outputs": [
        {
          "output_type": "stream",
          "name": "stdout",
          "text": [
            "env: PDK_ROOT=/usr/local/share/pdk\n",
            "env: TCLLIBPATH=/usr/local/lib/tcllib1.20\n",
            "env: OPENLANE_ROOT=/content/OpenLane\n",
            "env: PATH=/opt/bin:/usr/local/nvidia/bin:/usr/local/cuda/bin:/usr/local/sbin:/usr/local/bin:/usr/sbin:/usr/bin:/sbin:/bin:/tools/node/bin:/tools/google-cloud-sdk/bin:/content/OpenLane:/content/OpenLane/scripts:/content/OpenLane:/content/OpenLane/scripts:/content/OpenLane:/content/OpenLane/scripts:/content/OpenLane:/content/OpenLane/scripts:/content/OpenLane:/content/OpenLane/scripts:/content/OpenLane:/content/OpenLane/scripts:/content/OpenLane:/content/OpenLane/scripts:/content/OpenLane:/content/OpenLane/scripts:/content/OpenLane:/content/OpenLane/scripts:/content/OpenLane:/content/OpenLane/scripts:/content/OpenLane:/content/OpenLane/scripts:/content/OpenLane:/content/OpenLane/scripts:/content/OpenLane:/content/OpenLane/scripts:/content/OpenLane:/content/OpenLane/scripts:/content/OpenLane:/content/OpenLane/scripts:/content/OpenLane:/content/OpenLane/scripts:/content/OpenLane:/content/OpenLane/scripts:/content/OpenLane:/content/OpenLane/scripts:/content/OpenLane:/content/OpenLane/scripts:/content/OpenLane:/content/OpenLane/scripts:/content/OpenLane:/content/OpenLane/scripts:/content/OpenLane:/content/OpenLane/scripts:/content/OpenLane:/content/OpenLane/scripts:/content/OpenLane:/content/OpenLane/scripts:/content/OpenLane:/content/OpenLane/scripts:/content/OpenLane:/content/OpenLane/scripts:/content/OpenLane:/content/OpenLane/scripts:/content/OpenLane:/content/OpenLane/scripts:/content/OpenLane:/content/OpenLane/scripts:/content/OpenLane:/content/OpenLane/scripts:/content/OpenLane:/content/OpenLane/scripts:/content/OpenLane:/content/OpenLane/scripts:/content/OpenLane:/content/OpenLane/scripts:/content/OpenLane:/content/OpenLane/scripts:/content/OpenLane:/content/OpenLane/scripts:/content/OpenLane:/content/OpenLane/scripts:/content/OpenLane:/content/OpenLane/scripts:/content/OpenLane:/content/OpenLane/scripts:/content/OpenLane:/content/OpenLane/scripts:/content/OpenLane:/content/OpenLane/scripts:/content/OpenLane:/content/OpenLane/scripts\n",
            "env: OPENLANE_LOCAL_INSTALL=1\n",
            "OpenLane 7891c2c8859e8c800226920c181fa039ad298e79\r\n",
            "All rights reserved. (c) 2020-2022 Efabless Corporation and contributors.\r\n",
            "Available under the Apache License, version 2.0. See the LICENSE file for more details.\r\n",
            "\r\n",
            "\u001b[36m[INFO]: Using design configuration at /content/config.tcl\u001b[39m\r\n",
            "\u001b[36m[INFO]: Sourcing Configurations from /content/config.tcl\u001b[39m\r\n",
            "\u001b[36m[INFO]: PDKs root directory: /usr/local/share/pdk\u001b[39m\n",
            "\u001b[36m[INFO]: PDK: sky130A\u001b[39m\n",
            "\u001b[36m[INFO]: Setting PDKPATH to /usr/local/share/pdk/sky130A\u001b[39m\n",
            "\u001b[36m[INFO]: Standard Cell Library: sky130_fd_sc_hd\u001b[39m\n",
            "\u001b[36m[INFO]: Optimization Standard Cell Library is set to: sky130_fd_sc_hd\u001b[39m\n",
            "\u001b[36m[INFO]: Sourcing Configurations from /content/config.tcl\u001b[39m\n",
            "\u001b[36m[INFO]: Current run directory is /content/runs/RUN_2022.04.12_06.20.14\u001b[39m\n",
            "\u001b[36m[INFO]: Preparing LEF files for the nom corner...\u001b[39m\n",
            "\u001b[36m[INFO]: Preparing LEF files for the min corner...\u001b[39m\n",
            "\u001b[36m[INFO]: Preparing LEF files for the max corner...\u001b[39m\n",
            "[STEP 1]\n",
            "\u001b[36m[INFO]: Running Synthesis...\u001b[39m\n",
            "[STEP 2]\n",
            "\u001b[36m[INFO]: Running Single-Corner Static Timing Analysis...\u001b[39m\n",
            "[STEP 3]\n",
            "\u001b[36m[INFO]: Running Initial Floorplanning...\u001b[39m\n",
            "\u001b[33m[WARNING]: Current core area is too small for a power grid. The power grid will be minimized.\u001b[39m\n",
            "\u001b[36m[INFO]: Setting Core Dimensions...\u001b[39m\n",
            "[STEP 4]\n",
            "\u001b[36m[INFO]: Running IO Placement...\u001b[39m\n",
            "[STEP 5]\n",
            "\u001b[36m[INFO]: Running Tap/Decap Insertion...\u001b[39m\n",
            "\u001b[36m[INFO]: Power planning with power {VPWR} and ground {VGND}...\u001b[39m\n",
            "[STEP 6]\n",
            "\u001b[36m[INFO]: Generating PDN...\u001b[39m\n",
            "[STEP 7]\n",
            "\u001b[36m[INFO]: Performing Random Global Placement...\u001b[39m\n",
            "[STEP 8]\n",
            "\u001b[36m[INFO]: Running Resizer Design Optimizations...\u001b[39m\n",
            "[STEP 9]\n",
            "\u001b[36m[INFO]: Writing Verilog...\u001b[39m\n",
            "[STEP 10]\n",
            "\u001b[36m[INFO]: Running Detailed Placement...\u001b[39m\n",
            "[STEP 11]\n",
            "[STEP 12]\n",
            "\u001b[36m[INFO]: Running Resizer Timing Optimizations...\u001b[39m\n",
            "[STEP 13]\n",
            "\u001b[36m[INFO]: Writing Verilog...\u001b[39m\n",
            "\u001b[36m[INFO]: Routing...\u001b[39m\n",
            "[STEP 14]\n",
            "\u001b[36m[INFO]: Running Resizer Timing Optimizations...\u001b[39m\n",
            "[STEP 15]\n",
            "\u001b[36m[INFO]: Writing Verilog...\u001b[39m\n",
            "[STEP 16]\n",
            "\u001b[36m[INFO]: Running Detailed Placement...\u001b[39m\n",
            "[STEP 17]\n",
            "\u001b[36m[INFO]: Running Global Routing...\u001b[39m\n",
            "\u001b[36m[INFO]: Starting FastRoute Antenna Repair Iterations...\u001b[39m\n",
            "[STEP 18]\n",
            "\u001b[36m[INFO]: Running Fill Insertion...\u001b[39m\n",
            "[STEP 19]\n",
            "\u001b[36m[INFO]: Writing Verilog...\u001b[39m\n",
            "[STEP 20]\n",
            "\u001b[36m[INFO]: Running Detailed Routing...\u001b[39m\n",
            "\u001b[36m[INFO]: No DRC violations after detailed routing.\u001b[39m\n",
            "[STEP 21]\n",
            "\u001b[36m[INFO]: Writing Verilog...\u001b[39m\n",
            "\u001b[36m[INFO]: Running parasitics-based static timing analysis...\u001b[39m\n",
            "[STEP 22]\n",
            "\u001b[36m[INFO]: Running SPEF Extraction at the min process corner...\u001b[39m\n",
            "[STEP 23]\n",
            "\u001b[36m[INFO]: Running Multi-Corner Static Timing Analysis at the min process corner...\u001b[39m\n",
            "[STEP 24]\n",
            "\u001b[36m[INFO]: Running SPEF Extraction at the max process corner...\u001b[39m\n",
            "[STEP 25]\n",
            "\u001b[36m[INFO]: Running Multi-Corner Static Timing Analysis at the max process corner...\u001b[39m\n",
            "[STEP 26]\n",
            "\u001b[36m[INFO]: Running SPEF Extraction at the nom process corner...\u001b[39m\n",
            "[STEP 27]\n",
            "\u001b[36m[INFO]: Running Single-Corner Static Timing Analysis at the nom process corner...\u001b[39m\n",
            "[STEP 28]\n",
            "\u001b[36m[INFO]: Running Multi-Corner Static Timing Analysis at the nom process corner...\u001b[39m\n",
            "[STEP 29]\n",
            "\u001b[36m[INFO]: Running Magic to generate various views...\u001b[39m\n",
            "\u001b[36m[INFO]: Streaming out GDS-II with Magic...\u001b[39m\n",
            "\u001b[36m[INFO]: Generating MAGLEF views...\u001b[39m\n",
            "[STEP 30]\n",
            "\u001b[36m[INFO]: Running XOR on the layouts using Klayout...\u001b[39m\n",
            "\u001b[33m[WARNING]: /content/runs/RUN_2022.04.12_06.20.14/results/signoff/inverter.klayout.gds wasn't found. Skipping GDS XOR.\u001b[39m\n",
            "[STEP 31]\n",
            "\u001b[36m[INFO]: Running Magic Spice Export from LEF...\u001b[39m\n",
            "[STEP 32]\n",
            "\u001b[36m[INFO]: Writing Powered Verilog...\u001b[39m\n",
            "[STEP 33]\n",
            "\u001b[36m[INFO]: Writing Verilog...\u001b[39m\n",
            "[STEP 34]\n",
            "\u001b[36m[INFO]: Running LEF LVS...\u001b[39m\n",
            "[STEP 35]\n",
            "\u001b[36m[INFO]: Running Magic DRC...\u001b[39m\n",
            "\u001b[36m[INFO]: Converting Magic DRC Violations to Magic Readable Format...\u001b[39m\n",
            "\u001b[36m[INFO]: Converting Magic DRC Violations to Klayout XML Database...\u001b[39m\n",
            "\u001b[36m[INFO]: Converting TritonRoute DRC Violations to Klayout XML Database...\u001b[39m\n",
            "\u001b[36m[INFO]: Converting DRC Violations to RDB Format...\u001b[39m\n",
            "\u001b[36m[INFO]: No DRC violations after GDS streaming out.\u001b[39m\n",
            "\u001b[36m[INFO]: Running Antenna Checks...\u001b[39m\n",
            "[STEP 36]\n",
            "\u001b[36m[INFO]: Running OpenROAD Antenna Rule Checker...\u001b[39m\n",
            "\u001b[36m[INFO]: Skipping CVC...\u001b[39m\n",
            "\u001b[36m[INFO]: Saving final set of views in '/content/runs/RUN_2022.04.12_06.20.14/results/final'...\u001b[39m\n",
            "\u001b[36m[INFO]: Saving runtime environment...\u001b[39m\n",
            "\u001b[36m[INFO]: Generating final set of reports...\u001b[39m\n",
            "\u001b[36m[INFO]: Created manufacturability report at 'runs/RUN_2022.04.12_06.20.14/reports/manufacturability.rpt'.\u001b[39m\n",
            "\u001b[36m[INFO]: Created metrics report at 'runs/RUN_2022.04.12_06.20.14/reports/metrics.csv'.\u001b[39m\n",
            "\u001b[36m[INFO]: There are no max slew violations in the design at the typical corner.\u001b[39m\n",
            "\u001b[36m[INFO]: There are no hold violations in the design at the typical corner.\u001b[39m\n",
            "\u001b[36m[INFO]: There are no setup violations in the design at the typical corner.\u001b[39m\n",
            "\u001b[32m[SUCCESS]: Flow complete.\u001b[39m\n",
            "\u001b[36m[INFO]: Note that the following warnings have been generated:\u001b[39m\n",
            "[WARNING]: Current core area is too small for a power grid. The power grid will be minimized.\n",
            "[WARNING]: /content/runs/RUN_2022.04.12_06.20.14/results/signoff/inverter.klayout.gds wasn't found. Skipping GDS XOR.\n",
            "\n"
          ]
        }
      ]
    },
    {
      "cell_type": "markdown",
      "source": [
        "## Display layout"
      ],
      "metadata": {
        "id": "luguFgZ43AeL"
      }
    },
    {
      "cell_type": "code",
      "source": [
        "import pathlib\n",
        "import gdstk\n",
        "from IPython.display import SVG\n",
        "\n",
        "gdss = sorted(pathlib.Path('OpenLane/designs/inverter/runs').glob('*/results/final/gds/*.gds'))\n",
        "library = gdstk.read_gds(gdss[0])\n",
        "top_cells = library.top_level()\n",
        "top_cells[0].write_svg('inverter.svg')\n",
        "SVG('inverter.svg')"
      ],
      "metadata": {
        "id": "WOnhdtp3ivRi",
        "colab": {
          "base_uri": "https://localhost:8080/",
          "height": 625
        },
        "outputId": "724a08ef-df13-4a18-dd06-e3d5b6022a7f"
      },
      "execution_count": null,
      "outputs": [
        {
          "output_type": "execute_result",
          "data": {
            "text/plain": [
              "<IPython.core.display.SVG object>"
            ],
            "image/svg+xml": "<svg height=\"603.735\" viewBox=\"-27.4425 -576.2925 396.535 603.735\" width=\"396.535\" xmlns=\"http://www.w3.org/2000/svg\" xmlns:xlink=\"http://www.w3.org/1999/xlink\">\n<defs>\n<style type=\"text/css\">\n.l67d16 {stroke: #654522; fill: #654522; fill-opacity: 0.5;}\n.l65d44 {stroke: #2B3D26; fill: #2B3D26; fill-opacity: 0.5;}\n.l235d4 {stroke: #0067A5; fill: #0067A5; fill-opacity: 0.5;}\n.l67d44 {stroke: #875692; fill: #875692; fill-opacity: 0.5;}\n.l69d44 {stroke: #A1CAF1; fill: #A1CAF1; fill-opacity: 0.5;}\n.l71d44 {stroke: #C2B280; fill: #C2B280; fill-opacity: 0.5;}\n.l122d16 {stroke: #F6A600; fill: #F6A600; fill-opacity: 0.5;}\n.l93d44 {stroke: #008856; fill: #008856; fill-opacity: 0.5;}\n.l78d44 {stroke: #F6A600; fill: #F6A600; fill-opacity: 0.5;}\n.l236d0 {stroke: #E25822; fill: #E25822; fill-opacity: 0.5;}\n.l66d44 {stroke: #F3C300; fill: #F3C300; fill-opacity: 0.5;}\n.l68d44 {stroke: #F38400; fill: #F38400; fill-opacity: 0.5;}\n.l95d20 {stroke: #654522; fill: #654522; fill-opacity: 0.5;}\n.l70d44 {stroke: #BE0032; fill: #BE0032; fill-opacity: 0.5;}\n.l69d16 {stroke: #2B3D26; fill: #2B3D26; fill-opacity: 0.5;}\n.l68d16 {stroke: #E25822; fill: #E25822; fill-opacity: 0.5;}\n.l67d20 {stroke: #0067A5; fill: #0067A5; fill-opacity: 0.5;}\n.l71d16 {stroke: #875692; fill: #875692; fill-opacity: 0.5;}\n.l69d20 {stroke: #604E97; fill: #604E97; fill-opacity: 0.5;}\n.l68d20 {stroke: #F99379; fill: #F99379; fill-opacity: 0.5;}\n.l71d20 {stroke: #B3446C; fill: #B3446C; fill-opacity: 0.5;}\n.l70d20 {stroke: #F6A600; fill: #F6A600; fill-opacity: 0.5;}\n.l94d20 {stroke: #8DB600; fill: #8DB600; fill-opacity: 0.5;}\n.l72d20 {stroke: #DCD300; fill: #DCD300; fill-opacity: 0.5;}\n.l64d20 {stroke: #848482; fill: #848482; fill-opacity: 0.5;}\n.l81d4 {stroke: #882D17; fill: #882D17; fill-opacity: 0.5;}\n.l64d16 {stroke: #DCD300; fill: #DCD300; fill-opacity: 0.5;}\n.l72d16 {stroke: #F38400; fill: #F38400; fill-opacity: 0.5;}\n.l65d20 {stroke: #008856; fill: #008856; fill-opacity: 0.5;}\n.l66d20 {stroke: #E68FAC; fill: #E68FAC; fill-opacity: 0.5;}\n.l64t59 {stroke: none; fill: #B3446C;}\n.l69t16 {stroke: none; fill: #2B3D26;}\n.l64t5 {stroke: none; fill: #604E97;}\n.l71t16 {stroke: none; fill: #875692;}\n.l67t5 {stroke: none; fill: #DCD300;}\n.l68t5 {stroke: none; fill: #882D17;}\n.l83t44 {stroke: none; fill: #654522;}\n.l72t16 {stroke: none; fill: #F38400;}\n</style>\n<g id=\"sky130_fd_sc_hd__tapvpwrvgnd_1\">\n<polygon class=\"l68d16\" id=\"0x561631503330\" points=\"1.05,-0.9 3.6,-0.9 3.6,1 1.05,1\"/>\n<polygon class=\"l68d16\" id=\"0x5616315033a0\" points=\"1.1,26.2 3.75,26.2 3.75,27.65 1.1,27.65\"/>\n<polygon class=\"l94d20\" id=\"0x561631503410\" points=\"0,1.9 4.6,1.9 4.6,9.75 0,9.75\"/>\n<polygon class=\"l94d20\" id=\"0x561631503480\" points=\"0,25.3 4.6,25.3 4.6,29.1 0,29.1\"/>\n<polygon class=\"l93d44\" id=\"0x5616315034f0\" points=\"0,-1.9 4.6,-1.9 4.6,1.9 0,1.9\"/>\n<polygon class=\"l93d44\" id=\"0x561631503560\" points=\"0,13.95 4.6,13.95 4.6,25.3 0,25.3\"/>\n<polygon class=\"l64d20\" id=\"0x5616315035d0\" points=\"-1.9,13.05 6.5,13.05 6.5,29.1 -1.9,29.1\"/>\n<polygon class=\"l66d44\" id=\"0x561631503640\" points=\"1.45,5.55 3.15,5.55 3.15,7.25 1.45,7.25\"/>\n<polygon class=\"l66d44\" id=\"0x5616315036b0\" points=\"1.45,16.45 3.15,16.45 3.15,18.15 1.45,18.15\"/>\n<polygon class=\"l66d44\" id=\"0x561631503720\" points=\"1.45,21.1 3.15,21.1 3.15,22.8 1.45,22.8\"/>\n<polygon class=\"l65d44\" id=\"0x561631503790\" points=\"1.45,3.2 3.15,3.2 3.15,8.45 1.45,8.45\"/>\n<polygon class=\"l65d44\" id=\"0x561631503800\" points=\"1.45,15.25 3.15,15.25 3.15,24 1.45,24\"/>\n<polygon class=\"l68d20\" id=\"0x561631503870\" points=\"0,-2.4 4.6,-2.4 4.6,2.4 0,2.4\"/>\n<polygon class=\"l68d20\" id=\"0x5616315038e0\" points=\"0,24.8 4.6,24.8 4.6,29.6 0,29.6\"/>\n<polygon class=\"l67d44\" id=\"0x561631503950\" points=\"1.45,-0.85 3.15,-0.85 3.15,0.85 1.45,0.85\"/>\n<polygon class=\"l67d44\" id=\"0x5616315039c0\" points=\"1.45,26.35 3.15,26.35 3.15,28.05 1.45,28.05\"/>\n<polygon class=\"l67d20\" id=\"0x561631503a30\" points=\"0.85,0 3.75,0 3.75,8.1 0.85,8.1\"/>\n<polygon class=\"l67d20\" id=\"0x561631503aa0\" points=\"0.85,14.7 3.75,14.7 3.75,27.2 0.85,27.2\"/>\n<polygon class=\"l67d20\" id=\"0x561631503b10\" points=\"0,26.35 4.6,26.35 4.6,28.05 0,28.05\"/>\n<polygon class=\"l67d20\" id=\"0x561631503b80\" points=\"0,-0.85 4.6,-0.85 4.6,0.85 0,0.85\"/>\n<polygon class=\"l78d44\" id=\"0x561631503bf0\" points=\"0,12.5 4.6,12.5 4.6,27.2 0,27.2\"/>\n<polygon class=\"l81d4\" id=\"0x561631503c60\" points=\"0,0 4.6,0 4.6,27.2 0,27.2\"/>\n<text class=\"l68t5\" dominant-baseline=\"central\" id=\"0x5616315045a0\" text-anchor=\"middle\" transform=\"translate(2.3 27.2) scale(0.1) scale(1 -1)\">VPWR</text>\n<text class=\"l68t5\" dominant-baseline=\"central\" id=\"0x561631504630\" text-anchor=\"middle\" transform=\"translate(2.3 0) scale(0.1) scale(1 -1)\">VGND</text>\n<text class=\"l83t44\" dominant-baseline=\"text-before-edge\" id=\"0x5616315046c0\" text-anchor=\"start\" transform=\"translate(0 0) rotate(90) scale(0.1) scale(1 -1)\">tapvpwrvgnd_1</text>\n</g>\n<g id=\"sky130_fd_sc_hd__decap_8\">\n<polygon class=\"l236d0\" id=\"0x5616315019d0\" points=\"0,0 36.8,0 36.8,27.2 0,27.2\"/>\n<polygon class=\"l68d16\" id=\"0x561631501a40\" points=\"1.45,26.35 3.15,26.35 3.15,28.05 1.45,28.05\"/>\n<polygon class=\"l68d16\" id=\"0x561631501ab0\" points=\"1.45,-0.85 3.15,-0.85 3.15,0.85 1.45,0.85\"/>\n<polygon class=\"l64d16\" id=\"0x561631501b20\" points=\"1.45,26.35 3.15,26.35 3.15,28.05 1.45,28.05\"/>\n<polygon class=\"l122d16\" id=\"0x561631501b90\" points=\"1.45,-0.85 3.15,-0.85 3.15,0.85 1.45,0.85\"/>\n<polygon class=\"l67d20\" id=\"0x561631501c00\" points=\"36.8,0.85 35.95,0.85 35.95,8.55 17.35,8.55 17.35,13.75 0.85,13.75 0.85,0.85 0,0.85 0,-0.85 36.8,-0.85\"/>\n<polygon class=\"l67d20\" id=\"0x561631501c70\" points=\"36.8,28.05 0,28.05 0,26.35 0.85,26.35 0.85,15.45 19.05,15.45 19.05,10.25 35.95,10.25 35.95,26.35 36.8,26.35\"/>\n<polygon class=\"l81d4\" id=\"0x561631501ce0\" points=\"0,0 36.8,0 36.8,27.2 0,27.2\"/>\n<polygon class=\"l65d20\" id=\"0x561631501d50\" points=\"1.35,16.15 35.45,16.15 35.45,24.85 1.35,24.85\"/>\n<polygon class=\"l65d20\" id=\"0x561631501dc0\" points=\"1.35,2.35 35.45,2.35 35.45,7.85 1.35,7.85\"/>\n<polygon class=\"l78d44\" id=\"0x561631501e30\" points=\"0,12.5 36.8,12.5 36.8,27.2 0,27.2\"/>\n<polygon class=\"l93d44\" id=\"0x561631501ea0\" points=\"0,-1.9 36.8,-1.9 36.8,10.15 0,10.15\"/>\n<polygon class=\"l64d20\" id=\"0x561631501f10\" points=\"-1.9,13.05 38.7,13.05 38.7,29.1 -1.9,29.1\"/>\n<polygon class=\"l94d20\" id=\"0x561631501f80\" points=\"0,14.85 36.8,14.85 36.8,29.1 0,29.1\"/>\n<polygon class=\"l67d44\" id=\"0x561631501ff0\" points=\"1.45,26.35 3.15,26.35 3.15,28.05 1.45,28.05\"/>\n<polygon class=\"l67d44\" id=\"0x561631502060\" points=\"1.45,-0.85 3.15,-0.85 3.15,0.85 1.45,0.85\"/>\n<polygon class=\"l67d44\" id=\"0x5616315020d0\" points=\"6.05,26.35 7.75,26.35 7.75,28.05 6.05,28.05\"/>\n<polygon class=\"l67d44\" id=\"0x561631502140\" points=\"6.05,-0.85 7.75,-0.85 7.75,0.85 6.05,0.85\"/>\n<polygon class=\"l67d44\" id=\"0x5616315021b0\" points=\"10.65,26.35 12.35,26.35 12.35,28.05 10.65,28.05\"/>\n<polygon class=\"l67d44\" id=\"0x561631502220\" points=\"10.65,-0.85 12.35,-0.85 12.35,0.85 10.65,0.85\"/>\n<polygon class=\"l67d44\" id=\"0x561631502290\" points=\"15.25,26.35 16.95,26.35 16.95,28.05 15.25,28.05\"/>\n<polygon class=\"l67d44\" id=\"0x561631502300\" points=\"15.25,-0.85 16.95,-0.85 16.95,0.85 15.25,0.85\"/>\n<polygon class=\"l67d44\" id=\"0x561631502370\" points=\"19.85,26.35 21.55,26.35 21.55,28.05 19.85,28.05\"/>\n<polygon class=\"l67d44\" id=\"0x5616315023e0\" points=\"19.85,-0.85 21.55,-0.85 21.55,0.85 19.85,0.85\"/>\n<polygon class=\"l67d44\" id=\"0x561631502450\" points=\"24.45,26.35 26.15,26.35 26.15,28.05 24.45,28.05\"/>\n<polygon class=\"l67d44\" id=\"0x5616315024c0\" points=\"24.45,-0.85 26.15,-0.85 26.15,0.85 24.45,0.85\"/>\n<polygon class=\"l67d44\" id=\"0x561631502530\" points=\"29.05,26.35 30.75,26.35 30.75,28.05 29.05,28.05\"/>\n<polygon class=\"l67d44\" id=\"0x5616315025a0\" points=\"29.05,-0.85 30.75,-0.85 30.75,0.85 29.05,0.85\"/>\n<polygon class=\"l67d44\" id=\"0x561631502610\" points=\"33.65,26.35 35.35,26.35 35.35,28.05 33.65,28.05\"/>\n<polygon class=\"l67d44\" id=\"0x561631502680\" points=\"33.65,-0.85 35.35,-0.85 35.35,0.85 33.65,0.85\"/>\n<polygon class=\"l66d20\" id=\"0x5616315026f0\" points=\"32.85,26.15 3.95,26.15 3.95,11.25 17.15,11.25 17.15,14.85 32.85,14.85\"/>\n<polygon class=\"l66d20\" id=\"0x5616315027d0\" points=\"32.85,12.75 19.25,12.75 19.25,9.15 3.95,9.15 3.95,1.05 32.85,1.05\"/>\n<polygon class=\"l66d44\" id=\"0x5616315028b0\" points=\"1.75,22.55 3.45,22.55 3.45,24.25 1.75,24.25\"/>\n<polygon class=\"l66d44\" id=\"0x561631502920\" points=\"1.75,17.45 3.45,17.45 3.45,19.15 1.75,19.15\"/>\n<polygon class=\"l66d44\" id=\"0x561631502990\" points=\"1.75,3.9 3.45,3.9 3.45,5.6 1.75,5.6\"/>\n<polygon class=\"l66d44\" id=\"0x561631502a00\" points=\"4.75,12.05 6.45,12.05 6.45,13.75 4.75,13.75\"/>\n<polygon class=\"l66d44\" id=\"0x561631502a70\" points=\"9.7,12.05 11.4,12.05 11.4,13.75 9.7,13.75\"/>\n<polygon class=\"l66d44\" id=\"0x561631502ae0\" points=\"14.65,12.05 16.35,12.05 16.35,13.75 14.65,13.75\"/>\n<polygon class=\"l66d44\" id=\"0x561631502b50\" points=\"33.35,3.9 35.05,3.9 35.05,5.6 33.35,5.6\"/>\n<polygon class=\"l66d44\" id=\"0x561631502bc0\" points=\"20.05,10.25 21.75,10.25 21.75,11.95 20.05,11.95\"/>\n<polygon class=\"l66d44\" id=\"0x561631502c30\" points=\"25.2,10.25 26.9,10.25 26.9,11.95 25.2,11.95\"/>\n<polygon class=\"l66d44\" id=\"0x561631502ca0\" points=\"30.35,10.25 32.05,10.25 32.05,11.95 30.35,11.95\"/>\n<polygon class=\"l66d44\" id=\"0x561631502d10\" points=\"33.35,22.55 35.05,22.55 35.05,24.25 33.35,24.25\"/>\n<polygon class=\"l66d44\" id=\"0x561631502d80\" points=\"33.35,17.45 35.05,17.45 35.05,19.15 33.35,19.15\"/>\n<polygon class=\"l95d20\" id=\"0x561631502df0\" points=\"36.8,13.45 17.35,13.45 17.35,14.75 0,14.75 0,9.75 19.05,9.75 19.05,9.25 36.8,9.25\"/>\n<polygon class=\"l68d20\" id=\"0x5616315329a0\" points=\"0,29.6 0,24.8 36.8,24.8 36.8,29.6\"/>\n<polygon class=\"l68d20\" id=\"0x5616315329a0\" points=\"0,2.4 0,-2.4 36.8,-2.4 36.8,2.4\"/>\n<text class=\"l68t5\" dominant-baseline=\"central\" id=\"0x56162f653de0\" text-anchor=\"middle\" transform=\"translate(2.3 27.2) scale(0.1) scale(1 -1)\">VPWR</text>\n<text class=\"l68t5\" dominant-baseline=\"central\" id=\"0x56162f653e70\" text-anchor=\"middle\" transform=\"translate(2.3 0) scale(0.1) scale(1 -1)\">VGND</text>\n<text class=\"l64t5\" dominant-baseline=\"central\" id=\"0x56162f653f00\" text-anchor=\"middle\" transform=\"translate(2.3 27.2) scale(0.1) scale(1 -1)\">VPB</text>\n<text class=\"l64t59\" dominant-baseline=\"central\" id=\"0x561631504000\" text-anchor=\"middle\" transform=\"translate(2.3 0) scale(0.1) scale(1 -1)\">VNB</text>\n<text class=\"l83t44\" dominant-baseline=\"text-before-edge\" id=\"0x561631504120\" text-anchor=\"start\" transform=\"translate(0 0) rotate(90) scale(0.1) scale(1 -1)\">decap_8</text>\n</g>\n<g id=\"sky130_fd_sc_hd__decap_4\">\n<polygon class=\"l236d0\" id=\"0x561631509490\" points=\"0,0 18.4,0 18.4,27.2 0,27.2\"/>\n<polygon class=\"l68d16\" id=\"0x561631509500\" points=\"1.45,-0.85 3.15,-0.85 3.15,0.85 1.45,0.85\"/>\n<polygon class=\"l68d16\" id=\"0x561631509570\" points=\"1.45,26.35 3.15,26.35 3.15,28.05 1.45,28.05\"/>\n<polygon class=\"l64d16\" id=\"0x5616315095e0\" points=\"1.45,26.35 3.15,26.35 3.15,28.05 1.45,28.05\"/>\n<polygon class=\"l122d16\" id=\"0x561631509650\" points=\"1.45,-0.85 3.15,-0.85 3.15,0.85 1.45,0.85\"/>\n<polygon class=\"l81d4\" id=\"0x5616315096c0\" points=\"0,0 18.4,0 18.4,27.2 0,27.2\"/>\n<polygon class=\"l78d44\" id=\"0x561631509730\" points=\"0,12.5 18.4,12.5 18.4,27.2 0,27.2\"/>\n<polygon class=\"l93d44\" id=\"0x5616315097a0\" points=\"0,-1.9 18.4,-1.9 18.4,10.15 0,10.15\"/>\n<polygon class=\"l64d20\" id=\"0x561631509810\" points=\"-1.9,13.05 20.3,13.05 20.3,29.1 -1.9,29.1\"/>\n<polygon class=\"l94d20\" id=\"0x561631509880\" points=\"0,14.85 18.4,14.85 18.4,29.1 0,29.1\"/>\n<polygon class=\"l67d44\" id=\"0x5616315098f0\" points=\"1.45,26.35 3.15,26.35 3.15,28.05 1.45,28.05\"/>\n<polygon class=\"l67d44\" id=\"0x561631509960\" points=\"1.45,-0.85 3.15,-0.85 3.15,0.85 1.45,0.85\"/>\n<polygon class=\"l67d44\" id=\"0x5616315099d0\" points=\"6.05,26.35 7.75,26.35 7.75,28.05 6.05,28.05\"/>\n<polygon class=\"l67d44\" id=\"0x561631509a40\" points=\"6.05,-0.85 7.75,-0.85 7.75,0.85 6.05,0.85\"/>\n<polygon class=\"l67d44\" id=\"0x561631509ab0\" points=\"10.65,26.35 12.35,26.35 12.35,28.05 10.65,28.05\"/>\n<polygon class=\"l67d44\" id=\"0x561631509b20\" points=\"10.65,-0.85 12.35,-0.85 12.35,0.85 10.65,0.85\"/>\n<polygon class=\"l67d44\" id=\"0x561631509b90\" points=\"15.25,26.35 16.95,26.35 16.95,28.05 15.25,28.05\"/>\n<polygon class=\"l67d44\" id=\"0x561631509c00\" points=\"15.25,-0.85 16.95,-0.85 16.95,0.85 15.25,0.85\"/>\n<polygon class=\"l65d20\" id=\"0x561631509c70\" points=\"1.35,16.15 17.05,16.15 17.05,24.85 1.35,24.85\"/>\n<polygon class=\"l65d20\" id=\"0x561631509ce0\" points=\"1.35,2.35 17.05,2.35 17.05,7.85 1.35,7.85\"/>\n<polygon class=\"l66d20\" id=\"0x561631509d50\" points=\"14.45,26.15 3.95,26.15 3.95,14.55 1.05,14.55 1.05,11.25 8.15,11.25 8.15,14.85 14.45,14.85\"/>\n<polygon class=\"l66d20\" id=\"0x561631509dc0\" points=\"17.35,12.75 10.25,12.75 10.25,9.15 3.95,9.15 3.95,1.05 14.45,1.05 14.45,9.45 17.35,9.45\"/>\n<polygon class=\"l66d44\" id=\"0x561631509e30\" points=\"14.95,4.25 16.65,4.25 16.65,5.95 14.95,5.95\"/>\n<polygon class=\"l66d44\" id=\"0x561631509ea0\" points=\"1.75,22.55 3.45,22.55 3.45,24.25 1.75,24.25\"/>\n<polygon class=\"l66d44\" id=\"0x561631509f10\" points=\"1.75,17.45 3.45,17.45 3.45,19.15 1.75,19.15\"/>\n<polygon class=\"l66d44\" id=\"0x561631509f80\" points=\"1.75,4.25 3.45,4.25 3.45,5.95 1.75,5.95\"/>\n<polygon class=\"l66d44\" id=\"0x561631509ff0\" points=\"1.85,12.05 3.55,12.05 3.55,13.75 1.85,13.75\"/>\n<polygon class=\"l66d44\" id=\"0x56163150a060\" points=\"14.85,10.25 16.55,10.25 16.55,11.95 14.85,11.95\"/>\n<polygon class=\"l66d44\" id=\"0x56163150a0d0\" points=\"14.95,22.55 16.65,22.55 16.65,24.25 14.95,24.25\"/>\n<polygon class=\"l66d44\" id=\"0x56163150a140\" points=\"14.95,17.45 16.65,17.45 16.65,19.15 14.95,19.15\"/>\n<polygon class=\"l67d20\" id=\"0x56163150a1b0\" points=\"18.4,28.05 0,28.05 0,26.35 0.85,26.35 0.85,15.45 10.05,15.45 10.05,10.25 17.55,10.25 17.55,26.35 18.4,26.35\"/>\n<polygon class=\"l67d20\" id=\"0x56163150a220\" points=\"18.4,0.85 17.55,0.85 17.55,8.55 8.35,8.55 8.35,13.75 0.85,13.75 0.85,0.85 0,0.85 0,-0.85 18.4,-0.85\"/>\n<polygon class=\"l95d20\" id=\"0x56163150a290\" points=\"18.4,13.45 4.55,13.45 4.55,14.75 0,14.75 0,9.75 13.85,9.75 13.85,9.25 18.4,9.25\"/>\n<polygon class=\"l68d20\" id=\"0x5616315329a0\" points=\"0,29.6 0,24.8 18.4,24.8 18.4,29.6\"/>\n<polygon class=\"l68d20\" id=\"0x5616315329a0\" points=\"0,2.4 0,-2.4 18.4,-2.4 18.4,2.4\"/>\n<text class=\"l68t5\" dominant-baseline=\"central\" id=\"0x561631504f30\" text-anchor=\"middle\" transform=\"translate(2.3 0) scale(0.1) scale(1 -1)\">VGND</text>\n<text class=\"l68t5\" dominant-baseline=\"central\" id=\"0x561631504fc0\" text-anchor=\"middle\" transform=\"translate(2.3 27.2) scale(0.1) scale(1 -1)\">VPWR</text>\n<text class=\"l64t5\" dominant-baseline=\"central\" id=\"0x561631505050\" text-anchor=\"middle\" transform=\"translate(2.3 27.2) scale(0.1) scale(1 -1)\">VPB</text>\n<text class=\"l64t59\" dominant-baseline=\"central\" id=\"0x5616315050e0\" text-anchor=\"middle\" transform=\"translate(2.3 0) scale(0.1) scale(1 -1)\">VNB</text>\n<text class=\"l83t44\" dominant-baseline=\"text-before-edge\" id=\"0x561631505320\" text-anchor=\"start\" transform=\"translate(0 0) rotate(90) scale(0.1) scale(1 -1)\">decap_4</text>\n</g>\n<g id=\"sky130_fd_sc_hd__fill_2\">\n<polygon class=\"l122d16\" id=\"0x561631508ee0\" points=\"1.55,-0.5 3.15,-0.5 3.15,0.6 1.55,0.6\"/>\n<polygon class=\"l64d16\" id=\"0x561631508f50\" points=\"1.4,26.75 3.1,26.75 3.1,27.65 1.4,27.65\"/>\n<polygon class=\"l68d16\" id=\"0x561631508fc0\" points=\"1,-0.7 3.65,-0.7 3.65,0.9 1,0.9\"/>\n<polygon class=\"l68d16\" id=\"0x561631509030\" points=\"1.05,26.5 3.65,26.5 3.65,28.05 1.05,28.05\"/>\n<polygon class=\"l78d44\" id=\"0x5616315090a0\" points=\"0,12.5 9.2,12.5 9.2,27.2 0,27.2\"/>\n<polygon class=\"l93d44\" id=\"0x561631509110\" points=\"0,-1.9 9.2,-1.9 9.2,10.15 0,10.15\"/>\n<polygon class=\"l64d20\" id=\"0x561631509180\" points=\"-1.9,13.05 11.1,13.05 11.1,29.1 -1.9,29.1\"/>\n<polygon class=\"l94d20\" id=\"0x5616315091f0\" points=\"0,13.55 9.2,13.55 9.2,29.1 0,29.1\"/>\n<polygon class=\"l81d4\" id=\"0x561631509260\" points=\"0,0 9.2,0 9.2,27.2 0,27.2\"/>\n<polygon class=\"l67d44\" id=\"0x5616315092d0\" points=\"1.45,26.35 3.15,26.35 3.15,28.05 1.45,28.05\"/>\n<polygon class=\"l67d44\" id=\"0x561631509340\" points=\"1.45,-0.85 3.15,-0.85 3.15,0.85 1.45,0.85\"/>\n<polygon class=\"l67d44\" id=\"0x5616315093b0\" points=\"6.05,-0.85 7.75,-0.85 7.75,0.85 6.05,0.85\"/>\n<polygon class=\"l67d44\" id=\"0x561631509420\" points=\"6.05,26.35 7.75,26.35 7.75,28.05 6.05,28.05\"/>\n<polygon class=\"l67d20\" id=\"0x5616315329a0\" points=\"0,0.85 0,-0.85 9.2,-0.85 9.2,0.85\"/>\n<polygon class=\"l67d20\" id=\"0x5616315329a0\" points=\"0,28.05 0,26.35 9.2,26.35 9.2,28.05\"/>\n<polygon class=\"l68d20\" id=\"0x5616315329a0\" points=\"0,29.6 0,24.8 9.2,24.8 9.2,29.6\"/>\n<polygon class=\"l68d20\" id=\"0x5616315329a0\" points=\"0,2.4 0,-2.4 9.2,-2.4 9.2,2.4\"/>\n<text class=\"l68t5\" dominant-baseline=\"central\" id=\"0x561631504bd0\" text-anchor=\"middle\" transform=\"translate(2.3 0) scale(0.1) scale(1 -1)\">VGND</text>\n<text class=\"l68t5\" dominant-baseline=\"central\" id=\"0x561631504c60\" text-anchor=\"middle\" transform=\"translate(2.3 27.2) scale(0.1) scale(1 -1)\">VPWR</text>\n<text class=\"l64t5\" dominant-baseline=\"central\" id=\"0x561631504cf0\" text-anchor=\"middle\" transform=\"translate(2.3 27.2) scale(0.1) scale(1 -1)\">VPB</text>\n<text class=\"l64t59\" dominant-baseline=\"central\" id=\"0x561631504d80\" text-anchor=\"middle\" transform=\"translate(2.3 0) scale(0.1) scale(1 -1)\">VNB</text>\n<text class=\"l83t44\" dominant-baseline=\"text-before-edge\" id=\"0x561631504e10\" text-anchor=\"start\" transform=\"translate(0 0) rotate(90) scale(0.1) scale(1 -1)\">fill_2</text>\n</g>\n<g id=\"sky130_fd_sc_hd__decap_6\">\n<polygon class=\"l236d0\" id=\"0x561631503cd0\" points=\"0,0 27.6,0 27.6,27.2 0,27.2\"/>\n<polygon class=\"l68d16\" id=\"0x561631503d40\" points=\"1.45,26.35 3.15,26.35 3.15,28.05 1.45,28.05\"/>\n<polygon class=\"l68d16\" id=\"0x561631503db0\" points=\"1.45,-0.85 3.15,-0.85 3.15,0.85 1.45,0.85\"/>\n<polygon class=\"l64d16\" id=\"0x561631503e20\" points=\"1.45,26.35 3.15,26.35 3.15,28.05 1.45,28.05\"/>\n<polygon class=\"l122d16\" id=\"0x561631503e90\" points=\"1.45,-0.85 3.15,-0.85 3.15,0.85 1.45,0.85\"/>\n<polygon class=\"l65d20\" id=\"0x561631503f00\" points=\"1.35,16.15 26.25,16.15 26.25,24.85 1.35,24.85\"/>\n<polygon class=\"l65d20\" id=\"0x561631503f70\" points=\"1.35,2.35 26.25,2.35 26.25,7.85 1.35,7.85\"/>\n<polygon class=\"l81d4\" id=\"0x561631508000\" points=\"0,0 27.6,0 27.6,27.2 0,27.2\"/>\n<polygon class=\"l78d44\" id=\"0x561631508070\" points=\"0,12.5 27.6,12.5 27.6,27.2 0,27.2\"/>\n<polygon class=\"l93d44\" id=\"0x5616315080e0\" points=\"0,-1.9 27.6,-1.9 27.6,10.15 0,10.15\"/>\n<polygon class=\"l64d20\" id=\"0x561631508150\" points=\"-1.9,13.05 29.5,13.05 29.5,29.1 -1.9,29.1\"/>\n<polygon class=\"l94d20\" id=\"0x5616315081c0\" points=\"0,14.85 27.6,14.85 27.6,29.1 0,29.1\"/>\n<polygon class=\"l67d44\" id=\"0x561631508230\" points=\"1.45,26.35 3.15,26.35 3.15,28.05 1.45,28.05\"/>\n<polygon class=\"l67d44\" id=\"0x5616315082a0\" points=\"1.45,-0.85 3.15,-0.85 3.15,0.85 1.45,0.85\"/>\n<polygon class=\"l67d44\" id=\"0x561631508310\" points=\"6.05,26.35 7.75,26.35 7.75,28.05 6.05,28.05\"/>\n<polygon class=\"l67d44\" id=\"0x561631508380\" points=\"6.05,-0.85 7.75,-0.85 7.75,0.85 6.05,0.85\"/>\n<polygon class=\"l67d44\" id=\"0x5616315083f0\" points=\"10.65,26.35 12.35,26.35 12.35,28.05 10.65,28.05\"/>\n<polygon class=\"l67d44\" id=\"0x561631508460\" points=\"10.65,-0.85 12.35,-0.85 12.35,0.85 10.65,0.85\"/>\n<polygon class=\"l67d44\" id=\"0x5616315084d0\" points=\"15.25,26.35 16.95,26.35 16.95,28.05 15.25,28.05\"/>\n<polygon class=\"l67d44\" id=\"0x561631508540\" points=\"15.25,-0.85 16.95,-0.85 16.95,0.85 15.25,0.85\"/>\n<polygon class=\"l67d44\" id=\"0x5616315085b0\" points=\"19.85,26.35 21.55,26.35 21.55,28.05 19.85,28.05\"/>\n<polygon class=\"l67d44\" id=\"0x561631508620\" points=\"19.85,-0.85 21.55,-0.85 21.55,0.85 19.85,0.85\"/>\n<polygon class=\"l67d44\" id=\"0x561631508690\" points=\"24.45,26.35 26.15,26.35 26.15,28.05 24.45,28.05\"/>\n<polygon class=\"l67d44\" id=\"0x561631508700\" points=\"24.45,-0.85 26.15,-0.85 26.15,0.85 24.45,0.85\"/>\n<polygon class=\"l66d20\" id=\"0x561631508770\" points=\"23.65,26.15 3.95,26.15 3.95,11.25 12.75,11.25 12.75,14.85 23.65,14.85\"/>\n<polygon class=\"l66d20\" id=\"0x561631508850\" points=\"23.65,12.75 14.85,12.75 14.85,9.15 3.95,9.15 3.95,1.05 23.65,1.05\"/>\n<polygon class=\"l67d20\" id=\"0x561631508930\" points=\"27.6,0.85 26.75,0.85 26.75,8.55 12.95,8.55 12.95,13.75 0.85,13.75 0.85,0.85 0,0.85 0,-0.85 27.6,-0.85\"/>\n<polygon class=\"l67d20\" id=\"0x5616315089a0\" points=\"27.6,28.05 0,28.05 0,26.35 0.85,26.35 0.85,15.45 14.65,15.45 14.65,10.25 26.75,10.25 26.75,26.35 27.6,26.35\"/>\n<polygon class=\"l95d20\" id=\"0x561631508a10\" points=\"27.6,13.45 12.95,13.45 12.95,14.75 0,14.75 0,9.75 14.65,9.75 14.65,9.25 27.6,9.25\"/>\n<polygon class=\"l66d44\" id=\"0x561631508a80\" points=\"1.75,22.55 3.45,22.55 3.45,24.25 1.75,24.25\"/>\n<polygon class=\"l66d44\" id=\"0x561631508af0\" points=\"24.15,3.9 25.85,3.9 25.85,5.6 24.15,5.6\"/>\n<polygon class=\"l66d44\" id=\"0x561631508b60\" points=\"24.15,22.55 25.85,22.55 25.85,24.25 24.15,24.25\"/>\n<polygon class=\"l66d44\" id=\"0x561631508bd0\" points=\"24.15,17.45 25.85,17.45 25.85,19.15 24.15,19.15\"/>\n<polygon class=\"l66d44\" id=\"0x561631508c40\" points=\"1.75,17.45 3.45,17.45 3.45,19.15 1.75,19.15\"/>\n<polygon class=\"l66d44\" id=\"0x561631508cb0\" points=\"1.75,3.9 3.45,3.9 3.45,5.6 1.75,5.6\"/>\n<polygon class=\"l66d44\" id=\"0x561631508d20\" points=\"4.75,12.05 6.45,12.05 6.45,13.75 4.75,13.75\"/>\n<polygon class=\"l66d44\" id=\"0x561631508d90\" points=\"10.25,12.05 11.95,12.05 11.95,13.75 10.25,13.75\"/>\n<polygon class=\"l66d44\" id=\"0x561631508e00\" points=\"15.65,10.25 17.35,10.25 17.35,11.95 15.65,11.95\"/>\n<polygon class=\"l66d44\" id=\"0x561631508e70\" points=\"21.15,10.25 22.85,10.25 22.85,11.95 21.15,11.95\"/>\n<polygon class=\"l68d20\" id=\"0x5616315329a0\" points=\"0,29.6 0,24.8 27.6,24.8 27.6,29.6\"/>\n<polygon class=\"l68d20\" id=\"0x5616315329a0\" points=\"0,2.4 0,-2.4 27.6,-2.4 27.6,2.4\"/>\n<text class=\"l68t5\" dominant-baseline=\"central\" id=\"0x5616315047e0\" text-anchor=\"middle\" transform=\"translate(2.3 27.2) scale(0.1) scale(1 -1)\">VPWR</text>\n<text class=\"l68t5\" dominant-baseline=\"central\" id=\"0x561631504870\" text-anchor=\"middle\" transform=\"translate(2.3 0) scale(0.1) scale(1 -1)\">VGND</text>\n<text class=\"l64t5\" dominant-baseline=\"central\" id=\"0x561631504900\" text-anchor=\"middle\" transform=\"translate(2.3 27.2) scale(0.1) scale(1 -1)\">VPB</text>\n<text class=\"l64t59\" dominant-baseline=\"central\" id=\"0x561631504990\" text-anchor=\"middle\" transform=\"translate(2.3 0) scale(0.1) scale(1 -1)\">VNB</text>\n<text class=\"l83t44\" dominant-baseline=\"text-before-edge\" id=\"0x561631504ab0\" text-anchor=\"start\" transform=\"translate(0 0) rotate(90) scale(0.1) scale(1 -1)\">decap_6</text>\n</g>\n<g id=\"sky130_fd_sc_hd__decap_12\">\n<polygon class=\"l236d0\" id=\"0x561630e2eee0\" points=\"0,0 55.2,0 55.2,27.2 0,27.2\"/>\n<polygon class=\"l68d16\" id=\"0x561630e2f420\" points=\"1.45,-0.85 3.15,-0.85 3.15,0.85 1.45,0.85\"/>\n<polygon class=\"l68d16\" id=\"0x561630e2f3b0\" points=\"1.45,26.35 3.15,26.35 3.15,28.05 1.45,28.05\"/>\n<polygon class=\"l64d16\" id=\"0x561630e2f340\" points=\"1.45,26.35 3.15,26.35 3.15,28.05 1.45,28.05\"/>\n<polygon class=\"l122d16\" id=\"0x561630e2f2d0\" points=\"1.45,-0.85 3.15,-0.85 3.15,0.85 1.45,0.85\"/>\n<polygon class=\"l65d20\" id=\"0x561630e2f260\" points=\"1.35,16.15 53.85,16.15 53.85,24.85 1.35,24.85\"/>\n<polygon class=\"l65d20\" id=\"0x561630e30290\" points=\"1.35,2.35 53.85,2.35 53.85,7.85 1.35,7.85\"/>\n<polygon class=\"l78d44\" id=\"0x561630e30300\" points=\"0,12.5 55.2,12.5 55.2,27.2 0,27.2\"/>\n<polygon class=\"l93d44\" id=\"0x561630e30370\" points=\"0,-1.9 55.2,-1.9 55.2,10.15 0,10.15\"/>\n<polygon class=\"l64d20\" id=\"0x561630e303e0\" points=\"-1.9,13.05 57.1,13.05 57.1,29.1 -1.9,29.1\"/>\n<polygon class=\"l94d20\" id=\"0x561630e30450\" points=\"0,14.85 55.2,14.85 55.2,29.1 0,29.1\"/>\n<polygon class=\"l81d4\" id=\"0x561630e304c0\" points=\"0,0 55.2,0 55.2,27.2 0,27.2\"/>\n<polygon class=\"l67d44\" id=\"0x561630e30530\" points=\"24.45,-0.85 26.15,-0.85 26.15,0.85 24.45,0.85\"/>\n<polygon class=\"l67d44\" id=\"0x561630e305a0\" points=\"29.05,26.35 30.75,26.35 30.75,28.05 29.05,28.05\"/>\n<polygon class=\"l67d44\" id=\"0x561630e30610\" points=\"1.45,26.35 3.15,26.35 3.15,28.05 1.45,28.05\"/>\n<polygon class=\"l67d44\" id=\"0x561630e2f1f0\" points=\"1.45,-0.85 3.15,-0.85 3.15,0.85 1.45,0.85\"/>\n<polygon class=\"l67d44\" id=\"0x561630e2f180\" points=\"6.05,26.35 7.75,26.35 7.75,28.05 6.05,28.05\"/>\n<polygon class=\"l67d44\" id=\"0x561630e2f030\" points=\"6.05,-0.85 7.75,-0.85 7.75,0.85 6.05,0.85\"/>\n<polygon class=\"l67d44\" id=\"0x561630e2f0a0\" points=\"10.65,26.35 12.35,26.35 12.35,28.05 10.65,28.05\"/>\n<polygon class=\"l67d44\" id=\"0x561630e2f110\" points=\"10.65,-0.85 12.35,-0.85 12.35,0.85 10.65,0.85\"/>\n<polygon class=\"l67d44\" id=\"0x561630e30680\" points=\"15.25,26.35 16.95,26.35 16.95,28.05 15.25,28.05\"/>\n<polygon class=\"l67d44\" id=\"0x561630e306f0\" points=\"15.25,-0.85 16.95,-0.85 16.95,0.85 15.25,0.85\"/>\n<polygon class=\"l67d44\" id=\"0x561630e30760\" points=\"19.85,26.35 21.55,26.35 21.55,28.05 19.85,28.05\"/>\n<polygon class=\"l67d44\" id=\"0x561630e307d0\" points=\"19.85,-0.85 21.55,-0.85 21.55,0.85 19.85,0.85\"/>\n<polygon class=\"l67d44\" id=\"0x561630e30840\" points=\"24.45,26.35 26.15,26.35 26.15,28.05 24.45,28.05\"/>\n<polygon class=\"l67d44\" id=\"0x561630e308b0\" points=\"29.05,-0.85 30.75,-0.85 30.75,0.85 29.05,0.85\"/>\n<polygon class=\"l67d44\" id=\"0x561630e30920\" points=\"33.65,26.35 35.35,26.35 35.35,28.05 33.65,28.05\"/>\n<polygon class=\"l67d44\" id=\"0x561630e30990\" points=\"33.65,-0.85 35.35,-0.85 35.35,0.85 33.65,0.85\"/>\n<polygon class=\"l67d44\" id=\"0x561630e30a00\" points=\"38.25,26.35 39.95,26.35 39.95,28.05 38.25,28.05\"/>\n<polygon class=\"l67d44\" id=\"0x561630e30a70\" points=\"38.25,-0.85 39.95,-0.85 39.95,0.85 38.25,0.85\"/>\n<polygon class=\"l67d44\" id=\"0x561630e30ae0\" points=\"42.85,26.35 44.55,26.35 44.55,28.05 42.85,28.05\"/>\n<polygon class=\"l67d44\" id=\"0x561630e30b50\" points=\"42.85,-0.85 44.55,-0.85 44.55,0.85 42.85,0.85\"/>\n<polygon class=\"l67d44\" id=\"0x561630e30bc0\" points=\"47.45,26.35 49.15,26.35 49.15,28.05 47.45,28.05\"/>\n<polygon class=\"l67d44\" id=\"0x561630e30c30\" points=\"47.45,-0.85 49.15,-0.85 49.15,0.85 47.45,0.85\"/>\n<polygon class=\"l67d44\" id=\"0x561630e30ca0\" points=\"52.05,26.35 53.75,26.35 53.75,28.05 52.05,28.05\"/>\n<polygon class=\"l67d44\" id=\"0x561630e30d10\" points=\"52.05,-0.85 53.75,-0.85 53.75,0.85 52.05,0.85\"/>\n<polygon class=\"l95d20\" id=\"0x561630e30d80\" points=\"0,9.25 55.2,9.25 55.2,14.75 0,14.75\"/>\n<polygon class=\"l66d20\" id=\"0x561630e30df0\" points=\"51.25,26.15 3.95,26.15 3.95,11.25 26.45,11.25 26.45,14.85 51.25,14.85\"/>\n<polygon class=\"l66d20\" id=\"0x561630e30ed0\" points=\"51.25,12.75 28.55,12.75 28.55,9.15 3.95,9.15 3.95,1.05 51.25,1.05\"/>\n<polygon class=\"l67d20\" id=\"0x56162f4adf10\" points=\"55.2,0.85 54.3,0.85 54.3,8.55 26.65,8.55 26.65,13.75 0.85,13.75 0.85,0.85 0,0.85 0,-0.85 55.2,-0.85\"/>\n<polygon class=\"l67d20\" id=\"0x561630e30f40\" points=\"55.2,28.05 0,28.05 0,26.35 0.85,26.35 0.85,15.45 28.35,15.45 28.35,10.25 54.3,10.25 54.3,26.35 55.2,26.35\"/>\n<polygon class=\"l66d44\" id=\"0x561630e30fb0\" points=\"1.75,22.55 3.45,22.55 3.45,24.25 1.75,24.25\"/>\n<polygon class=\"l66d44\" id=\"0x561630e31020\" points=\"48.55,10.25 50.25,10.25 50.25,11.95 48.55,11.95\"/>\n<polygon class=\"l66d44\" id=\"0x561630e31090\" points=\"51.75,22.55 53.45,22.55 53.45,24.25 51.75,24.25\"/>\n<polygon class=\"l66d44\" id=\"0x561630e31100\" points=\"51.75,17.45 53.45,17.45 53.45,19.15 51.75,19.15\"/>\n<polygon class=\"l66d44\" id=\"0x561630e31170\" points=\"51.75,3.9 53.45,3.9 53.45,5.6 51.75,5.6\"/>\n<polygon class=\"l66d44\" id=\"0x561630e311e0\" points=\"35.75,10.25 37.45,10.25 37.45,11.95 35.75,11.95\"/>\n<polygon class=\"l66d44\" id=\"0x561630e31250\" points=\"29.35,10.25 31.05,10.25 31.05,11.95 29.35,11.95\"/>\n<polygon class=\"l66d44\" id=\"0x561630e312c0\" points=\"42.15,10.25 43.85,10.25 43.85,11.95 42.15,11.95\"/>\n<polygon class=\"l66d44\" id=\"0x561630e31330\" points=\"1.75,17.45 3.45,17.45 3.45,19.15 1.75,19.15\"/>\n<polygon class=\"l66d44\" id=\"0x561630e313a0\" points=\"1.75,3.9 3.45,3.9 3.45,5.6 1.75,5.6\"/>\n<polygon class=\"l66d44\" id=\"0x561630e31410\" points=\"4.75,12.05 6.45,12.05 6.45,13.75 4.75,13.75\"/>\n<polygon class=\"l66d44\" id=\"0x561630e31480\" points=\"11.15,12.05 12.85,12.05 12.85,13.75 11.15,13.75\"/>\n<polygon class=\"l66d44\" id=\"0x561630e314f0\" points=\"17.55,12.05 19.25,12.05 19.25,13.75 17.55,13.75\"/>\n<polygon class=\"l66d44\" id=\"0x561630e31560\" points=\"23.95,12.05 25.65,12.05 25.65,13.75 23.95,13.75\"/>\n<polygon class=\"l68d20\" id=\"0x5616315329a0\" points=\"0,29.6 0,24.8 55.2,24.8 55.2,29.6\"/>\n<polygon class=\"l68d20\" id=\"0x5616315329a0\" points=\"0,2.4 0,-2.4 55.2,-2.4 55.2,2.4\"/>\n<text class=\"l68t5\" dominant-baseline=\"central\" id=\"0x56162f6534e0\" text-anchor=\"middle\" transform=\"translate(2.3 0) scale(0.1) scale(1 -1)\">VGND</text>\n<text class=\"l68t5\" dominant-baseline=\"central\" id=\"0x56162f653450\" text-anchor=\"middle\" transform=\"translate(2.3 27.2) scale(0.1) scale(1 -1)\">VPWR</text>\n<text class=\"l64t5\" dominant-baseline=\"central\" id=\"0x56162f6533c0\" text-anchor=\"middle\" transform=\"translate(2.3 27.2) scale(0.1) scale(1 -1)\">VPB</text>\n<text class=\"l64t59\" dominant-baseline=\"central\" id=\"0x56162f653330\" text-anchor=\"middle\" transform=\"translate(2.3 0) scale(0.1) scale(1 -1)\">VNB</text>\n<text class=\"l83t44\" dominant-baseline=\"text-before-edge\" id=\"0x56162f6532a0\" text-anchor=\"start\" transform=\"translate(0 0) rotate(90) scale(0.1) scale(1 -1)\">decap_12</text>\n</g>\n<g id=\"sky130_fd_sc_hd__decap_3\">\n<polygon class=\"l236d0\" id=\"0x561630e315d0\" points=\"0,0 13.8,0 13.8,27.2 0,27.2\"/>\n<polygon class=\"l68d16\" id=\"0x561630e31640\" points=\"1.45,26.35 3.15,26.35 3.15,28.05 1.45,28.05\"/>\n<polygon class=\"l68d16\" id=\"0x561630e316b0\" points=\"1.45,-0.85 3.15,-0.85 3.15,0.85 1.45,0.85\"/>\n<polygon class=\"l64d16\" id=\"0x561630e31720\" points=\"1.45,26.35 3.15,26.35 3.15,28.05 1.45,28.05\"/>\n<polygon class=\"l122d16\" id=\"0x561630e31790\" points=\"1.45,-0.85 3.15,-0.85 3.15,0.85 1.45,0.85\"/>\n<polygon class=\"l65d20\" id=\"0x561630e31800\" points=\"1.35,2.35 12.45,2.35 12.45,7.85 1.35,7.85\"/>\n<polygon class=\"l65d20\" id=\"0x561630e31870\" points=\"1.35,16.15 12.45,16.15 12.45,24.85 1.35,24.85\"/>\n<polygon class=\"l78d44\" id=\"0x561630e318e0\" points=\"0,12.5 13.8,12.5 13.8,27.2 0,27.2\"/>\n<polygon class=\"l64d20\" id=\"0x561630e31950\" points=\"-1.9,13.05 15.7,13.05 15.7,29.1 -1.9,29.1\"/>\n<polygon class=\"l94d20\" id=\"0x561630e319c0\" points=\"0,14.85 13.8,14.85 13.8,29.1 0,29.1\"/>\n<polygon class=\"l67d44\" id=\"0x561630e31a30\" points=\"10.65,-0.85 12.35,-0.85 12.35,0.85 10.65,0.85\"/>\n<polygon class=\"l67d44\" id=\"0x561630e31aa0\" points=\"10.65,26.35 12.35,26.35 12.35,28.05 10.65,28.05\"/>\n<polygon class=\"l67d44\" id=\"0x561630e31b10\" points=\"6.05,-0.85 7.75,-0.85 7.75,0.85 6.05,0.85\"/>\n<polygon class=\"l67d44\" id=\"0x561630e31b80\" points=\"6.05,26.35 7.75,26.35 7.75,28.05 6.05,28.05\"/>\n<polygon class=\"l67d44\" id=\"0x561630e31bf0\" points=\"1.45,-0.85 3.15,-0.85 3.15,0.85 1.45,0.85\"/>\n<polygon class=\"l67d44\" id=\"0x561630e31c60\" points=\"1.45,26.35 3.15,26.35 3.15,28.05 1.45,28.05\"/>\n<polygon class=\"l81d4\" id=\"0x561630e31cd0\" points=\"0,0 13.8,0 13.8,27.2 0,27.2\"/>\n<polygon class=\"l93d44\" id=\"0x561630e31d40\" points=\"0,-1.9 13.8,-1.9 13.8,10.15 0,10.15\"/>\n<polygon class=\"l95d20\" id=\"0x561630e31db0\" points=\"13.8,13.45 6.05,13.45 6.05,14.75 0,14.75 0,9.75 7.75,9.75 7.75,9.05 13.8,9.05\"/>\n<polygon class=\"l67d20\" id=\"0x561630e31e20\" points=\"13.8,28.05 0,28.05 0,26.35 0.85,26.35 0.85,15.45 7.75,15.45 7.75,10.05 12.95,10.05 12.95,26.35 13.8,26.35\"/>\n<polygon class=\"l67d20\" id=\"0x561630e31e90\" points=\"13.8,0.85 12.95,0.85 12.95,8.35 6.05,8.35 6.05,13.75 0.85,13.75 0.85,0.85 0,0.85 0,-0.85 13.8,-0.85\"/>\n<polygon class=\"l66d20\" id=\"0x561630e31f00\" points=\"11.25,12.55 7.95,12.55 7.95,9.15 3.95,9.15 3.95,1.05 9.85,1.05 9.85,9.25 11.25,9.25\"/>\n<polygon class=\"l66d20\" id=\"0x561630e31f70\" points=\"9.85,26.15 3.95,26.15 3.95,14.55 2.55,14.55 2.55,11.25 5.85,11.25 5.85,14.65 9.85,14.65\"/>\n<polygon class=\"l66d44\" id=\"0x561631500000\" points=\"10.35,4 12.05,4 12.05,5.7 10.35,5.7\"/>\n<polygon class=\"l66d44\" id=\"0x561631500070\" points=\"10.35,17.8 12.05,17.8 12.05,19.5 10.35,19.5\"/>\n<polygon class=\"l66d44\" id=\"0x5616315000e0\" points=\"10.35,22.55 12.05,22.55 12.05,24.25 10.35,24.25\"/>\n<polygon class=\"l66d44\" id=\"0x561631500150\" points=\"8.75,10.05 10.45,10.05 10.45,11.75 8.75,11.75\"/>\n<polygon class=\"l66d44\" id=\"0x5616315001c0\" points=\"3.35,12.05 5.05,12.05 5.05,13.75 3.35,13.75\"/>\n<polygon class=\"l66d44\" id=\"0x561631500230\" points=\"1.75,4 3.45,4 3.45,5.7 1.75,5.7\"/>\n<polygon class=\"l66d44\" id=\"0x5616315002a0\" points=\"1.75,17.8 3.45,17.8 3.45,19.5 1.75,19.5\"/>\n<polygon class=\"l66d44\" id=\"0x561631500310\" points=\"1.75,22.55 3.45,22.55 3.45,24.25 1.75,24.25\"/>\n<polygon class=\"l68d20\" id=\"0x5616315329a0\" points=\"0,29.6 0,24.8 13.8,24.8 13.8,29.6\"/>\n<polygon class=\"l68d20\" id=\"0x5616315329a0\" points=\"0,2.4 0,-2.4 13.8,-2.4 13.8,2.4\"/>\n<text class=\"l68t5\" dominant-baseline=\"central\" id=\"0x56162f653180\" text-anchor=\"middle\" transform=\"translate(2.3 27.2) scale(0.1) scale(1 -1)\">VPWR</text>\n<text class=\"l68t5\" dominant-baseline=\"central\" id=\"0x56162f6530f0\" text-anchor=\"middle\" transform=\"translate(2.3 0) scale(0.1) scale(1 -1)\">VGND</text>\n<text class=\"l64t5\" dominant-baseline=\"central\" id=\"0x56162f653060\" text-anchor=\"middle\" transform=\"translate(2.3 27.2) scale(0.1) scale(1 -1)\">VPB</text>\n<text class=\"l64t59\" dominant-baseline=\"central\" id=\"0x56162f652fd0\" text-anchor=\"middle\" transform=\"translate(2.3 0) scale(0.1) scale(1 -1)\">VNB</text>\n<text class=\"l83t44\" dominant-baseline=\"text-before-edge\" id=\"0x56162f652d90\" text-anchor=\"start\" transform=\"translate(0 0) rotate(90) scale(0.1) scale(1 -1)\">decap_3</text>\n</g>\n<g id=\"sky130_fd_sc_hd__clkbuf_1\">\n<polygon class=\"l236d0\" id=\"0x56163150b640\" points=\"0,0 13.8,0 13.8,27.2 0,27.2\"/>\n<polygon class=\"l68d16\" id=\"0x56163150b6b0\" points=\"10.65,-0.85 12.35,-0.85 12.35,0.85 10.65,0.85\"/>\n<polygon class=\"l68d16\" id=\"0x56163150b720\" points=\"10.65,26.35 12.35,26.35 12.35,28.05 10.65,28.05\"/>\n<polygon class=\"l64d16\" id=\"0x56163150b790\" points=\"10.65,26.35 12.35,26.35 12.35,28.05 10.65,28.05\"/>\n<polygon class=\"l122d16\" id=\"0x56163150b800\" points=\"10.65,-0.85 12.35,-0.85 12.35,0.85 10.65,0.85\"/>\n<polygon class=\"l67d20\" id=\"0x56163150b870\" points=\"0.85,24.65 3.55,24.65 3.55,15.6 2.55,15.6 2.55,7.6 3.45,7.6 3.45,2.55 0.85,2.55\"/>\n<polygon class=\"l67d20\" id=\"0x56163150b8e0\" points=\"0,0.85 5.25,0.85 5.25,4.65 8.55,4.65 8.55,0.85 13.8,0.85 13.8,-0.85 0,-0.85\"/>\n<polygon class=\"l67d20\" id=\"0x56163150b950\" points=\"4.25,13.9 5.4,13.9 5.4,17.05 10.35,17.05 10.35,24.65 12.05,24.65 12.05,15.35 7.1,15.35 7.1,8.05 12.05,8.05 12.05,2.55 10.35,2.55 10.35,6.35 5.4,6.35 5.4,10.6 4.25,10.6\"/>\n<polygon class=\"l67d20\" id=\"0x56163150b9c0\" points=\"9.45,9.85 12.75,9.85 12.75,13.55 9.45,13.55\"/>\n<polygon class=\"l67d20\" id=\"0x56163150ba30\" points=\"0,28.05 13.8,28.05 13.8,26.35 8.55,26.35 8.55,18.75 5.25,18.75 5.25,26.35 0,26.35\"/>\n<polygon class=\"l95d20\" id=\"0x56163150baa0\" points=\"0,9.75 13.8,9.75 13.8,14.1 0,14.1\"/>\n<polygon class=\"l78d44\" id=\"0x56163150bb10\" points=\"0,12.5 13.8,12.5 13.8,27.2 0,27.2\"/>\n<polygon class=\"l93d44\" id=\"0x56163150bb80\" points=\"0,-1.9 13.8,-1.9 13.8,10.15 0,10.15\"/>\n<polygon class=\"l64d20\" id=\"0x56163150bbf0\" points=\"-1.9,13.05 15.7,13.05 15.7,29.1 -1.9,29.1\"/>\n<polygon class=\"l94d20\" id=\"0x56163150bc60\" points=\"0,14.2 13.8,14.2 13.8,29.1 0,29.1\"/>\n<polygon class=\"l81d4\" id=\"0x56163150bcd0\" points=\"0,0 13.8,0 13.8,27.2 0,27.2\"/>\n<polygon class=\"l67d44\" id=\"0x56163150bd40\" points=\"1.45,-0.85 3.15,-0.85 3.15,0.85 1.45,0.85\"/>\n<polygon class=\"l67d44\" id=\"0x56163150bdb0\" points=\"1.45,26.35 3.15,26.35 3.15,28.05 1.45,28.05\"/>\n<polygon class=\"l67d44\" id=\"0x56163150be20\" points=\"6.05,-0.85 7.75,-0.85 7.75,0.85 6.05,0.85\"/>\n<polygon class=\"l67d44\" id=\"0x56163150be90\" points=\"6.05,26.35 7.75,26.35 7.75,28.05 6.05,28.05\"/>\n<polygon class=\"l67d44\" id=\"0x56163150bf00\" points=\"10.65,-0.85 12.35,-0.85 12.35,0.85 10.65,0.85\"/>\n<polygon class=\"l67d44\" id=\"0x56163150bf70\" points=\"10.65,26.35 12.35,26.35 12.35,28.05 10.65,28.05\"/>\n<polygon class=\"l67d16\" id=\"0x561631510000\" points=\"1.45,4.25 3.15,4.25 3.15,5.95 1.45,5.95\"/>\n<polygon class=\"l67d16\" id=\"0x561631510070\" points=\"1.45,17.85 3.15,17.85 3.15,19.55 1.45,19.55\"/>\n<polygon class=\"l67d16\" id=\"0x5616315100e0\" points=\"1.45,21.25 3.15,21.25 3.15,22.95 1.45,22.95\"/>\n<polygon class=\"l67d16\" id=\"0x561631510150\" points=\"10.65,11.05 12.35,11.05 12.35,12.75 10.65,12.75\"/>\n<polygon class=\"l65d20\" id=\"0x5616315101c0\" points=\"1.35,2.35 12.45,2.35 12.45,7.55 1.35,7.55\"/>\n<polygon class=\"l65d20\" id=\"0x561631510230\" points=\"1.35,16.95 12.45,16.95 12.45,24.85 1.35,24.85\"/>\n<polygon class=\"l66d44\" id=\"0x5616315102a0\" points=\"1.75,4.45 3.45,4.45 3.45,6.15 1.75,6.15\"/>\n<polygon class=\"l66d44\" id=\"0x561631510310\" points=\"1.75,18.1 3.45,18.1 3.45,19.8 1.75,19.8\"/>\n<polygon class=\"l66d44\" id=\"0x561631510380\" points=\"1.75,22.15 3.45,22.15 3.45,23.85 1.75,23.85\"/>\n<polygon class=\"l66d44\" id=\"0x5616315103f0\" points=\"4.25,11.4 5.95,11.4 5.95,13.1 4.25,13.1\"/>\n<polygon class=\"l66d44\" id=\"0x561631510460\" points=\"6.05,2.95 7.75,2.95 7.75,4.65 6.05,4.65\"/>\n<polygon class=\"l66d44\" id=\"0x5616315104d0\" points=\"6.05,18.75 7.75,18.75 7.75,20.45 6.05,20.45\"/>\n<polygon class=\"l66d44\" id=\"0x561631510540\" points=\"6.05,22.15 7.75,22.15 7.75,23.85 6.05,23.85\"/>\n<polygon class=\"l66d44\" id=\"0x5616315105b0\" points=\"10.25,10.75 11.95,10.75 11.95,12.45 10.25,12.45\"/>\n<polygon class=\"l66d44\" id=\"0x561631510620\" points=\"10.35,3.6 12.05,3.6 12.05,5.3 10.35,5.3\"/>\n<polygon class=\"l66d44\" id=\"0x561631510690\" points=\"10.35,18.75 12.05,18.75 12.05,20.45 10.35,20.45\"/>\n<polygon class=\"l66d44\" id=\"0x561631510700\" points=\"10.35,22.15 12.05,22.15 12.05,23.85 10.35,23.85\"/>\n<polygon class=\"l66d20\" id=\"0x561631510770\" points=\"3.75,13.9 3.95,13.9 3.95,26.15 5.45,26.15 5.45,13.9 6.45,13.9 6.45,10.6 5.45,10.6 5.45,1.05 3.95,1.05 3.95,10.6 3.75,10.6\"/>\n<polygon class=\"l66d20\" id=\"0x5616315107e0\" points=\"12.45,13.25 10.15,13.25 10.15,16.2 9.85,16.2 9.85,26.15 8.35,26.15 8.35,15 8.65,15 8.65,9.5 8.35,9.5 8.35,1.05 9.85,1.05 9.85,8.3 10.15,8.3 10.15,9.95 12.45,9.95\"/>\n<polygon class=\"l68d20\" id=\"0x5616315329a0\" points=\"13.8,-2.4 13.8,2.4 0,2.4 0,-2.4\"/>\n<polygon class=\"l68d20\" id=\"0x5616315329a0\" points=\"13.8,24.8 13.8,29.6 0,29.6 0,24.8\"/>\n<text class=\"l68t5\" dominant-baseline=\"central\" id=\"0x561631505c20\" text-anchor=\"middle\" transform=\"translate(11.5 0) rotate(180) scale(1 -1) scale(0.1) scale(1 -1)\">VGND</text>\n<text class=\"l68t5\" dominant-baseline=\"central\" id=\"0x561631505cb0\" text-anchor=\"middle\" transform=\"translate(11.5 27.2) rotate(180) scale(1 -1) scale(0.1) scale(1 -1)\">VPWR</text>\n<text class=\"l67t5\" dominant-baseline=\"central\" id=\"0x561631505d40\" text-anchor=\"middle\" transform=\"translate(2.3 5.1) rotate(180) scale(1 -1) scale(0.1) scale(1 -1)\">X</text>\n<text class=\"l67t5\" dominant-baseline=\"central\" id=\"0x561631505dd0\" text-anchor=\"middle\" transform=\"translate(2.3 18.7) rotate(180) scale(1 -1) scale(0.1) scale(1 -1)\">X</text>\n<text class=\"l67t5\" dominant-baseline=\"central\" id=\"0x561631505e60\" text-anchor=\"middle\" transform=\"translate(2.3 22.1) rotate(180) scale(1 -1) scale(0.1) scale(1 -1)\">X</text>\n<text class=\"l67t5\" dominant-baseline=\"central\" id=\"0x561631505ef0\" text-anchor=\"middle\" transform=\"translate(11.5 11.9) rotate(180) scale(1 -1) scale(0.1) scale(1 -1)\">A</text>\n<text class=\"l64t5\" dominant-baseline=\"central\" id=\"0x561631505f80\" text-anchor=\"middle\" transform=\"translate(11.5 27.2) rotate(180) scale(1 -1) scale(0.1) scale(1 -1)\">VPB</text>\n<text class=\"l64t59\" dominant-baseline=\"central\" id=\"0x561631506010\" text-anchor=\"middle\" transform=\"translate(11.5 0) rotate(180) scale(1 -1) scale(0.1) scale(1 -1)\">VNB</text>\n<text class=\"l83t44\" dominant-baseline=\"text-before-edge\" id=\"0x5616315060a0\" text-anchor=\"start\" transform=\"translate(0 0) rotate(90) scale(0.1) scale(1 -1)\">clkbuf_1</text>\n</g>\n<g id=\"sky130_fd_sc_hd__inv_2\">\n<polygon class=\"l236d0\" id=\"0x56163150a300\" points=\"0,0 13.8,0 13.8,27.2 0,27.2\"/>\n<polygon class=\"l64d16\" id=\"0x56163150a370\" points=\"1.45,26.35 3.15,26.35 3.15,28.05 1.45,28.05\"/>\n<polygon class=\"l122d16\" id=\"0x56163150a3e0\" points=\"1.45,-0.85 3.15,-0.85 3.15,0.85 1.45,0.85\"/>\n<polygon class=\"l68d16\" id=\"0x56163150a450\" points=\"1.45,26.35 3.15,26.35 3.15,28.05 1.45,28.05\"/>\n<polygon class=\"l68d16\" id=\"0x56163150a4c0\" points=\"1.45,-0.85 3.15,-0.85 3.15,0.85 1.45,0.85\"/>\n<polygon class=\"l67d20\" id=\"0x56163150a530\" points=\"13.8,28.05 0,28.05 0,26.35 1.25,26.35 1.25,14.95 3.55,14.95 3.55,26.35 10.25,26.35 10.25,14.95 12.35,14.95 12.35,26.35 13.8,26.35\"/>\n<polygon class=\"l67d20\" id=\"0x56163150a5a0\" points=\"8.55,24.65 5.25,24.65 5.25,14.85 6.05,14.85 6.05,8.85 5.25,8.85 5.25,2.55 8.55,2.55\"/>\n<polygon class=\"l67d20\" id=\"0x56163150a610\" points=\"1.05,10.75 4.35,10.75 4.35,13.25 1.05,13.25\"/>\n<polygon class=\"l67d20\" id=\"0x56163150a680\" points=\"13.8,0.85 12.35,0.85 12.35,9.05 10.25,9.05 10.25,0.85 3.55,0.85 3.55,9.05 1.25,9.05 1.25,0.85 0,0.85 0,-0.85 13.8,-0.85\"/>\n<polygon class=\"l66d44\" id=\"0x56163150a6f0\" points=\"10.25,2.95 11.95,2.95 11.95,4.65 10.25,4.65\"/>\n<polygon class=\"l66d44\" id=\"0x56163150a760\" points=\"10.25,6.55 11.95,6.55 11.95,8.25 10.25,8.25\"/>\n<polygon class=\"l66d44\" id=\"0x56163150a7d0\" points=\"10.25,15.75 11.95,15.75 11.95,17.45 10.25,17.45\"/>\n<polygon class=\"l66d44\" id=\"0x56163150a840\" points=\"10.25,19.15 11.95,19.15 11.95,20.85 10.25,20.85\"/>\n<polygon class=\"l66d44\" id=\"0x56163150a8b0\" points=\"10.25,22.55 11.95,22.55 11.95,24.25 10.25,24.25\"/>\n<polygon class=\"l66d44\" id=\"0x56163150a920\" points=\"6.05,2.95 7.75,2.95 7.75,4.65 6.05,4.65\"/>\n<polygon class=\"l66d44\" id=\"0x56163150a990\" points=\"6.05,6.55 7.75,6.55 7.75,8.25 6.05,8.25\"/>\n<polygon class=\"l66d44\" id=\"0x56163150aa00\" points=\"6.05,15.75 7.75,15.75 7.75,17.45 6.05,17.45\"/>\n<polygon class=\"l66d44\" id=\"0x56163150aa70\" points=\"6.05,19.15 7.75,19.15 7.75,20.85 6.05,20.85\"/>\n<polygon class=\"l66d44\" id=\"0x56163150aae0\" points=\"6.05,22.55 7.75,22.55 7.75,24.25 6.05,24.25\"/>\n<polygon class=\"l66d44\" id=\"0x56163150ab50\" points=\"1.85,22.55 3.55,22.55 3.55,24.25 1.85,24.25\"/>\n<polygon class=\"l66d44\" id=\"0x56163150abc0\" points=\"1.85,2.95 3.55,2.95 3.55,4.65 1.85,4.65\"/>\n<polygon class=\"l66d44\" id=\"0x56163150ac30\" points=\"1.85,6.55 3.55,6.55 3.55,8.25 1.85,8.25\"/>\n<polygon class=\"l66d44\" id=\"0x56163150aca0\" points=\"1.85,10.75 3.55,10.75 3.55,12.45 1.85,12.45\"/>\n<polygon class=\"l66d44\" id=\"0x56163150ad10\" points=\"1.85,15.75 3.55,15.75 3.55,17.45 1.85,17.45\"/>\n<polygon class=\"l66d44\" id=\"0x56163150ad80\" points=\"1.85,19.15 3.55,19.15 3.55,20.85 1.85,20.85\"/>\n<polygon class=\"l66d20\" id=\"0x56163150adf0\" points=\"9.75,26.15 8.25,26.15 8.25,13.25 5.55,13.25 5.55,26.15 4.05,26.15 4.05,13.25 1.05,13.25 1.05,9.95 4.05,9.95 4.05,1.05 5.55,1.05 5.55,9.95 8.25,9.95 8.25,1.05 9.75,1.05\"/>\n<polygon class=\"l65d20\" id=\"0x56163150ae60\" points=\"1.45,2.35 12.35,2.35 12.35,8.85 1.45,8.85\"/>\n<polygon class=\"l65d20\" id=\"0x56163150aed0\" points=\"1.45,14.85 12.35,14.85 12.35,24.85 1.45,24.85\"/>\n<polygon class=\"l67d16\" id=\"0x56163150af40\" points=\"6.05,7.65 7.75,7.65 7.75,9.35 6.05,9.35\"/>\n<polygon class=\"l67d16\" id=\"0x56163150afb0\" points=\"1.45,11.05 3.15,11.05 3.15,12.75 1.45,12.75\"/>\n<polygon class=\"l67d16\" id=\"0x56163150b020\" points=\"6.05,14.45 7.75,14.45 7.75,16.15 6.05,16.15\"/>\n<polygon class=\"l67d16\" id=\"0x56163150b090\" points=\"6.05,11.05 7.75,11.05 7.75,12.75 6.05,12.75\"/>\n<polygon class=\"l67d44\" id=\"0x56163150b100\" points=\"10.65,-0.85 12.35,-0.85 12.35,0.85 10.65,0.85\"/>\n<polygon class=\"l67d44\" id=\"0x56163150b170\" points=\"1.45,26.35 3.15,26.35 3.15,28.05 1.45,28.05\"/>\n<polygon class=\"l67d44\" id=\"0x56163150b1e0\" points=\"1.45,-0.85 3.15,-0.85 3.15,0.85 1.45,0.85\"/>\n<polygon class=\"l67d44\" id=\"0x56163150b250\" points=\"6.05,26.35 7.75,26.35 7.75,28.05 6.05,28.05\"/>\n<polygon class=\"l67d44\" id=\"0x56163150b2c0\" points=\"6.05,-0.85 7.75,-0.85 7.75,0.85 6.05,0.85\"/>\n<polygon class=\"l67d44\" id=\"0x56163150b330\" points=\"10.65,26.35 12.35,26.35 12.35,28.05 10.65,28.05\"/>\n<polygon class=\"l81d4\" id=\"0x56163150b3a0\" points=\"0,0 13.8,0 13.8,27.2 0,27.2\"/>\n<polygon class=\"l94d20\" id=\"0x56163150b410\" points=\"0,13.55 13.8,13.55 13.8,29.1 0,29.1\"/>\n<polygon class=\"l64d20\" id=\"0x56163150b480\" points=\"-1.9,13.05 15.7,13.05 15.7,29.1 -1.9,29.1\"/>\n<polygon class=\"l93d44\" id=\"0x56163150b4f0\" points=\"0,-1.9 13.8,-1.9 13.8,10.15 0,10.15\"/>\n<polygon class=\"l78d44\" id=\"0x56163150b560\" points=\"0,12.5 13.8,12.5 13.8,27.2 0,27.2\"/>\n<polygon class=\"l95d20\" id=\"0x56163150b5d0\" points=\"0,9.75 13.8,9.75 13.8,13.45 0,13.45\"/>\n<polygon class=\"l68d20\" id=\"0x5616315329a0\" points=\"0,29.6 0,24.8 13.8,24.8 13.8,29.6\"/>\n<polygon class=\"l68d20\" id=\"0x5616315329a0\" points=\"0,2.4 0,-2.4 13.8,-2.4 13.8,2.4\"/>\n<text class=\"l67t5\" dominant-baseline=\"central\" id=\"0x5616315054d0\" text-anchor=\"middle\" transform=\"translate(2.3 11.9) scale(0.17) scale(1 -1)\">A</text>\n<text class=\"l67t5\" dominant-baseline=\"central\" id=\"0x561631505560\" text-anchor=\"middle\" transform=\"translate(6.9 8.5) scale(0.17) scale(1 -1)\">Y</text>\n<text class=\"l67t5\" dominant-baseline=\"central\" id=\"0x5616315055f0\" text-anchor=\"middle\" transform=\"translate(6.9 15.3) scale(0.17) scale(1 -1)\">Y</text>\n<text class=\"l67t5\" dominant-baseline=\"central\" id=\"0x561631505680\" text-anchor=\"middle\" transform=\"translate(6.9 11.9) scale(0.17) scale(1 -1)\">Y</text>\n<text class=\"l64t5\" dominant-baseline=\"central\" id=\"0x561631505710\" text-anchor=\"middle\" transform=\"translate(2.3 27.2) scale(0.1) scale(1 -1)\">VPB</text>\n<text class=\"l64t59\" dominant-baseline=\"central\" id=\"0x5616315057a0\" text-anchor=\"middle\" transform=\"translate(2.3 0) scale(0.1) scale(1 -1)\">VNB</text>\n<text class=\"l68t5\" dominant-baseline=\"central\" id=\"0x561631505830\" text-anchor=\"middle\" transform=\"translate(2.3 27.2) scale(0.1) scale(1 -1)\">VPWR</text>\n<text class=\"l68t5\" dominant-baseline=\"central\" id=\"0x5616315058c0\" text-anchor=\"middle\" transform=\"translate(2.3 0) scale(0.1) scale(1 -1)\">VGND</text>\n<text class=\"l83t44\" dominant-baseline=\"text-before-edge\" id=\"0x561631505950\" text-anchor=\"start\" transform=\"translate(0 0) rotate(90) scale(0.1) scale(1 -1)\">inv_2</text>\n</g>\n<g id=\"sky130_fd_sc_hd__buf_2\">\n<polygon class=\"l236d0\" id=\"0x561631500380\" points=\"0,0 18.4,0 18.4,27.2 0,27.2\"/>\n<polygon class=\"l68d16\" id=\"0x5616315003f0\" points=\"1.45,26.35 3.15,26.35 3.15,28.05 1.45,28.05\"/>\n<polygon class=\"l68d16\" id=\"0x561631500460\" points=\"1.45,-0.85 3.15,-0.85 3.15,0.85 1.45,0.85\"/>\n<polygon class=\"l64d16\" id=\"0x5616315004d0\" points=\"1.45,26.35 3.15,26.35 3.15,28.05 1.45,28.05\"/>\n<polygon class=\"l122d16\" id=\"0x561631500540\" points=\"1.45,-0.85 3.15,-0.85 3.15,0.85 1.45,0.85\"/>\n<polygon class=\"l66d20\" id=\"0x5616315005b0\" points=\"14.4,26.15 12.9,26.15 12.9,13.25 10.2,13.25 10.2,26.15 8.7,26.15 8.7,13.25 7.55,13.25 7.55,9.95 8.7,9.95 8.7,1.05 10.2,1.05 10.2,9.95 12.9,9.95 12.9,1.05 14.4,1.05\"/>\n<polygon class=\"l66d20\" id=\"0x561631500620\" points=\"5.45,25.75 3.95,25.75 3.95,13.25 1.35,13.25 1.35,9.95 3.95,9.95 3.95,1.05 5.45,1.05\"/>\n<polygon class=\"l66d44\" id=\"0x561631500690\" points=\"6.4,2.95 8.1,2.95 8.1,4.65 6.4,4.65\"/>\n<polygon class=\"l66d44\" id=\"0x561631500700\" points=\"8.05,10.75 9.75,10.75 9.75,12.45 8.05,12.45\"/>\n<polygon class=\"l66d44\" id=\"0x561631500770\" points=\"10.7,21.35 12.4,21.35 12.4,23.05 10.7,23.05\"/>\n<polygon class=\"l66d44\" id=\"0x5616315007e0\" points=\"10.7,17.3 12.4,17.3 12.4,19 10.7,19\"/>\n<polygon class=\"l66d44\" id=\"0x561631500850\" points=\"6.4,18.75 8.1,18.75 8.1,20.45 6.4,20.45\"/>\n<polygon class=\"l66d44\" id=\"0x5616315008c0\" points=\"10.7,4.45 12.4,4.45 12.4,6.15 10.7,6.15\"/>\n<polygon class=\"l66d44\" id=\"0x561631500930\" points=\"14.9,19.15 16.6,19.15 16.6,20.85 14.9,20.85\"/>\n<polygon class=\"l66d44\" id=\"0x5616315009a0\" points=\"14.9,15.75 16.6,15.75 16.6,17.45 14.9,17.45\"/>\n<polygon class=\"l66d44\" id=\"0x561631500a10\" points=\"14.9,22.55 16.6,22.55 16.6,24.25 14.9,24.25\"/>\n<polygon class=\"l66d44\" id=\"0x561631500a80\" points=\"14.9,3.15 16.6,3.15 16.6,4.85 14.9,4.85\"/>\n<polygon class=\"l66d44\" id=\"0x561631500af0\" points=\"1.75,18.75 3.45,18.75 3.45,20.45 1.75,20.45\"/>\n<polygon class=\"l66d44\" id=\"0x561631500b60\" points=\"1.75,3.6 3.45,3.6 3.45,5.3 1.75,5.3\"/>\n<polygon class=\"l66d44\" id=\"0x561631500bd0\" points=\"1.85,10.75 3.55,10.75 3.55,12.45 1.85,12.45\"/>\n<polygon class=\"l66d44\" id=\"0x561631500c40\" points=\"6.4,22.15 8.1,22.15 8.1,23.85 6.4,23.85\"/>\n<polygon class=\"l66d44\" id=\"0x561631500cb0\" points=\"1.75,22.15 3.45,22.15 3.45,23.85 1.75,23.85\"/>\n<polygon class=\"l66d44\" id=\"0x561631500d20\" points=\"14.9,6.55 16.6,6.55 16.6,8.25 14.9,8.25\"/>\n<polygon class=\"l67d20\" id=\"0x561631500d90\" points=\"0.85,9.85 4.4,9.85 4.4,13.55 0.85,13.55\"/>\n<polygon class=\"l67d20\" id=\"0x561631500e00\" points=\"9.75,13.25 8.9,13.25 8.9,17.05 3.45,17.05 3.45,24.65 1.75,24.65 1.75,15.35 7.2,15.35 7.2,8.05 1.75,8.05 1.75,2.55 3.45,2.55 3.45,6.35 8.9,6.35 8.9,9.95 9.75,9.95\"/>\n<polygon class=\"l67d20\" id=\"0x561631500e70\" points=\"13.15,24.65 10.6,24.65 10.6,15.6 11.45,15.6 11.45,8.3 10.6,8.3 10.6,2.55 13.15,2.55\"/>\n<polygon class=\"l67d20\" id=\"0x561631500ee0\" points=\"18.4,28.05 0,28.05 0,26.35 5.6,26.35 5.6,18.75 8.9,18.75 8.9,26.35 14.9,26.35 14.9,14.85 17.5,14.85 17.5,26.35 18.4,26.35\"/>\n<polygon class=\"l67d20\" id=\"0x561631500f50\" points=\"18.4,0.85 17.5,0.85 17.5,9.25 14.9,9.25 14.9,0.85 8.9,0.85 8.9,4.65 5.6,4.65 5.6,0.85 0,0.85 0,-0.85 18.4,-0.85\"/>\n<polygon class=\"l95d20\" id=\"0x561631500fc0\" points=\"0,9.75 18.4,9.75 18.4,13.45 0,13.45\"/>\n<polygon class=\"l67d16\" id=\"0x561631501030\" points=\"10.6,4.25 12.3,4.25 12.3,5.95 10.6,5.95\"/>\n<polygon class=\"l67d16\" id=\"0x5616315010a0\" points=\"1.45,11.05 3.15,11.05 3.15,12.75 1.45,12.75\"/>\n<polygon class=\"l67d16\" id=\"0x561631501110\" points=\"10.6,17.85 12.3,17.85 12.3,19.55 10.6,19.55\"/>\n<polygon class=\"l67d16\" id=\"0x561631501180\" points=\"10.6,21.25 12.3,21.25 12.3,22.95 10.6,22.95\"/>\n<polygon class=\"l67d16\" id=\"0x5616315011f0\" points=\"1.45,26.35 3.15,26.35 3.15,28.05 1.45,28.05\"/>\n<polygon class=\"l67d16\" id=\"0x561631501260\" points=\"1.45,-0.85 3.15,-0.85 3.15,0.85 1.45,0.85\"/>\n<polygon class=\"l65d20\" id=\"0x5616315012d0\" points=\"17.05,24.85 6.2,24.85 6.2,24.45 1.35,24.45 1.35,18.05 6.2,18.05 6.2,14.85 17.05,14.85\"/>\n<polygon class=\"l65d20\" id=\"0x561631501340\" points=\"17.05,8.85 6.2,8.85 6.2,6.55 1.35,6.55 1.35,2.35 17.05,2.35\"/>\n<polygon class=\"l67d44\" id=\"0x561631501420\" points=\"15.25,-0.85 16.95,-0.85 16.95,0.85 15.25,0.85\"/>\n<polygon class=\"l67d44\" id=\"0x561631501490\" points=\"15.25,26.35 16.95,26.35 16.95,28.05 15.25,28.05\"/>\n<polygon class=\"l67d44\" id=\"0x561631501500\" points=\"10.65,-0.85 12.35,-0.85 12.35,0.85 10.65,0.85\"/>\n<polygon class=\"l67d44\" id=\"0x561631501570\" points=\"10.65,26.35 12.35,26.35 12.35,28.05 10.65,28.05\"/>\n<polygon class=\"l67d44\" id=\"0x5616315015e0\" points=\"6.05,-0.85 7.75,-0.85 7.75,0.85 6.05,0.85\"/>\n<polygon class=\"l67d44\" id=\"0x561631501650\" points=\"6.05,26.35 7.75,26.35 7.75,28.05 6.05,28.05\"/>\n<polygon class=\"l67d44\" id=\"0x5616315016c0\" points=\"1.45,-0.85 3.15,-0.85 3.15,0.85 1.45,0.85\"/>\n<polygon class=\"l67d44\" id=\"0x561631501730\" points=\"1.45,26.35 3.15,26.35 3.15,28.05 1.45,28.05\"/>\n<polygon class=\"l94d20\" id=\"0x5616315017a0\" points=\"0,13.55 18.4,13.55 18.4,29.1 0,29.1\"/>\n<polygon class=\"l64d20\" id=\"0x561631501810\" points=\"-1.9,13.05 20.3,13.05 20.3,29.1 -1.9,29.1\"/>\n<polygon class=\"l93d44\" id=\"0x561631501880\" points=\"0,-1.9 18.4,-1.9 18.4,10.15 0,10.15\"/>\n<polygon class=\"l78d44\" id=\"0x5616315018f0\" points=\"0,12.5 18.4,12.5 18.4,27.2 0,27.2\"/>\n<polygon class=\"l81d4\" id=\"0x561631501960\" points=\"0,0 18.4,0 18.4,27.2 0,27.2\"/>\n<polygon class=\"l68d20\" id=\"0x5616315329a0\" points=\"0,2.4 0,-2.4 18.4,-2.4 18.4,2.4\"/>\n<polygon class=\"l68d20\" id=\"0x5616315329a0\" points=\"0,29.6 0,24.8 18.4,24.8 18.4,29.6\"/>\n<text class=\"l68t5\" dominant-baseline=\"central\" id=\"0x56162f653720\" text-anchor=\"middle\" transform=\"translate(2.3 27.2) scale(0.1) scale(1 -1)\">VPWR</text>\n<text class=\"l68t5\" dominant-baseline=\"central\" id=\"0x56162f6537b0\" text-anchor=\"middle\" transform=\"translate(2.3 0) scale(0.1) scale(1 -1)\">VGND</text>\n<text class=\"l67t5\" dominant-baseline=\"central\" id=\"0x56162f653840\" text-anchor=\"middle\" transform=\"translate(2.3 27.2) scale(0.1) scale(1 -1)\">VPWR</text>\n<text class=\"l67t5\" dominant-baseline=\"central\" id=\"0x56162f6538d0\" text-anchor=\"middle\" transform=\"translate(2.3 0) scale(0.1) scale(1 -1)\">VGND</text>\n<text class=\"l67t5\" dominant-baseline=\"central\" id=\"0x56162f653960\" text-anchor=\"middle\" transform=\"translate(11.45 5.1) scale(0.1) scale(1 -1)\">X</text>\n<text class=\"l67t5\" dominant-baseline=\"central\" id=\"0x56162f6539f0\" text-anchor=\"middle\" transform=\"translate(11.45 18.7) scale(0.1) scale(1 -1)\">X</text>\n<text class=\"l67t5\" dominant-baseline=\"central\" id=\"0x56162f653a80\" text-anchor=\"middle\" transform=\"translate(11.45 22.1) scale(0.1) scale(1 -1)\">X</text>\n<text class=\"l67t5\" dominant-baseline=\"central\" id=\"0x56162f653b10\" text-anchor=\"middle\" transform=\"translate(2.3 11.9) scale(0.1) scale(1 -1)\">A</text>\n<text class=\"l64t5\" dominant-baseline=\"central\" id=\"0x56162f653ba0\" text-anchor=\"middle\" transform=\"translate(2.3 27.2) scale(0.1) scale(1 -1)\">VPB</text>\n<text class=\"l64t59\" dominant-baseline=\"central\" id=\"0x56162f653c30\" text-anchor=\"middle\" transform=\"translate(2.3 0) scale(0.1) scale(1 -1)\">VNB</text>\n<text class=\"l83t44\" dominant-baseline=\"text-before-edge\" id=\"0x56162f653cc0\" text-anchor=\"start\" transform=\"translate(0 0) rotate(90) scale(0.1) scale(1 -1)\">buf_2</text>\n</g>\n<g id=\"sky130_fd_sc_hd__fill_1\">\n<polygon class=\"l64d16\" id=\"0x561631502e60\" points=\"1.55,26.7 2.55,26.7 2.55,27.55 1.55,27.55\"/>\n<polygon class=\"l122d16\" id=\"0x561631502ed0\" points=\"1.4,-0.55 2.6,-0.55 2.6,0.55 1.4,0.55\"/>\n<polygon class=\"l68d16\" id=\"0x561631502f40\" points=\"1.1,26.35 2.9,26.35 2.9,27.85 1.1,27.85\"/>\n<polygon class=\"l68d16\" id=\"0x561631502fb0\" points=\"1.1,-0.65 2.9,-0.65 2.9,0.8 1.1,0.8\"/>\n<polygon class=\"l81d4\" id=\"0x561631503020\" points=\"0,0 4.6,0 4.6,27.2 0,27.2\"/>\n<polygon class=\"l78d44\" id=\"0x561631503090\" points=\"0,12.5 4.6,12.5 4.6,27.2 0,27.2\"/>\n<polygon class=\"l93d44\" id=\"0x561631503100\" points=\"0,-1.9 4.6,-1.9 4.6,10.15 0,10.15\"/>\n<polygon class=\"l64d20\" id=\"0x561631503170\" points=\"-1.9,13.05 6.5,13.05 6.5,29.1 -1.9,29.1\"/>\n<polygon class=\"l94d20\" id=\"0x5616315031e0\" points=\"0,13.55 4.6,13.55 4.6,29.1 0,29.1\"/>\n<polygon class=\"l67d44\" id=\"0x561631503250\" points=\"1.45,26.35 3.15,26.35 3.15,28.05 1.45,28.05\"/>\n<polygon class=\"l67d44\" id=\"0x5616315032c0\" points=\"1.45,-0.85 3.15,-0.85 3.15,0.85 1.45,0.85\"/>\n<polygon class=\"l67d20\" id=\"0x5616315329a0\" points=\"0,0.85 0,-0.85 4.6,-0.85 4.6,0.85\"/>\n<polygon class=\"l67d20\" id=\"0x5616315329a0\" points=\"0,28.05 0,26.35 4.6,26.35 4.6,28.05\"/>\n<polygon class=\"l68d20\" id=\"0x5616315329a0\" points=\"0,29.6 0,24.8 4.6,24.8 4.6,29.6\"/>\n<polygon class=\"l68d20\" id=\"0x5616315329a0\" points=\"0,2.4 0,-2.4 4.6,-2.4 4.6,2.4\"/>\n<text class=\"l68t5\" dominant-baseline=\"central\" id=\"0x561631504240\" text-anchor=\"middle\" transform=\"translate(2.05 27.2) scale(0.125) scale(1 -1)\">VPWR</text>\n<text class=\"l68t5\" dominant-baseline=\"central\" id=\"0x5616315042d0\" text-anchor=\"middle\" transform=\"translate(2.05 0) scale(0.125) scale(1 -1)\">VGND</text>\n<text class=\"l64t5\" dominant-baseline=\"central\" id=\"0x561631504360\" text-anchor=\"middle\" transform=\"translate(2.3 27.2) scale(0.1) scale(1 -1)\">VPB</text>\n<text class=\"l64t59\" dominant-baseline=\"central\" id=\"0x5616315043f0\" text-anchor=\"middle\" transform=\"translate(2.3 0) scale(0.1) scale(1 -1)\">VNB</text>\n<text class=\"l83t44\" dominant-baseline=\"text-before-edge\" id=\"0x561631504480\" text-anchor=\"start\" transform=\"translate(0 0) rotate(90) scale(0.1) scale(1 -1)\">fill_1</text>\n</g>\n</defs>\n<rect fill=\"#222222\" height=\"603.735\" stroke=\"none\" width=\"396.535\" x=\"-27.4425\" y=\"-576.2925\"/>\n<g id=\"inverter\" transform=\"scale(1 -1)\">\n<polygon class=\"l235d4\" id=\"0x561631510850\" points=\"0,0 341.65,0 341.65,548.85 0,548.85\"/>\n<polygon class=\"l67d20\" id=\"0x5616315108c0\" points=\"249.85,422.45 251.55,422.45 251.55,424.15 249.85,424.15\"/>\n<polygon class=\"l67d20\" id=\"0x561631510930\" points=\"240.65,415.65 242.35,415.65 242.35,417.35 240.65,417.35\"/>\n<polygon class=\"l67d20\" id=\"0x5616315109a0\" points=\"236.05,283.05 237.75,283.05 237.75,284.75 236.05,284.75\"/>\n<polygon class=\"l67d20\" id=\"0x561631510a10\" points=\"240.65,276.25 242.35,276.25 242.35,277.95 240.65,277.95\"/>\n<polygon class=\"l67d20\" id=\"0x561631510a80\" points=\"84.25,119.85 85.95,119.85 85.95,121.55 84.25,121.55\"/>\n<polygon class=\"l67d20\" id=\"0x561631510af0\" points=\"75.05,113.05 76.75,113.05 76.75,114.75 75.05,114.75\"/>\n<polygon class=\"l67d44\" id=\"0x561631510b60\" points=\"249.85,422.45 251.55,422.45 251.55,424.15 249.85,424.15\"/>\n<polygon class=\"l67d44\" id=\"0x561631510bd0\" points=\"240.65,415.65 242.35,415.65 242.35,417.35 240.65,417.35\"/>\n<polygon class=\"l67d44\" id=\"0x561631510c40\" points=\"236.05,283.05 237.75,283.05 237.75,284.75 236.05,284.75\"/>\n<polygon class=\"l67d44\" id=\"0x561631510cb0\" points=\"240.65,276.25 242.35,276.25 242.35,277.95 240.65,277.95\"/>\n<polygon class=\"l67d44\" id=\"0x561631510d20\" points=\"84.25,119.85 85.95,119.85 85.95,121.55 84.25,121.55\"/>\n<polygon class=\"l67d44\" id=\"0x561631510d90\" points=\"75.05,113.05 76.75,113.05 76.75,114.75 75.05,114.75\"/>\n<polygon class=\"l68d20\" id=\"0x561631510e00\" points=\"55.2,432.8 285.2,432.8 285.2,437.6 55.2,437.6\"/>\n<polygon class=\"l68d20\" id=\"0x561631510e70\" points=\"249.25,424 252.15,424 252.15,424.45 249.25,424.45\"/>\n<polygon class=\"l68d20\" id=\"0x561631510ee0\" points=\"322.7,424 325.9,424 325.9,424.6 322.7,424.6\"/>\n<polygon class=\"l68d20\" id=\"0x561631510f50\" points=\"249.25,422.6 325.9,422.6 325.9,424 249.25,424\"/>\n<polygon class=\"l68d20\" id=\"0x561631510fc0\" points=\"249.25,422.15 252.15,422.15 252.15,422.6 249.25,422.6\"/>\n<polygon class=\"l68d20\" id=\"0x561631511030\" points=\"322.7,422 325.9,422 325.9,422.6 322.7,422.6\"/>\n<polygon class=\"l68d20\" id=\"0x5616315110a0\" points=\"235.3,417.2 238.5,417.2 238.5,417.8 235.3,417.8\"/>\n<polygon class=\"l68d20\" id=\"0x561631511110\" points=\"240.05,417.2 242.95,417.2 242.95,417.65 240.05,417.65\"/>\n<polygon class=\"l68d20\" id=\"0x561631511180\" points=\"235.3,415.8 242.95,415.8 242.95,417.2 235.3,417.2\"/>\n<polygon class=\"l68d20\" id=\"0x5616315111f0\" points=\"235.3,415.2 238.5,415.2 238.5,415.8 235.3,415.8\"/>\n<polygon class=\"l68d20\" id=\"0x561631511260\" points=\"240.05,415.35 242.95,415.35 242.95,415.8 240.05,415.8\"/>\n<polygon class=\"l68d20\" id=\"0x5616315112d0\" points=\"55.2,405.6 285.2,405.6 285.2,410.4 55.2,410.4\"/>\n<polygon class=\"l68d20\" id=\"0x561631511340\" points=\"55.2,378.4 285.2,378.4 285.2,383.2 55.2,383.2\"/>\n<polygon class=\"l68d20\" id=\"0x5616315113b0\" points=\"55.2,351.2 285.2,351.2 285.2,356 55.2,356\"/>\n<polygon class=\"l68d20\" id=\"0x561631511420\" points=\"55.2,324 285.2,324 285.2,328.8 55.2,328.8\"/>\n<polygon class=\"l68d20\" id=\"0x561631511490\" points=\"55.2,296.8 285.2,296.8 285.2,301.6 55.2,301.6\"/>\n<polygon class=\"l68d20\" id=\"0x561631511500\" points=\"235.3,284.6 238.5,284.6 238.5,285.2 235.3,285.2\"/>\n<polygon class=\"l68d20\" id=\"0x561631511570\" points=\"233.35,283.2 238.5,283.2 238.5,284.6 233.35,284.6\"/>\n<polygon class=\"l68d20\" id=\"0x5616315115e0\" points=\"235.3,282.6 238.5,282.6 238.5,283.2 235.3,283.2\"/>\n<polygon class=\"l68d20\" id=\"0x561631511650\" points=\"221.5,277.8 224.7,277.8 224.7,278.4 221.5,278.4\"/>\n<polygon class=\"l68d20\" id=\"0x5616315116c0\" points=\"240.05,277.8 242.95,277.8 242.95,278.25 240.05,278.25\"/>\n<polygon class=\"l68d20\" id=\"0x561631511730\" points=\"221.5,276.4 242.95,276.4 242.95,277.8 221.5,277.8\"/>\n<polygon class=\"l68d20\" id=\"0x5616315117a0\" points=\"221.5,275.8 224.7,275.8 224.7,276.4 221.5,276.4\"/>\n<polygon class=\"l68d20\" id=\"0x561631511810\" points=\"240.05,275.95 242.95,275.95 242.95,276.4 240.05,276.4\"/>\n<polygon class=\"l68d20\" id=\"0x561631511880\" points=\"55.2,269.6 285.2,269.6 285.2,274.4 55.2,274.4\"/>\n<polygon class=\"l68d20\" id=\"0x5616315118f0\" points=\"55.2,242.4 285.2,242.4 285.2,247.2 55.2,247.2\"/>\n<polygon class=\"l68d20\" id=\"0x561631511960\" points=\"55.2,215.2 285.2,215.2 285.2,220 55.2,220\"/>\n<polygon class=\"l68d20\" id=\"0x5616315119d0\" points=\"55.2,188 285.2,188 285.2,192.8 55.2,192.8\"/>\n<polygon class=\"l68d20\" id=\"0x561631511a40\" points=\"55.2,160.8 285.2,160.8 285.2,165.6 55.2,165.6\"/>\n<polygon class=\"l68d20\" id=\"0x561631511ab0\" points=\"55.2,133.6 285.2,133.6 285.2,138.4 55.2,138.4\"/>\n<polygon class=\"l68d20\" id=\"0x561631511b20\" points=\"83.65,121.4 86.55,121.4 86.55,121.85 83.65,121.85\"/>\n<polygon class=\"l68d20\" id=\"0x561631511b90\" points=\"221.5,121.4 224.7,121.4 224.7,122 221.5,122\"/>\n<polygon class=\"l68d20\" id=\"0x561631511c00\" points=\"83.65,120 224.7,120 224.7,121.4 83.65,121.4\"/>\n<polygon class=\"l68d20\" id=\"0x561631511c70\" points=\"83.65,119.55 86.55,119.55 86.55,120 83.65,120\"/>\n<polygon class=\"l68d20\" id=\"0x561631511ce0\" points=\"221.5,119.4 224.7,119.4 224.7,120 221.5,120\"/>\n<polygon class=\"l68d20\" id=\"0x561631511d50\" points=\"0.7,114.6 3.9,114.6 3.9,115.2 0.7,115.2\"/>\n<polygon class=\"l68d20\" id=\"0x561631511dc0\" points=\"74.45,114.6 77.35,114.6 77.35,115.05 74.45,115.05\"/>\n<polygon class=\"l68d20\" id=\"0x561631511e30\" points=\"0.7,113.2 77.35,113.2 77.35,114.6 0.7,114.6\"/>\n<polygon class=\"l68d20\" id=\"0x561631511ea0\" points=\"0.7,112.6 3.9,112.6 3.9,113.2 0.7,113.2\"/>\n<polygon class=\"l68d20\" id=\"0x561631511f10\" points=\"74.45,112.75 77.35,112.75 77.35,113.2 74.45,113.2\"/>\n<polygon class=\"l68d20\" id=\"0x561631511f80\" points=\"55.2,106.4 285.2,106.4 285.2,111.2 55.2,111.2\"/>\n<polygon class=\"l68d44\" id=\"0x561631511ff0\" points=\"125.1,434.45 126.6,434.45 126.6,435.95 125.1,435.95\"/>\n<polygon class=\"l68d44\" id=\"0x561631512060\" points=\"128.3,434.45 129.8,434.45 129.8,435.95 128.3,435.95\"/>\n<polygon class=\"l68d44\" id=\"0x5616315120d0\" points=\"131.5,434.45 133,434.45 133,435.95 131.5,435.95\"/>\n<polygon class=\"l68d44\" id=\"0x561631512140\" points=\"134.7,434.45 136.2,434.45 136.2,435.95 134.7,435.95\"/>\n<polygon class=\"l68d44\" id=\"0x5616315121b0\" points=\"137.9,434.45 139.4,434.45 139.4,435.95 137.9,435.95\"/>\n<polygon class=\"l68d44\" id=\"0x561631512220\" points=\"202.2,434.45 203.7,434.45 203.7,435.95 202.2,435.95\"/>\n<polygon class=\"l68d44\" id=\"0x561631512290\" points=\"205.4,434.45 206.9,434.45 206.9,435.95 205.4,435.95\"/>\n<polygon class=\"l68d44\" id=\"0x561631512300\" points=\"208.6,434.45 210.1,434.45 210.1,435.95 208.6,435.95\"/>\n<polygon class=\"l68d44\" id=\"0x561631512370\" points=\"211.8,434.45 213.3,434.45 213.3,435.95 211.8,435.95\"/>\n<polygon class=\"l68d44\" id=\"0x5616315123e0\" points=\"215,434.45 216.5,434.45 216.5,435.95 215,435.95\"/>\n<polygon class=\"l68d44\" id=\"0x561631512450\" points=\"323.55,422.55 325.05,422.55 325.05,424.05 323.55,424.05\"/>\n<polygon class=\"l68d44\" id=\"0x5616315124c0\" points=\"236.15,415.75 237.65,415.75 237.65,417.25 236.15,417.25\"/>\n<polygon class=\"l68d44\" id=\"0x561631512530\" points=\"86.6,407.25 88.1,407.25 88.1,408.75 86.6,408.75\"/>\n<polygon class=\"l68d44\" id=\"0x5616315125a0\" points=\"89.8,407.25 91.3,407.25 91.3,408.75 89.8,408.75\"/>\n<polygon class=\"l68d44\" id=\"0x561631512610\" points=\"93,407.25 94.5,407.25 94.5,408.75 93,408.75\"/>\n<polygon class=\"l68d44\" id=\"0x561631512680\" points=\"96.2,407.25 97.7,407.25 97.7,408.75 96.2,408.75\"/>\n<polygon class=\"l68d44\" id=\"0x5616315126f0\" points=\"99.4,407.25 100.9,407.25 100.9,408.75 99.4,408.75\"/>\n<polygon class=\"l68d44\" id=\"0x561631512760\" points=\"163.65,407.25 165.15,407.25 165.15,408.75 163.65,408.75\"/>\n<polygon class=\"l68d44\" id=\"0x5616315127d0\" points=\"166.85,407.25 168.35,407.25 168.35,408.75 166.85,408.75\"/>\n<polygon class=\"l68d44\" id=\"0x561631512840\" points=\"170.05,407.25 171.55,407.25 171.55,408.75 170.05,408.75\"/>\n<polygon class=\"l68d44\" id=\"0x5616315128b0\" points=\"173.25,407.25 174.75,407.25 174.75,408.75 173.25,408.75\"/>\n<polygon class=\"l68d44\" id=\"0x561631512920\" points=\"176.45,407.25 177.95,407.25 177.95,408.75 176.45,408.75\"/>\n<polygon class=\"l68d44\" id=\"0x561631512990\" points=\"240.75,407.25 242.25,407.25 242.25,408.75 240.75,408.75\"/>\n<polygon class=\"l68d44\" id=\"0x561631512a00\" points=\"243.95,407.25 245.45,407.25 245.45,408.75 243.95,408.75\"/>\n<polygon class=\"l68d44\" id=\"0x561631512a70\" points=\"247.15,407.25 248.65,407.25 248.65,408.75 247.15,408.75\"/>\n<polygon class=\"l68d44\" id=\"0x561631512ae0\" points=\"250.35,407.25 251.85,407.25 251.85,408.75 250.35,408.75\"/>\n<polygon class=\"l68d44\" id=\"0x561631512b50\" points=\"253.55,407.25 255.05,407.25 255.05,408.75 253.55,408.75\"/>\n<polygon class=\"l68d44\" id=\"0x561631512bc0\" points=\"125.1,380.05 126.6,380.05 126.6,381.55 125.1,381.55\"/>\n<polygon class=\"l68d44\" id=\"0x561631512c30\" points=\"128.3,380.05 129.8,380.05 129.8,381.55 128.3,381.55\"/>\n<polygon class=\"l68d44\" id=\"0x561631512ca0\" points=\"131.5,380.05 133,380.05 133,381.55 131.5,381.55\"/>\n<polygon class=\"l68d44\" id=\"0x561631512d10\" points=\"134.7,380.05 136.2,380.05 136.2,381.55 134.7,381.55\"/>\n<polygon class=\"l68d44\" id=\"0x561631512d80\" points=\"137.9,380.05 139.4,380.05 139.4,381.55 137.9,381.55\"/>\n<polygon class=\"l68d44\" id=\"0x561631512df0\" points=\"202.2,380.05 203.7,380.05 203.7,381.55 202.2,381.55\"/>\n<polygon class=\"l68d44\" id=\"0x561631512e60\" points=\"205.4,380.05 206.9,380.05 206.9,381.55 205.4,381.55\"/>\n<polygon class=\"l68d44\" id=\"0x561631512ed0\" points=\"208.6,380.05 210.1,380.05 210.1,381.55 208.6,381.55\"/>\n<polygon class=\"l68d44\" id=\"0x561631512f40\" points=\"211.8,380.05 213.3,380.05 213.3,381.55 211.8,381.55\"/>\n<polygon class=\"l68d44\" id=\"0x561631512fb0\" points=\"215,380.05 216.5,380.05 216.5,381.55 215,381.55\"/>\n<polygon class=\"l68d44\" id=\"0x561631513020\" points=\"86.6,352.85 88.1,352.85 88.1,354.35 86.6,354.35\"/>\n<polygon class=\"l68d44\" id=\"0x561631513090\" points=\"89.8,352.85 91.3,352.85 91.3,354.35 89.8,354.35\"/>\n<polygon class=\"l68d44\" id=\"0x561631513100\" points=\"93,352.85 94.5,352.85 94.5,354.35 93,354.35\"/>\n<polygon class=\"l68d44\" id=\"0x561631513170\" points=\"96.2,352.85 97.7,352.85 97.7,354.35 96.2,354.35\"/>\n<polygon class=\"l68d44\" id=\"0x5616315131e0\" points=\"99.4,352.85 100.9,352.85 100.9,354.35 99.4,354.35\"/>\n<polygon class=\"l68d44\" id=\"0x561631513250\" points=\"163.65,352.85 165.15,352.85 165.15,354.35 163.65,354.35\"/>\n<polygon class=\"l68d44\" id=\"0x5616315132c0\" points=\"166.85,352.85 168.35,352.85 168.35,354.35 166.85,354.35\"/>\n<polygon class=\"l68d44\" id=\"0x561631513330\" points=\"170.05,352.85 171.55,352.85 171.55,354.35 170.05,354.35\"/>\n<polygon class=\"l68d44\" id=\"0x5616315133a0\" points=\"173.25,352.85 174.75,352.85 174.75,354.35 173.25,354.35\"/>\n<polygon class=\"l68d44\" id=\"0x561631513410\" points=\"176.45,352.85 177.95,352.85 177.95,354.35 176.45,354.35\"/>\n<polygon class=\"l68d44\" id=\"0x561631513480\" points=\"240.75,352.85 242.25,352.85 242.25,354.35 240.75,354.35\"/>\n<polygon class=\"l68d44\" id=\"0x5616315134f0\" points=\"243.95,352.85 245.45,352.85 245.45,354.35 243.95,354.35\"/>\n<polygon class=\"l68d44\" id=\"0x561631513560\" points=\"247.15,352.85 248.65,352.85 248.65,354.35 247.15,354.35\"/>\n<polygon class=\"l68d44\" id=\"0x5616315135d0\" points=\"250.35,352.85 251.85,352.85 251.85,354.35 250.35,354.35\"/>\n<polygon class=\"l68d44\" id=\"0x561631513640\" points=\"253.55,352.85 255.05,352.85 255.05,354.35 253.55,354.35\"/>\n<polygon class=\"l68d44\" id=\"0x5616315136b0\" points=\"125.1,325.65 126.6,325.65 126.6,327.15 125.1,327.15\"/>\n<polygon class=\"l68d44\" id=\"0x561631513720\" points=\"128.3,325.65 129.8,325.65 129.8,327.15 128.3,327.15\"/>\n<polygon class=\"l68d44\" id=\"0x561631513790\" points=\"131.5,325.65 133,325.65 133,327.15 131.5,327.15\"/>\n<polygon class=\"l68d44\" id=\"0x561631513800\" points=\"134.7,325.65 136.2,325.65 136.2,327.15 134.7,327.15\"/>\n<polygon class=\"l68d44\" id=\"0x561631513870\" points=\"137.9,325.65 139.4,325.65 139.4,327.15 137.9,327.15\"/>\n<polygon class=\"l68d44\" id=\"0x5616315138e0\" points=\"202.2,325.65 203.7,325.65 203.7,327.15 202.2,327.15\"/>\n<polygon class=\"l68d44\" id=\"0x561631513950\" points=\"205.4,325.65 206.9,325.65 206.9,327.15 205.4,327.15\"/>\n<polygon class=\"l68d44\" id=\"0x5616315139c0\" points=\"208.6,325.65 210.1,325.65 210.1,327.15 208.6,327.15\"/>\n<polygon class=\"l68d44\" id=\"0x561631513a30\" points=\"211.8,325.65 213.3,325.65 213.3,327.15 211.8,327.15\"/>\n<polygon class=\"l68d44\" id=\"0x561631513aa0\" points=\"215,325.65 216.5,325.65 216.5,327.15 215,327.15\"/>\n<polygon class=\"l68d44\" id=\"0x561631513b10\" points=\"86.6,298.45 88.1,298.45 88.1,299.95 86.6,299.95\"/>\n<polygon class=\"l68d44\" id=\"0x561631513b80\" points=\"89.8,298.45 91.3,298.45 91.3,299.95 89.8,299.95\"/>\n<polygon class=\"l68d44\" id=\"0x561631513bf0\" points=\"93,298.45 94.5,298.45 94.5,299.95 93,299.95\"/>\n<polygon class=\"l68d44\" id=\"0x561631513c60\" points=\"96.2,298.45 97.7,298.45 97.7,299.95 96.2,299.95\"/>\n<polygon class=\"l68d44\" id=\"0x561631513cd0\" points=\"99.4,298.45 100.9,298.45 100.9,299.95 99.4,299.95\"/>\n<polygon class=\"l68d44\" id=\"0x561631513d40\" points=\"163.65,298.45 165.15,298.45 165.15,299.95 163.65,299.95\"/>\n<polygon class=\"l68d44\" id=\"0x561631513db0\" points=\"166.85,298.45 168.35,298.45 168.35,299.95 166.85,299.95\"/>\n<polygon class=\"l68d44\" id=\"0x561631513e20\" points=\"170.05,298.45 171.55,298.45 171.55,299.95 170.05,299.95\"/>\n<polygon class=\"l68d44\" id=\"0x561631513e90\" points=\"173.25,298.45 174.75,298.45 174.75,299.95 173.25,299.95\"/>\n<polygon class=\"l68d44\" id=\"0x561631513f00\" points=\"176.45,298.45 177.95,298.45 177.95,299.95 176.45,299.95\"/>\n<polygon class=\"l68d44\" id=\"0x561631513f70\" points=\"240.75,298.45 242.25,298.45 242.25,299.95 240.75,299.95\"/>\n<polygon class=\"l68d44\" id=\"0x56163151e000\" points=\"243.95,298.45 245.45,298.45 245.45,299.95 243.95,299.95\"/>\n<polygon class=\"l68d44\" id=\"0x56163151e070\" points=\"247.15,298.45 248.65,298.45 248.65,299.95 247.15,299.95\"/>\n<polygon class=\"l68d44\" id=\"0x56163151e0e0\" points=\"250.35,298.45 251.85,298.45 251.85,299.95 250.35,299.95\"/>\n<polygon class=\"l68d44\" id=\"0x56163151e150\" points=\"253.55,298.45 255.05,298.45 255.05,299.95 253.55,299.95\"/>\n<polygon class=\"l68d44\" id=\"0x56163151e1c0\" points=\"236.15,283.15 237.65,283.15 237.65,284.65 236.15,284.65\"/>\n<polygon class=\"l68d44\" id=\"0x56163151e230\" points=\"222.35,276.35 223.85,276.35 223.85,277.85 222.35,277.85\"/>\n<polygon class=\"l68d44\" id=\"0x56163151e2a0\" points=\"125.1,271.25 126.6,271.25 126.6,272.75 125.1,272.75\"/>\n<polygon class=\"l68d44\" id=\"0x56163151e310\" points=\"128.3,271.25 129.8,271.25 129.8,272.75 128.3,272.75\"/>\n<polygon class=\"l68d44\" id=\"0x56163151e380\" points=\"131.5,271.25 133,271.25 133,272.75 131.5,272.75\"/>\n<polygon class=\"l68d44\" id=\"0x56163151e3f0\" points=\"134.7,271.25 136.2,271.25 136.2,272.75 134.7,272.75\"/>\n<polygon class=\"l68d44\" id=\"0x56163151e460\" points=\"137.9,271.25 139.4,271.25 139.4,272.75 137.9,272.75\"/>\n<polygon class=\"l68d44\" id=\"0x56163151e4d0\" points=\"202.2,271.25 203.7,271.25 203.7,272.75 202.2,272.75\"/>\n<polygon class=\"l68d44\" id=\"0x56163151e540\" points=\"205.4,271.25 206.9,271.25 206.9,272.75 205.4,272.75\"/>\n<polygon class=\"l68d44\" id=\"0x56163151e5b0\" points=\"208.6,271.25 210.1,271.25 210.1,272.75 208.6,272.75\"/>\n<polygon class=\"l68d44\" id=\"0x56163151e620\" points=\"211.8,271.25 213.3,271.25 213.3,272.75 211.8,272.75\"/>\n<polygon class=\"l68d44\" id=\"0x56163151e690\" points=\"215,271.25 216.5,271.25 216.5,272.75 215,272.75\"/>\n<polygon class=\"l68d44\" id=\"0x56163151e700\" points=\"86.6,244.05 88.1,244.05 88.1,245.55 86.6,245.55\"/>\n<polygon class=\"l68d44\" id=\"0x56163151e770\" points=\"89.8,244.05 91.3,244.05 91.3,245.55 89.8,245.55\"/>\n<polygon class=\"l68d44\" id=\"0x56163151e7e0\" points=\"93,244.05 94.5,244.05 94.5,245.55 93,245.55\"/>\n<polygon class=\"l68d44\" id=\"0x56163151e850\" points=\"96.2,244.05 97.7,244.05 97.7,245.55 96.2,245.55\"/>\n<polygon class=\"l68d44\" id=\"0x56163151e8c0\" points=\"99.4,244.05 100.9,244.05 100.9,245.55 99.4,245.55\"/>\n<polygon class=\"l68d44\" id=\"0x56163151e930\" points=\"163.65,244.05 165.15,244.05 165.15,245.55 163.65,245.55\"/>\n<polygon class=\"l68d44\" id=\"0x56163151e9a0\" points=\"166.85,244.05 168.35,244.05 168.35,245.55 166.85,245.55\"/>\n<polygon class=\"l68d44\" id=\"0x56163151ea10\" points=\"170.05,244.05 171.55,244.05 171.55,245.55 170.05,245.55\"/>\n<polygon class=\"l68d44\" id=\"0x56163151ea80\" points=\"173.25,244.05 174.75,244.05 174.75,245.55 173.25,245.55\"/>\n<polygon class=\"l68d44\" id=\"0x56163151eaf0\" points=\"176.45,244.05 177.95,244.05 177.95,245.55 176.45,245.55\"/>\n<polygon class=\"l68d44\" id=\"0x56163151eb60\" points=\"240.75,244.05 242.25,244.05 242.25,245.55 240.75,245.55\"/>\n<polygon class=\"l68d44\" id=\"0x56163151ebd0\" points=\"243.95,244.05 245.45,244.05 245.45,245.55 243.95,245.55\"/>\n<polygon class=\"l68d44\" id=\"0x56163151ec40\" points=\"247.15,244.05 248.65,244.05 248.65,245.55 247.15,245.55\"/>\n<polygon class=\"l68d44\" id=\"0x56163151ecb0\" points=\"250.35,244.05 251.85,244.05 251.85,245.55 250.35,245.55\"/>\n<polygon class=\"l68d44\" id=\"0x56163151ed20\" points=\"253.55,244.05 255.05,244.05 255.05,245.55 253.55,245.55\"/>\n<polygon class=\"l68d44\" id=\"0x56163151ed90\" points=\"125.1,216.85 126.6,216.85 126.6,218.35 125.1,218.35\"/>\n<polygon class=\"l68d44\" id=\"0x56163151ee00\" points=\"128.3,216.85 129.8,216.85 129.8,218.35 128.3,218.35\"/>\n<polygon class=\"l68d44\" id=\"0x56163151ee70\" points=\"131.5,216.85 133,216.85 133,218.35 131.5,218.35\"/>\n<polygon class=\"l68d44\" id=\"0x56163151eee0\" points=\"134.7,216.85 136.2,216.85 136.2,218.35 134.7,218.35\"/>\n<polygon class=\"l68d44\" id=\"0x56163151ef50\" points=\"137.9,216.85 139.4,216.85 139.4,218.35 137.9,218.35\"/>\n<polygon class=\"l68d44\" id=\"0x56163151efc0\" points=\"202.2,216.85 203.7,216.85 203.7,218.35 202.2,218.35\"/>\n<polygon class=\"l68d44\" id=\"0x56163151f030\" points=\"205.4,216.85 206.9,216.85 206.9,218.35 205.4,218.35\"/>\n<polygon class=\"l68d44\" id=\"0x56163151f0a0\" points=\"208.6,216.85 210.1,216.85 210.1,218.35 208.6,218.35\"/>\n<polygon class=\"l68d44\" id=\"0x56163151f110\" points=\"211.8,216.85 213.3,216.85 213.3,218.35 211.8,218.35\"/>\n<polygon class=\"l68d44\" id=\"0x56163151f180\" points=\"215,216.85 216.5,216.85 216.5,218.35 215,218.35\"/>\n<polygon class=\"l68d44\" id=\"0x56163151f1f0\" points=\"86.6,189.65 88.1,189.65 88.1,191.15 86.6,191.15\"/>\n<polygon class=\"l68d44\" id=\"0x56163151f260\" points=\"89.8,189.65 91.3,189.65 91.3,191.15 89.8,191.15\"/>\n<polygon class=\"l68d44\" id=\"0x56163151f2d0\" points=\"93,189.65 94.5,189.65 94.5,191.15 93,191.15\"/>\n<polygon class=\"l68d44\" id=\"0x56163151f340\" points=\"96.2,189.65 97.7,189.65 97.7,191.15 96.2,191.15\"/>\n<polygon class=\"l68d44\" id=\"0x56163151f3b0\" points=\"99.4,189.65 100.9,189.65 100.9,191.15 99.4,191.15\"/>\n<polygon class=\"l68d44\" id=\"0x56163151f420\" points=\"163.65,189.65 165.15,189.65 165.15,191.15 163.65,191.15\"/>\n<polygon class=\"l68d44\" id=\"0x56163151f490\" points=\"166.85,189.65 168.35,189.65 168.35,191.15 166.85,191.15\"/>\n<polygon class=\"l68d44\" id=\"0x56163151f500\" points=\"170.05,189.65 171.55,189.65 171.55,191.15 170.05,191.15\"/>\n<polygon class=\"l68d44\" id=\"0x56163151f570\" points=\"173.25,189.65 174.75,189.65 174.75,191.15 173.25,191.15\"/>\n<polygon class=\"l68d44\" id=\"0x56163151f5e0\" points=\"176.45,189.65 177.95,189.65 177.95,191.15 176.45,191.15\"/>\n<polygon class=\"l68d44\" id=\"0x56163151f650\" points=\"240.75,189.65 242.25,189.65 242.25,191.15 240.75,191.15\"/>\n<polygon class=\"l68d44\" id=\"0x56163151f6c0\" points=\"243.95,189.65 245.45,189.65 245.45,191.15 243.95,191.15\"/>\n<polygon class=\"l68d44\" id=\"0x56163151f730\" points=\"247.15,189.65 248.65,189.65 248.65,191.15 247.15,191.15\"/>\n<polygon class=\"l68d44\" id=\"0x56163151f7a0\" points=\"250.35,189.65 251.85,189.65 251.85,191.15 250.35,191.15\"/>\n<polygon class=\"l68d44\" id=\"0x56163151f810\" points=\"253.55,189.65 255.05,189.65 255.05,191.15 253.55,191.15\"/>\n<polygon class=\"l68d44\" id=\"0x56163151f880\" points=\"125.1,162.45 126.6,162.45 126.6,163.95 125.1,163.95\"/>\n<polygon class=\"l68d44\" id=\"0x56163151f8f0\" points=\"128.3,162.45 129.8,162.45 129.8,163.95 128.3,163.95\"/>\n<polygon class=\"l68d44\" id=\"0x56163151f960\" points=\"131.5,162.45 133,162.45 133,163.95 131.5,163.95\"/>\n<polygon class=\"l68d44\" id=\"0x56163151f9d0\" points=\"134.7,162.45 136.2,162.45 136.2,163.95 134.7,163.95\"/>\n<polygon class=\"l68d44\" id=\"0x56163151fa40\" points=\"137.9,162.45 139.4,162.45 139.4,163.95 137.9,163.95\"/>\n<polygon class=\"l68d44\" id=\"0x56163151fab0\" points=\"202.2,162.45 203.7,162.45 203.7,163.95 202.2,163.95\"/>\n<polygon class=\"l68d44\" id=\"0x56163151fb20\" points=\"205.4,162.45 206.9,162.45 206.9,163.95 205.4,163.95\"/>\n<polygon class=\"l68d44\" id=\"0x56163151fb90\" points=\"208.6,162.45 210.1,162.45 210.1,163.95 208.6,163.95\"/>\n<polygon class=\"l68d44\" id=\"0x56163151fc00\" points=\"211.8,162.45 213.3,162.45 213.3,163.95 211.8,163.95\"/>\n<polygon class=\"l68d44\" id=\"0x56163151fc70\" points=\"215,162.45 216.5,162.45 216.5,163.95 215,163.95\"/>\n<polygon class=\"l68d44\" id=\"0x56163151fce0\" points=\"86.6,135.25 88.1,135.25 88.1,136.75 86.6,136.75\"/>\n<polygon class=\"l68d44\" id=\"0x56163151fd50\" points=\"89.8,135.25 91.3,135.25 91.3,136.75 89.8,136.75\"/>\n<polygon class=\"l68d44\" id=\"0x56163151fdc0\" points=\"93,135.25 94.5,135.25 94.5,136.75 93,136.75\"/>\n<polygon class=\"l68d44\" id=\"0x56163151fe30\" points=\"96.2,135.25 97.7,135.25 97.7,136.75 96.2,136.75\"/>\n<polygon class=\"l68d44\" id=\"0x56163151fea0\" points=\"99.4,135.25 100.9,135.25 100.9,136.75 99.4,136.75\"/>\n<polygon class=\"l68d44\" id=\"0x56163151ff10\" points=\"163.65,135.25 165.15,135.25 165.15,136.75 163.65,136.75\"/>\n<polygon class=\"l68d44\" id=\"0x56163151ff80\" points=\"166.85,135.25 168.35,135.25 168.35,136.75 166.85,136.75\"/>\n<polygon class=\"l68d44\" id=\"0x56163151fff0\" points=\"170.05,135.25 171.55,135.25 171.55,136.75 170.05,136.75\"/>\n<polygon class=\"l68d44\" id=\"0x561631520060\" points=\"173.25,135.25 174.75,135.25 174.75,136.75 173.25,136.75\"/>\n<polygon class=\"l68d44\" id=\"0x5616315200d0\" points=\"176.45,135.25 177.95,135.25 177.95,136.75 176.45,136.75\"/>\n<polygon class=\"l68d44\" id=\"0x561631520140\" points=\"240.75,135.25 242.25,135.25 242.25,136.75 240.75,136.75\"/>\n<polygon class=\"l68d44\" id=\"0x5616315201b0\" points=\"243.95,135.25 245.45,135.25 245.45,136.75 243.95,136.75\"/>\n<polygon class=\"l68d44\" id=\"0x561631520220\" points=\"247.15,135.25 248.65,135.25 248.65,136.75 247.15,136.75\"/>\n<polygon class=\"l68d44\" id=\"0x561631520290\" points=\"250.35,135.25 251.85,135.25 251.85,136.75 250.35,136.75\"/>\n<polygon class=\"l68d44\" id=\"0x561631520300\" points=\"253.55,135.25 255.05,135.25 255.05,136.75 253.55,136.75\"/>\n<polygon class=\"l68d44\" id=\"0x561631520370\" points=\"222.35,119.95 223.85,119.95 223.85,121.45 222.35,121.45\"/>\n<polygon class=\"l68d44\" id=\"0x5616315203e0\" points=\"1.55,113.15 3.05,113.15 3.05,114.65 1.55,114.65\"/>\n<polygon class=\"l68d44\" id=\"0x561631520450\" points=\"125.1,108.05 126.6,108.05 126.6,109.55 125.1,109.55\"/>\n<polygon class=\"l68d44\" id=\"0x5616315204c0\" points=\"128.3,108.05 129.8,108.05 129.8,109.55 128.3,109.55\"/>\n<polygon class=\"l68d44\" id=\"0x561631520530\" points=\"131.5,108.05 133,108.05 133,109.55 131.5,109.55\"/>\n<polygon class=\"l68d44\" id=\"0x5616315205a0\" points=\"134.7,108.05 136.2,108.05 136.2,109.55 134.7,109.55\"/>\n<polygon class=\"l68d44\" id=\"0x561631520610\" points=\"137.9,108.05 139.4,108.05 139.4,109.55 137.9,109.55\"/>\n<polygon class=\"l68d44\" id=\"0x561631520680\" points=\"202.2,108.05 203.7,108.05 203.7,109.55 202.2,109.55\"/>\n<polygon class=\"l68d44\" id=\"0x5616315206f0\" points=\"205.4,108.05 206.9,108.05 206.9,109.55 205.4,109.55\"/>\n<polygon class=\"l68d44\" id=\"0x561631520760\" points=\"208.6,108.05 210.1,108.05 210.1,109.55 208.6,109.55\"/>\n<polygon class=\"l68d44\" id=\"0x5616315207d0\" points=\"211.8,108.05 213.3,108.05 213.3,109.55 211.8,109.55\"/>\n<polygon class=\"l68d44\" id=\"0x561631520840\" points=\"215,108.05 216.5,108.05 216.5,109.55 215,109.55\"/>\n<polygon class=\"l69d20\" id=\"0x5616315208b0\" points=\"322.9,508.85 325.7,508.85 325.7,548.85 322.9,548.85\"/>\n<polygon class=\"l69d20\" id=\"0x561631520920\" points=\"124.55,432.8 139.95,432.8 139.95,437.6 124.55,437.6\"/>\n<polygon class=\"l69d20\" id=\"0x561631520990\" points=\"201.65,432.8 217.05,432.8 217.05,437.6 201.65,437.6\"/>\n<polygon class=\"l69d20\" id=\"0x561631520a00\" points=\"323.6,424.9 325,424.9 325,508.85 323.6,508.85\"/>\n<polygon class=\"l69d20\" id=\"0x561631520a70\" points=\"323,421.7 325.6,421.7 325.6,424.9 323,424.9\"/>\n<polygon class=\"l69d20\" id=\"0x561631520ae0\" points=\"235.6,414.9 238.2,414.9 238.2,418.1 235.6,418.1\"/>\n<polygon class=\"l69d20\" id=\"0x561631520b50\" points=\"86.05,405.6 101.45,405.6 101.45,410.4 86.05,410.4\"/>\n<polygon class=\"l69d20\" id=\"0x561631520bc0\" points=\"163.1,405.6 178.5,405.6 178.5,410.4 163.1,410.4\"/>\n<polygon class=\"l69d20\" id=\"0x561631520c30\" points=\"124.55,378.4 139.95,378.4 139.95,383.2 124.55,383.2\"/>\n<polygon class=\"l69d20\" id=\"0x561631520ca0\" points=\"201.65,378.4 217.05,378.4 217.05,383.2 201.65,383.2\"/>\n<polygon class=\"l69d20\" id=\"0x561631520d10\" points=\"86.05,351.2 101.45,351.2 101.45,356 86.05,356\"/>\n<polygon class=\"l69d20\" id=\"0x561631520d80\" points=\"163.1,351.2 178.5,351.2 178.5,356 163.1,356\"/>\n<polygon class=\"l69d20\" id=\"0x561631520df0\" points=\"124.55,324 139.95,324 139.95,328.8 124.55,328.8\"/>\n<polygon class=\"l69d20\" id=\"0x561631520e60\" points=\"201.65,324 217.05,324 217.05,328.8 201.65,328.8\"/>\n<polygon class=\"l69d20\" id=\"0x561631520ed0\" points=\"86.05,296.8 101.45,296.8 101.45,301.6 86.05,301.6\"/>\n<polygon class=\"l69d20\" id=\"0x561631520f40\" points=\"163.1,296.8 178.5,296.8 178.5,301.6 163.1,301.6\"/>\n<polygon class=\"l69d20\" id=\"0x561631520fb0\" points=\"236.2,285.5 237.6,285.5 237.6,414.9 236.2,414.9\"/>\n<polygon class=\"l69d20\" id=\"0x561631521020\" points=\"240.2,405.6 255.6,405.6 255.6,410.4 240.2,410.4\"/>\n<polygon class=\"l69d20\" id=\"0x561631521090\" points=\"240.2,351.2 255.6,351.2 255.6,356 240.2,356\"/>\n<polygon class=\"l69d20\" id=\"0x561631521100\" points=\"240.2,296.8 255.6,296.8 255.6,301.6 240.2,301.6\"/>\n<polygon class=\"l69d20\" id=\"0x561631521170\" points=\"235.6,282.3 238.2,282.3 238.2,285.5 235.6,285.5\"/>\n<polygon class=\"l69d20\" id=\"0x5616315211e0\" points=\"221.8,275.5 224.4,275.5 224.4,278.7 221.8,278.7\"/>\n<polygon class=\"l69d20\" id=\"0x561631521250\" points=\"124.55,269.6 139.95,269.6 139.95,274.4 124.55,274.4\"/>\n<polygon class=\"l69d20\" id=\"0x5616315212c0\" points=\"201.65,269.6 217.05,269.6 217.05,274.4 201.65,274.4\"/>\n<polygon class=\"l69d20\" id=\"0x561631521330\" points=\"86.05,242.4 101.45,242.4 101.45,247.2 86.05,247.2\"/>\n<polygon class=\"l69d20\" id=\"0x5616315213a0\" points=\"163.1,242.4 178.5,242.4 178.5,247.2 163.1,247.2\"/>\n<polygon class=\"l69d20\" id=\"0x561631521410\" points=\"124.55,215.2 139.95,215.2 139.95,220 124.55,220\"/>\n<polygon class=\"l69d20\" id=\"0x561631521480\" points=\"201.65,215.2 217.05,215.2 217.05,220 201.65,220\"/>\n<polygon class=\"l69d20\" id=\"0x5616315214f0\" points=\"86.05,188 101.45,188 101.45,192.8 86.05,192.8\"/>\n<polygon class=\"l69d20\" id=\"0x561631521560\" points=\"163.1,188 178.5,188 178.5,192.8 163.1,192.8\"/>\n<polygon class=\"l69d20\" id=\"0x5616315215d0\" points=\"124.55,160.8 139.95,160.8 139.95,165.6 124.55,165.6\"/>\n<polygon class=\"l69d20\" id=\"0x561631521640\" points=\"201.65,160.8 217.05,160.8 217.05,165.6 201.65,165.6\"/>\n<polygon class=\"l69d20\" id=\"0x5616315216b0\" points=\"86.05,133.6 101.45,133.6 101.45,138.4 86.05,138.4\"/>\n<polygon class=\"l69d20\" id=\"0x561631521720\" points=\"163.1,133.6 178.5,133.6 178.5,138.4 163.1,138.4\"/>\n<polygon class=\"l69d20\" id=\"0x561631521790\" points=\"222.4,122.3 223.8,122.3 223.8,275.5 222.4,275.5\"/>\n<polygon class=\"l69d20\" id=\"0x561631521800\" points=\"240.2,242.4 255.6,242.4 255.6,247.2 240.2,247.2\"/>\n<polygon class=\"l69d20\" id=\"0x561631521870\" points=\"240.2,188 255.6,188 255.6,192.8 240.2,192.8\"/>\n<polygon class=\"l69d20\" id=\"0x5616315218e0\" points=\"240.2,133.6 255.6,133.6 255.6,138.4 240.2,138.4\"/>\n<polygon class=\"l69d20\" id=\"0x561631521950\" points=\"221.8,119.1 224.4,119.1 224.4,122.3 221.8,122.3\"/>\n<polygon class=\"l69d20\" id=\"0x5616315219c0\" points=\"1,112.3 3.6,112.3 3.6,115.5 1,115.5\"/>\n<polygon class=\"l69d20\" id=\"0x561631521a30\" points=\"1.6,40 3,40 3,112.3 1.6,112.3\"/>\n<polygon class=\"l69d20\" id=\"0x561631521aa0\" points=\"124.55,106.4 139.95,106.4 139.95,111.2 124.55,111.2\"/>\n<polygon class=\"l69d20\" id=\"0x561631521b10\" points=\"201.65,106.4 217.05,106.4 217.05,111.2 201.65,111.2\"/>\n<polygon class=\"l69d20\" id=\"0x561631521b80\" points=\"0.9,0 3.7,0 3.7,40 0.9,40\"/>\n<polygon class=\"l69d44\" id=\"0x561631521bf0\" points=\"125.25,434.2 127.25,434.2 127.25,436.2 125.25,436.2\"/>\n<polygon class=\"l69d44\" id=\"0x561631521c60\" points=\"129.25,434.2 131.25,434.2 131.25,436.2 129.25,436.2\"/>\n<polygon class=\"l69d44\" id=\"0x561631521cd0\" points=\"133.25,434.2 135.25,434.2 135.25,436.2 133.25,436.2\"/>\n<polygon class=\"l69d44\" id=\"0x561631521d40\" points=\"137.25,434.2 139.25,434.2 139.25,436.2 137.25,436.2\"/>\n<polygon class=\"l69d44\" id=\"0x561631521db0\" points=\"202.35,434.2 204.35,434.2 204.35,436.2 202.35,436.2\"/>\n<polygon class=\"l69d44\" id=\"0x561631521e20\" points=\"206.35,434.2 208.35,434.2 208.35,436.2 206.35,436.2\"/>\n<polygon class=\"l69d44\" id=\"0x561631521e90\" points=\"210.35,434.2 212.35,434.2 212.35,436.2 210.35,436.2\"/>\n<polygon class=\"l69d44\" id=\"0x561631521f00\" points=\"214.35,434.2 216.35,434.2 216.35,436.2 214.35,436.2\"/>\n<polygon class=\"l69d44\" id=\"0x561631521f70\" points=\"86.75,407 88.75,407 88.75,409 86.75,409\"/>\n<polygon class=\"l69d44\" id=\"0x561631522000\" points=\"90.75,407 92.75,407 92.75,409 90.75,409\"/>\n<polygon class=\"l69d44\" id=\"0x561631522070\" points=\"94.75,407 96.75,407 96.75,409 94.75,409\"/>\n<polygon class=\"l69d44\" id=\"0x5616315220e0\" points=\"98.75,407 100.75,407 100.75,409 98.75,409\"/>\n<polygon class=\"l69d44\" id=\"0x561631522150\" points=\"163.8,407 165.8,407 165.8,409 163.8,409\"/>\n<polygon class=\"l69d44\" id=\"0x5616315221c0\" points=\"167.8,407 169.8,407 169.8,409 167.8,409\"/>\n<polygon class=\"l69d44\" id=\"0x561631522230\" points=\"171.8,407 173.8,407 173.8,409 171.8,409\"/>\n<polygon class=\"l69d44\" id=\"0x5616315222a0\" points=\"175.8,407 177.8,407 177.8,409 175.8,409\"/>\n<polygon class=\"l69d44\" id=\"0x561631522310\" points=\"240.9,407 242.9,407 242.9,409 240.9,409\"/>\n<polygon class=\"l69d44\" id=\"0x561631522380\" points=\"244.9,407 246.9,407 246.9,409 244.9,409\"/>\n<polygon class=\"l69d44\" id=\"0x5616315223f0\" points=\"248.9,407 250.9,407 250.9,409 248.9,409\"/>\n<polygon class=\"l69d44\" id=\"0x561631522460\" points=\"252.9,407 254.9,407 254.9,409 252.9,409\"/>\n<polygon class=\"l69d44\" id=\"0x5616315224d0\" points=\"125.25,379.8 127.25,379.8 127.25,381.8 125.25,381.8\"/>\n<polygon class=\"l69d44\" id=\"0x561631522540\" points=\"129.25,379.8 131.25,379.8 131.25,381.8 129.25,381.8\"/>\n<polygon class=\"l69d44\" id=\"0x5616315225b0\" points=\"133.25,379.8 135.25,379.8 135.25,381.8 133.25,381.8\"/>\n<polygon class=\"l69d44\" id=\"0x561631522620\" points=\"137.25,379.8 139.25,379.8 139.25,381.8 137.25,381.8\"/>\n<polygon class=\"l69d44\" id=\"0x561631522690\" points=\"202.35,379.8 204.35,379.8 204.35,381.8 202.35,381.8\"/>\n<polygon class=\"l69d44\" id=\"0x561631522700\" points=\"206.35,379.8 208.35,379.8 208.35,381.8 206.35,381.8\"/>\n<polygon class=\"l69d44\" id=\"0x561631522770\" points=\"210.35,379.8 212.35,379.8 212.35,381.8 210.35,381.8\"/>\n<polygon class=\"l69d44\" id=\"0x5616315227e0\" points=\"214.35,379.8 216.35,379.8 216.35,381.8 214.35,381.8\"/>\n<polygon class=\"l69d44\" id=\"0x561631522850\" points=\"86.75,352.6 88.75,352.6 88.75,354.6 86.75,354.6\"/>\n<polygon class=\"l69d44\" id=\"0x5616315228c0\" points=\"90.75,352.6 92.75,352.6 92.75,354.6 90.75,354.6\"/>\n<polygon class=\"l69d44\" id=\"0x561631522930\" points=\"94.75,352.6 96.75,352.6 96.75,354.6 94.75,354.6\"/>\n<polygon class=\"l69d44\" id=\"0x5616315229a0\" points=\"98.75,352.6 100.75,352.6 100.75,354.6 98.75,354.6\"/>\n<polygon class=\"l69d44\" id=\"0x561631522a10\" points=\"163.8,352.6 165.8,352.6 165.8,354.6 163.8,354.6\"/>\n<polygon class=\"l69d44\" id=\"0x561631522a80\" points=\"167.8,352.6 169.8,352.6 169.8,354.6 167.8,354.6\"/>\n<polygon class=\"l69d44\" id=\"0x561631522af0\" points=\"171.8,352.6 173.8,352.6 173.8,354.6 171.8,354.6\"/>\n<polygon class=\"l69d44\" id=\"0x561631522b60\" points=\"175.8,352.6 177.8,352.6 177.8,354.6 175.8,354.6\"/>\n<polygon class=\"l69d44\" id=\"0x561631522bd0\" points=\"240.9,352.6 242.9,352.6 242.9,354.6 240.9,354.6\"/>\n<polygon class=\"l69d44\" id=\"0x561631522c40\" points=\"244.9,352.6 246.9,352.6 246.9,354.6 244.9,354.6\"/>\n<polygon class=\"l69d44\" id=\"0x561631522cb0\" points=\"248.9,352.6 250.9,352.6 250.9,354.6 248.9,354.6\"/>\n<polygon class=\"l69d44\" id=\"0x561631522d20\" points=\"252.9,352.6 254.9,352.6 254.9,354.6 252.9,354.6\"/>\n<polygon class=\"l69d44\" id=\"0x561631522d90\" points=\"125.25,325.4 127.25,325.4 127.25,327.4 125.25,327.4\"/>\n<polygon class=\"l69d44\" id=\"0x561631522e00\" points=\"129.25,325.4 131.25,325.4 131.25,327.4 129.25,327.4\"/>\n<polygon class=\"l69d44\" id=\"0x561631522e70\" points=\"133.25,325.4 135.25,325.4 135.25,327.4 133.25,327.4\"/>\n<polygon class=\"l69d44\" id=\"0x561631522ee0\" points=\"137.25,325.4 139.25,325.4 139.25,327.4 137.25,327.4\"/>\n<polygon class=\"l69d44\" id=\"0x561631522f50\" points=\"202.35,325.4 204.35,325.4 204.35,327.4 202.35,327.4\"/>\n<polygon class=\"l69d44\" id=\"0x561631522fc0\" points=\"206.35,325.4 208.35,325.4 208.35,327.4 206.35,327.4\"/>\n<polygon class=\"l69d44\" id=\"0x561631523030\" points=\"210.35,325.4 212.35,325.4 212.35,327.4 210.35,327.4\"/>\n<polygon class=\"l69d44\" id=\"0x5616315230a0\" points=\"214.35,325.4 216.35,325.4 216.35,327.4 214.35,327.4\"/>\n<polygon class=\"l69d44\" id=\"0x561631523110\" points=\"86.75,298.2 88.75,298.2 88.75,300.2 86.75,300.2\"/>\n<polygon class=\"l69d44\" id=\"0x561631523180\" points=\"90.75,298.2 92.75,298.2 92.75,300.2 90.75,300.2\"/>\n<polygon class=\"l69d44\" id=\"0x5616315231f0\" points=\"94.75,298.2 96.75,298.2 96.75,300.2 94.75,300.2\"/>\n<polygon class=\"l69d44\" id=\"0x561631523260\" points=\"98.75,298.2 100.75,298.2 100.75,300.2 98.75,300.2\"/>\n<polygon class=\"l69d44\" id=\"0x5616315232d0\" points=\"163.8,298.2 165.8,298.2 165.8,300.2 163.8,300.2\"/>\n<polygon class=\"l69d44\" id=\"0x561631523340\" points=\"167.8,298.2 169.8,298.2 169.8,300.2 167.8,300.2\"/>\n<polygon class=\"l69d44\" id=\"0x5616315233b0\" points=\"171.8,298.2 173.8,298.2 173.8,300.2 171.8,300.2\"/>\n<polygon class=\"l69d44\" id=\"0x561631523420\" points=\"175.8,298.2 177.8,298.2 177.8,300.2 175.8,300.2\"/>\n<polygon class=\"l69d44\" id=\"0x561631523490\" points=\"240.9,298.2 242.9,298.2 242.9,300.2 240.9,300.2\"/>\n<polygon class=\"l69d44\" id=\"0x561631523500\" points=\"244.9,298.2 246.9,298.2 246.9,300.2 244.9,300.2\"/>\n<polygon class=\"l69d44\" id=\"0x561631523570\" points=\"248.9,298.2 250.9,298.2 250.9,300.2 248.9,300.2\"/>\n<polygon class=\"l69d44\" id=\"0x5616315235e0\" points=\"252.9,298.2 254.9,298.2 254.9,300.2 252.9,300.2\"/>\n<polygon class=\"l69d44\" id=\"0x561631523650\" points=\"125.25,271 127.25,271 127.25,273 125.25,273\"/>\n<polygon class=\"l69d44\" id=\"0x5616315236c0\" points=\"129.25,271 131.25,271 131.25,273 129.25,273\"/>\n<polygon class=\"l69d44\" id=\"0x561631523730\" points=\"133.25,271 135.25,271 135.25,273 133.25,273\"/>\n<polygon class=\"l69d44\" id=\"0x5616315237a0\" points=\"137.25,271 139.25,271 139.25,273 137.25,273\"/>\n<polygon class=\"l69d44\" id=\"0x561631523810\" points=\"202.35,271 204.35,271 204.35,273 202.35,273\"/>\n<polygon class=\"l69d44\" id=\"0x561631523880\" points=\"206.35,271 208.35,271 208.35,273 206.35,273\"/>\n<polygon class=\"l69d44\" id=\"0x5616315238f0\" points=\"210.35,271 212.35,271 212.35,273 210.35,273\"/>\n<polygon class=\"l69d44\" id=\"0x561631523960\" points=\"214.35,271 216.35,271 216.35,273 214.35,273\"/>\n<polygon class=\"l69d44\" id=\"0x5616315239d0\" points=\"86.75,243.8 88.75,243.8 88.75,245.8 86.75,245.8\"/>\n<polygon class=\"l69d44\" id=\"0x561631523a40\" points=\"90.75,243.8 92.75,243.8 92.75,245.8 90.75,245.8\"/>\n<polygon class=\"l69d44\" id=\"0x561631523ab0\" points=\"94.75,243.8 96.75,243.8 96.75,245.8 94.75,245.8\"/>\n<polygon class=\"l69d44\" id=\"0x561631523b20\" points=\"98.75,243.8 100.75,243.8 100.75,245.8 98.75,245.8\"/>\n<polygon class=\"l69d44\" id=\"0x561631523b90\" points=\"163.8,243.8 165.8,243.8 165.8,245.8 163.8,245.8\"/>\n<polygon class=\"l69d44\" id=\"0x561631523c00\" points=\"167.8,243.8 169.8,243.8 169.8,245.8 167.8,245.8\"/>\n<polygon class=\"l69d44\" id=\"0x561631523c70\" points=\"171.8,243.8 173.8,243.8 173.8,245.8 171.8,245.8\"/>\n<polygon class=\"l69d44\" id=\"0x561631523ce0\" points=\"175.8,243.8 177.8,243.8 177.8,245.8 175.8,245.8\"/>\n<polygon class=\"l69d44\" id=\"0x561631523d50\" points=\"240.9,243.8 242.9,243.8 242.9,245.8 240.9,245.8\"/>\n<polygon class=\"l69d44\" id=\"0x561631523dc0\" points=\"244.9,243.8 246.9,243.8 246.9,245.8 244.9,245.8\"/>\n<polygon class=\"l69d44\" id=\"0x561631523e30\" points=\"248.9,243.8 250.9,243.8 250.9,245.8 248.9,245.8\"/>\n<polygon class=\"l69d44\" id=\"0x561631523ea0\" points=\"252.9,243.8 254.9,243.8 254.9,245.8 252.9,245.8\"/>\n<polygon class=\"l69d44\" id=\"0x561631523f10\" points=\"125.25,216.6 127.25,216.6 127.25,218.6 125.25,218.6\"/>\n<polygon class=\"l69d44\" id=\"0x561631523f80\" points=\"129.25,216.6 131.25,216.6 131.25,218.6 129.25,218.6\"/>\n<polygon class=\"l69d44\" id=\"0x561631523ff0\" points=\"133.25,216.6 135.25,216.6 135.25,218.6 133.25,218.6\"/>\n<polygon class=\"l69d44\" id=\"0x561631524060\" points=\"137.25,216.6 139.25,216.6 139.25,218.6 137.25,218.6\"/>\n<polygon class=\"l69d44\" id=\"0x5616315240d0\" points=\"202.35,216.6 204.35,216.6 204.35,218.6 202.35,218.6\"/>\n<polygon class=\"l69d44\" id=\"0x561631524140\" points=\"206.35,216.6 208.35,216.6 208.35,218.6 206.35,218.6\"/>\n<polygon class=\"l69d44\" id=\"0x5616315241b0\" points=\"210.35,216.6 212.35,216.6 212.35,218.6 210.35,218.6\"/>\n<polygon class=\"l69d44\" id=\"0x561631524220\" points=\"214.35,216.6 216.35,216.6 216.35,218.6 214.35,218.6\"/>\n<polygon class=\"l69d44\" id=\"0x561631524290\" points=\"86.75,189.4 88.75,189.4 88.75,191.4 86.75,191.4\"/>\n<polygon class=\"l69d44\" id=\"0x561631524300\" points=\"90.75,189.4 92.75,189.4 92.75,191.4 90.75,191.4\"/>\n<polygon class=\"l69d44\" id=\"0x561631524370\" points=\"94.75,189.4 96.75,189.4 96.75,191.4 94.75,191.4\"/>\n<polygon class=\"l69d44\" id=\"0x5616315243e0\" points=\"98.75,189.4 100.75,189.4 100.75,191.4 98.75,191.4\"/>\n<polygon class=\"l69d44\" id=\"0x561631524450\" points=\"163.8,189.4 165.8,189.4 165.8,191.4 163.8,191.4\"/>\n<polygon class=\"l69d44\" id=\"0x5616315244c0\" points=\"167.8,189.4 169.8,189.4 169.8,191.4 167.8,191.4\"/>\n<polygon class=\"l69d44\" id=\"0x561631524530\" points=\"171.8,189.4 173.8,189.4 173.8,191.4 171.8,191.4\"/>\n<polygon class=\"l69d44\" id=\"0x5616315245a0\" points=\"175.8,189.4 177.8,189.4 177.8,191.4 175.8,191.4\"/>\n<polygon class=\"l69d44\" id=\"0x561631524610\" points=\"240.9,189.4 242.9,189.4 242.9,191.4 240.9,191.4\"/>\n<polygon class=\"l69d44\" id=\"0x561631524680\" points=\"244.9,189.4 246.9,189.4 246.9,191.4 244.9,191.4\"/>\n<polygon class=\"l69d44\" id=\"0x5616315246f0\" points=\"248.9,189.4 250.9,189.4 250.9,191.4 248.9,191.4\"/>\n<polygon class=\"l69d44\" id=\"0x561631524760\" points=\"252.9,189.4 254.9,189.4 254.9,191.4 252.9,191.4\"/>\n<polygon class=\"l69d44\" id=\"0x5616315247d0\" points=\"125.25,162.2 127.25,162.2 127.25,164.2 125.25,164.2\"/>\n<polygon class=\"l69d44\" id=\"0x561631524840\" points=\"129.25,162.2 131.25,162.2 131.25,164.2 129.25,164.2\"/>\n<polygon class=\"l69d44\" id=\"0x5616315248b0\" points=\"133.25,162.2 135.25,162.2 135.25,164.2 133.25,164.2\"/>\n<polygon class=\"l69d44\" id=\"0x561631524920\" points=\"137.25,162.2 139.25,162.2 139.25,164.2 137.25,164.2\"/>\n<polygon class=\"l69d44\" id=\"0x561631524990\" points=\"202.35,162.2 204.35,162.2 204.35,164.2 202.35,164.2\"/>\n<polygon class=\"l69d44\" id=\"0x561631524a00\" points=\"206.35,162.2 208.35,162.2 208.35,164.2 206.35,164.2\"/>\n<polygon class=\"l69d44\" id=\"0x561631524a70\" points=\"210.35,162.2 212.35,162.2 212.35,164.2 210.35,164.2\"/>\n<polygon class=\"l69d44\" id=\"0x561631524ae0\" points=\"214.35,162.2 216.35,162.2 216.35,164.2 214.35,164.2\"/>\n<polygon class=\"l69d44\" id=\"0x561631524b50\" points=\"86.75,135 88.75,135 88.75,137 86.75,137\"/>\n<polygon class=\"l69d44\" id=\"0x561631524bc0\" points=\"90.75,135 92.75,135 92.75,137 90.75,137\"/>\n<polygon class=\"l69d44\" id=\"0x561631524c30\" points=\"94.75,135 96.75,135 96.75,137 94.75,137\"/>\n<polygon class=\"l69d44\" id=\"0x561631524ca0\" points=\"98.75,135 100.75,135 100.75,137 98.75,137\"/>\n<polygon class=\"l69d44\" id=\"0x561631524d10\" points=\"163.8,135 165.8,135 165.8,137 163.8,137\"/>\n<polygon class=\"l69d44\" id=\"0x561631524d80\" points=\"167.8,135 169.8,135 169.8,137 167.8,137\"/>\n<polygon class=\"l69d44\" id=\"0x561631524df0\" points=\"171.8,135 173.8,135 173.8,137 171.8,137\"/>\n<polygon class=\"l69d44\" id=\"0x561631524e60\" points=\"175.8,135 177.8,135 177.8,137 175.8,137\"/>\n<polygon class=\"l69d44\" id=\"0x561631524ed0\" points=\"240.9,135 242.9,135 242.9,137 240.9,137\"/>\n<polygon class=\"l69d44\" id=\"0x561631524f40\" points=\"244.9,135 246.9,135 246.9,137 244.9,137\"/>\n<polygon class=\"l69d44\" id=\"0x561631524fb0\" points=\"248.9,135 250.9,135 250.9,137 248.9,137\"/>\n<polygon class=\"l69d44\" id=\"0x561631525020\" points=\"252.9,135 254.9,135 254.9,137 252.9,137\"/>\n<polygon class=\"l69d44\" id=\"0x561631525090\" points=\"125.25,107.8 127.25,107.8 127.25,109.8 125.25,109.8\"/>\n<polygon class=\"l69d44\" id=\"0x561631525100\" points=\"129.25,107.8 131.25,107.8 131.25,109.8 129.25,109.8\"/>\n<polygon class=\"l69d44\" id=\"0x561631525170\" points=\"133.25,107.8 135.25,107.8 135.25,109.8 133.25,109.8\"/>\n<polygon class=\"l69d44\" id=\"0x5616315251e0\" points=\"137.25,107.8 139.25,107.8 139.25,109.8 137.25,109.8\"/>\n<polygon class=\"l69d44\" id=\"0x561631525250\" points=\"202.35,107.8 204.35,107.8 204.35,109.8 202.35,109.8\"/>\n<polygon class=\"l69d44\" id=\"0x5616315252c0\" points=\"206.35,107.8 208.35,107.8 208.35,109.8 206.35,109.8\"/>\n<polygon class=\"l69d44\" id=\"0x561631525330\" points=\"210.35,107.8 212.35,107.8 212.35,109.8 210.35,109.8\"/>\n<polygon class=\"l69d44\" id=\"0x5616315253a0\" points=\"214.35,107.8 216.35,107.8 216.35,109.8 214.35,109.8\"/>\n<polygon class=\"l70d20\" id=\"0x561631525410\" points=\"124.25,433.55 140.25,433.55 140.25,436.85 124.25,436.85\"/>\n<polygon class=\"l70d20\" id=\"0x561631525480\" points=\"201.35,433.55 217.35,433.55 217.35,436.85 201.35,436.85\"/>\n<polygon class=\"l70d20\" id=\"0x5616315254f0\" points=\"85.75,406.35 101.75,406.35 101.75,409.65 85.75,409.65\"/>\n<polygon class=\"l70d20\" id=\"0x561631525560\" points=\"162.8,406.35 178.8,406.35 178.8,409.65 162.8,409.65\"/>\n<polygon class=\"l70d20\" id=\"0x5616315255d0\" points=\"239.9,406.35 255.9,406.35 255.9,409.65 239.9,409.65\"/>\n<polygon class=\"l70d20\" id=\"0x561631525640\" points=\"124.25,379.15 140.25,379.15 140.25,382.45 124.25,382.45\"/>\n<polygon class=\"l70d20\" id=\"0x5616315256b0\" points=\"201.35,379.15 217.35,379.15 217.35,382.45 201.35,382.45\"/>\n<polygon class=\"l70d20\" id=\"0x561631525720\" points=\"85.75,351.95 101.75,351.95 101.75,355.25 85.75,355.25\"/>\n<polygon class=\"l70d20\" id=\"0x561631525790\" points=\"162.8,351.95 178.8,351.95 178.8,355.25 162.8,355.25\"/>\n<polygon class=\"l70d20\" id=\"0x561631525800\" points=\"239.9,351.95 255.9,351.95 255.9,355.25 239.9,355.25\"/>\n<polygon class=\"l70d20\" id=\"0x561631525870\" points=\"124.25,324.75 140.25,324.75 140.25,328.05 124.25,328.05\"/>\n<polygon class=\"l70d20\" id=\"0x5616315258e0\" points=\"201.35,324.75 217.35,324.75 217.35,328.05 201.35,328.05\"/>\n<polygon class=\"l70d20\" id=\"0x561631525950\" points=\"85.75,297.55 101.75,297.55 101.75,300.85 85.75,300.85\"/>\n<polygon class=\"l70d20\" id=\"0x5616315259c0\" points=\"162.8,297.55 178.8,297.55 178.8,300.85 162.8,300.85\"/>\n<polygon class=\"l70d20\" id=\"0x561631525a30\" points=\"239.9,297.55 255.9,297.55 255.9,300.85 239.9,300.85\"/>\n<polygon class=\"l70d20\" id=\"0x561631525aa0\" points=\"124.25,270.35 140.25,270.35 140.25,273.65 124.25,273.65\"/>\n<polygon class=\"l70d20\" id=\"0x561631525b10\" points=\"201.35,270.35 217.35,270.35 217.35,273.65 201.35,273.65\"/>\n<polygon class=\"l70d20\" id=\"0x561631525b80\" points=\"85.75,243.15 101.75,243.15 101.75,246.45 85.75,246.45\"/>\n<polygon class=\"l70d20\" id=\"0x561631525bf0\" points=\"162.8,243.15 178.8,243.15 178.8,246.45 162.8,246.45\"/>\n<polygon class=\"l70d20\" id=\"0x561631525c60\" points=\"239.9,243.15 255.9,243.15 255.9,246.45 239.9,246.45\"/>\n<polygon class=\"l70d20\" id=\"0x561631525cd0\" points=\"124.25,215.95 140.25,215.95 140.25,219.25 124.25,219.25\"/>\n<polygon class=\"l70d20\" id=\"0x561631525d40\" points=\"201.35,215.95 217.35,215.95 217.35,219.25 201.35,219.25\"/>\n<polygon class=\"l70d20\" id=\"0x561631525db0\" points=\"85.75,188.75 101.75,188.75 101.75,192.05 85.75,192.05\"/>\n<polygon class=\"l70d20\" id=\"0x561631525e20\" points=\"162.8,188.75 178.8,188.75 178.8,192.05 162.8,192.05\"/>\n<polygon class=\"l70d20\" id=\"0x561631525e90\" points=\"239.9,188.75 255.9,188.75 255.9,192.05 239.9,192.05\"/>\n<polygon class=\"l70d20\" id=\"0x561631525f00\" points=\"124.25,161.55 140.25,161.55 140.25,164.85 124.25,164.85\"/>\n<polygon class=\"l70d20\" id=\"0x561631525f70\" points=\"201.35,161.55 217.35,161.55 217.35,164.85 201.35,164.85\"/>\n<polygon class=\"l70d20\" id=\"0x56163152a000\" points=\"85.75,134.35 101.75,134.35 101.75,137.65 85.75,137.65\"/>\n<polygon class=\"l70d20\" id=\"0x56163152a070\" points=\"162.8,134.35 178.8,134.35 178.8,137.65 162.8,137.65\"/>\n<polygon class=\"l70d20\" id=\"0x56163152a0e0\" points=\"239.9,134.35 255.9,134.35 255.9,137.65 239.9,137.65\"/>\n<polygon class=\"l70d20\" id=\"0x56163152a150\" points=\"124.25,107.15 140.25,107.15 140.25,110.45 124.25,110.45\"/>\n<polygon class=\"l70d20\" id=\"0x56163152a1c0\" points=\"201.35,107.15 217.35,107.15 217.35,110.45 201.35,110.45\"/>\n<polygon class=\"l70d44\" id=\"0x56163152a230\" points=\"125.25,434.2 127.25,434.2 127.25,436.2 125.25,436.2\"/>\n<polygon class=\"l70d44\" id=\"0x56163152a2a0\" points=\"129.25,434.2 131.25,434.2 131.25,436.2 129.25,436.2\"/>\n<polygon class=\"l70d44\" id=\"0x56163152a310\" points=\"133.25,434.2 135.25,434.2 135.25,436.2 133.25,436.2\"/>\n<polygon class=\"l70d44\" id=\"0x56163152a380\" points=\"137.25,434.2 139.25,434.2 139.25,436.2 137.25,436.2\"/>\n<polygon class=\"l70d44\" id=\"0x56163152a3f0\" points=\"202.35,434.2 204.35,434.2 204.35,436.2 202.35,436.2\"/>\n<polygon class=\"l70d44\" id=\"0x56163152a460\" points=\"206.35,434.2 208.35,434.2 208.35,436.2 206.35,436.2\"/>\n<polygon class=\"l70d44\" id=\"0x56163152a4d0\" points=\"210.35,434.2 212.35,434.2 212.35,436.2 210.35,436.2\"/>\n<polygon class=\"l70d44\" id=\"0x56163152a540\" points=\"214.35,434.2 216.35,434.2 216.35,436.2 214.35,436.2\"/>\n<polygon class=\"l70d44\" id=\"0x56163152a5b0\" points=\"86.75,407 88.75,407 88.75,409 86.75,409\"/>\n<polygon class=\"l70d44\" id=\"0x56163152a620\" points=\"90.75,407 92.75,407 92.75,409 90.75,409\"/>\n<polygon class=\"l70d44\" id=\"0x56163152a690\" points=\"94.75,407 96.75,407 96.75,409 94.75,409\"/>\n<polygon class=\"l70d44\" id=\"0x56163152a700\" points=\"98.75,407 100.75,407 100.75,409 98.75,409\"/>\n<polygon class=\"l70d44\" id=\"0x56163152a770\" points=\"163.8,407 165.8,407 165.8,409 163.8,409\"/>\n<polygon class=\"l70d44\" id=\"0x56163152a7e0\" points=\"167.8,407 169.8,407 169.8,409 167.8,409\"/>\n<polygon class=\"l70d44\" id=\"0x56163152a850\" points=\"171.8,407 173.8,407 173.8,409 171.8,409\"/>\n<polygon class=\"l70d44\" id=\"0x56163152a8c0\" points=\"175.8,407 177.8,407 177.8,409 175.8,409\"/>\n<polygon class=\"l70d44\" id=\"0x56163152a930\" points=\"240.9,407 242.9,407 242.9,409 240.9,409\"/>\n<polygon class=\"l70d44\" id=\"0x56163152a9a0\" points=\"244.9,407 246.9,407 246.9,409 244.9,409\"/>\n<polygon class=\"l70d44\" id=\"0x56163152aa10\" points=\"248.9,407 250.9,407 250.9,409 248.9,409\"/>\n<polygon class=\"l70d44\" id=\"0x56163152aa80\" points=\"252.9,407 254.9,407 254.9,409 252.9,409\"/>\n<polygon class=\"l70d44\" id=\"0x56163152aaf0\" points=\"125.25,379.8 127.25,379.8 127.25,381.8 125.25,381.8\"/>\n<polygon class=\"l70d44\" id=\"0x56163152ab60\" points=\"129.25,379.8 131.25,379.8 131.25,381.8 129.25,381.8\"/>\n<polygon class=\"l70d44\" id=\"0x56163152abd0\" points=\"133.25,379.8 135.25,379.8 135.25,381.8 133.25,381.8\"/>\n<polygon class=\"l70d44\" id=\"0x56163152ac40\" points=\"137.25,379.8 139.25,379.8 139.25,381.8 137.25,381.8\"/>\n<polygon class=\"l70d44\" id=\"0x56163152acb0\" points=\"202.35,379.8 204.35,379.8 204.35,381.8 202.35,381.8\"/>\n<polygon class=\"l70d44\" id=\"0x56163152ad20\" points=\"206.35,379.8 208.35,379.8 208.35,381.8 206.35,381.8\"/>\n<polygon class=\"l70d44\" id=\"0x56163152ad90\" points=\"210.35,379.8 212.35,379.8 212.35,381.8 210.35,381.8\"/>\n<polygon class=\"l70d44\" id=\"0x56163152ae00\" points=\"214.35,379.8 216.35,379.8 216.35,381.8 214.35,381.8\"/>\n<polygon class=\"l70d44\" id=\"0x56163152ae70\" points=\"86.75,352.6 88.75,352.6 88.75,354.6 86.75,354.6\"/>\n<polygon class=\"l70d44\" id=\"0x56163152aee0\" points=\"90.75,352.6 92.75,352.6 92.75,354.6 90.75,354.6\"/>\n<polygon class=\"l70d44\" id=\"0x56163152af50\" points=\"94.75,352.6 96.75,352.6 96.75,354.6 94.75,354.6\"/>\n<polygon class=\"l70d44\" id=\"0x56163152afc0\" points=\"98.75,352.6 100.75,352.6 100.75,354.6 98.75,354.6\"/>\n<polygon class=\"l70d44\" id=\"0x56163152b030\" points=\"163.8,352.6 165.8,352.6 165.8,354.6 163.8,354.6\"/>\n<polygon class=\"l70d44\" id=\"0x56163152b0a0\" points=\"167.8,352.6 169.8,352.6 169.8,354.6 167.8,354.6\"/>\n<polygon class=\"l70d44\" id=\"0x56163152b110\" points=\"171.8,352.6 173.8,352.6 173.8,354.6 171.8,354.6\"/>\n<polygon class=\"l70d44\" id=\"0x56163152b180\" points=\"175.8,352.6 177.8,352.6 177.8,354.6 175.8,354.6\"/>\n<polygon class=\"l70d44\" id=\"0x56163152b1f0\" points=\"240.9,352.6 242.9,352.6 242.9,354.6 240.9,354.6\"/>\n<polygon class=\"l70d44\" id=\"0x56163152b260\" points=\"244.9,352.6 246.9,352.6 246.9,354.6 244.9,354.6\"/>\n<polygon class=\"l70d44\" id=\"0x56163152b2d0\" points=\"248.9,352.6 250.9,352.6 250.9,354.6 248.9,354.6\"/>\n<polygon class=\"l70d44\" id=\"0x56163152b340\" points=\"252.9,352.6 254.9,352.6 254.9,354.6 252.9,354.6\"/>\n<polygon class=\"l70d44\" id=\"0x56163152b3b0\" points=\"125.25,325.4 127.25,325.4 127.25,327.4 125.25,327.4\"/>\n<polygon class=\"l70d44\" id=\"0x56163152b420\" points=\"129.25,325.4 131.25,325.4 131.25,327.4 129.25,327.4\"/>\n<polygon class=\"l70d44\" id=\"0x56163152b490\" points=\"133.25,325.4 135.25,325.4 135.25,327.4 133.25,327.4\"/>\n<polygon class=\"l70d44\" id=\"0x56163152b500\" points=\"137.25,325.4 139.25,325.4 139.25,327.4 137.25,327.4\"/>\n<polygon class=\"l70d44\" id=\"0x56163152b570\" points=\"202.35,325.4 204.35,325.4 204.35,327.4 202.35,327.4\"/>\n<polygon class=\"l70d44\" id=\"0x56163152b5e0\" points=\"206.35,325.4 208.35,325.4 208.35,327.4 206.35,327.4\"/>\n<polygon class=\"l70d44\" id=\"0x56163152b650\" points=\"210.35,325.4 212.35,325.4 212.35,327.4 210.35,327.4\"/>\n<polygon class=\"l70d44\" id=\"0x56163152b6c0\" points=\"214.35,325.4 216.35,325.4 216.35,327.4 214.35,327.4\"/>\n<polygon class=\"l70d44\" id=\"0x56163152b730\" points=\"86.75,298.2 88.75,298.2 88.75,300.2 86.75,300.2\"/>\n<polygon class=\"l70d44\" id=\"0x56163152b7a0\" points=\"90.75,298.2 92.75,298.2 92.75,300.2 90.75,300.2\"/>\n<polygon class=\"l70d44\" id=\"0x56163152b810\" points=\"94.75,298.2 96.75,298.2 96.75,300.2 94.75,300.2\"/>\n<polygon class=\"l70d44\" id=\"0x56163152b880\" points=\"98.75,298.2 100.75,298.2 100.75,300.2 98.75,300.2\"/>\n<polygon class=\"l70d44\" id=\"0x56163152b8f0\" points=\"163.8,298.2 165.8,298.2 165.8,300.2 163.8,300.2\"/>\n<polygon class=\"l70d44\" id=\"0x56163152b960\" points=\"167.8,298.2 169.8,298.2 169.8,300.2 167.8,300.2\"/>\n<polygon class=\"l70d44\" id=\"0x56163152b9d0\" points=\"171.8,298.2 173.8,298.2 173.8,300.2 171.8,300.2\"/>\n<polygon class=\"l70d44\" id=\"0x56163152ba40\" points=\"175.8,298.2 177.8,298.2 177.8,300.2 175.8,300.2\"/>\n<polygon class=\"l70d44\" id=\"0x56163152bab0\" points=\"240.9,298.2 242.9,298.2 242.9,300.2 240.9,300.2\"/>\n<polygon class=\"l70d44\" id=\"0x56163152bb20\" points=\"244.9,298.2 246.9,298.2 246.9,300.2 244.9,300.2\"/>\n<polygon class=\"l70d44\" id=\"0x56163152bb90\" points=\"248.9,298.2 250.9,298.2 250.9,300.2 248.9,300.2\"/>\n<polygon class=\"l70d44\" id=\"0x56163152bc00\" points=\"252.9,298.2 254.9,298.2 254.9,300.2 252.9,300.2\"/>\n<polygon class=\"l70d44\" id=\"0x56163152bc70\" points=\"125.25,271 127.25,271 127.25,273 125.25,273\"/>\n<polygon class=\"l70d44\" id=\"0x56163152bce0\" points=\"129.25,271 131.25,271 131.25,273 129.25,273\"/>\n<polygon class=\"l70d44\" id=\"0x56163152bd50\" points=\"133.25,271 135.25,271 135.25,273 133.25,273\"/>\n<polygon class=\"l70d44\" id=\"0x56163152bdc0\" points=\"137.25,271 139.25,271 139.25,273 137.25,273\"/>\n<polygon class=\"l70d44\" id=\"0x56163152be30\" points=\"202.35,271 204.35,271 204.35,273 202.35,273\"/>\n<polygon class=\"l70d44\" id=\"0x56163152bea0\" points=\"206.35,271 208.35,271 208.35,273 206.35,273\"/>\n<polygon class=\"l70d44\" id=\"0x56163152bf10\" points=\"210.35,271 212.35,271 212.35,273 210.35,273\"/>\n<polygon class=\"l70d44\" id=\"0x56163152bf80\" points=\"214.35,271 216.35,271 216.35,273 214.35,273\"/>\n<polygon class=\"l70d44\" id=\"0x56163152bff0\" points=\"86.75,243.8 88.75,243.8 88.75,245.8 86.75,245.8\"/>\n<polygon class=\"l70d44\" id=\"0x56163152c060\" points=\"90.75,243.8 92.75,243.8 92.75,245.8 90.75,245.8\"/>\n<polygon class=\"l70d44\" id=\"0x56163152c0d0\" points=\"94.75,243.8 96.75,243.8 96.75,245.8 94.75,245.8\"/>\n<polygon class=\"l70d44\" id=\"0x56163152c140\" points=\"98.75,243.8 100.75,243.8 100.75,245.8 98.75,245.8\"/>\n<polygon class=\"l70d44\" id=\"0x56163152c1b0\" points=\"163.8,243.8 165.8,243.8 165.8,245.8 163.8,245.8\"/>\n<polygon class=\"l70d44\" id=\"0x56163152c220\" points=\"167.8,243.8 169.8,243.8 169.8,245.8 167.8,245.8\"/>\n<polygon class=\"l70d44\" id=\"0x56163152c290\" points=\"171.8,243.8 173.8,243.8 173.8,245.8 171.8,245.8\"/>\n<polygon class=\"l70d44\" id=\"0x56163152c300\" points=\"175.8,243.8 177.8,243.8 177.8,245.8 175.8,245.8\"/>\n<polygon class=\"l70d44\" id=\"0x56163152c370\" points=\"240.9,243.8 242.9,243.8 242.9,245.8 240.9,245.8\"/>\n<polygon class=\"l70d44\" id=\"0x56163152c3e0\" points=\"244.9,243.8 246.9,243.8 246.9,245.8 244.9,245.8\"/>\n<polygon class=\"l70d44\" id=\"0x56163152c450\" points=\"248.9,243.8 250.9,243.8 250.9,245.8 248.9,245.8\"/>\n<polygon class=\"l70d44\" id=\"0x56163152c4c0\" points=\"252.9,243.8 254.9,243.8 254.9,245.8 252.9,245.8\"/>\n<polygon class=\"l70d44\" id=\"0x56163152c530\" points=\"125.25,216.6 127.25,216.6 127.25,218.6 125.25,218.6\"/>\n<polygon class=\"l70d44\" id=\"0x56163152c5a0\" points=\"129.25,216.6 131.25,216.6 131.25,218.6 129.25,218.6\"/>\n<polygon class=\"l70d44\" id=\"0x56163152c610\" points=\"133.25,216.6 135.25,216.6 135.25,218.6 133.25,218.6\"/>\n<polygon class=\"l70d44\" id=\"0x56163152c680\" points=\"137.25,216.6 139.25,216.6 139.25,218.6 137.25,218.6\"/>\n<polygon class=\"l70d44\" id=\"0x56163152c6f0\" points=\"202.35,216.6 204.35,216.6 204.35,218.6 202.35,218.6\"/>\n<polygon class=\"l70d44\" id=\"0x56163152c760\" points=\"206.35,216.6 208.35,216.6 208.35,218.6 206.35,218.6\"/>\n<polygon class=\"l70d44\" id=\"0x56163152c7d0\" points=\"210.35,216.6 212.35,216.6 212.35,218.6 210.35,218.6\"/>\n<polygon class=\"l70d44\" id=\"0x56163152c840\" points=\"214.35,216.6 216.35,216.6 216.35,218.6 214.35,218.6\"/>\n<polygon class=\"l70d44\" id=\"0x56163152c8b0\" points=\"86.75,189.4 88.75,189.4 88.75,191.4 86.75,191.4\"/>\n<polygon class=\"l70d44\" id=\"0x56163152c920\" points=\"90.75,189.4 92.75,189.4 92.75,191.4 90.75,191.4\"/>\n<polygon class=\"l70d44\" id=\"0x56163152c990\" points=\"94.75,189.4 96.75,189.4 96.75,191.4 94.75,191.4\"/>\n<polygon class=\"l70d44\" id=\"0x56163152ca00\" points=\"98.75,189.4 100.75,189.4 100.75,191.4 98.75,191.4\"/>\n<polygon class=\"l70d44\" id=\"0x56163152ca70\" points=\"163.8,189.4 165.8,189.4 165.8,191.4 163.8,191.4\"/>\n<polygon class=\"l70d44\" id=\"0x56163152cae0\" points=\"167.8,189.4 169.8,189.4 169.8,191.4 167.8,191.4\"/>\n<polygon class=\"l70d44\" id=\"0x56163152cb50\" points=\"171.8,189.4 173.8,189.4 173.8,191.4 171.8,191.4\"/>\n<polygon class=\"l70d44\" id=\"0x56163152cbc0\" points=\"175.8,189.4 177.8,189.4 177.8,191.4 175.8,191.4\"/>\n<polygon class=\"l70d44\" id=\"0x56163152cc30\" points=\"240.9,189.4 242.9,189.4 242.9,191.4 240.9,191.4\"/>\n<polygon class=\"l70d44\" id=\"0x56163152cca0\" points=\"244.9,189.4 246.9,189.4 246.9,191.4 244.9,191.4\"/>\n<polygon class=\"l70d44\" id=\"0x56163152cd10\" points=\"248.9,189.4 250.9,189.4 250.9,191.4 248.9,191.4\"/>\n<polygon class=\"l70d44\" id=\"0x56163152cd80\" points=\"252.9,189.4 254.9,189.4 254.9,191.4 252.9,191.4\"/>\n<polygon class=\"l70d44\" id=\"0x56163152cdf0\" points=\"125.25,162.2 127.25,162.2 127.25,164.2 125.25,164.2\"/>\n<polygon class=\"l70d44\" id=\"0x56163152ce60\" points=\"129.25,162.2 131.25,162.2 131.25,164.2 129.25,164.2\"/>\n<polygon class=\"l70d44\" id=\"0x56163152ced0\" points=\"133.25,162.2 135.25,162.2 135.25,164.2 133.25,164.2\"/>\n<polygon class=\"l70d44\" id=\"0x56163152cf40\" points=\"137.25,162.2 139.25,162.2 139.25,164.2 137.25,164.2\"/>\n<polygon class=\"l70d44\" id=\"0x56163152cfb0\" points=\"202.35,162.2 204.35,162.2 204.35,164.2 202.35,164.2\"/>\n<polygon class=\"l70d44\" id=\"0x56163152d020\" points=\"206.35,162.2 208.35,162.2 208.35,164.2 206.35,164.2\"/>\n<polygon class=\"l70d44\" id=\"0x56163152d090\" points=\"210.35,162.2 212.35,162.2 212.35,164.2 210.35,164.2\"/>\n<polygon class=\"l70d44\" id=\"0x56163152d100\" points=\"214.35,162.2 216.35,162.2 216.35,164.2 214.35,164.2\"/>\n<polygon class=\"l70d44\" id=\"0x56163152d170\" points=\"86.75,135 88.75,135 88.75,137 86.75,137\"/>\n<polygon class=\"l70d44\" id=\"0x56163152d1e0\" points=\"90.75,135 92.75,135 92.75,137 90.75,137\"/>\n<polygon class=\"l70d44\" id=\"0x56163152d250\" points=\"94.75,135 96.75,135 96.75,137 94.75,137\"/>\n<polygon class=\"l70d44\" id=\"0x56163152d2c0\" points=\"98.75,135 100.75,135 100.75,137 98.75,137\"/>\n<polygon class=\"l70d44\" id=\"0x56163152d330\" points=\"163.8,135 165.8,135 165.8,137 163.8,137\"/>\n<polygon class=\"l70d44\" id=\"0x56163152d3a0\" points=\"167.8,135 169.8,135 169.8,137 167.8,137\"/>\n<polygon class=\"l70d44\" id=\"0x56163152d410\" points=\"171.8,135 173.8,135 173.8,137 171.8,137\"/>\n<polygon class=\"l70d44\" id=\"0x56163152d480\" points=\"175.8,135 177.8,135 177.8,137 175.8,137\"/>\n<polygon class=\"l70d44\" id=\"0x56163152d4f0\" points=\"240.9,135 242.9,135 242.9,137 240.9,137\"/>\n<polygon class=\"l70d44\" id=\"0x56163152d560\" points=\"244.9,135 246.9,135 246.9,137 244.9,137\"/>\n<polygon class=\"l70d44\" id=\"0x56163152d5d0\" points=\"248.9,135 250.9,135 250.9,137 248.9,137\"/>\n<polygon class=\"l70d44\" id=\"0x56163152d640\" points=\"252.9,135 254.9,135 254.9,137 252.9,137\"/>\n<polygon class=\"l70d44\" id=\"0x56163152d6b0\" points=\"125.25,107.8 127.25,107.8 127.25,109.8 125.25,109.8\"/>\n<polygon class=\"l70d44\" id=\"0x56163152d720\" points=\"129.25,107.8 131.25,107.8 131.25,109.8 129.25,109.8\"/>\n<polygon class=\"l70d44\" id=\"0x56163152d790\" points=\"133.25,107.8 135.25,107.8 135.25,109.8 133.25,109.8\"/>\n<polygon class=\"l70d44\" id=\"0x56163152d800\" points=\"137.25,107.8 139.25,107.8 139.25,109.8 137.25,109.8\"/>\n<polygon class=\"l70d44\" id=\"0x56163152d870\" points=\"202.35,107.8 204.35,107.8 204.35,109.8 202.35,109.8\"/>\n<polygon class=\"l70d44\" id=\"0x56163152d8e0\" points=\"206.35,107.8 208.35,107.8 208.35,109.8 206.35,109.8\"/>\n<polygon class=\"l70d44\" id=\"0x56163152d950\" points=\"210.35,107.8 212.35,107.8 212.35,109.8 210.35,109.8\"/>\n<polygon class=\"l70d44\" id=\"0x56163152d9c0\" points=\"214.35,107.8 216.35,107.8 216.35,109.8 214.35,109.8\"/>\n<polygon class=\"l71d20\" id=\"0x56163152da30\" points=\"85.75,106.4 101.75,106.4 101.75,437.6 85.75,437.6\"/>\n<polygon class=\"l71d20\" id=\"0x56163152daa0\" points=\"124.25,106.4 140.25,106.4 140.25,437.6 124.25,437.6\"/>\n<polygon class=\"l71d20\" id=\"0x56163152db10\" points=\"162.8,106.4 178.8,106.4 178.8,437.6 162.8,437.6\"/>\n<polygon class=\"l71d20\" id=\"0x56163152db80\" points=\"201.35,106.4 217.35,106.4 217.35,437.6 201.35,437.6\"/>\n<polygon class=\"l71d20\" id=\"0x56163152dbf0\" points=\"239.9,106.4 255.9,106.4 255.9,437.6 239.9,437.6\"/>\n<polygon class=\"l71d44\" id=\"0x56163152dc60\" points=\"89.75,378.45 97.75,378.45 97.75,386.45 89.75,386.45\"/>\n<polygon class=\"l71d44\" id=\"0x56163152dcd0\" points=\"166.8,378.45 174.8,378.45 174.8,386.45 166.8,386.45\"/>\n<polygon class=\"l71d44\" id=\"0x56163152dd40\" points=\"243.9,378.45 251.9,378.45 251.9,386.45 243.9,386.45\"/>\n<polygon class=\"l71d44\" id=\"0x56163152ddb0\" points=\"128.25,323.25 136.25,323.25 136.25,331.25 128.25,331.25\"/>\n<polygon class=\"l71d44\" id=\"0x56163152de20\" points=\"205.35,323.25 213.35,323.25 213.35,331.25 205.35,331.25\"/>\n<polygon class=\"l71d44\" id=\"0x56163152de90\" points=\"89.75,268 97.75,268 97.75,276 89.75,276\"/>\n<polygon class=\"l71d44\" id=\"0x56163152df00\" points=\"166.8,268 174.8,268 174.8,276 166.8,276\"/>\n<polygon class=\"l71d44\" id=\"0x56163152df70\" points=\"243.9,268 251.9,268 251.9,276 243.9,276\"/>\n<polygon class=\"l71d44\" id=\"0x561631532000\" points=\"128.25,212.8 136.25,212.8 136.25,220.8 128.25,220.8\"/>\n<polygon class=\"l71d44\" id=\"0x561631532070\" points=\"205.35,212.8 213.35,212.8 213.35,220.8 205.35,220.8\"/>\n<polygon class=\"l71d44\" id=\"0x5616315320e0\" points=\"89.75,157.6 97.75,157.6 97.75,165.6 89.75,165.6\"/>\n<polygon class=\"l71d44\" id=\"0x561631532150\" points=\"166.8,157.6 174.8,157.6 174.8,165.6 166.8,165.6\"/>\n<polygon class=\"l71d44\" id=\"0x5616315321c0\" points=\"243.9,157.6 251.9,157.6 251.9,165.6 243.9,165.6\"/>\n<polygon class=\"l72d20\" id=\"0x561631532230\" points=\"55.2,374.45 285.2,374.45 285.2,390.45 55.2,390.45\"/>\n<polygon class=\"l72d20\" id=\"0x5616315322a0\" points=\"55.2,319.25 285.2,319.25 285.2,335.25 55.2,335.25\"/>\n<polygon class=\"l72d20\" id=\"0x561631532310\" points=\"55.2,264 285.2,264 285.2,280.05 55.2,280.05\"/>\n<polygon class=\"l72d20\" id=\"0x561631532380\" points=\"55.2,208.8 285.2,208.8 285.2,224.8 55.2,224.8\"/>\n<polygon class=\"l72d20\" id=\"0x5616315323f0\" points=\"55.2,153.6 285.2,153.6 285.2,169.6 55.2,169.6\"/>\n<polygon class=\"l72d16\" id=\"0x561631532460\" points=\"55.2,208.8 285.2,208.8 285.2,224.8 55.2,224.8\"/>\n<polygon class=\"l72d16\" id=\"0x5616315324d0\" points=\"55.2,319.25 285.2,319.25 285.2,335.25 55.2,335.25\"/>\n<polygon class=\"l71d16\" id=\"0x561631532540\" points=\"124.25,106.4 140.25,106.4 140.25,437.6 124.25,437.6\"/>\n<polygon class=\"l71d16\" id=\"0x5616315325b0\" points=\"201.35,106.4 217.35,106.4 217.35,437.6 201.35,437.6\"/>\n<polygon class=\"l72d16\" id=\"0x561631532620\" points=\"55.2,153.6 285.2,153.6 285.2,169.6 55.2,169.6\"/>\n<polygon class=\"l72d16\" id=\"0x561631532690\" points=\"55.2,264.05 285.2,264.05 285.2,280.05 55.2,280.05\"/>\n<polygon class=\"l72d16\" id=\"0x561631532700\" points=\"55.2,374.45 285.2,374.45 285.2,390.45 55.2,390.45\"/>\n<polygon class=\"l71d16\" id=\"0x561631532770\" points=\"85.75,106.4 101.75,106.4 101.75,437.6 85.75,437.6\"/>\n<polygon class=\"l71d16\" id=\"0x5616315327e0\" points=\"162.8,106.4 178.8,106.4 178.8,437.6 162.8,437.6\"/>\n<polygon class=\"l71d16\" id=\"0x561631532850\" points=\"239.9,106.4 255.9,106.4 255.9,437.6 239.9,437.6\"/>\n<polygon class=\"l69d16\" id=\"0x5616315328c0\" points=\"322.9,508.85 325.7,508.85 325.7,548.85 322.9,548.85\"/>\n<polygon class=\"l69d16\" id=\"0x561631532930\" points=\"0.9,0 3.7,0 3.7,40 0.9,40\"/>\n<use transform=\"translate(87.4 108.8)\" xlink:href=\"#sky130_fd_sc_hd__decap_12\"/>\n<use transform=\"translate(69 163.2) scale(1 -1)\" xlink:href=\"#sky130_fd_sc_hd__decap_12\"/>\n<use transform=\"translate(55.2 108.8)\" xlink:href=\"#sky130_fd_sc_hd__decap_3\"/>\n<use transform=\"translate(55.2 163.2) scale(1 -1)\" xlink:href=\"#sky130_fd_sc_hd__decap_3\"/>\n<use transform=\"translate(87.4 108.8) rotate(180) scale(1 -1)\" xlink:href=\"#sky130_fd_sc_hd__buf_2\"/>\n<use transform=\"translate(142.6 108.8)\" xlink:href=\"#sky130_fd_sc_hd__decap_8\"/>\n<use transform=\"translate(124.2 163.2) scale(1 -1)\" xlink:href=\"#sky130_fd_sc_hd__decap_12\"/>\n<use transform=\"translate(179.4 108.8)\" xlink:href=\"#sky130_fd_sc_hd__fill_1\"/>\n<use transform=\"translate(188.6 108.8)\" xlink:href=\"#sky130_fd_sc_hd__decap_12\"/>\n<use transform=\"translate(179.4 163.2) scale(1 -1)\" xlink:href=\"#sky130_fd_sc_hd__decap_12\"/>\n<use transform=\"translate(184 108.8)\" xlink:href=\"#sky130_fd_sc_hd__tapvpwrvgnd_1\"/>\n<use transform=\"translate(243.8 108.8)\" xlink:href=\"#sky130_fd_sc_hd__decap_6\"/>\n<use transform=\"translate(234.6 163.2) scale(1 -1)\" xlink:href=\"#sky130_fd_sc_hd__decap_8\"/>\n<use transform=\"translate(285.2 108.8) rotate(180) scale(1 -1)\" xlink:href=\"#sky130_fd_sc_hd__decap_3\"/>\n<use transform=\"translate(285.2 163.2) rotate(180)\" xlink:href=\"#sky130_fd_sc_hd__decap_3\"/>\n<use transform=\"translate(69 163.2)\" xlink:href=\"#sky130_fd_sc_hd__decap_12\"/>\n<use transform=\"translate(55.2 163.2)\" xlink:href=\"#sky130_fd_sc_hd__decap_3\"/>\n<use transform=\"translate(124.2 163.2)\" xlink:href=\"#sky130_fd_sc_hd__decap_12\"/>\n<use transform=\"translate(179.4 163.2)\" xlink:href=\"#sky130_fd_sc_hd__fill_1\"/>\n<use transform=\"translate(188.6 163.2)\" xlink:href=\"#sky130_fd_sc_hd__decap_12\"/>\n<use transform=\"translate(184 163.2)\" xlink:href=\"#sky130_fd_sc_hd__tapvpwrvgnd_1\"/>\n<use transform=\"translate(243.8 163.2)\" xlink:href=\"#sky130_fd_sc_hd__decap_6\"/>\n<use transform=\"translate(285.2 163.2) rotate(180) scale(1 -1)\" xlink:href=\"#sky130_fd_sc_hd__decap_3\"/>\n<use transform=\"translate(69 217.6) scale(1 -1)\" xlink:href=\"#sky130_fd_sc_hd__decap_12\"/>\n<use transform=\"translate(55.2 217.6) scale(1 -1)\" xlink:href=\"#sky130_fd_sc_hd__decap_3\"/>\n<use transform=\"translate(124.2 217.6) scale(1 -1)\" xlink:href=\"#sky130_fd_sc_hd__decap_12\"/>\n<use transform=\"translate(179.4 217.6) scale(1 -1)\" xlink:href=\"#sky130_fd_sc_hd__decap_12\"/>\n<use transform=\"translate(234.6 217.6) scale(1 -1)\" xlink:href=\"#sky130_fd_sc_hd__decap_8\"/>\n<use transform=\"translate(285.2 217.6) rotate(180)\" xlink:href=\"#sky130_fd_sc_hd__decap_3\"/>\n<use transform=\"translate(69 217.6)\" xlink:href=\"#sky130_fd_sc_hd__decap_12\"/>\n<use transform=\"translate(55.2 217.6)\" xlink:href=\"#sky130_fd_sc_hd__decap_3\"/>\n<use transform=\"translate(124.2 217.6)\" xlink:href=\"#sky130_fd_sc_hd__decap_12\"/>\n<use transform=\"translate(179.4 217.6)\" xlink:href=\"#sky130_fd_sc_hd__fill_1\"/>\n<use transform=\"translate(188.6 217.6)\" xlink:href=\"#sky130_fd_sc_hd__decap_12\"/>\n<use transform=\"translate(184 217.6)\" xlink:href=\"#sky130_fd_sc_hd__tapvpwrvgnd_1\"/>\n<use transform=\"translate(243.8 217.6)\" xlink:href=\"#sky130_fd_sc_hd__decap_6\"/>\n<use transform=\"translate(285.2 217.6) rotate(180) scale(1 -1)\" xlink:href=\"#sky130_fd_sc_hd__decap_3\"/>\n<use transform=\"translate(69 272) scale(1 -1)\" xlink:href=\"#sky130_fd_sc_hd__decap_12\"/>\n<use transform=\"translate(55.2 272) scale(1 -1)\" xlink:href=\"#sky130_fd_sc_hd__decap_3\"/>\n<use transform=\"translate(124.2 272) scale(1 -1)\" xlink:href=\"#sky130_fd_sc_hd__decap_12\"/>\n<use transform=\"translate(179.4 272) scale(1 -1)\" xlink:href=\"#sky130_fd_sc_hd__decap_12\"/>\n<use transform=\"translate(234.6 272) scale(1 -1)\" xlink:href=\"#sky130_fd_sc_hd__decap_8\"/>\n<use transform=\"translate(285.2 272) rotate(180)\" xlink:href=\"#sky130_fd_sc_hd__decap_3\"/>\n<use transform=\"translate(69 272)\" xlink:href=\"#sky130_fd_sc_hd__decap_12\"/>\n<use transform=\"translate(69 326.4) scale(1 -1)\" xlink:href=\"#sky130_fd_sc_hd__decap_12\"/>\n<use transform=\"translate(55.2 272)\" xlink:href=\"#sky130_fd_sc_hd__decap_3\"/>\n<use transform=\"translate(55.2 326.4) scale(1 -1)\" xlink:href=\"#sky130_fd_sc_hd__decap_3\"/>\n<use transform=\"translate(124.2 272)\" xlink:href=\"#sky130_fd_sc_hd__decap_12\"/>\n<use transform=\"translate(124.2 326.4) scale(1 -1)\" xlink:href=\"#sky130_fd_sc_hd__decap_12\"/>\n<use transform=\"translate(179.4 272)\" xlink:href=\"#sky130_fd_sc_hd__fill_1\"/>\n<use transform=\"translate(188.6 272)\" xlink:href=\"#sky130_fd_sc_hd__decap_8\"/>\n<use transform=\"translate(225.4 272)\" xlink:href=\"#sky130_fd_sc_hd__fill_2\"/>\n<use transform=\"translate(179.4 326.4) scale(1 -1)\" xlink:href=\"#sky130_fd_sc_hd__decap_12\"/>\n<use transform=\"translate(184 272)\" xlink:href=\"#sky130_fd_sc_hd__tapvpwrvgnd_1\"/>\n<use transform=\"translate(248.4 272)\" xlink:href=\"#sky130_fd_sc_hd__decap_4\"/>\n<use transform=\"translate(266.8 272)\" xlink:href=\"#sky130_fd_sc_hd__fill_1\"/>\n<use transform=\"translate(234.6 326.4) scale(1 -1)\" xlink:href=\"#sky130_fd_sc_hd__decap_8\"/>\n<use transform=\"translate(285.2 272) rotate(180) scale(1 -1)\" xlink:href=\"#sky130_fd_sc_hd__decap_3\"/>\n<use transform=\"translate(285.2 326.4) rotate(180)\" xlink:href=\"#sky130_fd_sc_hd__decap_3\"/>\n<use transform=\"translate(234.6 272)\" xlink:href=\"#sky130_fd_sc_hd__inv_2\"/>\n<use transform=\"translate(69 326.4)\" xlink:href=\"#sky130_fd_sc_hd__decap_12\"/>\n<use transform=\"translate(55.2 326.4)\" xlink:href=\"#sky130_fd_sc_hd__decap_3\"/>\n<use transform=\"translate(124.2 326.4)\" xlink:href=\"#sky130_fd_sc_hd__decap_12\"/>\n<use transform=\"translate(179.4 326.4)\" xlink:href=\"#sky130_fd_sc_hd__fill_1\"/>\n<use transform=\"translate(188.6 326.4)\" xlink:href=\"#sky130_fd_sc_hd__decap_12\"/>\n<use transform=\"translate(184 326.4)\" xlink:href=\"#sky130_fd_sc_hd__tapvpwrvgnd_1\"/>\n<use transform=\"translate(243.8 326.4)\" xlink:href=\"#sky130_fd_sc_hd__decap_6\"/>\n<use transform=\"translate(285.2 326.4) rotate(180) scale(1 -1)\" xlink:href=\"#sky130_fd_sc_hd__decap_3\"/>\n<use transform=\"translate(69 380.8) scale(1 -1)\" xlink:href=\"#sky130_fd_sc_hd__decap_12\"/>\n<use transform=\"translate(55.2 380.8) scale(1 -1)\" xlink:href=\"#sky130_fd_sc_hd__decap_3\"/>\n<use transform=\"translate(124.2 380.8) scale(1 -1)\" xlink:href=\"#sky130_fd_sc_hd__decap_12\"/>\n<use transform=\"translate(179.4 380.8) scale(1 -1)\" xlink:href=\"#sky130_fd_sc_hd__decap_12\"/>\n<use transform=\"translate(234.6 380.8) scale(1 -1)\" xlink:href=\"#sky130_fd_sc_hd__decap_8\"/>\n<use transform=\"translate(285.2 380.8) rotate(180)\" xlink:href=\"#sky130_fd_sc_hd__decap_3\"/>\n<use transform=\"translate(69 380.8)\" xlink:href=\"#sky130_fd_sc_hd__decap_12\"/>\n<use transform=\"translate(55.2 380.8)\" xlink:href=\"#sky130_fd_sc_hd__decap_3\"/>\n<use transform=\"translate(124.2 380.8)\" xlink:href=\"#sky130_fd_sc_hd__decap_12\"/>\n<use transform=\"translate(179.4 380.8)\" xlink:href=\"#sky130_fd_sc_hd__fill_1\"/>\n<use transform=\"translate(188.6 380.8)\" xlink:href=\"#sky130_fd_sc_hd__decap_12\"/>\n<use transform=\"translate(184 380.8)\" xlink:href=\"#sky130_fd_sc_hd__tapvpwrvgnd_1\"/>\n<use transform=\"translate(243.8 380.8)\" xlink:href=\"#sky130_fd_sc_hd__decap_6\"/>\n<use transform=\"translate(285.2 380.8) rotate(180) scale(1 -1)\" xlink:href=\"#sky130_fd_sc_hd__decap_3\"/>\n<use transform=\"translate(69 435.2) scale(1 -1)\" xlink:href=\"#sky130_fd_sc_hd__decap_12\"/>\n<use transform=\"translate(55.2 435.2) scale(1 -1)\" xlink:href=\"#sky130_fd_sc_hd__decap_3\"/>\n<use transform=\"translate(124.2 435.2) scale(1 -1)\" xlink:href=\"#sky130_fd_sc_hd__decap_12\"/>\n<use transform=\"translate(179.4 435.2) scale(1 -1)\" xlink:href=\"#sky130_fd_sc_hd__fill_1\"/>\n<use transform=\"translate(188.6 435.2) scale(1 -1)\" xlink:href=\"#sky130_fd_sc_hd__decap_8\"/>\n<use transform=\"translate(225.4 435.2) scale(1 -1)\" xlink:href=\"#sky130_fd_sc_hd__decap_3\"/>\n<use transform=\"translate(184 435.2) scale(1 -1)\" xlink:href=\"#sky130_fd_sc_hd__tapvpwrvgnd_1\"/>\n<use transform=\"translate(253 435.2) scale(1 -1)\" xlink:href=\"#sky130_fd_sc_hd__decap_4\"/>\n<use transform=\"translate(285.2 435.2) rotate(180)\" xlink:href=\"#sky130_fd_sc_hd__decap_3\"/>\n<use transform=\"translate(239.2 435.2) scale(1 -1)\" xlink:href=\"#sky130_fd_sc_hd__clkbuf_1\"/>\n<text class=\"l72t16\" dominant-baseline=\"text-before-edge\" id=\"0x5616315061c0\" text-anchor=\"start\" transform=\"translate(170.2 216.8) scale(1 -1)\">VGND</text>\n<text class=\"l72t16\" dominant-baseline=\"text-before-edge\" id=\"0x561631506250\" text-anchor=\"start\" transform=\"translate(170.2 327.25) scale(1 -1)\">VGND</text>\n<text class=\"l71t16\" dominant-baseline=\"text-before-edge\" id=\"0x5616315062e0\" text-anchor=\"start\" transform=\"translate(132.25 272) scale(1 -1)\">VGND</text>\n<text class=\"l71t16\" dominant-baseline=\"text-before-edge\" id=\"0x561631506370\" text-anchor=\"start\" transform=\"translate(209.35 272) scale(1 -1)\">VGND</text>\n<text class=\"l72t16\" dominant-baseline=\"text-before-edge\" id=\"0x561631506400\" text-anchor=\"start\" transform=\"translate(170.2 161.6) scale(1 -1)\">VPWR</text>\n<text class=\"l72t16\" dominant-baseline=\"text-before-edge\" id=\"0x561631506490\" text-anchor=\"start\" transform=\"translate(170.2 272.05) scale(1 -1)\">VPWR</text>\n<text class=\"l72t16\" dominant-baseline=\"text-before-edge\" id=\"0x561631506520\" text-anchor=\"start\" transform=\"translate(170.2 382.45) scale(1 -1)\">VPWR</text>\n<text class=\"l71t16\" dominant-baseline=\"text-before-edge\" id=\"0x5616315065b0\" text-anchor=\"start\" transform=\"translate(93.75 272) scale(1 -1)\">VPWR</text>\n<text class=\"l71t16\" dominant-baseline=\"text-before-edge\" id=\"0x561631506640\" text-anchor=\"start\" transform=\"translate(170.8 272) scale(1 -1)\">VPWR</text>\n<text class=\"l71t16\" dominant-baseline=\"text-before-edge\" id=\"0x5616315066d0\" text-anchor=\"start\" transform=\"translate(247.9 272) scale(1 -1)\">VPWR</text>\n<text class=\"l69t16\" dominant-baseline=\"text-before-edge\" id=\"0x561631506760\" text-anchor=\"start\" transform=\"translate(324.3 528.85) scale(1 -1)\">in</text>\n<text class=\"l69t16\" dominant-baseline=\"text-before-edge\" id=\"0x5616315067f0\" text-anchor=\"start\" transform=\"translate(2.3 20) scale(1 -1)\">out</text>\n</g>\n</svg>"
          },
          "metadata": {},
          "execution_count": 8
        }
      ]
    },
    {
      "cell_type": "markdown",
      "source": [
        "## Dump flow report"
      ],
      "metadata": {
        "id": "NW_7YdgTZYQK"
      }
    },
    {
      "cell_type": "code",
      "source": [
        "import pandas as pd\n",
        "import pathlib\n",
        "\n",
        "final_summary_reports = sorted(pathlib.Path('/content/runs').glob('*/reports/metrics.csv'))\n",
        "df = pd.read_csv(final_summary_reports[-1])\n",
        "pd.set_option('display.max_rows', None)\n",
        "df.transpose()"
      ],
      "metadata": {
        "colab": {
          "base_uri": "https://localhost:8080/",
          "height": 1000
        },
        "id": "OWAwQI3fZC4W",
        "outputId": "8befc644-e1da-43b3-d4b4-d3bd654fd140"
      },
      "execution_count": 148,
      "outputs": [
        {
          "output_type": "execute_result",
          "data": {
            "text/plain": [
              "                                                 0\n",
              "Unnamed: 0                                       0\n",
              "design                                    /content\n",
              "design_name                               inverter\n",
              "config                     RUN_2022.04.12_06.20.14\n",
              "flow_status                         flow completed\n",
              "total_runtime                           0h0m33s0ms\n",
              "routed_runtime                          0h0m16s0ms\n",
              "(Cell/mm^2)/Core_Util                         -2.0\n",
              "DIEAREA_mm^2                              0.001925\n",
              "CellPer_mm^2                                    -1\n",
              "OpenDP_Util                                     -1\n",
              "Peak_Memory_Usage_MB                        463.77\n",
              "cell_count                                      -1\n",
              "tritonRoute_violations                           0\n",
              "Short_violations                                 0\n",
              "MetSpc_violations                                0\n",
              "OffGrid_violations                               0\n",
              "MinHole_violations                               0\n",
              "Other_violations                                 0\n",
              "Magic_violations                                 0\n",
              "antenna_violations                               0\n",
              "lvs_total_errors                                 0\n",
              "cvc_total_errors                                -1\n",
              "klayout_violations                              -1\n",
              "wire_length                                     75\n",
              "vias                                            12\n",
              "wns                                            0.0\n",
              "pl_wns                                          -1\n",
              "optimized_wns                                  0.0\n",
              "fastroute_wns                                  0.0\n",
              "spef_wns                                        -1\n",
              "tns                                            0.0\n",
              "pl_tns                                          -1\n",
              "optimized_tns                                  0.0\n",
              "fastroute_tns                                  0.0\n",
              "spef_tns                                        -1\n",
              "HPWL                                            -1\n",
              "routing_layer1_pct                             0.0\n",
              "routing_layer2_pct                            0.95\n",
              "routing_layer3_pct                            2.47\n",
              "routing_layer4_pct                             0.0\n",
              "routing_layer5_pct                             0.0\n",
              "routing_layer6_pct                             0.0\n",
              "wires_count                                      2\n",
              "wire_bits                                        2\n",
              "public_wires_count                               2\n",
              "public_wire_bits                                 2\n",
              "memories_count                                   0\n",
              "memory_bits                                      0\n",
              "processes_count                                  0\n",
              "cells_pre_abc                                    1\n",
              "AND                                              0\n",
              "DFF                                              0\n",
              "NAND                                             0\n",
              "NOR                                              0\n",
              "OR                                               0\n",
              "XOR                                              0\n",
              "XNOR                                             0\n",
              "MUX                                              0\n",
              "inputs                                           1\n",
              "outputs                                          1\n",
              "level                                            1\n",
              "EndCaps                                         24\n",
              "TapCells                                         7\n",
              "Diodes                                           0\n",
              "Total_Physical_Cells                            31\n",
              "suggested_clock_frequency                90.909091\n",
              "suggested_clock_period                        11.0\n",
              "CLOCK_PERIOD                                  10.0\n",
              "SYNTH_STRATEGY                              AREA 0\n",
              "SYNTH_MAX_FANOUT                                 5\n",
              "FP_CORE_UTIL                                    50\n",
              "FP_ASPECT_RATIO                                  1\n",
              "FP_PDN_VPITCH                                 5.99\n",
              "FP_PDN_HPITCH                                 8.31\n",
              "PL_TARGET_DENSITY                             0.75\n",
              "GLB_RT_ADJUSTMENT                              0.3\n",
              "STD_CELL_LIBRARY                   sky130_fd_sc_hd\n",
              "CELL_PAD                                         4\n",
              "DIODE_INSERTION_STRATEGY                         3"
            ],
            "text/html": [
              "\n",
              "  <div id=\"df-45f69225-8fd5-4660-b96c-51d7ca145c3c\">\n",
              "    <div class=\"colab-df-container\">\n",
              "      <div>\n",
              "<style scoped>\n",
              "    .dataframe tbody tr th:only-of-type {\n",
              "        vertical-align: middle;\n",
              "    }\n",
              "\n",
              "    .dataframe tbody tr th {\n",
              "        vertical-align: top;\n",
              "    }\n",
              "\n",
              "    .dataframe thead th {\n",
              "        text-align: right;\n",
              "    }\n",
              "</style>\n",
              "<table border=\"1\" class=\"dataframe\">\n",
              "  <thead>\n",
              "    <tr style=\"text-align: right;\">\n",
              "      <th></th>\n",
              "      <th>0</th>\n",
              "    </tr>\n",
              "  </thead>\n",
              "  <tbody>\n",
              "    <tr>\n",
              "      <th>Unnamed: 0</th>\n",
              "      <td>0</td>\n",
              "    </tr>\n",
              "    <tr>\n",
              "      <th>design</th>\n",
              "      <td>/content</td>\n",
              "    </tr>\n",
              "    <tr>\n",
              "      <th>design_name</th>\n",
              "      <td>inverter</td>\n",
              "    </tr>\n",
              "    <tr>\n",
              "      <th>config</th>\n",
              "      <td>RUN_2022.04.12_06.20.14</td>\n",
              "    </tr>\n",
              "    <tr>\n",
              "      <th>flow_status</th>\n",
              "      <td>flow completed</td>\n",
              "    </tr>\n",
              "    <tr>\n",
              "      <th>total_runtime</th>\n",
              "      <td>0h0m33s0ms</td>\n",
              "    </tr>\n",
              "    <tr>\n",
              "      <th>routed_runtime</th>\n",
              "      <td>0h0m16s0ms</td>\n",
              "    </tr>\n",
              "    <tr>\n",
              "      <th>(Cell/mm^2)/Core_Util</th>\n",
              "      <td>-2.0</td>\n",
              "    </tr>\n",
              "    <tr>\n",
              "      <th>DIEAREA_mm^2</th>\n",
              "      <td>0.001925</td>\n",
              "    </tr>\n",
              "    <tr>\n",
              "      <th>CellPer_mm^2</th>\n",
              "      <td>-1</td>\n",
              "    </tr>\n",
              "    <tr>\n",
              "      <th>OpenDP_Util</th>\n",
              "      <td>-1</td>\n",
              "    </tr>\n",
              "    <tr>\n",
              "      <th>Peak_Memory_Usage_MB</th>\n",
              "      <td>463.77</td>\n",
              "    </tr>\n",
              "    <tr>\n",
              "      <th>cell_count</th>\n",
              "      <td>-1</td>\n",
              "    </tr>\n",
              "    <tr>\n",
              "      <th>tritonRoute_violations</th>\n",
              "      <td>0</td>\n",
              "    </tr>\n",
              "    <tr>\n",
              "      <th>Short_violations</th>\n",
              "      <td>0</td>\n",
              "    </tr>\n",
              "    <tr>\n",
              "      <th>MetSpc_violations</th>\n",
              "      <td>0</td>\n",
              "    </tr>\n",
              "    <tr>\n",
              "      <th>OffGrid_violations</th>\n",
              "      <td>0</td>\n",
              "    </tr>\n",
              "    <tr>\n",
              "      <th>MinHole_violations</th>\n",
              "      <td>0</td>\n",
              "    </tr>\n",
              "    <tr>\n",
              "      <th>Other_violations</th>\n",
              "      <td>0</td>\n",
              "    </tr>\n",
              "    <tr>\n",
              "      <th>Magic_violations</th>\n",
              "      <td>0</td>\n",
              "    </tr>\n",
              "    <tr>\n",
              "      <th>antenna_violations</th>\n",
              "      <td>0</td>\n",
              "    </tr>\n",
              "    <tr>\n",
              "      <th>lvs_total_errors</th>\n",
              "      <td>0</td>\n",
              "    </tr>\n",
              "    <tr>\n",
              "      <th>cvc_total_errors</th>\n",
              "      <td>-1</td>\n",
              "    </tr>\n",
              "    <tr>\n",
              "      <th>klayout_violations</th>\n",
              "      <td>-1</td>\n",
              "    </tr>\n",
              "    <tr>\n",
              "      <th>wire_length</th>\n",
              "      <td>75</td>\n",
              "    </tr>\n",
              "    <tr>\n",
              "      <th>vias</th>\n",
              "      <td>12</td>\n",
              "    </tr>\n",
              "    <tr>\n",
              "      <th>wns</th>\n",
              "      <td>0.0</td>\n",
              "    </tr>\n",
              "    <tr>\n",
              "      <th>pl_wns</th>\n",
              "      <td>-1</td>\n",
              "    </tr>\n",
              "    <tr>\n",
              "      <th>optimized_wns</th>\n",
              "      <td>0.0</td>\n",
              "    </tr>\n",
              "    <tr>\n",
              "      <th>fastroute_wns</th>\n",
              "      <td>0.0</td>\n",
              "    </tr>\n",
              "    <tr>\n",
              "      <th>spef_wns</th>\n",
              "      <td>-1</td>\n",
              "    </tr>\n",
              "    <tr>\n",
              "      <th>tns</th>\n",
              "      <td>0.0</td>\n",
              "    </tr>\n",
              "    <tr>\n",
              "      <th>pl_tns</th>\n",
              "      <td>-1</td>\n",
              "    </tr>\n",
              "    <tr>\n",
              "      <th>optimized_tns</th>\n",
              "      <td>0.0</td>\n",
              "    </tr>\n",
              "    <tr>\n",
              "      <th>fastroute_tns</th>\n",
              "      <td>0.0</td>\n",
              "    </tr>\n",
              "    <tr>\n",
              "      <th>spef_tns</th>\n",
              "      <td>-1</td>\n",
              "    </tr>\n",
              "    <tr>\n",
              "      <th>HPWL</th>\n",
              "      <td>-1</td>\n",
              "    </tr>\n",
              "    <tr>\n",
              "      <th>routing_layer1_pct</th>\n",
              "      <td>0.0</td>\n",
              "    </tr>\n",
              "    <tr>\n",
              "      <th>routing_layer2_pct</th>\n",
              "      <td>0.95</td>\n",
              "    </tr>\n",
              "    <tr>\n",
              "      <th>routing_layer3_pct</th>\n",
              "      <td>2.47</td>\n",
              "    </tr>\n",
              "    <tr>\n",
              "      <th>routing_layer4_pct</th>\n",
              "      <td>0.0</td>\n",
              "    </tr>\n",
              "    <tr>\n",
              "      <th>routing_layer5_pct</th>\n",
              "      <td>0.0</td>\n",
              "    </tr>\n",
              "    <tr>\n",
              "      <th>routing_layer6_pct</th>\n",
              "      <td>0.0</td>\n",
              "    </tr>\n",
              "    <tr>\n",
              "      <th>wires_count</th>\n",
              "      <td>2</td>\n",
              "    </tr>\n",
              "    <tr>\n",
              "      <th>wire_bits</th>\n",
              "      <td>2</td>\n",
              "    </tr>\n",
              "    <tr>\n",
              "      <th>public_wires_count</th>\n",
              "      <td>2</td>\n",
              "    </tr>\n",
              "    <tr>\n",
              "      <th>public_wire_bits</th>\n",
              "      <td>2</td>\n",
              "    </tr>\n",
              "    <tr>\n",
              "      <th>memories_count</th>\n",
              "      <td>0</td>\n",
              "    </tr>\n",
              "    <tr>\n",
              "      <th>memory_bits</th>\n",
              "      <td>0</td>\n",
              "    </tr>\n",
              "    <tr>\n",
              "      <th>processes_count</th>\n",
              "      <td>0</td>\n",
              "    </tr>\n",
              "    <tr>\n",
              "      <th>cells_pre_abc</th>\n",
              "      <td>1</td>\n",
              "    </tr>\n",
              "    <tr>\n",
              "      <th>AND</th>\n",
              "      <td>0</td>\n",
              "    </tr>\n",
              "    <tr>\n",
              "      <th>DFF</th>\n",
              "      <td>0</td>\n",
              "    </tr>\n",
              "    <tr>\n",
              "      <th>NAND</th>\n",
              "      <td>0</td>\n",
              "    </tr>\n",
              "    <tr>\n",
              "      <th>NOR</th>\n",
              "      <td>0</td>\n",
              "    </tr>\n",
              "    <tr>\n",
              "      <th>OR</th>\n",
              "      <td>0</td>\n",
              "    </tr>\n",
              "    <tr>\n",
              "      <th>XOR</th>\n",
              "      <td>0</td>\n",
              "    </tr>\n",
              "    <tr>\n",
              "      <th>XNOR</th>\n",
              "      <td>0</td>\n",
              "    </tr>\n",
              "    <tr>\n",
              "      <th>MUX</th>\n",
              "      <td>0</td>\n",
              "    </tr>\n",
              "    <tr>\n",
              "      <th>inputs</th>\n",
              "      <td>1</td>\n",
              "    </tr>\n",
              "    <tr>\n",
              "      <th>outputs</th>\n",
              "      <td>1</td>\n",
              "    </tr>\n",
              "    <tr>\n",
              "      <th>level</th>\n",
              "      <td>1</td>\n",
              "    </tr>\n",
              "    <tr>\n",
              "      <th>EndCaps</th>\n",
              "      <td>24</td>\n",
              "    </tr>\n",
              "    <tr>\n",
              "      <th>TapCells</th>\n",
              "      <td>7</td>\n",
              "    </tr>\n",
              "    <tr>\n",
              "      <th>Diodes</th>\n",
              "      <td>0</td>\n",
              "    </tr>\n",
              "    <tr>\n",
              "      <th>Total_Physical_Cells</th>\n",
              "      <td>31</td>\n",
              "    </tr>\n",
              "    <tr>\n",
              "      <th>suggested_clock_frequency</th>\n",
              "      <td>90.909091</td>\n",
              "    </tr>\n",
              "    <tr>\n",
              "      <th>suggested_clock_period</th>\n",
              "      <td>11.0</td>\n",
              "    </tr>\n",
              "    <tr>\n",
              "      <th>CLOCK_PERIOD</th>\n",
              "      <td>10.0</td>\n",
              "    </tr>\n",
              "    <tr>\n",
              "      <th>SYNTH_STRATEGY</th>\n",
              "      <td>AREA 0</td>\n",
              "    </tr>\n",
              "    <tr>\n",
              "      <th>SYNTH_MAX_FANOUT</th>\n",
              "      <td>5</td>\n",
              "    </tr>\n",
              "    <tr>\n",
              "      <th>FP_CORE_UTIL</th>\n",
              "      <td>50</td>\n",
              "    </tr>\n",
              "    <tr>\n",
              "      <th>FP_ASPECT_RATIO</th>\n",
              "      <td>1</td>\n",
              "    </tr>\n",
              "    <tr>\n",
              "      <th>FP_PDN_VPITCH</th>\n",
              "      <td>5.99</td>\n",
              "    </tr>\n",
              "    <tr>\n",
              "      <th>FP_PDN_HPITCH</th>\n",
              "      <td>8.31</td>\n",
              "    </tr>\n",
              "    <tr>\n",
              "      <th>PL_TARGET_DENSITY</th>\n",
              "      <td>0.75</td>\n",
              "    </tr>\n",
              "    <tr>\n",
              "      <th>GLB_RT_ADJUSTMENT</th>\n",
              "      <td>0.3</td>\n",
              "    </tr>\n",
              "    <tr>\n",
              "      <th>STD_CELL_LIBRARY</th>\n",
              "      <td>sky130_fd_sc_hd</td>\n",
              "    </tr>\n",
              "    <tr>\n",
              "      <th>CELL_PAD</th>\n",
              "      <td>4</td>\n",
              "    </tr>\n",
              "    <tr>\n",
              "      <th>DIODE_INSERTION_STRATEGY</th>\n",
              "      <td>3</td>\n",
              "    </tr>\n",
              "  </tbody>\n",
              "</table>\n",
              "</div>\n",
              "      <button class=\"colab-df-convert\" onclick=\"convertToInteractive('df-45f69225-8fd5-4660-b96c-51d7ca145c3c')\"\n",
              "              title=\"Convert this dataframe to an interactive table.\"\n",
              "              style=\"display:none;\">\n",
              "        \n",
              "  <svg xmlns=\"http://www.w3.org/2000/svg\" height=\"24px\"viewBox=\"0 0 24 24\"\n",
              "       width=\"24px\">\n",
              "    <path d=\"M0 0h24v24H0V0z\" fill=\"none\"/>\n",
              "    <path d=\"M18.56 5.44l.94 2.06.94-2.06 2.06-.94-2.06-.94-.94-2.06-.94 2.06-2.06.94zm-11 1L8.5 8.5l.94-2.06 2.06-.94-2.06-.94L8.5 2.5l-.94 2.06-2.06.94zm10 10l.94 2.06.94-2.06 2.06-.94-2.06-.94-.94-2.06-.94 2.06-2.06.94z\"/><path d=\"M17.41 7.96l-1.37-1.37c-.4-.4-.92-.59-1.43-.59-.52 0-1.04.2-1.43.59L10.3 9.45l-7.72 7.72c-.78.78-.78 2.05 0 2.83L4 21.41c.39.39.9.59 1.41.59.51 0 1.02-.2 1.41-.59l7.78-7.78 2.81-2.81c.8-.78.8-2.07 0-2.86zM5.41 20L4 18.59l7.72-7.72 1.47 1.35L5.41 20z\"/>\n",
              "  </svg>\n",
              "      </button>\n",
              "      \n",
              "  <style>\n",
              "    .colab-df-container {\n",
              "      display:flex;\n",
              "      flex-wrap:wrap;\n",
              "      gap: 12px;\n",
              "    }\n",
              "\n",
              "    .colab-df-convert {\n",
              "      background-color: #E8F0FE;\n",
              "      border: none;\n",
              "      border-radius: 50%;\n",
              "      cursor: pointer;\n",
              "      display: none;\n",
              "      fill: #1967D2;\n",
              "      height: 32px;\n",
              "      padding: 0 0 0 0;\n",
              "      width: 32px;\n",
              "    }\n",
              "\n",
              "    .colab-df-convert:hover {\n",
              "      background-color: #E2EBFA;\n",
              "      box-shadow: 0px 1px 2px rgba(60, 64, 67, 0.3), 0px 1px 3px 1px rgba(60, 64, 67, 0.15);\n",
              "      fill: #174EA6;\n",
              "    }\n",
              "\n",
              "    [theme=dark] .colab-df-convert {\n",
              "      background-color: #3B4455;\n",
              "      fill: #D2E3FC;\n",
              "    }\n",
              "\n",
              "    [theme=dark] .colab-df-convert:hover {\n",
              "      background-color: #434B5C;\n",
              "      box-shadow: 0px 1px 3px 1px rgba(0, 0, 0, 0.15);\n",
              "      filter: drop-shadow(0px 1px 2px rgba(0, 0, 0, 0.3));\n",
              "      fill: #FFFFFF;\n",
              "    }\n",
              "  </style>\n",
              "\n",
              "      <script>\n",
              "        const buttonEl =\n",
              "          document.querySelector('#df-45f69225-8fd5-4660-b96c-51d7ca145c3c button.colab-df-convert');\n",
              "        buttonEl.style.display =\n",
              "          google.colab.kernel.accessAllowed ? 'block' : 'none';\n",
              "\n",
              "        async function convertToInteractive(key) {\n",
              "          const element = document.querySelector('#df-45f69225-8fd5-4660-b96c-51d7ca145c3c');\n",
              "          const dataTable =\n",
              "            await google.colab.kernel.invokeFunction('convertToInteractive',\n",
              "                                                     [key], {});\n",
              "          if (!dataTable) return;\n",
              "\n",
              "          const docLinkHtml = 'Like what you see? Visit the ' +\n",
              "            '<a target=\"_blank\" href=https://colab.research.google.com/notebooks/data_table.ipynb>data table notebook</a>'\n",
              "            + ' to learn more about interactive tables.';\n",
              "          element.innerHTML = '';\n",
              "          dataTable['output_type'] = 'display_data';\n",
              "          await google.colab.output.renderOutput(dataTable, element);\n",
              "          const docLink = document.createElement('div');\n",
              "          docLink.innerHTML = docLinkHtml;\n",
              "          element.appendChild(docLink);\n",
              "        }\n",
              "      </script>\n",
              "    </div>\n",
              "  </div>\n",
              "  "
            ]
          },
          "metadata": {},
          "execution_count": 148
        }
      ]
    },
    {
      "cell_type": "markdown",
      "source": [
        "## Extract power metrics"
      ],
      "metadata": {
        "id": "u5oIpdSdZZoC"
      }
    },
    {
      "cell_type": "code",
      "source": [
        "def get_power(sta_power_report):\n",
        "    with sta_power_report.open() as f:\n",
        "        for l in f.readlines():\n",
        "            if l.startswith('Total'):\n",
        "                return float(l.split(' ')[-2])\n",
        "\n",
        "def area_density_ppa():\n",
        "    for report in sorted(pathlib.Path('/content/runs').glob('*/reports')):\n",
        "        sta_power_report = report / 'signoff/27-rcx_sta.power.rpt'\n",
        "        flow_report = report / 'metrics.csv'\n",
        "        if flow_report.exists() and sta_power_report.exists():\n",
        "            df = pd.read_csv(flow_report)\n",
        "            power = get_power(sta_power_report)\n",
        "            yield (df['DIEAREA_mm^2'][0], df['PL_TARGET_DENSITY'][0], power)\n",
        "\n",
        "df = pd.DataFrame(area_density_ppa(), columns=('DIEAREA_mm^2', 'PL_TARGET_DENSITY', 'TOTAL_POWER'))\n",
        "(df.style.hide_index()\n",
        "   .format({'area': '{:.8f}', 'density': '{:.2%}', 'power': '{:.8f}'})\n",
        "   .bar(subset=['TOTAL_POWER'], color='pink')\n",
        "   .background_gradient(subset=['PL_TARGET_DENSITY'], cmap='Greens')\n",
        "   .bar(color='lightblue', vmin=0.001, subset=['DIEAREA_mm^2']))"
      ],
      "metadata": {
        "colab": {
          "base_uri": "https://localhost:8080/",
          "height": 248
        },
        "id": "WrpEDn6xZXJL",
        "outputId": "e0017213-2ad2-46d5-d273-3819fd5de284"
      },
      "execution_count": 149,
      "outputs": [
        {
          "output_type": "stream",
          "name": "stdout",
          "text": [
            "/content/runs/RUN_2022.04.12_06.08.59/reports/metrics.csv 0    0.001925\n",
            "Name: DIEAREA_mm^2, dtype: float64\n",
            "/content/runs/RUN_2022.04.12_06.18.46/reports/metrics.csv 0    0.001925\n",
            "Name: DIEAREA_mm^2, dtype: float64\n",
            "/content/runs/RUN_2022.04.12_06.20.14/reports/metrics.csv 0    0.001925\n",
            "Name: DIEAREA_mm^2, dtype: float64\n"
          ]
        },
        {
          "output_type": "execute_result",
          "data": {
            "text/plain": [
              "<pandas.io.formats.style.Styler at 0x7fa9616413d0>"
            ],
            "text/html": [
              "<style type=\"text/css\">\n",
              "#T_6cf81_row0_col0, #T_6cf81_row1_col0, #T_6cf81_row2_col0 {\n",
              "  width: 10em;\n",
              "  height: 80%;\n",
              "  background: linear-gradient(90deg,lightblue 100.0%, transparent 100.0%);\n",
              "}\n",
              "#T_6cf81_row0_col1, #T_6cf81_row1_col1, #T_6cf81_row2_col1 {\n",
              "  background-color: #f7fcf5;\n",
              "  color: #000000;\n",
              "}\n",
              "#T_6cf81_row0_col2 {\n",
              "  width: 10em;\n",
              "  height: 80%;\n",
              "  background: linear-gradient(90deg,pink 100.0%, transparent 100.0%);\n",
              "}\n",
              "#T_6cf81_row1_col2, #T_6cf81_row2_col2 {\n",
              "  width: 10em;\n",
              "  height: 80%;\n",
              "}\n",
              "</style>\n",
              "<table id=\"T_6cf81_\" class=\"dataframe\">\n",
              "  <thead>\n",
              "    <tr>\n",
              "      <th class=\"col_heading level0 col0\" >DIEAREA_mm^2</th>\n",
              "      <th class=\"col_heading level0 col1\" >PL_TARGET_DENSITY</th>\n",
              "      <th class=\"col_heading level0 col2\" >TOTAL_POWER</th>\n",
              "    </tr>\n",
              "  </thead>\n",
              "  <tbody>\n",
              "    <tr>\n",
              "      <td id=\"T_6cf81_row0_col0\" class=\"data row0 col0\" >0.001925</td>\n",
              "      <td id=\"T_6cf81_row0_col1\" class=\"data row0 col1\" >0.750000</td>\n",
              "      <td id=\"T_6cf81_row0_col2\" class=\"data row0 col2\" >0.000001</td>\n",
              "    </tr>\n",
              "    <tr>\n",
              "      <td id=\"T_6cf81_row1_col0\" class=\"data row1 col0\" >0.001925</td>\n",
              "      <td id=\"T_6cf81_row1_col1\" class=\"data row1 col1\" >0.750000</td>\n",
              "      <td id=\"T_6cf81_row1_col2\" class=\"data row1 col2\" >0.000001</td>\n",
              "    </tr>\n",
              "    <tr>\n",
              "      <td id=\"T_6cf81_row2_col0\" class=\"data row2 col0\" >0.001925</td>\n",
              "      <td id=\"T_6cf81_row2_col1\" class=\"data row2 col1\" >0.750000</td>\n",
              "      <td id=\"T_6cf81_row2_col2\" class=\"data row2 col2\" >0.000001</td>\n",
              "    </tr>\n",
              "  </tbody>\n",
              "</table>\n"
            ]
          },
          "metadata": {},
          "execution_count": 149
        }
      ]
    }
  ]
}