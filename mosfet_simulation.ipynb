{
  "nbformat": 4,
  "nbformat_minor": 0,
  "metadata": {
    "colab": {
      "name": "mosfet_simulation.ipynb",
      "provenance": [],
      "collapsed_sections": [],
      "include_colab_link": true
    },
    "kernelspec": {
      "name": "python3",
      "display_name": "Python 3"
    },
    "language_info": {
      "name": "python"
    }
  },
  "cells": [
    {
      "cell_type": "markdown",
      "metadata": {
        "id": "view-in-github",
        "colab_type": "text"
      },
      "source": [
        "<a href=\"https://colab.research.google.com/gist/proppy/b8a35e01e22c9685a79fa144e0df3f36/mosfet_simulation.ipynb\" target=\"_parent\"><img src=\"https://colab.research.google.com/assets/colab-badge.svg\" alt=\"Open In Colab\"/></a>"
      ]
    },
    {
      "cell_type": "markdown",
      "source": [
        "```\n",
        "Copyright 2022 Google LLC.\n",
        "SPDX-License-Identifier: Apache-2.0\n",
        "```"
      ],
      "metadata": {
        "id": "9quLG8jhYqwq"
      }
    },
    {
      "cell_type": "code",
      "execution_count": null,
      "metadata": {
        "colab": {
          "base_uri": "https://localhost:8080/"
        },
        "id": "yEJCPg3Ylyk4",
        "outputId": "81b5be7d-e358-441f-da94-dacc30f5b17b"
      },
      "outputs": [
        {
          "output_type": "stream",
          "name": "stdout",
          "text": [
            "⏬ Downloading https://github.com/jaimergp/miniforge/releases/latest/download/Mambaforge-colab-Linux-x86_64.sh...\n",
            "📦 Installing...\n",
            "📌 Adjusting configuration...\n",
            "🩹 Patching environment...\n",
            "⏲ Done in 0:00:38\n",
            "🔁 Restarting kernel...\n"
          ]
        }
      ],
      "source": [
        "!pip install -q condacolab\n",
        "import condacolab\n",
        "condacolab.install()"
      ]
    },
    {
      "cell_type": "code",
      "source": [
        "import condacolab\n",
        "condacolab.check()"
      ],
      "metadata": {
        "colab": {
          "base_uri": "https://localhost:8080/"
        },
        "id": "5-H8BmLS0_pW",
        "outputId": "7c7aed7a-3a65-43ee-8487-678fe7d9f2db"
      },
      "execution_count": null,
      "outputs": [
        {
          "output_type": "stream",
          "name": "stdout",
          "text": [
            "✨🍰✨ Everything looks OK!\n"
          ]
        }
      ]
    },
    {
      "cell_type": "code",
      "source": [
        "!conda install -c Litex-Hub --yes magic\n",
        "!conda install -c Litex-Hub --yes open_pdks.sky130a\n",
        "!conda install -c conda-forge --yes gdstk ngspice-lib\n",
        "!pip install cairosvg pyspice\n",
        "!conda update -c Litex-Hub --yes magic"
      ],
      "metadata": {
        "colab": {
          "base_uri": "https://localhost:8080/"
        },
        "id": "Qyci9ZG0n_Gm",
        "outputId": "4db5667e-43a5-4284-888b-34d3b54fd3d3"
      },
      "execution_count": null,
      "outputs": [
        {
          "output_type": "stream",
          "name": "stdout",
          "text": [
            "Collecting package metadata (current_repodata.json): - \b\b\\ \b\b| \b\b/ \b\b- \b\b\\ \b\b| \b\b/ \b\b- \b\b\\ \b\b| \b\b/ \b\b- \b\b\\ \b\b| \b\b/ \b\b- \b\b\\ \b\bdone\n",
            "Solving environment: / \b\b- \b\b\\ \b\b| \b\b/ \b\b- \b\b\\ \b\b| \b\b/ \b\b- \b\b\\ \b\b| \b\b/ \b\b- \b\b\\ \b\b| \b\b/ \b\b- \b\b\\ \b\b| \b\b/ \b\b- \b\b\\ \b\b| \b\b/ \b\b- \b\b\\ \b\b| \b\b/ \b\b- \b\b\\ \b\b| \b\b/ \b\b- \b\b\\ \b\b| \b\b/ \b\b- \b\b\\ \b\b| \b\b/ \b\b- \b\b\\ \b\b| \b\b/ \b\b- \b\b\\ \b\b| \b\b/ \b\b- \b\b\\ \b\b| \b\b/ \b\b- \b\b\\ \b\b| \b\b/ \b\b- \b\b\\ \b\b| \b\b/ \b\b- \b\b\\ \b\b| \b\b/ \b\b- \b\b\\ \b\bdone\n",
            "\n",
            "## Package Plan ##\n",
            "\n",
            "  environment location: /usr/local\n",
            "\n",
            "  added / updated specs:\n",
            "    - magic\n",
            "\n",
            "\n",
            "The following packages will be downloaded:\n",
            "\n",
            "    package                    |            build\n",
            "    ---------------------------|-----------------\n",
            "    magic-8.3.269_0_g7d60162   |  20220215_161633         4.5 MB  Litex-Hub\n",
            "    ------------------------------------------------------------\n",
            "                                           Total:         4.5 MB\n",
            "\n",
            "The following NEW packages will be INSTALLED:\n",
            "\n",
            "  cairo              conda-forge/linux-64::cairo-1.16.0-h6cf1ce9_1008\n",
            "  fontconfig         conda-forge/linux-64::fontconfig-2.13.96-ha180cfb_0\n",
            "  freetype           conda-forge/linux-64::freetype-2.10.4-h0708190_1\n",
            "  gettext            conda-forge/linux-64::gettext-0.19.8.1-h73d1719_1008\n",
            "  libglib            conda-forge/linux-64::libglib-2.70.2-h174f98d_4\n",
            "  libpng             conda-forge/linux-64::libpng-1.6.37-h21135ba_2\n",
            "  libuuid            conda-forge/linux-64::libuuid-2.32.1-h7f98852_1000\n",
            "  libxcb             conda-forge/linux-64::libxcb-1.13-h7f98852_1004\n",
            "  magic              Litex-Hub/linux-64::magic-8.3.269_0_g7d60162-20220215_161633\n",
            "  pcre               conda-forge/linux-64::pcre-8.45-h9c3ff4c_0\n",
            "  pixman             conda-forge/linux-64::pixman-0.40.0-h36c2ea0_0\n",
            "  pthread-stubs      conda-forge/linux-64::pthread-stubs-0.4-h36c2ea0_1001\n",
            "  xorg-kbproto       conda-forge/linux-64::xorg-kbproto-1.0.7-h7f98852_1002\n",
            "  xorg-libice        conda-forge/linux-64::xorg-libice-1.0.10-h7f98852_0\n",
            "  xorg-libsm         conda-forge/linux-64::xorg-libsm-1.2.3-hd9c2040_1000\n",
            "  xorg-libx11        conda-forge/linux-64::xorg-libx11-1.7.2-h7f98852_0\n",
            "  xorg-libxau        conda-forge/linux-64::xorg-libxau-1.0.9-h7f98852_0\n",
            "  xorg-libxdmcp      conda-forge/linux-64::xorg-libxdmcp-1.1.3-h7f98852_0\n",
            "  xorg-libxext       conda-forge/linux-64::xorg-libxext-1.3.4-h7f98852_1\n",
            "  xorg-libxrender    conda-forge/linux-64::xorg-libxrender-0.9.10-h7f98852_1003\n",
            "  xorg-renderproto   conda-forge/linux-64::xorg-renderproto-0.11.1-h7f98852_1002\n",
            "  xorg-xextproto     conda-forge/linux-64::xorg-xextproto-7.3.0-h7f98852_1002\n",
            "  xorg-xproto        conda-forge/linux-64::xorg-xproto-7.0.31-h7f98852_1007\n",
            "\n",
            "The following packages will be UPDATED:\n",
            "\n",
            "  libxml2                                 2.9.10-h72842e0_3 --> 2.9.12-h72842e0_0\n",
            "\n",
            "\n",
            "\n",
            "Downloading and Extracting Packages\n",
            "magic-8.3.269_0_g7d6 | 4.5 MB    | : 100% 1.0/1 [00:01<00:00,  1.62s/it]\n",
            "Preparing transaction: / \b\b- \b\bdone\n",
            "Verifying transaction: | \b\b/ \b\b- \b\b\\ \b\b| \b\b/ \b\b- \b\bdone\n",
            "Executing transaction: | \b\b/ \b\b- \b\bdone\n",
            "Collecting package metadata (current_repodata.json): - \b\b\\ \b\b| \b\b/ \b\b- \b\b\\ \b\b| \b\b/ \b\b- \b\b\\ \b\b| \b\b/ \b\b- \b\b\\ \b\b| \b\b/ \b\b- \b\b\\ \b\bdone\n",
            "Solving environment: / \b\b- \b\b\\ \b\b| \b\b/ \b\b- \b\b\\ \b\b| \b\b/ \b\b- \b\b\\ \b\b| \b\b/ \b\b- \b\b\\ \b\b| \b\b/ \b\b- \b\b\\ \b\b| \b\b/ \b\bdone\n",
            "\n",
            "# All requested packages already installed.\n",
            "\n",
            "Collecting package metadata (current_repodata.json): - \b\b\\ \b\b| \b\b/ \b\b- \b\b\\ \b\b| \b\b/ \b\b- \b\b\\ \b\b| \b\b/ \b\b- \b\b\\ \b\b| \b\b/ \b\bdone\n",
            "Solving environment: \\ \b\b| \b\b/ \b\b- \b\b\\ \b\b| \b\b/ \b\b- \b\b\\ \b\b| \b\b/ \b\b- \b\b\\ \b\b| \b\b/ \b\b- \b\b\\ \b\b| \b\b/ \b\b- \b\b\\ \b\b| \b\b/ \b\b- \b\b\\ \b\bdone\n",
            "\n",
            "# All requested packages already installed.\n",
            "\n",
            "Requirement already satisfied: cairosvg in /usr/local/lib/python3.7/site-packages (2.5.2)\n",
            "Requirement already satisfied: pyspice in /usr/local/lib/python3.7/site-packages (1.5)\n",
            "Requirement already satisfied: cairocffi in /usr/local/lib/python3.7/site-packages (from cairosvg) (1.3.0)\n",
            "Requirement already satisfied: tinycss2 in /usr/local/lib/python3.7/site-packages (from cairosvg) (1.1.1)\n",
            "Requirement already satisfied: defusedxml in /usr/local/lib/python3.7/site-packages (from cairosvg) (0.7.1)\n",
            "Requirement already satisfied: pillow in /usr/local/lib/python3.7/site-packages (from cairosvg) (9.0.1)\n",
            "Requirement already satisfied: cssselect2 in /usr/local/lib/python3.7/site-packages (from cairosvg) (0.4.1)\n",
            "Requirement already satisfied: matplotlib>=3.2 in /usr/local/lib/python3.7/site-packages (from pyspice) (3.5.1)\n",
            "Requirement already satisfied: ply>=3.11 in /usr/local/lib/python3.7/site-packages (from pyspice) (3.11)\n",
            "Requirement already satisfied: PyYAML>=5.3 in /usr/local/lib/python3.7/site-packages (from pyspice) (6.0)\n",
            "Requirement already satisfied: cffi>=1.14 in /usr/local/lib/python3.7/site-packages (from pyspice) (1.15.0)\n",
            "Requirement already satisfied: numpy>=1.18 in /usr/local/lib/python3.7/site-packages (from pyspice) (1.21.5)\n",
            "Requirement already satisfied: scipy>=1.4 in /usr/local/lib/python3.7/site-packages (from pyspice) (1.7.3)\n",
            "Requirement already satisfied: requests>=2.23 in /usr/local/lib/python3.7/site-packages (from pyspice) (2.25.1)\n",
            "Requirement already satisfied: pycparser in /usr/local/lib/python3.7/site-packages (from cffi>=1.14->pyspice) (2.20)\n",
            "Requirement already satisfied: python-dateutil>=2.7 in /usr/local/lib/python3.7/site-packages (from matplotlib>=3.2->pyspice) (2.8.2)\n",
            "Requirement already satisfied: kiwisolver>=1.0.1 in /usr/local/lib/python3.7/site-packages (from matplotlib>=3.2->pyspice) (1.3.2)\n",
            "Requirement already satisfied: pyparsing>=2.2.1 in /usr/local/lib/python3.7/site-packages (from matplotlib>=3.2->pyspice) (3.0.7)\n",
            "Requirement already satisfied: fonttools>=4.22.0 in /usr/local/lib/python3.7/site-packages (from matplotlib>=3.2->pyspice) (4.29.1)\n",
            "Requirement already satisfied: cycler>=0.10 in /usr/local/lib/python3.7/site-packages (from matplotlib>=3.2->pyspice) (0.11.0)\n",
            "Requirement already satisfied: packaging>=20.0 in /usr/local/lib/python3.7/site-packages (from matplotlib>=3.2->pyspice) (21.3)\n",
            "Requirement already satisfied: six>=1.5 in /usr/local/lib/python3.7/site-packages (from python-dateutil>=2.7->matplotlib>=3.2->pyspice) (1.15.0)\n",
            "Requirement already satisfied: chardet<5,>=3.0.2 in /usr/local/lib/python3.7/site-packages (from requests>=2.23->pyspice) (4.0.0)\n",
            "Requirement already satisfied: certifi>=2017.4.17 in /usr/local/lib/python3.7/site-packages (from requests>=2.23->pyspice) (2021.10.8)\n",
            "Requirement already satisfied: idna<3,>=2.5 in /usr/local/lib/python3.7/site-packages (from requests>=2.23->pyspice) (2.10)\n",
            "Requirement already satisfied: urllib3<1.27,>=1.21.1 in /usr/local/lib/python3.7/site-packages (from requests>=2.23->pyspice) (1.26.3)\n",
            "Requirement already satisfied: webencodings in /usr/local/lib/python3.7/site-packages (from cssselect2->cairosvg) (0.5.1)\n",
            "Collecting package metadata (current_repodata.json): - \b\b\\ \b\b| \b\b/ \b\b- \b\b\\ \b\b| \b\b/ \b\b- \b\b\\ \b\b| \b\b/ \b\b- \b\b\\ \b\b| \b\b/ \b\b- \b\bdone\n",
            "Solving environment: | \b\b/ \b\b- \b\b\\ \b\b| \b\b/ \b\b- \b\b\\ \b\b| \b\b/ \b\bfailed with repodata from current_repodata.json, will retry with next repodata source.\n",
            "Collecting package metadata (repodata.json): \\ \b\b| \b\b/ \b\b- \b\b\\ \b\b| \b\b/ \b\b- \b\b\\ \b\b| \b\b/ \b\b- \b\b\\ \b\b| \b\b/ \b\b- \b\b\\ \b\b| \b\b/ \b\b- \b\b\\ \b\b| \b\b/ \b\b- \b\b\\ \b\b| \b\b/ \b\b- \b\b\\ \b\b| \b\b/ \b\b- \b\b\\ \b\b| \b\b/ \b\b- \b\b\\ \b\b| \b\b/ \b\b- \b\b\\ \b\b| \b\b/ \b\b- \b\b\\ \b\b| \b\b/ \b\b- \b\b\\ \b\b| \b\b/ \b\b- \b\b\\ \b\b| \b\b/ \b\b- \b\b\\ \b\b| \b\b/ \b\b- \b\b\\ \b\b| \b\b/ \b\b- \b\b\\ \b\b| \b\b/ \b\b- \b\b\\ \b\b| \b\b/ \b\b- \b\b\\ \b\b| \b\b/ \b\b- \b\b\\ \b\b| \b\b/ \b\b- \b\b\\ \b\b| \b\b/ \b\b- \b\b\\ \b\b| \b\b/ \b\b- \b\b\\ \b\b| \b\b/ \b\b- \b\b\\ \b\b| \b\b/ \b\b- \b\b\\ \b\b| \b\b/ \b\b- \b\b\\ \b\b| \b\b/ \b\b- \b\b\\ \b\b| \b\b/ \b\b- \b\b\\ \b\b| \b\b/ \b\b- \b\b\\ \b\b| \b\b/ \b\b- \b\b\\ \b\b| \b\b/ \b\b- \b\b\\ \b\b| \b\b/ \b\b- \b\b\\ \b\b| \b\b/ \b\b- \b\b\\ \b\b| \b\b/ \b\b- \b\b\\ \b\b| \b\b/ \b\b- \b\b\\ \b\b| \b\b/ \b\b- \b\b\\ \b\b| \b\b/ \b\b- \b\b\\ \b\b| \b\b/ \b\b- \b\b\\ \b\b| \b\b/ \b\b- \b\b\\ \b\b| \b\b/ \b\b- \b\b\\ \b\b| \b\b/ \b\b- \b\b\\ \b\b| \b\b/ \b\b- \b\b\\ \b\b| \b\b/ \b\b- \b\b\\ \b\b| \b\b/ \b\b- \b\b\\ \b\b| \b\b/ \b\b- \b\b\\ \b\b| \b\b/ \b\b- \b\b\\ \b\b| \b\b/ \b\b- \b\b\\ \b\b| \b\b/ \b\b- \b\b\\ \b\b| \b\b/ \b\b- \b\b\\ \b\b| \b\b/ \b\b- \b\b\\ \b\b| \b\b/ \b\b- \b\b\\ \b\b| \b\b/ \b\b- \b\b\\ \b\b| \b\b/ \b\b- \b\b\\ \b\b| \b\b/ \b\b- \b\b\\ \b\b| \b\b/ \b\b- \b\b\\ \b\b| \b\b/ \b\b- \b\b\\ \b\b| \b\b/ \b\b- \b\b\\ \b\b| \b\b/ \b\b- \b\b\\ \b\b| \b\b/ \b\b- \b\b\\ \b\b| \b\b/ \b\b- \b\b\\ \b\b| \b\b/ \b\b- \b\b\\ \b\b| \b\b/ \b\b- \b\b\\ \b\b| \b\b/ \b\b- \b\b\\ \b\b| \b\b/ \b\b- \b\b\\ \b\b| \b\b/ \b\b- \b\b\\ \b\b| \b\b/ \b\b- \b\b\\ \b\b| \b\b/ \b\b- \b\b\\ \b\b| \b\b/ \b\b- \b\b\\ \b\b| \b\b/ \b\b- \b\b\\ \b\b| \b\b/ \b\b- \b\b\\ \b\b| \b\b/ \b\b- \b\b\\ \b\b| \b\b/ \b\b- \b\b\\ \b\b| \b\b/ \b\b- \b\b\\ \b\b| \b\b/ \b\b- \b\b\\ \b\b| \b\b/ \b\b- \b\b\\ \b\b| \b\b/ \b\b- \b\b\\ \b\b| \b\b/ \b\b- \b\b\\ \b\b| \b\b/ \b\b- \b\b\\ \b\b| \b\b/ \b\b- \b\b\\ \b\b| \b\b/ \b\b- \b\b\\ \b\b| \b\b/ \b\b- \b\b\\ \b\b| \b\b/ \b\b- \b\b\\ \b\b| \b\b/ \b\b- \b\b\\ \b\b| \b\b/ \b\b- \b\bdone\n",
            "Solving environment: | \b\b/ \b\b- \b\b\\ \b\b| \b\b/ \b\b- \b\b\\ \b\b| \b\b/ \b\b- \b\b\\ \b\b| \b\b/ \b\b- \b\b\\ \b\b| \b\b/ \b\b- \b\b\\ \b\b| \b\b/ \b\b- \b\b\\ \b\b| \b\b/ \b\b- \b\b\\ \b\b| \b\b/ \b\b- \b\b\\ \b\b| \b\b/ \b\b- \b\b\\ \b\b| \b\b/ \b\b- \b\b\\ \b\b| \b\b/ \b\b- \b\b\\ \b\b| \b\b/ \b\b- \b\b\\ \b\b| \b\b/ \b\b- \b\b\\ \b\b| \b\b/ \b\b- \b\b\\ \b\b| \b\b/ \b\b- \b\b\\ \b\b| \b\b/ \b\b- \b\b\\ \b\b| \b\b/ \b\b- \b\b\\ \b\b| \b\b/ \b\b- \b\b\\ \b\b| \b\b/ \b\b- \b\b\\ \b\b| \b\b/ \b\b- \b\b\\ \b\b| \b\b/ \b\b- \b\b\\ \b\b| \b\b/ \b\b- \b\b\\ \b\b| \b\b/ \b\b- \b\b\\ \b\b| \b\b/ \b\b- \b\b\\ \b\b| \b\b/ \b\b- \b\b\\ \b\b| \b\b/ \b\b- \b\b\\ \b\b| \b\b/ \b\b- \b\b\\ \b\b| \b\b/ \b\b- \b\b\\ \b\b| \b\b/ \b\b- \b\b\\ \b\b| \b\b/ \b\b- \b\b\\ \b\b| \b\b/ \b\b- \b\b\\ \b\b| \b\b/ \b\b- \b\b\\ \b\b| \b\b/ \b\b- \b\b\\ \b\b| \b\b/ \b\b- \b\b\\ \b\b| \b\b/ \b\b- \b\b\\ \b\b| \b\b/ \b\b- \b\b\\ \b\b| \b\b/ \b\b- \b\b\\ \b\b| \b\b/ \b\b- \b\b\\ \b\b| \b\b/ \b\b- \b\b\\ \b\b| \b\b/ \b\b- \b\b\\ \b\b| \b\b/ \b\b- \b\b\\ \b\b| \b\b/ \b\b- \b\b\\ \b\b| \b\b/ \b\b- \b\b\\ \b\b| \b\b/ \b\b- \b\b\\ \b\b| \b\b/ \b\b- \b\b\\ \b\b| \b\b/ \b\b- \b\b\\ \b\b| \b\b/ \b\b- \b\b\\ \b\b| \b\b/ \b\b- \b\b\\ \b\b| \b\b/ \b\b- \b\b\\ \b\b| \b\b/ \b\b- \b\b\\ \b\b| \b\b/ \b\b- \b\b\\ \b\b| \b\b/ \b\b- \b\b\\ \b\b| \b\b/ \b\b- \b\b\\ \b\b| \b\b/ \b\b- \b\b\\ \b\b| \b\b/ \b\b- \b\b\\ \b\b| \b\b/ \b\b- \b\b\\ \b\b| \b\b/ \b\b- \b\b\\ \b\b| \b\b/ \b\b- \b\b\\ \b\b| \b\b/ \b\b- \b\b\\ \b\b| \b\b/ \b\b- \b\b\\ \b\b| \b\b/ \b\b- \b\b\\ \b\b| \b\b/ \b\b- \b\b\\ \b\b| \b\b/ \b\b- \b\b\\ \b\b| \b\b/ \b\b- \b\b\\ \b\b| \b\b/ \b\b- \b\b\\ \b\b| \b\b/ \b\b- \b\b\\ \b\b| \b\b/ \b\b- \b\b\\ \b\b| \b\b/ \b\b- \b\b\\ \b\b| \b\b/ \b\b- \b\b\\ \b\b| \b\b/ \b\b- \b\b\\ \b\b| \b\b/ \b\b- \b\b\\ \b\b| \b\b/ \b\b- \b\b\\ \b\b| \b\b/ \b\b- \b\b\\ \b\b| \b\b/ \b\b- \b\b\\ \b\b| \b\b/ \b\b- \b\b\\ \b\b| \b\b/ \b\b- \b\b\\ \b\b| \b\b/ \b\b- \b\b\\ \b\b| \b\b/ \b\b- \b\b\\ \b\b| \b\b/ \b\b- \b\b\\ \b\b| \b\b/ \b\b- \b\b\\ \b\b| \b\b/ \b\b- \b\b\\ \b\b| \b\b/ \b\b- \b\b\\ \b\b| \b\b/ \b\b- \b\b\\ \b\b| \b\b/ \b\b- \b\b\\ \b\b| \b\b/ \b\b- \b\b\\ \b\b| \b\b/ \b\b- \b\b\\ \b\b| \b\b/ \b\b- \b\b\\ \b\b| \b\b/ \b\b- \b\b\\ \b\b| \b\b/ \b\b- \b\b\\ \b\b| \b\b/ \b\b- \b\b\\ \b\b| \b\b/ \b\b- \b\b\\ \b\b| \b\b/ \b\b- \b\b\\ \b\b| \b\b/ \b\b- \b\b\\ \b\bdone\n",
            "\n",
            "## Package Plan ##\n",
            "\n",
            "  environment location: /usr/local\n",
            "\n",
            "  added / updated specs:\n",
            "    - magic\n",
            "\n",
            "\n",
            "The following packages will be downloaded:\n",
            "\n",
            "    package                    |            build\n",
            "    ---------------------------|-----------------\n",
            "    brotlipy-0.7.0             |py37h5e8e339_1003         342 KB  conda-forge\n",
            "    c-ares-1.18.1              |       h7f98852_0         113 KB  conda-forge\n",
            "    cairo-1.16.0               |    ha00ac49_1009         1.5 MB  conda-forge\n",
            "    charset-normalizer-2.0.12  |     pyhd8ed1ab_0          35 KB  conda-forge\n",
            "    colorama-0.4.4             |     pyh9f0ad1d_0          18 KB  conda-forge\n",
            "    conda-package-handling-1.7.3|   py37h5e8e339_1        1008 KB  conda-forge\n",
            "    cryptography-36.0.1        |   py37hf1a17b8_0         1.7 MB  conda-forge\n",
            "    font-ttf-dejavu-sans-mono-2.37|       hab24e00_0         388 KB  conda-forge\n",
            "    font-ttf-inconsolata-3.000 |       h77eed37_0          94 KB  conda-forge\n",
            "    font-ttf-source-code-pro-2.038|       h77eed37_0         684 KB  conda-forge\n",
            "    font-ttf-ubuntu-0.83       |       hab24e00_0         1.9 MB  conda-forge\n",
            "    fonts-conda-ecosystem-1    |                0           4 KB  conda-forge\n",
            "    fonts-conda-forge-1        |                0           4 KB  conda-forge\n",
            "    icu-69.1                   |       h9c3ff4c_0        13.2 MB  conda-forge\n",
            "    idna-3.3                   |     pyhd8ed1ab_0          55 KB  conda-forge\n",
            "    krb5-1.19.2                |       hcc1bbae_3         1.4 MB  conda-forge\n",
            "    ld_impl_linux-64-2.36.1    |       hea4e1c9_2         667 KB  conda-forge\n",
            "    libarchive-3.5.2           |       hccf745f_1         1.6 MB  conda-forge\n",
            "    libcurl-7.81.0             |       h2574ce0_0         338 KB  conda-forge\n",
            "    libnghttp2-1.46.0          |       h812cca2_0         806 KB  conda-forge\n",
            "    libsolv-0.7.19             |       h780b84a_5         445 KB  conda-forge\n",
            "    libssh2-1.10.0             |       ha56f1ee_2         233 KB  conda-forge\n",
            "    libxml2-2.9.12             |       h885dcf4_1         760 KB  conda-forge\n",
            "    lz4-c-1.9.3                |       h9c3ff4c_1         179 KB  conda-forge\n",
            "    pycosat-0.6.3              |py37h5e8e339_1009         107 KB  conda-forge\n",
            "    pycparser-2.21             |     pyhd8ed1ab_0         100 KB  conda-forge\n",
            "    pyopenssl-22.0.0           |     pyhd8ed1ab_0          49 KB  conda-forge\n",
            "    pysocks-1.7.1              |   py37h89c1867_4          28 KB  conda-forge\n",
            "    reproc-14.2.3              |       h7f98852_0          28 KB  conda-forge\n",
            "    reproc-cpp-14.2.3          |       h9c3ff4c_0          20 KB  conda-forge\n",
            "    requests-2.27.1            |     pyhd8ed1ab_0          53 KB  conda-forge\n",
            "    ruamel_yaml-0.15.80        |py37h5e8e339_1006         270 KB  conda-forge\n",
            "    setuptools-60.9.3          |   py37h89c1867_0         1.2 MB  conda-forge\n",
            "    six-1.16.0                 |     pyh6c4a22f_0          14 KB  conda-forge\n",
            "    tqdm-4.62.3                |     pyhd8ed1ab_0          80 KB  conda-forge\n",
            "    urllib3-1.26.8             |     pyhd8ed1ab_1         100 KB  conda-forge\n",
            "    wheel-0.37.1               |     pyhd8ed1ab_0          31 KB  conda-forge\n",
            "    yaml-0.2.5                 |       h7f98852_2          87 KB  conda-forge\n",
            "    zstd-1.5.2                 |       ha95c52a_0         458 KB  conda-forge\n",
            "    ------------------------------------------------------------\n",
            "                                           Total:        29.9 MB\n",
            "\n",
            "The following NEW packages will be INSTALLED:\n",
            "\n",
            "  charset-normalizer conda-forge/noarch::charset-normalizer-2.0.12-pyhd8ed1ab_0\n",
            "  colorama           conda-forge/noarch::colorama-0.4.4-pyh9f0ad1d_0\n",
            "  font-ttf-dejavu-s~ conda-forge/noarch::font-ttf-dejavu-sans-mono-2.37-hab24e00_0\n",
            "  font-ttf-inconsol~ conda-forge/noarch::font-ttf-inconsolata-3.000-h77eed37_0\n",
            "  font-ttf-source-c~ conda-forge/noarch::font-ttf-source-code-pro-2.038-h77eed37_0\n",
            "  font-ttf-ubuntu    conda-forge/noarch::font-ttf-ubuntu-0.83-hab24e00_0\n",
            "  fonts-conda-ecosy~ conda-forge/noarch::fonts-conda-ecosystem-1-0\n",
            "  fonts-conda-forge  conda-forge/noarch::fonts-conda-forge-1-0\n",
            "\n",
            "The following packages will be REMOVED:\n",
            "\n",
            "  chardet-4.0.0-py37h89c1867_1\n",
            "\n",
            "The following packages will be UPDATED:\n",
            "\n",
            "  brotlipy                          0.7.0-py37h5e8e339_1001 --> 0.7.0-py37h5e8e339_1003\n",
            "  c-ares                                  1.17.1-h7f98852_1 --> 1.18.1-h7f98852_0\n",
            "  cairo                                1.16.0-h6cf1ce9_1008 --> 1.16.0-ha00ac49_1009\n",
            "  conda-package-han~                   1.7.2-py37hb5d75c8_0 --> 1.7.3-py37h5e8e339_1\n",
            "  cryptography                         3.4.5-py37h5d9358c_1 --> 36.0.1-py37hf1a17b8_0\n",
            "  icu                                       68.1-h58526e2_0 --> 69.1-h9c3ff4c_0\n",
            "  idna                                    2.10-pyh9f0ad1d_0 --> 3.3-pyhd8ed1ab_0\n",
            "  krb5                                    1.17.2-h926e7f8_0 --> 1.19.2-hcc1bbae_3\n",
            "  ld_impl_linux-64                        2.35.1-hea4e1c9_2 --> 2.36.1-hea4e1c9_2\n",
            "  libarchive                               3.5.1-h3f442fb_1 --> 3.5.2-hccf745f_1\n",
            "  libcurl                                 7.75.0-hc4aaa36_0 --> 7.81.0-h2574ce0_0\n",
            "  libnghttp2                              1.43.0-h812cca2_0 --> 1.46.0-h812cca2_0\n",
            "  libsolv                                 0.7.17-h780b84a_0 --> 0.7.19-h780b84a_5\n",
            "  libssh2                                  1.9.0-ha56f1ee_6 --> 1.10.0-ha56f1ee_2\n",
            "  libxml2                                 2.9.12-h72842e0_0 --> 2.9.12-h885dcf4_1\n",
            "  lz4-c                                    1.9.3-h9c3ff4c_0 --> 1.9.3-h9c3ff4c_1\n",
            "  pycosat                           0.6.3-py37h5e8e339_1006 --> 0.6.3-py37h5e8e339_1009\n",
            "  pycparser                               2.20-pyh9f0ad1d_2 --> 2.21-pyhd8ed1ab_0\n",
            "  pyopenssl                             20.0.1-pyhd8ed1ab_0 --> 22.0.0-pyhd8ed1ab_0\n",
            "  pysocks                              1.7.1-py37h89c1867_3 --> 1.7.1-py37h89c1867_4\n",
            "  reproc                                  14.2.1-h36c2ea0_0 --> 14.2.3-h7f98852_0\n",
            "  reproc-cpp                              14.2.1-h58526e2_0 --> 14.2.3-h9c3ff4c_0\n",
            "  requests                              2.25.1-pyhd3deb0d_0 --> 2.27.1-pyhd8ed1ab_0\n",
            "  ruamel_yaml                     0.15.80-py37h5e8e339_1004 --> 0.15.80-py37h5e8e339_1006\n",
            "  setuptools                          49.6.0-py37h89c1867_3 --> 60.9.3-py37h89c1867_0\n",
            "  six                                   1.15.0-pyh9f0ad1d_0 --> 1.16.0-pyh6c4a22f_0\n",
            "  tqdm                                  4.59.0-pyhd8ed1ab_0 --> 4.62.3-pyhd8ed1ab_0\n",
            "  urllib3                               1.26.3-pyhd8ed1ab_0 --> 1.26.8-pyhd8ed1ab_1\n",
            "  wheel                                 0.36.2-pyhd3deb0d_0 --> 0.37.1-pyhd8ed1ab_0\n",
            "  yaml                                     0.2.5-h516909a_0 --> 0.2.5-h7f98852_2\n",
            "  zstd                                     1.4.9-ha95c52a_0 --> 1.5.2-ha95c52a_0\n",
            "\n",
            "\n",
            "\n",
            "Downloading and Extracting Packages\n",
            "pyopenssl-22.0.0     | 49 KB     | : 100% 1.0/1 [00:00<00:00,  5.14it/s]               \n",
            "font-ttf-dejavu-sans | 388 KB    | : 100% 1.0/1 [00:00<00:00,  6.67it/s]\n",
            "libxml2-2.9.12       | 760 KB    | : 100% 1.0/1 [00:00<00:00,  4.32it/s]\n",
            "cryptography-36.0.1  | 1.7 MB    | : 100% 1.0/1 [00:00<00:00,  1.90it/s]               \n",
            "requests-2.27.1      | 53 KB     | : 100% 1.0/1 [00:00<00:00, 15.20it/s]\n",
            "urllib3-1.26.8       | 100 KB    | : 100% 1.0/1 [00:00<00:00, 13.35it/s]\n",
            "wheel-0.37.1         | 31 KB     | : 100% 1.0/1 [00:00<00:00, 13.81it/s]\n",
            "charset-normalizer-2 | 35 KB     | : 100% 1.0/1 [00:00<00:00, 13.48it/s]\n",
            "libsolv-0.7.19       | 445 KB    | : 100% 1.0/1 [00:00<00:00,  6.78it/s]\n",
            "c-ares-1.18.1        | 113 KB    | : 100% 1.0/1 [00:00<00:00, 10.26it/s]\n",
            "libssh2-1.10.0       | 233 KB    | : 100% 1.0/1 [00:00<00:00,  7.88it/s]\n",
            "libarchive-3.5.2     | 1.6 MB    | : 100% 1.0/1 [00:00<00:00,  2.40it/s]\n",
            "font-ttf-inconsolata | 94 KB     | : 100% 1.0/1 [00:00<00:00, 12.81it/s]\n",
            "colorama-0.4.4       | 18 KB     | : 100% 1.0/1 [00:00<00:00, 11.02it/s]\n",
            "reproc-14.2.3        | 28 KB     | : 100% 1.0/1 [00:00<00:00, 13.47it/s]\n",
            "cairo-1.16.0         | 1.5 MB    | : 100% 1.0/1 [00:00<00:00,  1.91it/s]\n",
            "fonts-conda-forge-1  | 4 KB      | : 100% 1.0/1 [00:00<00:00, 17.85it/s]\n",
            "libcurl-7.81.0       | 338 KB    | : 100% 1.0/1 [00:00<00:00,  8.66it/s]\n",
            "conda-package-handli | 1008 KB   | : 100% 1.0/1 [00:00<00:00,  3.77it/s]\n",
            "font-ttf-ubuntu-0.83 | 1.9 MB    | : 100% 1.0/1 [00:00<00:00,  2.07it/s]               \n",
            "fonts-conda-ecosyste | 4 KB      | : 100% 1.0/1 [00:00<00:00, 19.21it/s]\n",
            "idna-3.3             | 55 KB     | : 100% 1.0/1 [00:00<00:00, 15.58it/s]\n",
            "pysocks-1.7.1        | 28 KB     | : 100% 1.0/1 [00:00<00:00, 10.64it/s]\n",
            "six-1.16.0           | 14 KB     | : 100% 1.0/1 [00:00<00:00, 10.49it/s]\n",
            "lz4-c-1.9.3          | 179 KB    | : 100% 1.0/1 [00:00<00:00, 11.06it/s]\n",
            "libnghttp2-1.46.0    | 806 KB    | : 100% 1.0/1 [00:00<00:00,  4.69it/s]\n",
            "setuptools-60.9.3    | 1.2 MB    | : 100% 1.0/1 [00:00<00:00,  2.34it/s]\n",
            "pycosat-0.6.3        | 107 KB    | : 100% 1.0/1 [00:00<00:00, 11.40it/s]\n",
            "brotlipy-0.7.0       | 342 KB    | : 100% 1.0/1 [00:00<00:00,  9.01it/s]\n",
            "zstd-1.5.2           | 458 KB    | : 100% 1.0/1 [00:00<00:00,  7.52it/s]\n",
            "ld_impl_linux-64-2.3 | 667 KB    | : 100% 1.0/1 [00:00<00:00,  4.27it/s]\n",
            "pycparser-2.21       | 100 KB    | : 100% 1.0/1 [00:00<00:00, 10.03it/s]\n",
            "reproc-cpp-14.2.3    | 20 KB     | : 100% 1.0/1 [00:00<00:00, 14.57it/s]\n",
            "krb5-1.19.2          | 1.4 MB    | : 100% 1.0/1 [00:00<00:00,  2.46it/s]\n",
            "ruamel_yaml-0.15.80  | 270 KB    | : 100% 1.0/1 [00:00<00:00,  7.16it/s]\n",
            "icu-69.1             | 13.2 MB   | : 100% 1.0/1 [00:02<00:00,  2.58s/it]               \n",
            "font-ttf-source-code | 684 KB    | : 100% 1.0/1 [00:00<00:00,  3.30it/s]               \n",
            "tqdm-4.62.3          | 80 KB     | : 100% 1.0/1 [00:00<00:00, 12.10it/s]\n",
            "yaml-0.2.5           | 87 KB     | : 100% 1.0/1 [00:00<00:00, 13.64it/s]\n",
            "Preparing transaction: / \b\b- \b\bdone\n",
            "Verifying transaction: | \b\b/ \b\b- \b\b\\ \b\bdone\n",
            "Executing transaction: / \b\b- \b\b\\ \b\b| \b\b/ \b\b- \b\b\\ \b\b| \b\b/ \b\b- \b\b\\ \b\b| \b\b/ \b\b- \b\b\\ \b\b| \b\b/ \b\b- \b\bdone\n"
          ]
        }
      ]
    },
    {
      "cell_type": "code",
      "source": [
        "%%script bash -c \"PDK_ROOT=/usr/local/share/pdk PDKPATH=/usr/local/share/pdk/sky130A magic -dnull -noconsole -rcfile /usr/local/share/pdk/sky130A/libs.tech/magic/sky130A.magicrc\"\n",
        "cellname rename (UNNAMED) mosfet\n",
        "\n",
        "box 0 0 950nm 650nm\n",
        "paint ndiffusion\n",
        "\n",
        "box 400nm -600nm 550nm 1200nm\n",
        "paint polysilicon\n",
        "\n",
        "box 0 0 400nm 650nm\n",
        "label source\n",
        "port make 3\n",
        "\n",
        "box 550nm 0 950nm 650nm\n",
        "label drain\n",
        "port make 1\n",
        "\n",
        "box 400nm -600nm 550nm 0\n",
        "label gate\n",
        "port make 2\n",
        "\n",
        "extract\n",
        "ext2spice lvs\n",
        "ext2spice cthresh 0\n",
        "ext2spice\n",
        "\n",
        "gds labels no\n",
        "gds write mosfet.gds"
      ],
      "metadata": {
        "colab": {
          "base_uri": "https://localhost:8080/"
        },
        "id": "hhpUJrMBmlfj",
        "outputId": "a96db1a5-a5cb-4e3f-ebd5-856ebb3a1ea6"
      },
      "execution_count": null,
      "outputs": [
        {
          "output_type": "stream",
          "name": "stdout",
          "text": [
            "\n",
            "Magic 8.3 revision 269 - Compiled on Fri Feb 18 23:17:30 UTC 2022.\n",
            "Starting magic under Tcl interpreter\n",
            "Using the terminal as the console.\n",
            "Using NULL graphics device.\n",
            "Processing system .magicrc file\n",
            "Sourcing design .magicrc for technology sky130A ...\n",
            "2 Magic internal units = 1 Lambda\n",
            "Input style sky130(vendor): scaleFactor=2, multiplier=2\n",
            "The following types are not handled by extraction and will be treated as non-electrical types:\n",
            "    mvobsactive ubm \n",
            "Scaled tech values by 2 / 1 to match internal grid scaling\n",
            "Loading sky130A Device Generator Menu ...\n",
            "Using technology \"sky130A\", version 1.0.285-0-g1bb26d9\n",
            "Root cell box:\n",
            "           width x height  (   llx,  lly  ), (   urx,  ury  )  area (units^2)\n",
            "\n",
            "microns:   0.950 x 0.650   ( 0.000,  0.000), ( 0.950,  0.650)  0.618     \n",
            "lambda:    95.00 x 65.00   (  0.00,  0.00 ), ( 95.00,  65.00)  6175.00   \n",
            "internal:    190 x 130     (     0,  0    ), (   190,  130  )  24700     \n",
            "Root cell box:\n",
            "           width x height  (   llx,  lly  ), (   urx,  ury  )  area (units^2)\n",
            "\n",
            "microns:   0.150 x 1.800   ( 0.400, -0.600), ( 0.550,  1.200)  0.270     \n",
            "lambda:    15.00 x 180.00  ( 40.00, -60.00), ( 55.00,  120.00)  2700.00   \n",
            "internal:     30 x 360     (    80, -120  ), (   110,  240  )  10800     \n",
            "Root cell box:\n",
            "           width x height  (   llx,  lly  ), (   urx,  ury  )  area (units^2)\n",
            "\n",
            "microns:   0.400 x 0.650   ( 0.000,  0.000), ( 0.400,  0.650)  0.260     \n",
            "lambda:    40.00 x 65.00   (  0.00,  0.00 ), ( 40.00,  65.00)  2600.00   \n",
            "internal:     80 x 130     (     0,  0    ), (    80,  130  )  10400     \n",
            "Moving label \"source\" from space to ndiff in cell mosfet.\n",
            "Root cell box:\n",
            "           width x height  (   llx,  lly  ), (   urx,  ury  )  area (units^2)\n",
            "\n",
            "microns:   0.400 x 0.650   ( 0.550,  0.000), ( 0.950,  0.650)  0.260     \n",
            "lambda:    40.00 x 65.00   ( 55.00,  0.00 ), ( 95.00,  65.00)  2600.00   \n",
            "internal:     80 x 130     (   110,  0    ), (   190,  130  )  10400     \n",
            "Moving label \"drain\" from space to ndiff in cell mosfet.\n",
            "Root cell box:\n",
            "           width x height  (   llx,  lly  ), (   urx,  ury  )  area (units^2)\n",
            "\n",
            "microns:   0.150 x 0.600   ( 0.400, -0.600), ( 0.550,  0.000)  0.090     \n",
            "lambda:    15.00 x 60.00   ( 40.00, -60.00), ( 55.00,  0.00 )  900.00    \n",
            "internal:     30 x 120     (    80, -120  ), (   110,  0    )  3600      \n",
            "Moving label \"gate\" from space to poly in cell mosfet.\n",
            "Extracting mosfet into mosfet.ext:\n",
            "exttospice finished.\n",
            "   Generating output for cell mosfet\n"
          ]
        }
      ]
    },
    {
      "cell_type": "code",
      "source": [
        "import gdstk\n",
        "import cairosvg\n",
        "from IPython.display import Image\n",
        "\n",
        "library = gdstk.read_gds('mosfet.gds')\n",
        "top_cells = library.top_level()\n",
        "top_cells[0].write_svg('mosfet.svg')\n",
        "cairosvg.svg2png(url='mosfet.svg', write_to='mosfet.png', scale=30.0)\n",
        "Image('mosfet.png')"
      ],
      "metadata": {
        "colab": {
          "base_uri": "https://localhost:8080/",
          "height": 611
        },
        "id": "xjz3IYz55vu2",
        "outputId": "f38bf617-de92-4920-bc95-769bfdcb4ebb"
      },
      "execution_count": null,
      "outputs": [
        {
          "output_type": "execute_result",
          "data": {
            "image/png": "[encoded data removed]",
            "text/plain": [
              "<IPython.core.display.Image object>"
            ]
          },
          "metadata": {},
          "execution_count": 8
        }
      ]
    },
    {
      "cell_type": "code",
      "source": [
        "from PySpice.Spice.Netlist import Circuit, SubCircuit, SubCircuitFactory\n",
        "from PySpice.Unit import *\n",
        "import matplotlib.pyplot as plt\n",
        "\n",
        "circuit = Circuit('mosfet0')\n",
        "circuit.lib('/usr/local/share/pdk/sky130A/libs.tech/ngspice/sky130.lib.spice', 'tt')\n",
        "circuit.include('mosfet.spice')\n",
        "circuit.X('mosfet0', 'mosfet', 'DRAIN', 'GATE', 'VGND')\n",
        "circuit.V('gnd', 'VGND', 0, 0)\n",
        "circuit.V('dd', 'VPWR', 'VGND', 1.8)\n",
        "circuit.R('', 'VPWR', 'DRAIN', '10k')\n",
        "circuit.PulseVoltageSource('Vin', 'GATE', 'VGND',\n",
        "                           initial_value=0@u_V, pulsed_value=1.8@u_V,\n",
        "                           rise_time=10@u_ps, fall_time=10@u_ps,\n",
        "                           pulse_width=1@u_ns, period=2@u_ns, delay_time=1@u_ns)\n",
        "print(str(circuit))\n",
        "simulator = circuit.simulator()\n",
        "analysis = simulator.transient(step_time=10@u_ps, end_time=2@u_ns)\n",
        "print('done')\n",
        "fig, ax = plt.subplots(figsize=(20, 10))\n",
        "ax.set_title('mosfet')\n",
        "ax.set_xlabel('time in 1e-14s')\n",
        "ax.set_ylabel('voltage in V')\n",
        "ax.plot(analysis.GATE)\n",
        "ax.plot(analysis.DRAIN)\n",
        "ax.legend(('GATE', 'DRAIN'))\n",
        "plt.tight_layout()\n",
        "plt.show()"
      ],
      "metadata": {
        "colab": {
          "base_uri": "https://localhost:8080/",
          "height": 863
        },
        "id": "9scIFl1w7Lk6",
        "outputId": "8ef909c9-738c-4603-e051-94d24031da50"
      },
      "execution_count": null,
      "outputs": [
        {
          "output_type": "stream",
          "name": "stderr",
          "text": [
            "Unsupported Ngspice version 36\n"
          ]
        },
        {
          "output_type": "stream",
          "name": "stdout",
          "text": [
            ".title mosfet0\n",
            ".include /content/mosfet.spice\n",
            ".lib /usr/local/share/pdk/sky130A/libs.tech/ngspice/sky130.lib.spice tt\n",
            "Xmosfet0 DRAIN GATE VGND mosfet\n",
            "Vgnd VGND 0 0\n",
            "Vdd VPWR VGND 1.8\n",
            "R VPWR DRAIN 10k\n",
            "VVin GATE VGND DC 0V PULSE(0V 1.8V 1ns 10ps 10ps 1ns 2ns)\n",
            "\n",
            "done\n"
          ]
        },
        {
          "output_type": "display_data",
          "data": {
            "image/png": "[encoded data removed]",
            "text/plain": [
              "<Figure size 1440x720 with 1 Axes>"
            ]
          },
          "metadata": {
            "needs_background": "light"
          }
        }
      ]
    }
  ]
}